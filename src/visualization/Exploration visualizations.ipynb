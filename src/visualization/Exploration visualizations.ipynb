{
 "cells": [
  {
   "cell_type": "code",
   "execution_count": null,
   "id": "e4826961-008d-4602-90fe-a690fff80964",
   "metadata": {},
   "outputs": [],
   "source": [
    "import numpy as np\n",
    "import pandas as pd\n",
    "import matplotlib.pyplot as plt"
   ]
  },
  {
   "cell_type": "code",
   "execution_count": null,
   "id": "7a5d690b-49cc-4ec1-b75e-7ebca6be525b",
   "metadata": {},
   "outputs": [],
   "source": [
    "authors = pd.read_pickle(\"../../data/interim/country_authors_with_all_taxonomic_articles.pkl\")\n",
    "# get unique authors per journal\n",
    "authors = authors.drop_duplicates(subset=[\"author_id\", \"source_id\"])\n",
    "\n",
    "# disambiguate\n",
    "\n",
    "# start with journal that has most authors\n",
    "first_journal = max(authors[\"source_id\"],key=list(authors[\"source_id\"]).count)\n",
    "journal_path = [first_journal,]\n",
    "\n",
    "authors_seen = list(authors[authors[\"source_id\"]==first_journal][\"author_id\"])\n",
    "nr_authors_path = [len(authors_seen),]\n",
    "\n",
    "unexplored = list(set(authors[\"source_id\"]))\n",
    "unexplored.remove(first_journal)"
   ]
  },
  {
   "cell_type": "code",
   "execution_count": null,
   "id": "36f9c0d3-83f2-4842-9bfb-026d3650877c",
   "metadata": {},
   "outputs": [],
   "source": [
    "# dictionary with journal name and author ids per journal\n",
    "journal_authors = {}\n",
    "for journal in set(authors[\"source_id\"]):\n",
    "    journal_authors[journal] = list(authors[authors[\"source_id\"]==journal][\"author_id\"])"
   ]
  },
  {
   "cell_type": "code",
   "execution_count": null,
   "id": "f8756a29-e463-43db-8448-980b45df9950",
   "metadata": {},
   "outputs": [],
   "source": [
    "# find out how many of the authors in a proposed journal have already been seen\n",
    "def not_in_common(authors1, journal2):\n",
    "    authors2 = journal_authors[journal2]\n",
    "    # get number of authors in journal2 not in total author list so far\n",
    "    n = 0\n",
    "    for author in authors2:\n",
    "        if author not in authors1:\n",
    "            n += 1\n",
    "    return n"
   ]
  },
  {
   "cell_type": "code",
   "execution_count": null,
   "id": "ae31f4a5-6286-46f2-b6c9-fb3ad503765d",
   "metadata": {},
   "outputs": [],
   "source": [
    "journal_path"
   ]
  },
  {
   "cell_type": "code",
   "execution_count": null,
   "id": "ca1a0c5f-f823-4306-b15b-3f5292590f75",
   "metadata": {
    "scrolled": true
   },
   "outputs": [],
   "source": [
    "# find path of least resistance through journals\n",
    "while unexplored != None:\n",
    "    best_journal = \"\"\n",
    "    best_author_nr = 0\n",
    "\n",
    "    # go over every unexplored journal to find out if they're the best\n",
    "    for j in unexplored:\n",
    "        new_blood = not_in_common(authors_seen, j)\n",
    "        # save best journal\n",
    "        if new_blood > best_author_nr:\n",
    "            best_author_nr = new_blood\n",
    "            best_journal = j\n",
    "    \n",
    "    # if none of the journals add new authors, stop\n",
    "    if best_author_nr == 0:\n",
    "        break\n",
    "        \n",
    "    # add to path\n",
    "    authors_seen.extend(journal_authors[best_journal])\n",
    "    journal_path.append(best_journal)\n",
    "    nr_authors_path.append(best_author_nr)\n",
    "    print(\"Next best: \"+journal_path[-1])\n",
    "    \n",
    "    unexplored.remove(best_journal)"
   ]
  },
  {
   "cell_type": "code",
   "execution_count": null,
   "id": "46705f37-1fb8-4c7d-97d1-161dd6c9a03e",
   "metadata": {},
   "outputs": [],
   "source": [
    "# plot path through journals with most new authors, cumulatively\n",
    "fig, ax = plt.subplots()\n",
    "cumulative_path = np.cumsum(nr_authors_path)\n",
    "\n",
    "plt.bar(x=range(1,len(journal_path)+1), height=cumulative_path, width=1.0)\n",
    "ax.set_title(\"Number of European authors published in journals (cumulative)\")\n",
    "\n",
    "# add 95% line\n",
    "value_95 = cumulative_path[-1]*0.95\n",
    "plt.axhline(y=value_95, color=\"red\", label=\"95%\")\n",
    "ax.text(0.5, value_95+400,\"95%\", color=\"red\")\n",
    "\n",
    "plt.savefig(\"../../reports/figures/cumulative_graph_european_authors_in_journals.png\")"
   ]
  },
  {
   "cell_type": "code",
   "execution_count": null,
   "id": "1568d800-a709-40c2-b95a-a7acf32f88a8",
   "metadata": {},
   "outputs": [],
   "source": [
    "journal_id_names.loc[journal_id].iloc[0]"
   ]
  },
  {
   "cell_type": "code",
   "execution_count": null,
   "id": "f6f7030b-ad73-46fc-9ae4-4313dfa60dfe",
   "metadata": {},
   "outputs": [],
   "source": [
    "journal_id_names"
   ]
  },
  {
   "cell_type": "code",
   "execution_count": null,
   "id": "734bb6a5-2dcc-432a-9692-f460ad4f5f29",
   "metadata": {},
   "outputs": [],
   "source": [
    "# save the path we took as journals_cumulative_path.txt\n",
    "journal_id_names = authors[[\"source_display_name\", \"source_id\"]].drop_duplicates(subset=[\"source_id\"])\n",
    "journal_id_names = journal_id_names.set_index(\"source_id\")\n",
    "\n",
    "with open(\"../../data/interim/journals_cumulative_path.txt\", \"w\", encoding=\"utf-8\") as f:\n",
    "    for journal_id in journal_path:\n",
    "        # write each item on a new line\n",
    "        journal_name = journal_id_names.loc[journal_id]\n",
    "        print(journal_name)\n",
    "        f.write(journal_name[0]+\"\\n\")\n",
    "    # add last journals too\n",
    "    for journal_id in unexplored:\n",
    "        journal_name = journal_id_names.loc[journal_id]\n",
    "        f.write(journal_name[0]+\"\\n\")"
   ]
  },
  {
   "cell_type": "code",
   "execution_count": null,
   "id": "ca969dfb-6734-4588-aff9-d32b41b9da82",
   "metadata": {},
   "outputs": [],
   "source": []
  },
  {
   "cell_type": "code",
   "execution_count": null,
   "id": "59cabea6-7256-4c9a-9b69-87953a2d7ebd",
   "metadata": {},
   "outputs": [],
   "source": []
  },
  {
   "cell_type": "code",
   "execution_count": null,
   "id": "d31d62c8-a6a0-413a-a76c-3417130528cc",
   "metadata": {},
   "outputs": [],
   "source": []
  },
  {
   "cell_type": "code",
   "execution_count": null,
   "id": "a06af3e5-2f76-49d6-9fb4-a077bd5212c2",
   "metadata": {},
   "outputs": [],
   "source": []
  },
  {
   "cell_type": "code",
   "execution_count": null,
   "id": "6ad850b1-bbdc-422a-8a83-90cd97ae46ec",
   "metadata": {},
   "outputs": [],
   "source": []
  },
  {
   "cell_type": "code",
   "execution_count": null,
   "id": "721b3c07",
   "metadata": {},
   "outputs": [],
   "source": [
    "import pandas as pd\n",
    "import numpy as np\n",
    "import pickle\n",
    "import time\n",
    "from matplotlib import pyplot as plt\n",
    "from operator import add"
   ]
  },
  {
   "cell_type": "code",
   "execution_count": null,
   "id": "0daa4ea0",
   "metadata": {},
   "outputs": [],
   "source": [
    "first_names = pd.read_csv(\"../../data/processed/crop wild relatives.tsv\", sep=\"\\t\")"
   ]
  },
  {
   "cell_type": "code",
   "execution_count": null,
   "id": "eaee8f3b",
   "metadata": {},
   "outputs": [],
   "source": [
    "first_names = pd.read_csv(\"../../data/processed/gender_per_author.tsv\", sep=\"\\t\")"
   ]
  },
  {
   "cell_type": "code",
   "execution_count": null,
   "id": "6fd9ac08",
   "metadata": {},
   "outputs": [],
   "source": [
    "first_names[first_names[\"publication_year\"]==1973]"
   ]
  },
  {
   "cell_type": "code",
   "execution_count": null,
   "id": "a3c95c6f",
   "metadata": {},
   "outputs": [],
   "source": [
    " import re"
   ]
  },
  {
   "cell_type": "code",
   "execution_count": null,
   "id": "171d2afa",
   "metadata": {},
   "outputs": [],
   "source": [
    "for i, row in first_names.iterrows():\n",
    "    if re.search(\"^[A-Z]\\.\", row[\"firstName\"]):\n",
    "        first_names.loc[i, \"gender\"] = \"initials\""
   ]
  },
  {
   "cell_type": "code",
   "execution_count": null,
   "id": "9cc36cad",
   "metadata": {},
   "outputs": [],
   "source": [
    "first_names[first_names[\"publication_year\"]==2020].value_counts(subset=\"gender\")"
   ]
  },
  {
   "cell_type": "code",
   "execution_count": null,
   "id": "f0d2d1ed",
   "metadata": {},
   "outputs": [],
   "source": [
    "first_names.to_csv(\"../../data/processed/gender_per_author.tsv\", sep=\"\\t\")"
   ]
  },
  {
   "cell_type": "code",
   "execution_count": null,
   "id": "d02b7cd1",
   "metadata": {},
   "outputs": [],
   "source": []
  },
  {
   "cell_type": "code",
   "execution_count": null,
   "id": "12ca1656",
   "metadata": {},
   "outputs": [],
   "source": [
    "\n",
    "def plot_gender_balance(first_names, title, filename, start_year=1953):\n",
    "    male = []\n",
    "    female = []\n",
    "    inconclusive = []\n",
    "\n",
    "    for year in range(start_year,2023):\n",
    "        counts = first_names[first_names[\"publication_year\"]==year][\"gender\"].value_counts()\n",
    "\n",
    "        male.append(counts[\"male\"])\n",
    "        female.append(counts[\"female\"])\n",
    "        inconclusive.append(counts[\"inconclusive\"])\n",
    "\n",
    "    fig, ax = plt.subplots()\n",
    "    \n",
    "    plt.title(title)\n",
    "    ax.bar(range(start_year,2023), male, label=\"male\", color=\"blue\")\n",
    "    ax.bar(range(start_year,2023), female, label=\"female\", color=\"red\", bottom=male)\n",
    "    ax.bar(range(start_year,2023), inconclusive, label=\"inconclusive\", color=\"grey\", \n",
    "           bottom=list(map(add, male, female)))\n",
    "    ax.legend()\n",
    "\n",
    "    plt.savefig(filename)\n",
    "\n",
    "    \n",
    "plot_gender_balance(first_names,\n",
    "                    \"Gender balance of taxonomists\",\n",
    "                    \"../../reports/figures/gender_balance.png\",\n",
    "                    start_year=2013)\n",
    "\n",
    "\n",
    "def plot_gender_balance_percentage(first_names, title, filename, start_year=1973):\n",
    "    male = []\n",
    "    female = []\n",
    "    inconclusive = []\n",
    "\n",
    "    for year in range(start_year,2023):\n",
    "        counts = first_names[first_names[\"publication_year\"]==year][\"gender\"].value_counts()\n",
    "        male.append(counts[\"male\"])\n",
    "        female.append(counts[\"female\"])\n",
    "        inconclusive.append(counts[\"inconclusive\"])\n",
    "    \n",
    "    total = list(map(add, male, female)) # in two steps because map can only add two lists at a time\n",
    "    total = list(map(add, total, inconclusive))\n",
    "    \n",
    "    male_perc = np.divide(male, total)\n",
    "    female_perc = np.divide(female, total)\n",
    "    inc_perc = np.divide(inconclusive, total)\n",
    "    \n",
    "    fig, ax = plt.subplots()\n",
    "\n",
    "    plt.title(title)\n",
    "    ax.bar(range(start_year,2023), female_perc, label=\"feminine\", color=\"blue\")\n",
    "    ax.bar(range(start_year,2023), male_perc, label=\"masculine\", color=\"red\", bottom=female_perc)\n",
    "    ax.bar(range(start_year,2023), inc_perc, label=\"inconclusive\", color=\"grey\", bottom=female_perc+male_perc)\n",
    "    ax.legend()\n",
    "\n",
    "    plt.savefig(filename)\n",
    "\n",
    "plot_gender_balance_percentage(first_names, \n",
    "                               \"Gender balance of taxonomists\",\n",
    "                               \"../../reports/figures/gender_percentages.png\")\n"
   ]
  },
  {
   "cell_type": "code",
   "execution_count": null,
   "id": "dbae1e3d",
   "metadata": {},
   "outputs": [],
   "source": []
  },
  {
   "cell_type": "code",
   "execution_count": null,
   "id": "8998b6ec",
   "metadata": {},
   "outputs": [],
   "source": [
    "authors = pd.read_pickle(\"../../data/interim/eu_filtered_articles_50_years.pkl\")\n",
    "authors"
   ]
  },
  {
   "cell_type": "code",
   "execution_count": null,
   "id": "10a9323f",
   "metadata": {},
   "outputs": [],
   "source": [
    "authors.columns"
   ]
  },
  {
   "cell_type": "code",
   "execution_count": null,
   "id": "05d1130d",
   "metadata": {},
   "outputs": [],
   "source": [
    "import pandas as pd"
   ]
  },
  {
   "cell_type": "code",
   "execution_count": null,
   "id": "37aff5ff",
   "metadata": {},
   "outputs": [],
   "source": [
    "authors = pd.read_pickle(\"../../data/processed/european_authors_disambiguated_with_taxonomy.pkl\")"
   ]
  },
  {
   "cell_type": "code",
   "execution_count": null,
   "id": "6d2c6b64",
   "metadata": {},
   "outputs": [],
   "source": [
    "authors"
   ]
  },
  {
   "cell_type": "code",
   "execution_count": null,
   "id": "11d16038",
   "metadata": {},
   "outputs": [],
   "source": [
    "order_counts"
   ]
  },
  {
   "cell_type": "code",
   "execution_count": null,
   "id": "cfcc41d1",
   "metadata": {},
   "outputs": [],
   "source": []
  },
  {
   "cell_type": "code",
   "execution_count": null,
   "id": "bd3bd741",
   "metadata": {},
   "outputs": [],
   "source": []
  },
  {
   "cell_type": "code",
   "execution_count": null,
   "id": "e14abbba",
   "metadata": {},
   "outputs": [],
   "source": []
  },
  {
   "cell_type": "code",
   "execution_count": null,
   "id": "9b4fd4ad",
   "metadata": {},
   "outputs": [],
   "source": []
  },
  {
   "cell_type": "code",
   "execution_count": null,
   "id": "29fd1522",
   "metadata": {},
   "outputs": [],
   "source": []
  },
  {
   "cell_type": "code",
   "execution_count": null,
   "id": "7a471ce4",
   "metadata": {},
   "outputs": [],
   "source": [
    "import numpy as np\n",
    "import pandas as pd\n",
    "import matplotlib.pyplot as plt # version 3.5.2\n",
    "import fiona\n",
    "import geopandas as gpd\n",
    "import pickle\n",
    "from itertools import groupby"
   ]
  },
  {
   "cell_type": "code",
   "execution_count": null,
   "id": "49b206fe",
   "metadata": {},
   "outputs": [],
   "source": [
    "eu_articles = pd.read_pickle(\"../../data/processed/european_taxonomic_articles_with_subjects.pkl\")"
   ]
  },
  {
   "cell_type": "code",
   "execution_count": null,
   "id": "8d5db42d",
   "metadata": {},
   "outputs": [],
   "source": [
    "eu_articles.authorships[0]"
   ]
  },
  {
   "cell_type": "code",
   "execution_count": null,
   "id": "d20487ab",
   "metadata": {},
   "outputs": [],
   "source": [
    "for article in eu_articles.itertuples():\n",
    "    countries = []\n",
    "    for author in article.authorships:\n",
    "        for institution in author[\"institutions\"]:\n",
    "            countries.append(institution[\"country_code\"])\n",
    "            \n",
    "    if \"BG\" in countries:\n",
    "        print(set(countries))"
   ]
  },
  {
   "cell_type": "code",
   "execution_count": null,
   "id": "fc9bc59b",
   "metadata": {},
   "outputs": [],
   "source": [
    "articles = pd.read_pickle(\"../../data/interim/filtered_articles.pkl\")"
   ]
  },
  {
   "cell_type": "code",
   "execution_count": null,
   "id": "b4672b5e",
   "metadata": {},
   "outputs": [],
   "source": [
    "import prep_articles"
   ]
  },
  {
   "cell_type": "code",
   "execution_count": null,
   "id": "d2703cbd",
   "metadata": {},
   "outputs": [],
   "source": [
    "set(eu_authors[\"inst_country_code\"])"
   ]
  },
  {
   "cell_type": "code",
   "execution_count": null,
   "id": "e9bff0e1",
   "metadata": {},
   "outputs": [],
   "source": [
    "def freq_countries(df):\n",
    "    # get list of countries with authors\n",
    "    countries = list(df[\"inst_country_code\"])\n",
    "    # remove None values + alphabetical\n",
    "    countries = sorted([i for i in countries if i is not None])\n",
    "    \n",
    "    # count how many of each group (country)\n",
    "    freqs = [len(list(group)) for key, group in groupby(countries)]\n",
    "    \n",
    "    # link counts to country codes\n",
    "    freqs_dict = {}\n",
    "    for i, country in enumerate(sorted(set(countries))):\n",
    "        freqs_dict[country] = freqs[i]\n",
    "\n",
    "    return freqs_dict"
   ]
  },
  {
   "cell_type": "code",
   "execution_count": null,
   "id": "43998286",
   "metadata": {},
   "outputs": [],
   "source": [
    "country_codes = pd.read_csv(\"../../data/external/country_codes.tsv\", sep=\"\\t\")\n",
    "country_codes"
   ]
  },
  {
   "cell_type": "code",
   "execution_count": null,
   "id": "ff697d04",
   "metadata": {},
   "outputs": [],
   "source": [
    "pop = pd.read_csv(\"../../data/external/population_counts.csv\", skiprows=4)\n",
    "pop"
   ]
  },
  {
   "cell_type": "code",
   "execution_count": null,
   "id": "120db147",
   "metadata": {},
   "outputs": [],
   "source": [
    "countries = pd.merge(country_codes, pop[[\"Alpha-3 code\", \"2022\"]], how=\"left\", on=\"Alpha-3 code\")"
   ]
  },
  {
   "cell_type": "code",
   "execution_count": null,
   "id": "5fc23849",
   "metadata": {},
   "outputs": [],
   "source": [
    "countries.columns = [\"Country\", \"Alpha-2 code\", \"Alpha-3 code\", \"Population\"]\n",
    "countries"
   ]
  },
  {
   "cell_type": "code",
   "execution_count": null,
   "id": "8c3d2c7c",
   "metadata": {},
   "outputs": [],
   "source": [
    "countries.to_csv(\"../../data/external/country_codes_and_population.tsv\", sep=\"\\t\")"
   ]
  },
  {
   "cell_type": "code",
   "execution_count": null,
   "id": "7ffb69f7",
   "metadata": {},
   "outputs": [],
   "source": [
    "pop = pop.rename(columns = {\"Country Code\":\"Alpha-3 code\"})"
   ]
  },
  {
   "cell_type": "code",
   "execution_count": null,
   "id": "415fa802",
   "metadata": {},
   "outputs": [],
   "source": [
    "pop"
   ]
  },
  {
   "cell_type": "code",
   "execution_count": null,
   "id": "62d15bfe",
   "metadata": {},
   "outputs": [],
   "source": [
    "# get worldmap \n",
    "def plot_country_freqs(freqs, map_path, europe=False, dpi='figure', relative=False):\n",
    "    worldmap = gpd.read_file(gpd.datasets.get_path(\"naturalearth_lowres\"))\n",
    "    worldmap = worldmap.to_crs(\"ESRI:54009\") # Mollweide projection\n",
    "\n",
    "    # convert 3-letter codes to 2-letter codes used for frequencies\n",
    "    country_codes = pd.read_csv(\"../../data/external/country_codes.tsv\", sep=\"\\t\")\n",
    "    \n",
    "    worldmap = worldmap.rename(columns={\"iso_a3\":\"Alpha-3 code\"})\n",
    "    # fixing country codes in worldmap\n",
    "    worldmap.at[43,\"Alpha-3 code\"] = \"FRA\"\n",
    "    worldmap.at[21,\"Alpha-3 code\"] = \"NOR\"\n",
    "    worldmap.at[174,\"Alpha-3 code\"] = \"XKX\"\n",
    "    \n",
    "    worldmap = pd.merge(worldmap, country_codes[[\"Alpha-2 code\", \"Alpha-3 code\"]], \n",
    "                        on=\"Alpha-3 code\", how=\"left\")\n",
    "\n",
    "    # add frequencies to worldmap\n",
    "    worldmap[\"freq\"] = worldmap[\"Alpha-2 code\"].map(freqs)\n",
    "    worldmap[\"freq\"].fillna(0, inplace=True)\n",
    "    worldmap.replace(0, np.nan, inplace=True)\n",
    "    \n",
    "    if relative:\n",
    "        worldmap = worldmap.rename(columns={\"freq\":\"absolute_freq\"})\n",
    "        # map percentage of country's population that are taxonomists\n",
    "        worldmap[\"freq\"] = worldmap[\"absolute_freq\"]/worldmap[\"pop_est\"]*100\n",
    "            \n",
    "    # plot frequencies\n",
    "    if not europe:\n",
    "        fig, ax = plt.subplots(1,1)\n",
    "        worldmap.plot(column='freq', cmap=\"viridis\", ax=ax, legend=True,\n",
    "                      missing_kwds={\"color\":\"lightgrey\"})\n",
    "    \n",
    "    if europe:\n",
    "        fig, ax = plt.subplots(1, 1)\n",
    "        # limit scope of map to europe\n",
    "        minx, miny, maxx, maxy = [-1500000, 4000000, 4300000, 8500000]\n",
    "        ax.set_xlim(minx, maxx)\n",
    "        ax.set_ylim(miny, maxy)\n",
    "        \n",
    "        plt.xticks([])\n",
    "        plt.yticks([])\n",
    "        \n",
    "        worldmap.plot(column='freq', ax=ax, legend=True, cmap=\"viridis\",\n",
    "                      missing_kwds={\"color\":\"lightgrey\"})"
   ]
  },
  {
   "cell_type": "code",
   "execution_count": null,
   "id": "3bb34924",
   "metadata": {},
   "outputs": [],
   "source": [
    "eu_authors.columns"
   ]
  },
  {
   "cell_type": "code",
   "execution_count": null,
   "id": "3cc82e60",
   "metadata": {},
   "outputs": [],
   "source": [
    "plot_country_freqs(countries_freq, \"../../reports/figures/map_european_authors\", europe=True,\n",
    "                   relative=True) # source population estimate?"
   ]
  },
  {
   "cell_type": "code",
   "execution_count": null,
   "id": "4cf3df5d",
   "metadata": {},
   "outputs": [],
   "source": [
    "eu_authors = pd.read_pickle(\"../../data/interim/european_taxonomic_authors_no_duplicates.pkl\")"
   ]
  },
  {
   "cell_type": "code",
   "execution_count": null,
   "id": "193802bb",
   "metadata": {},
   "outputs": [],
   "source": [
    "countries_freq = freq_countries(eu_authors)\n",
    "plot_country_freqs(countries_freq, \"../../reports/figures/map_european_authors\", europe=True)"
   ]
  },
  {
   "cell_type": "code",
   "execution_count": null,
   "id": "91811d5e",
   "metadata": {},
   "outputs": [],
   "source": [
    "countries_freq = freq_countries(eu_authors)\n",
    "plot_country_freqs(countries_freq, \"../../reports/figures/map_authors_of_european_articles\")\n",
    "\n",
    "countries_freq = freq_countries(eu_authors)\n",
    "plot_country_freqs(countries_freq, \"../../reports/figures/map_european_authors\", europe=True)\n",
    "\n",
    "eujot_freq = freq_countries(eu_authors[eu_authors[\"inst_display_name\"]==\"European journal of taxonomy\"])\n",
    "plot_country_freqs(eujot_freq, \"../../reports/figures/map_eujot\", europe=True)\n",
    "\n",
    "print(\"Authors' institutions plotted onto world maps. Results in reports/figures.\")\n"
   ]
  },
  {
   "cell_type": "code",
   "execution_count": null,
   "id": "90f25757",
   "metadata": {},
   "outputs": [],
   "source": []
  },
  {
   "cell_type": "code",
   "execution_count": null,
   "id": "2572aa7f",
   "metadata": {},
   "outputs": [],
   "source": []
  },
  {
   "cell_type": "code",
   "execution_count": null,
   "id": "06f5b5e5",
   "metadata": {},
   "outputs": [],
   "source": [
    "import numpy as np\n",
    "import pandas as pd\n",
    "import matplotlib.pyplot as plt\n",
    "from pdf2image import convert_from_path"
   ]
  },
  {
   "cell_type": "code",
   "execution_count": null,
   "id": "14d98d98",
   "metadata": {},
   "outputs": [],
   "source": [
    "articles = pd.read_pickle(\"../../data/processed/european_taxonomic_articles_with_subjects.pkl\")\n",
    "articles"
   ]
  },
  {
   "cell_type": "code",
   "execution_count": null,
   "id": "dd1c73f0",
   "metadata": {},
   "outputs": [],
   "source": [
    "## GBIF TAXONOMIC BACKBONE\n",
    "backbone = pd.read_csv(\"../../data/external/backbone/Taxon.tsv\", sep=\"\\t\", on_bad_lines='skip')"
   ]
  },
  {
   "cell_type": "code",
   "execution_count": null,
   "id": "877e4430",
   "metadata": {},
   "outputs": [],
   "source": [
    "# reduce size of backbone for easier searching\n",
    "backbone = backbone[backbone[\"taxonomicStatus\"]!=\"doubtful\"]\n",
    "backbone = backbone[[\"canonicalName\", \"family\"]]\n",
    "# remove taxa with no known species name or family\n",
    "backbone = backbone.dropna().drop_duplicates(ignore_index=True).reset_index(drop=True)"
   ]
  },
  {
   "cell_type": "code",
   "execution_count": null,
   "id": "8df4515a",
   "metadata": {},
   "outputs": [],
   "source": [
    "## LINK ARTICLES TO BACKBONE\n",
    "# start with empty list for every taxonomic level \n",
    "articles[\"families\"] = [list() for _ in range(len(articles.index))]"
   ]
  },
  {
   "cell_type": "code",
   "execution_count": null,
   "id": "a2602bc9",
   "metadata": {},
   "outputs": [],
   "source": [
    "seen_species = {}\n",
    "\n",
    "for species in backbone.itertuples():\n",
    "    if species.canonicalName not in seen_species:\n",
    "        seen_species[species.canonicalName] = species.family"
   ]
  },
  {
   "cell_type": "code",
   "execution_count": null,
   "id": "ce990df8",
   "metadata": {
    "scrolled": true
   },
   "outputs": [],
   "source": [
    "# for every author, break down every species they study into different taxonomic levels\n",
    "for i, article in articles.iterrows():\n",
    "    for species in article[\"species_subject\"]:\n",
    "        if species in seen_species:\n",
    "            # get family name according to GBIF\n",
    "            family_name = seen_species[species]\n",
    "            # add this family (families) to the list of genera studied by the author (no duplicates)\n",
    "            if family_name not in article[\"families\"]:\n",
    "                articles.loc[i, \"families\"].append(family_name)"
   ]
  },
  {
   "cell_type": "code",
   "execution_count": null,
   "id": "5931ad46",
   "metadata": {},
   "outputs": [],
   "source": [
    "family_counts = dict()\n",
    "\n",
    "for fam_list in articles[\"families\"]:\n",
    "    for family in fam_list:\n",
    "        if family in family_counts:\n",
    "            family_counts[family] += 1\n",
    "        else:\n",
    "            family_counts[family] = 0"
   ]
  },
  {
   "cell_type": "code",
   "execution_count": null,
   "id": "61cd6d65",
   "metadata": {},
   "outputs": [],
   "source": [
    "df= pd.DataFrame({\"family\":family_counts.keys(), \"articles\":family_counts.values()})"
   ]
  },
  {
   "cell_type": "code",
   "execution_count": null,
   "id": "3d19af68",
   "metadata": {},
   "outputs": [],
   "source": [
    "df.sort_values(\"articles\", ascending=False).head(20)"
   ]
  },
  {
   "cell_type": "code",
   "execution_count": null,
   "id": "b04b180b",
   "metadata": {},
   "outputs": [],
   "source": [
    "plt.hist(family_counts.values(), bins=50, range=(0,50))\n",
    "plt.xlabel(\"# articles\")\n",
    "plt.ylabel(\"# families\")\n",
    "plt.title(\"Histogram of articles per family\")\n",
    "plt.savefig(\"../../reports/figures/cumulative_graph_european_authors_in_journals.pdf\", dpi=600)\n",
    "pages = convert_from_path(\"../../reports/figures/cumulative_graph_european_authors_in_journals.pdf\", 600)\n",
    "page.save(\"../../reports/figures/cumulative_graph_european_authors_in_journals.png\", 'PNG')\n",
    "plt.show()"
   ]
  },
  {
   "cell_type": "code",
   "execution_count": null,
   "id": "a65317d5",
   "metadata": {},
   "outputs": [],
   "source": [
    "pdftoppm -png -r 600 filename.pdf filename"
   ]
  }
 ],
 "metadata": {
  "kernelspec": {
   "display_name": "Python 3 (ipykernel)",
   "language": "python",
   "name": "python3"
  },
  "language_info": {
   "codemirror_mode": {
    "name": "ipython",
    "version": 3
   },
   "file_extension": ".py",
   "mimetype": "text/x-python",
   "name": "python",
   "nbconvert_exporter": "python",
   "pygments_lexer": "ipython3",
   "version": "3.11.9"
  }
 },
 "nbformat": 4,
 "nbformat_minor": 5
}
