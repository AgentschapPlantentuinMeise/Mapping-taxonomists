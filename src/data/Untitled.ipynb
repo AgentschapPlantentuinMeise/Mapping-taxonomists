{
 "cells": [
  {
   "cell_type": "code",
   "execution_count": 1,
   "id": "26e7acdd",
   "metadata": {},
   "outputs": [],
   "source": [
    "import pandas as pd\n",
    "import taxonomy"
   ]
  },
  {
   "cell_type": "code",
   "execution_count": 2,
   "id": "5403c48f",
   "metadata": {},
   "outputs": [],
   "source": [
    "authors = pd.read_pickle(\"../../data/processed/european_authors_disambiguated_truncated.pkl\")"
   ]
  },
  {
   "cell_type": "code",
   "execution_count": 3,
   "id": "7352c793",
   "metadata": {},
   "outputs": [
    {
     "name": "stderr",
     "output_type": "stream",
     "text": [
      "C:\\Users\\melanie\\Documents\\GitHub\\TETTRIs-mapping-taxonomists\\src\\data\\taxonomy.py:27: DtypeWarning: Columns (9,10,16,21,22) have mixed types. Specify dtype option on import or set low_memory=False.\n",
      "  backbone = pd.read_csv(path, sep=\"\\t\", on_bad_lines='skip')\n"
     ]
    }
   ],
   "source": [
    "backbone = taxonomy.preprocess_backbone()"
   ]
  },
  {
   "cell_type": "code",
   "execution_count": 4,
   "id": "67a63db2",
   "metadata": {},
   "outputs": [],
   "source": [
    "authors_tree = taxonomy.species_to_tree(authors, backbone)"
   ]
  },
  {
   "cell_type": "code",
   "execution_count": 5,
   "id": "c5f52501",
   "metadata": {},
   "outputs": [
    {
     "data": {
      "text/plain": [
       "Index(['author_id', 'author_display_name', 'author_orcid', 'inst_id',\n",
       "       'inst_display_name', 'species_subject', 'truncatedName', 'strippedName',\n",
       "       'order', 'genera_subjects', 'families_subjects', 'orders_subjects',\n",
       "       'classes_subjects', 'phyla_subjects', 'kingdoms_subjects',\n",
       "       'lineages_subjects'],\n",
       "      dtype='object')"
      ]
     },
     "execution_count": 5,
     "metadata": {},
     "output_type": "execute_result"
    }
   ],
   "source": [
    "authors.columns"
   ]
  },
  {
   "cell_type": "code",
   "execution_count": 9,
   "id": "8de6e002",
   "metadata": {},
   "outputs": [
    {
     "data": {
      "text/plain": [
       "[['Plantae',\n",
       "  'Tracheophyta',\n",
       "  'Magnoliopsida',\n",
       "  'Malpighiales',\n",
       "  'Passifloraceae',\n",
       "  'Passiflora'],\n",
       " ['Plantae',\n",
       "  'Tracheophyta',\n",
       "  'Magnoliopsida',\n",
       "  'Malpighiales',\n",
       "  'Passifloraceae',\n",
       "  'Passiflora'],\n",
       " ['Plantae',\n",
       "  'Tracheophyta',\n",
       "  'Magnoliopsida',\n",
       "  'Malpighiales',\n",
       "  'Passifloraceae',\n",
       "  'Passiflora'],\n",
       " ['Plantae',\n",
       "  'Tracheophyta',\n",
       "  'Magnoliopsida',\n",
       "  'Malpighiales',\n",
       "  'Passifloraceae',\n",
       "  'Passiflora'],\n",
       " ['Plantae',\n",
       "  'Tracheophyta',\n",
       "  'Magnoliopsida',\n",
       "  'Malpighiales',\n",
       "  'Passifloraceae',\n",
       "  'Passiflora'],\n",
       " ['Plantae',\n",
       "  'Tracheophyta',\n",
       "  'Magnoliopsida',\n",
       "  'Malpighiales',\n",
       "  'Passifloraceae',\n",
       "  'Passiflora'],\n",
       " ['Plantae',\n",
       "  'Tracheophyta',\n",
       "  'Magnoliopsida',\n",
       "  'Malpighiales',\n",
       "  'Passifloraceae',\n",
       "  'Passiflora']]"
      ]
     },
     "execution_count": 9,
     "metadata": {},
     "output_type": "execute_result"
    }
   ],
   "source": [
    "authors_tree.iloc[3, -1]"
   ]
  },
  {
   "cell_type": "code",
   "execution_count": 10,
   "id": "a0b6c5b2",
   "metadata": {},
   "outputs": [],
   "source": [
    "import pickle"
   ]
  },
  {
   "cell_type": "code",
   "execution_count": 11,
   "id": "05dd7bc4",
   "metadata": {},
   "outputs": [],
   "source": [
    "authors_tree.to_pickle(\"../../data/processed/european_authors_disambiguated_with_taxonomy.pkl\")"
   ]
  },
  {
   "cell_type": "markdown",
   "id": "4c5f2688",
   "metadata": {},
   "source": [
    "## 4. "
   ]
  }
 ],
 "metadata": {
  "kernelspec": {
   "display_name": "Python 3 (ipykernel)",
   "language": "python",
   "name": "python3"
  },
  "language_info": {
   "codemirror_mode": {
    "name": "ipython",
    "version": 3
   },
   "file_extension": ".py",
   "mimetype": "text/x-python",
   "name": "python",
   "nbconvert_exporter": "python",
   "pygments_lexer": "ipython3",
   "version": "3.9.13"
  }
 },
 "nbformat": 4,
 "nbformat_minor": 5
}
