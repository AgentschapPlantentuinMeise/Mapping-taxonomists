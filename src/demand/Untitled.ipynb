{
 "cells": [
  {
   "cell_type": "code",
   "execution_count": 1,
   "id": "491ae41e-8d5d-4d4c-a7ec-69d514e5be82",
   "metadata": {},
   "outputs": [],
   "source": [
    "import pandas as pd\n",
    "import numpy as np\n",
    "import pickle"
   ]
  },
  {
   "cell_type": "code",
   "execution_count": 2,
   "id": "562a7ba4-35b0-4532-97a8-c1521c2aac96",
   "metadata": {},
   "outputs": [
    {
     "name": "stderr",
     "output_type": "stream",
     "text": [
      "C:\\Users\\melanie\\AppData\\Local\\Temp\\ipykernel_9500\\2100613726.py:3: DtypeWarning: Columns (9,10,16,21,22) have mixed types. Specify dtype option on import or set low_memory=False.\n",
      "  backbone = pd.read_csv(\"../../data/external/backbone/Taxon.tsv\", sep=\"\\t\", on_bad_lines='skip')\n"
     ]
    }
   ],
   "source": [
    "## BACKBONE\n",
    "\n",
    "backbone = pd.read_csv(\"../../data/external/backbone/Taxon.tsv\", sep=\"\\t\", on_bad_lines='skip')\n",
    "backbone = backbone[backbone[\"taxonRank\"]==\"species\"]\n",
    "# drop species with no canonical name\n",
    "backbone = backbone.dropna(subset=\"canonicalName\").set_index(\"canonicalName\")\n",
    "# or no full taxonomic lineage to the family\n",
    "#backbone = backbone.dropna(subset=['kingdom', 'phylum', 'class', 'order', 'family'])\n",
    "\n",
    "backbone = backbone[['taxonomicStatus',\n",
    "                     'kingdom', 'phylum', 'class', 'order']]"
   ]
  },
  {
   "cell_type": "code",
   "execution_count": 3,
   "id": "d1e59e80-c323-4c42-bf04-834c1b5d70a8",
   "metadata": {},
   "outputs": [],
   "source": [
    "## AUTHOR COUNTS\n",
    "\n",
    "# version with dictionary, faster\n",
    "# get disambiguated, European authors of taxonomic articles\n",
    "authors = pd.read_pickle(\"../../data/processed/authors_disambiguated_truncated.pkl\")\n",
    "\n",
    "# link the author's expertise to the taxonomic backbone\n",
    "available_species = set(backbone.index)\n",
    "species_authors = {}\n",
    "\n",
    "for subjects in authors[\"species_subject\"]:\n",
    "    if len(subjects) != 0: \n",
    "        for species in subjects:\n",
    "            if species in available_species:\n",
    "                if species not in species_authors:\n",
    "                    species_authors[species] =  1\n",
    "                else:\n",
    "                    species_authors[species] += 1\n",
    "\n",
    "\n",
    "sp_authors_df = pd.DataFrame(species_authors.keys(), species_authors.values()).reset_index()\n",
    "sp_authors_df.columns = [\"nr_authors\", \"canonicalName\"]\n",
    "sp_authors_df.set_index(\"canonicalName\")\n",
    "\n",
    "backbone = backbone.merge(sp_authors_df, on=\"canonicalName\", how=\"left\")"
   ]
  },
  {
   "cell_type": "code",
   "execution_count": 4,
   "id": "7a957269-6fed-4007-92f2-b83e601ce031",
   "metadata": {},
   "outputs": [],
   "source": [
    "## DEMAND COUNTS"
   ]
  },
  {
   "cell_type": "code",
   "execution_count": 5,
   "id": "1405b5dc-3dae-4310-b107-0e52a0a65427",
   "metadata": {},
   "outputs": [],
   "source": [
    "redlist = pd.read_csv(\"../../data/external/redlist_species_data_europe_taxonomy_needed_oct_15/assessments.csv\")\n",
    "cwr = pd.read_excel(\"../../data/external/crop wild relatives europe.xlsx\", skiprows=1)"
   ]
  },
  {
   "cell_type": "code",
   "execution_count": 6,
   "id": "33e558cd-08c1-4826-bdda-fc1b03f71d6c",
   "metadata": {},
   "outputs": [],
   "source": [
    "horizon = pd.read_csv(\"../../data/external/invasive horizon species europe.tsv\", sep=\"\\t\")"
   ]
  },
  {
   "cell_type": "code",
   "execution_count": 7,
   "id": "c32b1946-e311-4262-897e-080b3139c6b3",
   "metadata": {},
   "outputs": [],
   "source": [
    "# get canonical names\n",
    "#redlist = redlist.rename(columns={\"scientificName\":\"canonicalName\"})\n",
    "cwr[\"canonicalName\"] = [\" \".join(x.split()[:2]) for x in cwr[\"CROP WILD RELATIVE\"]]\n",
    "#horizon = horizon.rename(columns={\"Species Name\":\"canonicalName\"})"
   ]
  },
  {
   "cell_type": "code",
   "execution_count": 15,
   "id": "2567010c-02e9-41b0-92a7-d5a81f9af9ed",
   "metadata": {},
   "outputs": [],
   "source": [
    "def count_species(backbone, species_list, countname):\n",
    "    available_species = set(backbone[\"canonicalName\"])\n",
    "    species_count = {}\n",
    "\n",
    "    for species in species_list:\n",
    "        species = species.strip() # remove space at the end of species name (horizon invasives)\n",
    "        if species in available_species:\n",
    "            if species not in species_count:\n",
    "                species_count[species] =  1\n",
    "            else:\n",
    "                species_count[species] += 1\n",
    "                \n",
    "    count_df = pd.DataFrame(species_count.keys(), species_count.values()).reset_index()\n",
    "    count_df.columns = [countname, \"canonicalName\"]\n",
    "    count_df.set_index(\"canonicalName\")\n",
    "    \n",
    "    backbone = backbone.merge(count_df, on=\"canonicalName\", how=\"left\")\n",
    "    return backbone"
   ]
  },
  {
   "cell_type": "code",
   "execution_count": 8,
   "id": "7bb3b5da-44f7-4dd1-8f58-5cea26f404de",
   "metadata": {},
   "outputs": [],
   "source": [
    "backbone = count_species(backbone, redlist[\"scientificName\"], \"taxonomicResearchNeeded\")\n",
    "backbone = count_species(backbone, cwr[\"canonicalName\"], \"cropWildRelatives\")"
   ]
  },
  {
   "cell_type": "code",
   "execution_count": 16,
   "id": "5fbda821-1a43-429a-815d-f67b127c822f",
   "metadata": {},
   "outputs": [
    {
     "name": "stdout",
     "output_type": "stream",
     "text": [
      "    index                        0\n",
      "0       1             Channa argus\n",
      "1       1      Limnoperna fortunei\n",
      "2       1      Orconectes rusticus\n",
      "3       1        Plotosus lineatus\n",
      "4       1          Codium parvulum\n",
      "..    ...                      ...\n",
      "59      1          Boa constrictor\n",
      "60      1       Gymnorhina tibicen\n",
      "61      1           Python molurus\n",
      "62      1            Quelea quelea\n",
      "63      1  Tamiasciurus hudsonicus\n",
      "\n",
      "[64 rows x 2 columns]\n"
     ]
    }
   ],
   "source": [
    "backbone = count_species(backbone, horizon[\"Species Name \"], \"horizonInvasives\")"
   ]
  },
  {
   "cell_type": "code",
   "execution_count": 17,
   "id": "b00fbc20-e609-44d7-9837-9fce880332f5",
   "metadata": {},
   "outputs": [],
   "source": [
    "## COUNT ON ORDER LEVEL\n",
    "\n",
    "order = backbone[[\"kingdom\", \"phylum\", \"class\", \"order\"]]\n",
    "order = order[order[\"kingdom\"]!=\"Bacteria\"]\n",
    "order = order[order[\"kingdom\"]!=\"Archaea\"].drop_duplicates(ignore_index=True)\n",
    "order[\"nr_authors\"] = [0.0,]*len(order)\n",
    "\n",
    "for row in backbone[backbone[\"nr_authors\"]==backbone[\"nr_authors\"]].itertuples():\n",
    "    order.loc[order[\"order\"]==row.order,\"nr_authors\"] += row.nr_authors\n",
    "\n",
    "order[\"taxonomicResearchNeeded\"] = [0.0,]*len(order)\n",
    "for row in backbone[backbone[\"taxonomicResearchNeeded\"]==backbone[\"taxonomicResearchNeeded\"]].itertuples():\n",
    "    order.loc[order[\"order\"]==row.order,\"taxonomicResearchNeeded\"] += row.taxonomicResearchNeeded\n",
    "\n",
    "order[\"cropWildRelatives\"] = [0.0,]*len(order)\n",
    "for row in backbone[backbone[\"cropWildRelatives\"]==backbone[\"cropWildRelatives\"]].itertuples():\n",
    "    order.loc[order[\"order\"]==row.order,\"cropWildRelatives\"] += row.cropWildRelatives\n",
    "\n",
    "order[\"horizonInvasives\"] = [0.0,]*len(order)\n",
    "for row in backbone[backbone[\"horizonInvasives\"]==backbone[\"horizonInvasives\"]].itertuples():\n",
    "    order.loc[order[\"order\"]==row.order,\"horizonInvasives\"] += row.horizonInvasives\n",
    "\n",
    "\n",
    "order.to_pickle(\"../../data/processed/supply_and_demand_order_level.pkl\")\n",
    "order.to_csv(\"../../data/processed/supply_and_demand_order_level.tsv\", sep=\"\\t\")\n"
   ]
  }
 ],
 "metadata": {
  "kernelspec": {
   "display_name": "Python 3 (ipykernel)",
   "language": "python",
   "name": "python3"
  },
  "language_info": {
   "codemirror_mode": {
    "name": "ipython",
    "version": 3
   },
   "file_extension": ".py",
   "mimetype": "text/x-python",
   "name": "python",
   "nbconvert_exporter": "python",
   "pygments_lexer": "ipython3",
   "version": "3.9.18"
  }
 },
 "nbformat": 4,
 "nbformat_minor": 5
}
