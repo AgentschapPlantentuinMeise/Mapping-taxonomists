{
 "cells": [
  {
   "cell_type": "markdown",
   "id": "ed7a19b4-306d-4435-ab16-204f826e1eef",
   "metadata": {},
   "source": [
    "# TETTRIs Mapping Taxonomists – Full Pipeline Runner\n",
    "\n",
    "This notebook runs the full processing pipeline from data acquisition to taxonomist mapping."
   ]
  },
  {
   "cell_type": "code",
   "execution_count": 1,
   "id": "b494906d-bc53-4c51-8878-56f2598565e6",
   "metadata": {},
   "outputs": [],
   "source": [
    "import subprocess\n",
    "import sys\n",
    "from pathlib import Path"
   ]
  },
  {
   "cell_type": "code",
   "execution_count": 2,
   "id": "0e02a8c4-104b-4977-80a1-b06eb9522870",
   "metadata": {},
   "outputs": [],
   "source": [
    "from pathlib import Path"
   ]
  },
  {
   "cell_type": "code",
   "execution_count": 15,
   "id": "e666b897-4d68-4a6d-b369-e4a7e610bf77",
   "metadata": {
    "scrolled": true
   },
   "outputs": [
    {
     "name": "stdout",
     "output_type": "stream",
     "text": [
      "Running src\\supply\\make_dataset.py...\n",
      "\n",
      "[2025-07-16T19:33:28] Loaded config from: D:\\Documents\\notebooks\\TETTRIs-mapping-taxonomists9\\config\\config.json\n",
      "[2025-07-16T19:33:28] Cleaning raw articles directory...\n",
      "[2025-07-16T19:33:28] Running list_journals.py...\n"
     ]
    },
    {
     "ename": "KeyboardInterrupt",
     "evalue": "",
     "output_type": "error",
     "traceback": [
      "\u001b[1;31m---------------------------------------------------------------------------\u001b[0m",
      "\u001b[1;31mKeyboardInterrupt\u001b[0m                         Traceback (most recent call last)",
      "Cell \u001b[1;32mIn[15], line 15\u001b[0m\n\u001b[0;32m      7\u001b[0m \u001b[38;5;66;03m# Start subprocess\u001b[39;00m\n\u001b[0;32m      8\u001b[0m \u001b[38;5;28;01mwith\u001b[39;00m subprocess\u001b[38;5;241m.\u001b[39mPopen(\n\u001b[0;32m      9\u001b[0m     [sys\u001b[38;5;241m.\u001b[39mexecutable, \u001b[38;5;124m\"\u001b[39m\u001b[38;5;124m-u\u001b[39m\u001b[38;5;124m\"\u001b[39m, \u001b[38;5;28mstr\u001b[39m(script_path), \u001b[38;5;124m\"\u001b[39m\u001b[38;5;124m--config\u001b[39m\u001b[38;5;124m\"\u001b[39m, \u001b[38;5;28mstr\u001b[39m(config_path)],\n\u001b[0;32m     10\u001b[0m     stdout\u001b[38;5;241m=\u001b[39msubprocess\u001b[38;5;241m.\u001b[39mPIPE,\n\u001b[1;32m   (...)\u001b[0m\n\u001b[0;32m     13\u001b[0m     bufsize\u001b[38;5;241m=\u001b[39m\u001b[38;5;241m1\u001b[39m  \u001b[38;5;66;03m# line-buffered\u001b[39;00m\n\u001b[0;32m     14\u001b[0m ) \u001b[38;5;28;01mas\u001b[39;00m proc:\n\u001b[1;32m---> 15\u001b[0m     \u001b[38;5;28;01mfor\u001b[39;00m line \u001b[38;5;129;01min\u001b[39;00m proc\u001b[38;5;241m.\u001b[39mstdout:\n\u001b[0;32m     16\u001b[0m         \u001b[38;5;28mprint\u001b[39m(line, end\u001b[38;5;241m=\u001b[39m\u001b[38;5;124m\"\u001b[39m\u001b[38;5;124m\"\u001b[39m)  \u001b[38;5;66;03m# Already includes newline\u001b[39;00m\n\u001b[0;32m     18\u001b[0m     proc\u001b[38;5;241m.\u001b[39mwait()  \u001b[38;5;66;03m# Wait for process to exit\u001b[39;00m\n",
      "File \u001b[1;32m~\\anaconda3\\Lib\\encodings\\cp1252.py:22\u001b[0m, in \u001b[0;36mIncrementalDecoder.decode\u001b[1;34m(self, input, final)\u001b[0m\n\u001b[0;32m     21\u001b[0m \u001b[38;5;28;01mclass\u001b[39;00m\u001b[38;5;250m \u001b[39m\u001b[38;5;21;01mIncrementalDecoder\u001b[39;00m(codecs\u001b[38;5;241m.\u001b[39mIncrementalDecoder):\n\u001b[1;32m---> 22\u001b[0m     \u001b[38;5;28;01mdef\u001b[39;00m\u001b[38;5;250m \u001b[39m\u001b[38;5;21mdecode\u001b[39m(\u001b[38;5;28mself\u001b[39m, \u001b[38;5;28minput\u001b[39m, final\u001b[38;5;241m=\u001b[39m\u001b[38;5;28;01mFalse\u001b[39;00m):\n\u001b[0;32m     23\u001b[0m         \u001b[38;5;28;01mreturn\u001b[39;00m codecs\u001b[38;5;241m.\u001b[39mcharmap_decode(\u001b[38;5;28minput\u001b[39m,\u001b[38;5;28mself\u001b[39m\u001b[38;5;241m.\u001b[39merrors,decoding_table)[\u001b[38;5;241m0\u001b[39m]\n",
      "\u001b[1;31mKeyboardInterrupt\u001b[0m: "
     ]
    }
   ],
   "source": [
    "# Paths\n",
    "script_path = Path(\"src/supply/make_dataset.py\")\n",
    "config_path = Path(\"D:/Documents/notebooks/TETTRIs-mapping-taxonomists9/config/config.json\")\n",
    "\n",
    "print(f\"Running {script_path}...\\n\")\n",
    "\n",
    "# Start subprocess\n",
    "with subprocess.Popen(\n",
    "    [sys.executable, \"-u\", str(script_path), \"--config\", str(config_path)],\n",
    "    stdout=subprocess.PIPE,\n",
    "    stderr=subprocess.STDOUT,\n",
    "    text=True,\n",
    "    bufsize=1  # line-buffered\n",
    ") as proc:\n",
    "    for line in proc.stdout:\n",
    "        print(line, end=\"\")  # Already includes newline\n",
    "\n",
    "    proc.wait()  # Wait for process to exit\n",
    "\n",
    "print(f\"\\nSubprocess exited with return code: {proc.returncode}\")"
   ]
  },
  {
   "cell_type": "code",
   "execution_count": null,
   "id": "3050f768-13cb-4e41-98ce-aa275a8ff260",
   "metadata": {},
   "outputs": [],
   "source": []
  },
  {
   "cell_type": "code",
   "execution_count": 25,
   "id": "82effba0-048d-43b1-be56-d9cd3e70785c",
   "metadata": {
    "scrolled": true
   },
   "outputs": [
    {
     "name": "stdout",
     "output_type": "stream",
     "text": [
      "[DEBUG] Trying to load: D:\\Documents\\notebooks\\TETTRIs-mapping-taxonomists9\\data\\interim\\single_authors_of_taxonomic_articles.pkl\n",
      "Underlying data saved to D:\\Documents\\notebooks\\TETTRIs-mapping-taxonomists9\\reports\\figures\\countries_freq_all.csv\n",
      "[DEBUG] Loading shapefile from: D:\\Documents\\notebooks\\TETTRIs-mapping-taxonomists9\\data\\external\\naturalearth\\ne_110m_admin_0_countries.shp\n",
      "[DEBUG] Map saved to: D:\\Documents\\notebooks\\TETTRIs-mapping-taxonomists9\\reports\\figures\\map_authors.jpg\n",
      "Underlying data saved to D:\\Documents\\notebooks\\TETTRIs-mapping-taxonomists9\\reports\\figures\\countries_freq_europe.csv\n",
      "[DEBUG] Loading shapefile from: D:\\Documents\\notebooks\\TETTRIs-mapping-taxonomists9\\data\\external\\naturalearth\\ne_110m_admin_0_countries.shp\n",
      "[DEBUG] Map saved to: D:\\Documents\\notebooks\\TETTRIs-mapping-taxonomists9\\reports\\figures\\map_authors_europe.jpg\n",
      "[DEBUG] Loading shapefile from: D:\\Documents\\notebooks\\TETTRIs-mapping-taxonomists9\\data\\external\\naturalearth\\ne_110m_admin_0_countries.shp\n",
      "[DEBUG] Map saved to: D:\\Documents\\notebooks\\TETTRIs-mapping-taxonomists9\\reports\\figures\\map_authors_europe_relative.jpg\n",
      "Underlying data saved to D:\\Documents\\notebooks\\TETTRIs-mapping-taxonomists9\\reports\\figures\\countries_freq_eujot.csv\n",
      "[DEBUG] Loading shapefile from: D:\\Documents\\notebooks\\TETTRIs-mapping-taxonomists9\\data\\external\\naturalearth\\ne_110m_admin_0_countries.shp\n",
      "[DEBUG] Map saved to: D:\\Documents\\notebooks\\TETTRIs-mapping-taxonomists9\\reports\\figures\\map_eujot.jpg\n",
      "[DEBUG] Loading shapefile from: D:\\Documents\\notebooks\\TETTRIs-mapping-taxonomists9\\data\\external\\naturalearth\\ne_110m_admin_0_countries.shp\n",
      "[DEBUG] Map saved to: D:\\Documents\\notebooks\\TETTRIs-mapping-taxonomists9\\reports\\figures\\map_eujot_relative.jpg\n",
      "Authors' institutions plotted onto world maps. Results in reports/figures.\n",
      "\n",
      "D:\\Documents\\notebooks\\TETTRIs-mapping-taxonomists9\\src\\visualization\\maps.py:54: FutureWarning: A value is trying to be set on a copy of a DataFrame or Series through chained assignment using an inplace method.\n",
      "The behavior will change in pandas 3.0. This inplace method will never work because the intermediate object on which we are setting values always behaves as a copy.\n",
      "\n",
      "For example, when doing 'df[col].method(value, inplace=True)', try using 'df.method({col: value}, inplace=True)' or df[col] = df[col].method(value) instead, to perform the operation inplace on the original object.\n",
      "\n",
      "\n",
      "  worldmap[\"freq\"].fillna(0, inplace=True)\n",
      "D:\\Documents\\notebooks\\TETTRIs-mapping-taxonomists9\\src\\visualization\\maps.py:54: FutureWarning: A value is trying to be set on a copy of a DataFrame or Series through chained assignment using an inplace method.\n",
      "The behavior will change in pandas 3.0. This inplace method will never work because the intermediate object on which we are setting values always behaves as a copy.\n",
      "\n",
      "For example, when doing 'df[col].method(value, inplace=True)', try using 'df.method({col: value}, inplace=True)' or df[col] = df[col].method(value) instead, to perform the operation inplace on the original object.\n",
      "\n",
      "\n",
      "  worldmap[\"freq\"].fillna(0, inplace=True)\n",
      "D:\\Documents\\notebooks\\TETTRIs-mapping-taxonomists9\\src\\visualization\\maps.py:54: FutureWarning: A value is trying to be set on a copy of a DataFrame or Series through chained assignment using an inplace method.\n",
      "The behavior will change in pandas 3.0. This inplace method will never work because the intermediate object on which we are setting values always behaves as a copy.\n",
      "\n",
      "For example, when doing 'df[col].method(value, inplace=True)', try using 'df.method({col: value}, inplace=True)' or df[col] = df[col].method(value) instead, to perform the operation inplace on the original object.\n",
      "\n",
      "\n",
      "  worldmap[\"freq\"].fillna(0, inplace=True)\n",
      "D:\\Documents\\notebooks\\TETTRIs-mapping-taxonomists9\\src\\visualization\\maps.py:54: FutureWarning: A value is trying to be set on a copy of a DataFrame or Series through chained assignment using an inplace method.\n",
      "The behavior will change in pandas 3.0. This inplace method will never work because the intermediate object on which we are setting values always behaves as a copy.\n",
      "\n",
      "For example, when doing 'df[col].method(value, inplace=True)', try using 'df.method({col: value}, inplace=True)' or df[col] = df[col].method(value) instead, to perform the operation inplace on the original object.\n",
      "\n",
      "\n",
      "  worldmap[\"freq\"].fillna(0, inplace=True)\n",
      "D:\\Documents\\notebooks\\TETTRIs-mapping-taxonomists9\\src\\visualization\\maps.py:54: FutureWarning: A value is trying to be set on a copy of a DataFrame or Series through chained assignment using an inplace method.\n",
      "The behavior will change in pandas 3.0. This inplace method will never work because the intermediate object on which we are setting values always behaves as a copy.\n",
      "\n",
      "For example, when doing 'df[col].method(value, inplace=True)', try using 'df.method({col: value}, inplace=True)' or df[col] = df[col].method(value) instead, to perform the operation inplace on the original object.\n",
      "\n",
      "\n",
      "  worldmap[\"freq\"].fillna(0, inplace=True)\n",
      "\n"
     ]
    }
   ],
   "source": [
    "# Define path and convert to string\n",
    "script_path = Path(\"src/visualization/maps.py\").resolve()\n",
    "result = subprocess.run([sys.executable, str(script_path)], capture_output=True, text=True)\n",
    "print(result.stdout)\n",
    "print(result.stderr)\n",
    "\n"
   ]
  },
  {
   "cell_type": "code",
   "execution_count": null,
   "id": "df23e3e1-f306-4ab1-8cb1-e46c51d3b8f6",
   "metadata": {},
   "outputs": [],
   "source": [
    "# Optional filtering (e.g., only articles with taxonomic relevance)\n",
    "subprocess.run([sys.executable, \"filter_articles.py\"])"
   ]
  },
  {
   "cell_type": "code",
   "execution_count": null,
   "id": "785595e3-6248-4675-b5e1-f255d5e76a2b",
   "metadata": {},
   "outputs": [],
   "source": []
  }
 ],
 "metadata": {
  "kernelspec": {
   "display_name": "Python [conda env:base] *",
   "language": "python",
   "name": "conda-base-py"
  },
  "language_info": {
   "codemirror_mode": {
    "name": "ipython",
    "version": 3
   },
   "file_extension": ".py",
   "mimetype": "text/x-python",
   "name": "python",
   "nbconvert_exporter": "python",
   "pygments_lexer": "ipython3",
   "version": "3.13.5"
  }
 },
 "nbformat": 4,
 "nbformat_minor": 5
}
