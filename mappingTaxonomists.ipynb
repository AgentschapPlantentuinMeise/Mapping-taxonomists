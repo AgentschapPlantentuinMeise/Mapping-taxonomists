{
 "cells": [
  {
   "cell_type": "markdown",
   "id": "ed7a19b4-306d-4435-ab16-204f826e1eef",
   "metadata": {},
   "source": [
    "# TETTRIs Mapping Taxonomists – Full Pipeline Runner\n",
    "\n",
    "This notebook runs the full processing pipeline from data acquisition to taxonomist mapping."
   ]
  },
  {
   "cell_type": "code",
   "execution_count": 1,
   "id": "b494906d-bc53-4c51-8878-56f2598565e6",
   "metadata": {},
   "outputs": [],
   "source": [
    "import subprocess\n",
    "import sys\n",
    "from pathlib import Path"
   ]
  },
  {
   "cell_type": "code",
   "execution_count": 2,
   "id": "0e02a8c4-104b-4977-80a1-b06eb9522870",
   "metadata": {},
   "outputs": [],
   "source": [
    "from pathlib import Path"
   ]
  },
  {
   "cell_type": "code",
   "execution_count": null,
   "id": "e666b897-4d68-4a6d-b369-e4a7e610bf77",
   "metadata": {
    "scrolled": true
   },
   "outputs": [
    {
     "name": "stdout",
     "output_type": "stream",
     "text": [
      "Running src\\supply\\make_dataset.py...\n",
      "\n",
      "[2025-07-16T07:21:20] Loaded config from: D:\\Documents\\notebooks\\TETTRIs-mapping-taxonomists9\\config\\config.json\n",
      "[2025-07-16T07:21:20] Cleaning raw articles directory...\n",
      "[2025-07-16T07:21:20] Running list_journals.py...\n",
      "[2025-07-16T07:21:47] list_journals.py completed successfully.\n",
      "__file__ = D:\\Documents\\notebooks\\TETTRIs-mapping-taxonomists9\\src\\supply\\prep_journals.py\n",
      "Resolved = D:\\Documents\\notebooks\\TETTRIs-mapping-taxonomists9\\src\\supply\\prep_journals.py\n",
      "Parent = D:\\Documents\\notebooks\\TETTRIs-mapping-taxonomists9\\src\\supply\n",
      "Parents[1] = D:\\Documents\\notebooks\\TETTRIs-mapping-taxonomists9\\src\n",
      "Parents[2] = D:\\Documents\\notebooks\\TETTRIs-mapping-taxonomists9\n",
      "Wikidata journals by subject: done\n",
      "Wikidata journals by IPNI or ZooBank ID: done\n",
      "OpenAlex journals by Taxonomy in concepts: done\n",
      "Preprocessing data... \n",
      "                                       item  ...                      source\n",
      "0  http://www.wikidata.org/entity/Q11693922  ...  Wikidata taxonomic subject\n",
      "1   http://www.wikidata.org/entity/Q5656888  ...  Wikidata taxonomic subject\n",
      "2   http://www.wikidata.org/entity/Q3511931  ...  Wikidata taxonomic subject\n",
      "3   http://www.wikidata.org/entity/Q3511931  ...  Wikidata taxonomic subject\n",
      "4    http://www.wikidata.org/entity/Q220370  ...  Wikidata taxonomic subject\n",
      "\n",
      "[5 rows x 10 columns]\n",
      "                                      item  ...              source\n",
      "0  http://www.wikidata.org/entity/Q4050530  ...  IPNI or ZooBank ID\n",
      "1  http://www.wikidata.org/entity/Q3669583  ...  IPNI or ZooBank ID\n",
      "2  http://www.wikidata.org/entity/Q6074337  ...  IPNI or ZooBank ID\n",
      "3  http://www.wikidata.org/entity/Q5739840  ...  IPNI or ZooBank ID\n",
      "4  http://www.wikidata.org/entity/Q6151606  ...  IPNI or ZooBank ID\n",
      "\n",
      "[5 rows x 10 columns]\n",
      "done!\n",
      "Journals saved in data/processed/journals_deduplicated.csv\n",
      "\n",
      "[2025-07-16T07:21:47] Running get_articles.py...\n"
     ]
    }
   ],
   "source": [
    "import sys\n",
    "import subprocess\n",
    "from pathlib import Path\n",
    "\n",
    "# Paths\n",
    "script_path = Path(\"src/supply/make_dataset.py\")\n",
    "config_path = Path(\"D:/Documents/notebooks/TETTRIs-mapping-taxonomists9/config/config.json\")\n",
    "\n",
    "print(f\"Running {script_path}...\\n\")\n",
    "\n",
    "# Start subprocess\n",
    "with subprocess.Popen(\n",
    "    [sys.executable, \"-u\", str(script_path), \"--config\", str(config_path)],\n",
    "    stdout=subprocess.PIPE,\n",
    "    stderr=subprocess.STDOUT,\n",
    "    text=True,\n",
    "    bufsize=1  # line-buffered\n",
    ") as proc:\n",
    "    for line in proc.stdout:\n",
    "        print(line, end=\"\")  # Already includes newline\n",
    "\n",
    "    proc.wait()  # Wait for process to exit\n",
    "\n",
    "print(f\"\\nSubprocess exited with return code: {proc.returncode}\")"
   ]
  },
  {
   "cell_type": "code",
   "execution_count": null,
   "id": "82effba0-048d-43b1-be56-d9cd3e70785c",
   "metadata": {},
   "outputs": [],
   "source": [
    "# Parse metadata or fulltext if available\n",
    "subprocess.run([sys.executable, \"parse_articles.py\"])"
   ]
  },
  {
   "cell_type": "code",
   "execution_count": null,
   "id": "df23e3e1-f306-4ab1-8cb1-e46c51d3b8f6",
   "metadata": {},
   "outputs": [],
   "source": [
    "# Optional filtering (e.g., only articles with taxonomic relevance)\n",
    "subprocess.run([sys.executable, \"filter_articles.py\"])"
   ]
  },
  {
   "cell_type": "code",
   "execution_count": null,
   "id": "785595e3-6248-4675-b5e1-f255d5e76a2b",
   "metadata": {},
   "outputs": [],
   "source": []
  }
 ],
 "metadata": {
  "kernelspec": {
   "display_name": "Python [conda env:base] *",
   "language": "python",
   "name": "conda-base-py"
  },
  "language_info": {
   "codemirror_mode": {
    "name": "ipython",
    "version": 3
   },
   "file_extension": ".py",
   "mimetype": "text/x-python",
   "name": "python",
   "nbconvert_exporter": "python",
   "pygments_lexer": "ipython3",
   "version": "3.13.5"
  }
 },
 "nbformat": 4,
 "nbformat_minor": 5
}
