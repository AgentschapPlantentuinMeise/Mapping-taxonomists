{
 "cells": [
  {
   "cell_type": "markdown",
   "id": "c142f8ca",
   "metadata": {},
   "source": [
    "# 0. Replicating Red List of Insect Taxonomists methodolgy\n",
    "The European Red List of Insect Taxonomists is an important predecessor to our methodology (https://cloud.pensoft.net/s/mGpyQYUPQOMPs8C). They used Web of Science (WoS) to find articles related to specific insect orders, specifically by searching WoS with the following query (https://www.webofscience.com/wos/woscc/summary/5f6f7d2a-89dd-4709-bf49-494b6f2522bc-73383729/relevance/1):\n",
    "\n",
    "`\n",
    "ALL=(Plecoptera  AND  (taxonom*  OR  “new  species”  OR  \n",
    "“novel species” OR “checklist” OR “new genus” OR “new genera”))\n",
    "`\n",
    "\n",
    "To see if OpenAlex can find the same or even more articles, we replicate their methodology here.\n",
    "\n",
    "Some differences between the two methodologies exist: OpenAlex, for copyright reasons, only records the abstract in the form of an inverted index - listing every word in it and its place(s) in the abstract as a key-value pair, respectively. For this reason, word groups can't be searched exactly: \"new species\" is searched as \"new\" and \"species\", not necessarily adjacent. Furthermore, OpenAlex doesn't record author keywords nor does it feature WoS' \"keywords plus\" which are based on the references, but it does associate \"concepts\" with every article. We searched these concepts instead.\n",
    "\n",
    "Title and abstract were searched concurrently and explicitly since the simpler \"search\" function of the OpenAlex API searches the full text as well as title and abstract."
   ]
  },
  {
   "cell_type": "code",
   "execution_count": null,
   "id": "bab06620",
   "metadata": {},
   "outputs": [],
   "source": [
    "import pandas as pd\n",
    "import pickle"
   ]
  },
  {
   "cell_type": "code",
   "execution_count": null,
   "id": "ca95a401",
   "metadata": {},
   "outputs": [],
   "source": [
    "insect_eu_articles = pd.read_pickle(\"../data/rlit/openalex_EU27_articles.pkl\")"
   ]
  },
  {
   "cell_type": "code",
   "execution_count": null,
   "id": "34218e18",
   "metadata": {},
   "outputs": [],
   "source": [
    "# how many articles per order?\n",
    "insect_orders = [\"Coleoptera\", \"Hemiptera\", \"Diptera\", \"Lepidoptera\", \"Orthoptera\", \n",
    "                 \"Odonata\", \"Blattodea\", \"Ephemeroptera\", \"Psocodea\", \"Grylloblattodea\", \n",
    "                 \"Neuroptera\", \"Mecoptera\", \"Trichoptera\", \"Plecoptera\", \"Dermaptera\", \n",
    "                 \"Mantodea\", \"Siphonaptera\", \"Strepsiptera\", \"Embioptera\", \"Hymenoptera\",\n",
    "                 \"Phasmida\", \"Raphidioptera\", \"Isoptera\", \"Megaloptera\", \"Thysanoptera\",\n",
    "                 \"Zygentoma\", \"Mantophasmatodea\", \"Archaeognatha\", \"Zoraptera\"]\n",
    "\n",
    "for order in insect_orders:\n",
    "    print(order + \": \" \n",
    "          + str(len(insect_eu_articles[insect_eu_articles[\"order\"]==order].index)) \n",
    "          + \" articles\")"
   ]
  },
  {
   "cell_type": "code",
   "execution_count": null,
   "id": "28c474f9",
   "metadata": {},
   "outputs": [],
   "source": [
    "# Web of Science results for ALL=(Strepsiptera  AND  (taxonom*  OR  “new  species” \n",
    "# OR “novel species” OR “checklist” OR “new genus” OR “new genera”))\n",
    "wos_strepsiptera = pd.read_csv(\"Strepsiptera_WoS_ALL_EU27_2011-2020.tsv\", sep=\"\\t\")\n",
    "wos_strepsiptera"
   ]
  },
  {
   "cell_type": "code",
   "execution_count": null,
   "id": "c1b9eab0",
   "metadata": {},
   "outputs": [],
   "source": [
    "# OpenAlex results for similar query\n",
    "oa_strepsiptera = insect_eu_articles[insect_eu_articles[\"order\"]==\"Strepsiptera\"].reset_index(drop=True)\n",
    "oa_strepsiptera"
   ]
  },
  {
   "cell_type": "code",
   "execution_count": null,
   "id": "62fac985",
   "metadata": {},
   "outputs": [],
   "source": [
    "# in common\n",
    "set(oa_strepsiptera[\"display_name\"]).intersection(wos_strepsiptera[\"TI\"])"
   ]
  },
  {
   "cell_type": "code",
   "execution_count": null,
   "id": "517cd0ae",
   "metadata": {},
   "outputs": [],
   "source": [
    "# in oa but not in wos\n",
    "list(set(oa_strepsiptera[\"display_name\"]) - set(wos_strepsiptera[\"TI\"]))"
   ]
  },
  {
   "cell_type": "markdown",
   "id": "dda60175",
   "metadata": {},
   "source": [
    "Why does OpenAlex find these articles where Web of Science does not?\n",
    "\n",
    "\n",
    "- Traumatic insemination and female counter-adaptation in Strepsiptera (Insecta) -> \"novel\" and \"species\" apart\n",
    "\n",
    "- Superparasitism ofEoxenos laboulbeneiDe Peyerimhoff (Strepsiptera: Mengenillidae) byIdiomacromerus gregarius(Silvestri) (Hymenoptera: Chalcidoidea) in southern Spain -> \"new\" and \"species\" apart\n",
    "\n",
    "- A needle in a haystack: Mesozoic origin of parasitism in Strepsiptera revealed by first definite Cretaceous primary larva (Insecta) -> on WoS but not found bcs no taxonomy keyword\n",
    "\n",
    "- Is †Skleroptera (†Stephanastus) an order in the stemgroup of Coleopterida (Insecta)? -> on WoS but not found bcs no taxonomy keyword\n",
    "\n",
    "- Distinguishing Felsenstein Zone from Farris Zone Using Neural Networks -> on WoS but not found bcs no taxonomy keyword\n",
    "\n",
    "- Morphological and molecular evidence converge upon a robust phylogeny of the megadiverse Holometabola -> on WoS but not found bcs no taxonomy keyword (evolution, systematic position,... are included)\n",
    "\n",
    "Often \"phylogeny\" *is* included as a keyword"
   ]
  },
  {
   "cell_type": "code",
   "execution_count": null,
   "id": "822246ab",
   "metadata": {},
   "outputs": [],
   "source": [
    "# in wos but not in oa\n",
    "list(set(wos_strepsiptera[\"TI\"]) - set(oa_strepsiptera[\"title\"]))"
   ]
  },
  {
   "cell_type": "markdown",
   "id": "96020a37",
   "metadata": {},
   "source": [
    "Why does WoS find these and not OpenAlex?\n",
    "\n",
    "- 'Diversity of Eocene Ripiphoridae with descriptions of the first species of Pelecotominae and larva of Ripidiinae (Coleoptera)', -> open access but no N-grams https://api.openalex.org/works/https://doi.org/10.1093/zoolinnean/zlz062 \n",
    "\n",
    "- 'New ripiphorid beetles in mid-Cretaceous amber from Myanmar (Coleoptera: Ripiphoridae): First Pelecotominae and possible Mesozoic aggregative behaviour in male Ripidiinae', -> closed access, no N-grams http://api.openalex.org/works/https://doi.org/10.1016/j.cretres.2016.08.002 \n",
    "\n",
    "- 'A remarkable diversity of parasitoid beetles (Ripiphoridae) in Cretaceous amber, with a summary of the Mesozoic record of Tenebrionoidea' -> “new species” in abstract; closed access; n-grams available but limited http://api.openalex.org/works/https://doi.org/10.1016/j.cretres.2018.04.019  \n",
    "\n",
    "- 'Host specialization and species diversity in the genus Stylops (Strepsiptera: Stylopidae), revealed by molecular phylogenetic analysis' -> authors’ institution information is incomplete\n",
    "\n",
    "- 'A miniaturized beetle larva in Cretaceous Burmese amber: reinterpretation of a fossil \"strepsipteran triungulin\"' -> no search terms in title or abstract, WoS found it via a funder \"National Science Fund for Fostering Talents in Basic Research (Special Subjects in Animal Taxonomy)\"\n",
    "\n",
    "- 'The First Complete 3D Reconstruction of a Spanish Fly Primary Larva (Lytta vesicatoria, Meloidae, Coleoptera)' -> idem\n",
    "\n",
    "- 'First Sex Pheromone of the Order Strepsiptera: (3R,5R,9R)-3,5,9-Trimethyldodecanal in Stylops melittae Kirby, 1802' -> \"taxonomy\" in author keywords, not on OpenAlex"
   ]
  }
 ],
 "metadata": {
  "kernelspec": {
   "display_name": "Python 3 (ipykernel)",
   "language": "python",
   "name": "python3"
  },
  "language_info": {
   "codemirror_mode": {
    "name": "ipython",
    "version": 3
   },
   "file_extension": ".py",
   "mimetype": "text/x-python",
   "name": "python",
   "nbconvert_exporter": "python",
   "pygments_lexer": "ipython3",
   "version": "3.9.13"
  }
 },
 "nbformat": 4,
 "nbformat_minor": 5
}
