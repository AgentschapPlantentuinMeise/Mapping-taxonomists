{
 "cells": [
  {
   "cell_type": "markdown",
   "id": "26e36e21",
   "metadata": {},
   "source": [
    "# Counting results"
   ]
  },
  {
   "cell_type": "code",
   "execution_count": 1,
   "id": "7eb4aa07",
   "metadata": {},
   "outputs": [],
   "source": [
    "import pandas as pd\n",
    "from matplotlib_venn import venn3\n",
    "from matplotlib import pyplot as plt"
   ]
  },
  {
   "cell_type": "markdown",
   "id": "97e17f6c",
   "metadata": {},
   "source": [
    "## 1. Journals"
   ]
  },
  {
   "cell_type": "markdown",
   "id": "9058680a",
   "metadata": {},
   "source": [
    "Taxonomic journals:\n",
    "- with title\n",
    "- found on wikidata (each method)\n",
    "- found on OpenAlex\n",
    "- total\n",
    "- still publishing in the last 10 years\n",
    "- dissolved (confirmed)\n",
    "- with ISSN-L\n",
    "- with IPNI publication ID\n",
    "- with ZooBank publication ID\n",
    "- with OpenAlex ID"
   ]
  },
  {
   "cell_type": "code",
   "execution_count": 2,
   "id": "b800bac2",
   "metadata": {},
   "outputs": [
    {
     "data": {
      "text/html": [
       "<div>\n",
       "<style scoped>\n",
       "    .dataframe tbody tr th:only-of-type {\n",
       "        vertical-align: middle;\n",
       "    }\n",
       "\n",
       "    .dataframe tbody tr th {\n",
       "        vertical-align: top;\n",
       "    }\n",
       "\n",
       "    .dataframe thead th {\n",
       "        text-align: right;\n",
       "    }\n",
       "</style>\n",
       "<table border=\"1\" class=\"dataframe\">\n",
       "  <thead>\n",
       "    <tr style=\"text-align: right;\">\n",
       "      <th></th>\n",
       "      <th>title</th>\n",
       "      <th>wikidataURL</th>\n",
       "      <th>ISSN-L</th>\n",
       "      <th>IPNIpubID</th>\n",
       "      <th>ZooBankPubID</th>\n",
       "      <th>openAlexID</th>\n",
       "      <th>dissolvedYear</th>\n",
       "      <th>dissolved</th>\n",
       "      <th>source</th>\n",
       "    </tr>\n",
       "  </thead>\n",
       "  <tbody>\n",
       "    <tr>\n",
       "      <th>0</th>\n",
       "      <td>ZooKeys</td>\n",
       "      <td>http://www.wikidata.org/entity/Q219980</td>\n",
       "      <td>1313-2970</td>\n",
       "      <td>NaN</td>\n",
       "      <td>91BD42D4-90F1-4B45-9350-EEF175B1727A</td>\n",
       "      <td>S199213172</td>\n",
       "      <td>NaN</td>\n",
       "      <td>NaN</td>\n",
       "      <td>Wikidata taxonomic subject</td>\n",
       "    </tr>\n",
       "    <tr>\n",
       "      <th>1</th>\n",
       "      <td>Acta Phytotaxonomica et Geobotanica</td>\n",
       "      <td>http://www.wikidata.org/entity/Q5656888</td>\n",
       "      <td>1346-7565</td>\n",
       "      <td>1097-2</td>\n",
       "      <td>NaN</td>\n",
       "      <td>NaN</td>\n",
       "      <td>NaN</td>\n",
       "      <td>NaN</td>\n",
       "      <td>Wikidata taxonomic subject</td>\n",
       "    </tr>\n",
       "    <tr>\n",
       "      <th>2</th>\n",
       "      <td>Willdenowia</td>\n",
       "      <td>http://www.wikidata.org/entity/Q2675951</td>\n",
       "      <td>0511-9618</td>\n",
       "      <td>3087-2</td>\n",
       "      <td>NaN</td>\n",
       "      <td>S107729305</td>\n",
       "      <td>NaN</td>\n",
       "      <td>NaN</td>\n",
       "      <td>Wikidata taxonomic subject</td>\n",
       "    </tr>\n",
       "    <tr>\n",
       "      <th>3</th>\n",
       "      <td>PhytoKeys</td>\n",
       "      <td>http://www.wikidata.org/entity/Q14537320</td>\n",
       "      <td>1314-2003</td>\n",
       "      <td>20011997-1</td>\n",
       "      <td>NaN</td>\n",
       "      <td>S138605562</td>\n",
       "      <td>NaN</td>\n",
       "      <td>NaN</td>\n",
       "      <td>Wikidata taxonomic subject</td>\n",
       "    </tr>\n",
       "    <tr>\n",
       "      <th>4</th>\n",
       "      <td>Phytotaxa</td>\n",
       "      <td>http://www.wikidata.org/entity/Q4807825</td>\n",
       "      <td>1179-3155</td>\n",
       "      <td>20011462-1</td>\n",
       "      <td>NaN</td>\n",
       "      <td>S100787194</td>\n",
       "      <td>NaN</td>\n",
       "      <td>NaN</td>\n",
       "      <td>Wikidata taxonomic subject</td>\n",
       "    </tr>\n",
       "  </tbody>\n",
       "</table>\n",
       "</div>"
      ],
      "text/plain": [
       "                                 title  \\\n",
       "0                              ZooKeys   \n",
       "1  Acta Phytotaxonomica et Geobotanica   \n",
       "2                          Willdenowia   \n",
       "3                            PhytoKeys   \n",
       "4                            Phytotaxa   \n",
       "\n",
       "                                wikidataURL     ISSN-L   IPNIpubID  \\\n",
       "0    http://www.wikidata.org/entity/Q219980  1313-2970         NaN   \n",
       "1   http://www.wikidata.org/entity/Q5656888  1346-7565      1097-2   \n",
       "2   http://www.wikidata.org/entity/Q2675951  0511-9618      3087-2   \n",
       "3  http://www.wikidata.org/entity/Q14537320  1314-2003  20011997-1   \n",
       "4   http://www.wikidata.org/entity/Q4807825  1179-3155  20011462-1   \n",
       "\n",
       "                           ZooBankPubID  openAlexID dissolvedYear dissolved  \\\n",
       "0  91BD42D4-90F1-4B45-9350-EEF175B1727A  S199213172           NaN       NaN   \n",
       "1                                   NaN         NaN           NaN       NaN   \n",
       "2                                   NaN  S107729305           NaN       NaN   \n",
       "3                                   NaN  S138605562           NaN       NaN   \n",
       "4                                   NaN  S100787194           NaN       NaN   \n",
       "\n",
       "                       source  \n",
       "0  Wikidata taxonomic subject  \n",
       "1  Wikidata taxonomic subject  \n",
       "2  Wikidata taxonomic subject  \n",
       "3  Wikidata taxonomic subject  \n",
       "4  Wikidata taxonomic subject  "
      ]
     },
     "execution_count": 2,
     "metadata": {},
     "output_type": "execute_result"
    }
   ],
   "source": [
    "journals = pd.read_csv(\"../data/processed/journals_deduplicated.csv\")\n",
    "journals.head()"
   ]
  },
  {
   "cell_type": "code",
   "execution_count": 3,
   "id": "a8eeaafd",
   "metadata": {},
   "outputs": [
    {
     "name": "stdout",
     "output_type": "stream",
     "text": [
      "Number of journals: 2398\n",
      "Number of journals with known title: 2398\n"
     ]
    }
   ],
   "source": [
    "print(\"Number of journals: \" + str(len(journals)))\n",
    "print(\"Number of journals with known title: \"+\\\n",
    "      str(len([x for x in journals[\"title\"] if x == x])))"
   ]
  },
  {
   "cell_type": "code",
   "execution_count": 4,
   "id": "3ff79991",
   "metadata": {},
   "outputs": [
    {
     "name": "stdout",
     "output_type": "stream",
     "text": [
      "Number of journals with wikidataURL: 2344\n",
      "Number of journals with ISSN-L: 1498\n",
      "Number of journals with IPNIpubID: 1657\n",
      "Number of journals with ZooBankPubID: 720\n",
      "Number of journals with openAlexID: 826\n"
     ]
    }
   ],
   "source": [
    "for column in journals.columns[1:6]:\n",
    "    print(\"Number of journals with \" + column + \": \"+\\\n",
    "          str(len([x for x in journals[column] if x == x])))"
   ]
  },
  {
   "cell_type": "code",
   "execution_count": 5,
   "id": "ced81066",
   "metadata": {},
   "outputs": [
    {
     "name": "stdout",
     "output_type": "stream",
     "text": [
      "Journals that were dissolved (confirmed): \n"
     ]
    },
    {
     "data": {
      "text/plain": [
       "dissolved\n",
       "True     545\n",
       "False    147\n",
       "Name: count, dtype: int64"
      ]
     },
     "execution_count": 5,
     "metadata": {},
     "output_type": "execute_result"
    }
   ],
   "source": [
    "print(\"Journals that were dissolved (confirmed): \")\n",
    "journals[\"dissolved\"].value_counts()"
   ]
  },
  {
   "cell_type": "code",
   "execution_count": 6,
   "id": "cdea3ecc",
   "metadata": {},
   "outputs": [
    {
     "data": {
      "text/html": [
       "<div>\n",
       "<style scoped>\n",
       "    .dataframe tbody tr th:only-of-type {\n",
       "        vertical-align: middle;\n",
       "    }\n",
       "\n",
       "    .dataframe tbody tr th {\n",
       "        vertical-align: top;\n",
       "    }\n",
       "\n",
       "    .dataframe thead th {\n",
       "        text-align: right;\n",
       "    }\n",
       "</style>\n",
       "<table border=\"1\" class=\"dataframe\">\n",
       "  <thead>\n",
       "    <tr style=\"text-align: right;\">\n",
       "      <th></th>\n",
       "      <th>id</th>\n",
       "      <th>doi</th>\n",
       "      <th>title</th>\n",
       "      <th>display_name</th>\n",
       "      <th>publication_year</th>\n",
       "      <th>publication_date</th>\n",
       "      <th>ids</th>\n",
       "      <th>language</th>\n",
       "      <th>primary_location</th>\n",
       "      <th>type</th>\n",
       "      <th>...</th>\n",
       "      <th>source_is_core</th>\n",
       "      <th>source_host_organization</th>\n",
       "      <th>source_host_organization_name</th>\n",
       "      <th>source_host_organization_lineage</th>\n",
       "      <th>source_host_organization_lineage_names</th>\n",
       "      <th>source_type</th>\n",
       "      <th>oa_is_oa</th>\n",
       "      <th>oa_oa_status</th>\n",
       "      <th>oa_oa_url</th>\n",
       "      <th>oa_any_repository_has_fulltext</th>\n",
       "    </tr>\n",
       "  </thead>\n",
       "  <tbody>\n",
       "    <tr>\n",
       "      <th>0</th>\n",
       "      <td>https://openalex.org/W2766208183</td>\n",
       "      <td>https://doi.org/10.1371/journal.pone.0185809</td>\n",
       "      <td>More than 75 percent decline over 27 years in ...</td>\n",
       "      <td>More than 75 percent decline over 27 years in ...</td>\n",
       "      <td>2017</td>\n",
       "      <td>2017-10-18</td>\n",
       "      <td>{'openalex': 'https://openalex.org/W2766208183...</td>\n",
       "      <td>en</td>\n",
       "      <td>{'is_oa': True, 'landing_page_url': 'https://d...</td>\n",
       "      <td>article</td>\n",
       "      <td>...</td>\n",
       "      <td>True</td>\n",
       "      <td>https://openalex.org/P4310315706</td>\n",
       "      <td>Public Library of Science</td>\n",
       "      <td>[https://openalex.org/P4310315706]</td>\n",
       "      <td>[Public Library of Science]</td>\n",
       "      <td>journal</td>\n",
       "      <td>True</td>\n",
       "      <td>gold</td>\n",
       "      <td>https://journals.plos.org/plosone/article/file...</td>\n",
       "      <td>True</td>\n",
       "    </tr>\n",
       "    <tr>\n",
       "      <th>1</th>\n",
       "      <td>https://openalex.org/W1577451703</td>\n",
       "      <td>https://doi.org/10.1371/journal.pone.0131080</td>\n",
       "      <td>Biodiversity on the Rocks: Macrofauna Inhabiti...</td>\n",
       "      <td>Biodiversity on the Rocks: Macrofauna Inhabiti...</td>\n",
       "      <td>2015</td>\n",
       "      <td>2015-07-09</td>\n",
       "      <td>{'openalex': 'https://openalex.org/W1577451703...</td>\n",
       "      <td>en</td>\n",
       "      <td>{'is_oa': True, 'landing_page_url': 'https://d...</td>\n",
       "      <td>article</td>\n",
       "      <td>...</td>\n",
       "      <td>True</td>\n",
       "      <td>https://openalex.org/P4310315706</td>\n",
       "      <td>Public Library of Science</td>\n",
       "      <td>[https://openalex.org/P4310315706]</td>\n",
       "      <td>[Public Library of Science]</td>\n",
       "      <td>journal</td>\n",
       "      <td>True</td>\n",
       "      <td>gold</td>\n",
       "      <td>https://journals.plos.org/plosone/article/file...</td>\n",
       "      <td>True</td>\n",
       "    </tr>\n",
       "    <tr>\n",
       "      <th>2</th>\n",
       "      <td>https://openalex.org/W2054385769</td>\n",
       "      <td>https://doi.org/10.1371/journal.pone.0057923</td>\n",
       "      <td>The Variability of the 16S rRNA Gene in Bacter...</td>\n",
       "      <td>The Variability of the 16S rRNA Gene in Bacter...</td>\n",
       "      <td>2013</td>\n",
       "      <td>2013-02-27</td>\n",
       "      <td>{'openalex': 'https://openalex.org/W2054385769...</td>\n",
       "      <td>en</td>\n",
       "      <td>{'is_oa': True, 'landing_page_url': 'https://d...</td>\n",
       "      <td>article</td>\n",
       "      <td>...</td>\n",
       "      <td>True</td>\n",
       "      <td>https://openalex.org/P4310315706</td>\n",
       "      <td>Public Library of Science</td>\n",
       "      <td>[https://openalex.org/P4310315706]</td>\n",
       "      <td>[Public Library of Science]</td>\n",
       "      <td>journal</td>\n",
       "      <td>True</td>\n",
       "      <td>gold</td>\n",
       "      <td>https://journals.plos.org/plosone/article/file...</td>\n",
       "      <td>True</td>\n",
       "    </tr>\n",
       "    <tr>\n",
       "      <th>3</th>\n",
       "      <td>https://openalex.org/W2130560194</td>\n",
       "      <td>https://doi.org/10.1371/journal.pone.0105992</td>\n",
       "      <td>SoilGrids1km — Global Soil Information Based o...</td>\n",
       "      <td>SoilGrids1km — Global Soil Information Based o...</td>\n",
       "      <td>2014</td>\n",
       "      <td>2014-08-29</td>\n",
       "      <td>{'openalex': 'https://openalex.org/W2130560194...</td>\n",
       "      <td>en</td>\n",
       "      <td>{'is_oa': True, 'landing_page_url': 'https://d...</td>\n",
       "      <td>article</td>\n",
       "      <td>...</td>\n",
       "      <td>True</td>\n",
       "      <td>https://openalex.org/P4310315706</td>\n",
       "      <td>Public Library of Science</td>\n",
       "      <td>[https://openalex.org/P4310315706]</td>\n",
       "      <td>[Public Library of Science]</td>\n",
       "      <td>journal</td>\n",
       "      <td>True</td>\n",
       "      <td>gold</td>\n",
       "      <td>https://journals.plos.org/plosone/article/file...</td>\n",
       "      <td>True</td>\n",
       "    </tr>\n",
       "    <tr>\n",
       "      <th>4</th>\n",
       "      <td>https://openalex.org/W2155544089</td>\n",
       "      <td>https://doi.org/10.1371/journal.pone.0125814</td>\n",
       "      <td>Mapping Soil Properties of Africa at 250 m Res...</td>\n",
       "      <td>Mapping Soil Properties of Africa at 250 m Res...</td>\n",
       "      <td>2015</td>\n",
       "      <td>2015-06-25</td>\n",
       "      <td>{'openalex': 'https://openalex.org/W2155544089...</td>\n",
       "      <td>en</td>\n",
       "      <td>{'is_oa': True, 'landing_page_url': 'https://d...</td>\n",
       "      <td>article</td>\n",
       "      <td>...</td>\n",
       "      <td>True</td>\n",
       "      <td>https://openalex.org/P4310315706</td>\n",
       "      <td>Public Library of Science</td>\n",
       "      <td>[https://openalex.org/P4310315706]</td>\n",
       "      <td>[Public Library of Science]</td>\n",
       "      <td>journal</td>\n",
       "      <td>True</td>\n",
       "      <td>gold</td>\n",
       "      <td>https://journals.plos.org/plosone/article/file...</td>\n",
       "      <td>True</td>\n",
       "    </tr>\n",
       "  </tbody>\n",
       "</table>\n",
       "<p>5 rows × 75 columns</p>\n",
       "</div>"
      ],
      "text/plain": [
       "                                 id  \\\n",
       "0  https://openalex.org/W2766208183   \n",
       "1  https://openalex.org/W1577451703   \n",
       "2  https://openalex.org/W2054385769   \n",
       "3  https://openalex.org/W2130560194   \n",
       "4  https://openalex.org/W2155544089   \n",
       "\n",
       "                                            doi  \\\n",
       "0  https://doi.org/10.1371/journal.pone.0185809   \n",
       "1  https://doi.org/10.1371/journal.pone.0131080   \n",
       "2  https://doi.org/10.1371/journal.pone.0057923   \n",
       "3  https://doi.org/10.1371/journal.pone.0105992   \n",
       "4  https://doi.org/10.1371/journal.pone.0125814   \n",
       "\n",
       "                                               title  \\\n",
       "0  More than 75 percent decline over 27 years in ...   \n",
       "1  Biodiversity on the Rocks: Macrofauna Inhabiti...   \n",
       "2  The Variability of the 16S rRNA Gene in Bacter...   \n",
       "3  SoilGrids1km — Global Soil Information Based o...   \n",
       "4  Mapping Soil Properties of Africa at 250 m Res...   \n",
       "\n",
       "                                        display_name  publication_year  \\\n",
       "0  More than 75 percent decline over 27 years in ...              2017   \n",
       "1  Biodiversity on the Rocks: Macrofauna Inhabiti...              2015   \n",
       "2  The Variability of the 16S rRNA Gene in Bacter...              2013   \n",
       "3  SoilGrids1km — Global Soil Information Based o...              2014   \n",
       "4  Mapping Soil Properties of Africa at 250 m Res...              2015   \n",
       "\n",
       "  publication_date                                                ids  \\\n",
       "0       2017-10-18  {'openalex': 'https://openalex.org/W2766208183...   \n",
       "1       2015-07-09  {'openalex': 'https://openalex.org/W1577451703...   \n",
       "2       2013-02-27  {'openalex': 'https://openalex.org/W2054385769...   \n",
       "3       2014-08-29  {'openalex': 'https://openalex.org/W2130560194...   \n",
       "4       2015-06-25  {'openalex': 'https://openalex.org/W2155544089...   \n",
       "\n",
       "  language                                   primary_location     type  ...  \\\n",
       "0       en  {'is_oa': True, 'landing_page_url': 'https://d...  article  ...   \n",
       "1       en  {'is_oa': True, 'landing_page_url': 'https://d...  article  ...   \n",
       "2       en  {'is_oa': True, 'landing_page_url': 'https://d...  article  ...   \n",
       "3       en  {'is_oa': True, 'landing_page_url': 'https://d...  article  ...   \n",
       "4       en  {'is_oa': True, 'landing_page_url': 'https://d...  article  ...   \n",
       "\n",
       "  source_is_core          source_host_organization  \\\n",
       "0           True  https://openalex.org/P4310315706   \n",
       "1           True  https://openalex.org/P4310315706   \n",
       "2           True  https://openalex.org/P4310315706   \n",
       "3           True  https://openalex.org/P4310315706   \n",
       "4           True  https://openalex.org/P4310315706   \n",
       "\n",
       "  source_host_organization_name    source_host_organization_lineage  \\\n",
       "0     Public Library of Science  [https://openalex.org/P4310315706]   \n",
       "1     Public Library of Science  [https://openalex.org/P4310315706]   \n",
       "2     Public Library of Science  [https://openalex.org/P4310315706]   \n",
       "3     Public Library of Science  [https://openalex.org/P4310315706]   \n",
       "4     Public Library of Science  [https://openalex.org/P4310315706]   \n",
       "\n",
       "   source_host_organization_lineage_names  source_type oa_is_oa oa_oa_status  \\\n",
       "0             [Public Library of Science]      journal     True         gold   \n",
       "1             [Public Library of Science]      journal     True         gold   \n",
       "2             [Public Library of Science]      journal     True         gold   \n",
       "3             [Public Library of Science]      journal     True         gold   \n",
       "4             [Public Library of Science]      journal     True         gold   \n",
       "\n",
       "                                           oa_oa_url  \\\n",
       "0  https://journals.plos.org/plosone/article/file...   \n",
       "1  https://journals.plos.org/plosone/article/file...   \n",
       "2  https://journals.plos.org/plosone/article/file...   \n",
       "3  https://journals.plos.org/plosone/article/file...   \n",
       "4  https://journals.plos.org/plosone/article/file...   \n",
       "\n",
       "  oa_any_repository_has_fulltext  \n",
       "0                           True  \n",
       "1                           True  \n",
       "2                           True  \n",
       "3                           True  \n",
       "4                           True  \n",
       "\n",
       "[5 rows x 75 columns]"
      ]
     },
     "execution_count": 6,
     "metadata": {},
     "output_type": "execute_result"
    }
   ],
   "source": [
    "articles = pd.read_pickle(\"../data/interim/filtered_articles.pkl\")\n",
    "articles.head()"
   ]
  },
  {
   "cell_type": "code",
   "execution_count": 7,
   "id": "ee7e0afe",
   "metadata": {},
   "outputs": [
    {
     "name": "stdout",
     "output_type": "stream",
     "text": [
      "Number of journals that contained relevant (i.e. taxonomic) articles: 464\n"
     ]
    }
   ],
   "source": [
    "print(\"Number of journals that contained relevant (i.e. taxonomic) articles: \" + \\\n",
    "      str(len(set(articles[\"source_id\"]))))"
   ]
  },
  {
   "cell_type": "code",
   "execution_count": 8,
   "id": "a78bd302",
   "metadata": {},
   "outputs": [
    {
     "data": {
      "text/plain": [
       "Text(0.5, 1.0, 'Unique journals per source')"
      ]
     },
     "execution_count": 8,
     "metadata": {},
     "output_type": "execute_result"
    },
    {
     "data": {
      "image/png": "[encoded data removed]",
      "text/plain": [
       "<Figure size 640x480 with 1 Axes>"
      ]
     },
     "metadata": {},
     "output_type": "display_data"
    }
   ],
   "source": [
    "# Venn diagram\n",
    "ipnizoo = set(journals[journals[\"source\"]==\"IPNI or ZooBank ID\"][\"title\"])\n",
    "openalex = set(journals[journals[\"source\"]==\"OpenAlex taxonomy concept\"][\"title\"])\n",
    "wikisubjects = set(journals[journals[\"source\"]==\"Wikidata taxonomic subject\"][\"title\"])\n",
    "\n",
    "venn3([ipnizoo, openalex, wikisubjects], (\"IPNI/ZooBank ID\", \"OpenAlex\", \"Wikidata subjects\"))\n",
    "plt.title(\"Unique journals per source\", fontsize=15)"
   ]
  },
  {
   "cell_type": "markdown",
   "id": "94ae5789",
   "metadata": {},
   "source": [
    "## 2. Articles\n",
    "\n",
    "- total number\n",
    "- number with at least one European author"
   ]
  },
  {
   "cell_type": "code",
   "execution_count": 9,
   "id": "1cd4553a",
   "metadata": {},
   "outputs": [
    {
     "name": "stdout",
     "output_type": "stream",
     "text": [
      "Number of articles related to taxonomy: 31375\n"
     ]
    }
   ],
   "source": [
    "print(\"Number of articles related to taxonomy: \" + str(len(set(articles[\"id\"]))))"
   ]
  },
  {
   "cell_type": "code",
   "execution_count": 12,
   "id": "25aa43c4",
   "metadata": {},
   "outputs": [],
   "source": [
    "eu_articles = pd.read_pickle(\"../data/interim/filtered_articles.pkl\")"
   ]
  },
  {
   "cell_type": "code",
   "execution_count": 13,
   "id": "3a18af0b",
   "metadata": {},
   "outputs": [
    {
     "name": "stdout",
     "output_type": "stream",
     "text": [
      "Number of articles related to taxonomy with at least one European author: 31375\n"
     ]
    }
   ],
   "source": [
    "print(\"Number of articles related to taxonomy with at least one European author: \" +\\\n",
    "      str(len(set(eu_articles[\"id\"]))))"
   ]
  },
  {
   "cell_type": "markdown",
   "id": "310cfe32",
   "metadata": {},
   "source": [
    "## 3. Authors"
   ]
  },
  {
   "cell_type": "code",
   "execution_count": 14,
   "id": "709caff1",
   "metadata": {},
   "outputs": [],
   "source": [
    "eu_authors = pd.read_csv(\"../data/processed/country_taxonomic_authors_no_duplicates.tsv\", sep=\"\\t\")"
   ]
  },
  {
   "cell_type": "code",
   "execution_count": 15,
   "id": "cc488f4d",
   "metadata": {},
   "outputs": [
    {
     "name": "stdout",
     "output_type": "stream",
     "text": [
      "Number of European authors before disambiguation: 30374\n"
     ]
    }
   ],
   "source": [
    "print(\"Number of European authors before disambiguation: \"+\\\n",
    "      str(len(eu_authors)))"
   ]
  },
  {
   "cell_type": "code",
   "execution_count": 16,
   "id": "d2ce556d",
   "metadata": {},
   "outputs": [],
   "source": [
    "eu_disamb_authors = pd.read_pickle(\"../data/processed/authors_disambiguated_truncated.pkl\")"
   ]
  },
  {
   "cell_type": "code",
   "execution_count": 17,
   "id": "58e8e5b0",
   "metadata": {},
   "outputs": [
    {
     "name": "stdout",
     "output_type": "stream",
     "text": [
      "Number of European authors after disambiguation: 30150\n"
     ]
    }
   ],
   "source": [
    "print(\"Number of European authors after disambiguation: \"+\\\n",
    "      str(len(eu_disamb_authors)))"
   ]
  },
  {
   "cell_type": "code",
   "execution_count": 18,
   "id": "ce4ec948",
   "metadata": {},
   "outputs": [
    {
     "name": "stdout",
     "output_type": "stream",
     "text": [
      "Number of European institutions publishing taxonomic articles: 2871\n"
     ]
    }
   ],
   "source": [
    "print(\"Number of European institutions publishing taxonomic articles: \"+\\\n",
    "      str(len(set(eu_disamb_authors[\"inst_id\"]))))"
   ]
  },
  {
   "cell_type": "code",
   "execution_count": 19,
   "id": "871b1a66",
   "metadata": {},
   "outputs": [
    {
     "data": {
      "text/plain": [
       "53"
      ]
     },
     "execution_count": 19,
     "metadata": {},
     "output_type": "execute_result"
    }
   ],
   "source": [
    "len(set(eu_authors[eu_authors[\"inst_country_code\"]==\"BE\"][\"inst_display_name\"]))"
   ]
  },
  {
   "cell_type": "code",
   "execution_count": 20,
   "id": "05143e8d",
   "metadata": {},
   "outputs": [
    {
     "data": {
      "text/plain": [
       "Index(['Unnamed: 0', 'Index', 'article_id', 'author_position', 'author',\n",
       "       'institutions', 'countries', 'is_corresponding', 'raw_author_name',\n",
       "       'raw_affiliation_strings', 'affiliations', 'author_id',\n",
       "       'author_display_name', 'author_orcid', 'inst_id', 'inst_display_name',\n",
       "       'inst_ror', 'inst_country_code', 'inst_type', 'inst_lineage',\n",
       "       'countries_list', 'id', 'doi', 'title', 'display_name',\n",
       "       'publication_year', 'publication_date', 'ids', 'language',\n",
       "       'primary_location', 'type', 'type_crossref', 'indexed_in',\n",
       "       'open_access', 'authorships', 'countries_distinct_count',\n",
       "       'institutions_distinct_count', 'corresponding_author_ids',\n",
       "       'corresponding_institution_ids', 'apc_list', 'apc_paid', 'fwci',\n",
       "       'has_fulltext', 'fulltext_origin', 'cited_by_count',\n",
       "       'cited_by_percentile_year', 'biblio', 'is_retracted', 'is_paratext',\n",
       "       'primary_topic', 'topics', 'keywords', 'concepts', 'mesh',\n",
       "       'locations_count', 'locations', 'best_oa_location',\n",
       "       'sustainable_development_goals', 'grants', 'datasets', 'versions',\n",
       "       'referenced_works_count', 'referenced_works', 'related_works',\n",
       "       'ngrams_url', 'abstract_inverted_index', 'cited_by_api_url',\n",
       "       'counts_by_year', 'updated_date', 'created_date',\n",
       "       'is_authors_truncated', 'location_is_oa', 'location_landing_page_url',\n",
       "       'location_pdf_url', 'location_source', 'location_license',\n",
       "       'location_license_id', 'location_version', 'location_is_accepted',\n",
       "       'location_is_published', 'source_id', 'source_display_name',\n",
       "       'source_issn_l', 'source_issn', 'source_is_oa', 'source_is_in_doaj',\n",
       "       'source_is_core', 'source_host_organization',\n",
       "       'source_host_organization_name', 'source_host_organization_lineage',\n",
       "       'source_host_organization_lineage_names', 'source_type', 'oa_is_oa',\n",
       "       'oa_oa_status', 'oa_oa_url', 'oa_any_repository_has_fulltext',\n",
       "       'abstract_full_text', 'species_subject'],\n",
       "      dtype='object')"
      ]
     },
     "execution_count": 20,
     "metadata": {},
     "output_type": "execute_result"
    }
   ],
   "source": [
    "eu_authors.columns"
   ]
  },
  {
   "cell_type": "markdown",
   "id": "936b71bb",
   "metadata": {},
   "source": [
    "## 4. Taxonomy"
   ]
  },
  {
   "cell_type": "markdown",
   "id": "d46c57ee",
   "metadata": {},
   "source": [
    "Total number of families within Plantae:\n",
    "Total number of families within Animalia:\n",
    "Total number of families within Fungi:\n",
    "Total number of families within Protists:\n",
    "…. See similar figure here: https://data-blog.gbif.org/post/gbif-backbone-taxonomy/"
   ]
  },
  {
   "cell_type": "code",
   "execution_count": 21,
   "id": "1703bdfc",
   "metadata": {},
   "outputs": [],
   "source": [
    "# supply and demand order save?\n",
    "authors_tree = pd.read_pickle(\"../data/processed/european_authors_disambiguated_with_taxonomy.pkl\")"
   ]
  },
  {
   "cell_type": "code",
   "execution_count": 22,
   "id": "13fdf53c",
   "metadata": {},
   "outputs": [],
   "source": [
    "def get_number_families(kingdom_name):\n",
    "    kingdom = []\n",
    "\n",
    "    for author in authors_tree.itertuples():\n",
    "        if kingdom_name in author.kingdoms_subjects:\n",
    "            kingdom.append(author)\n",
    "            \n",
    "    kingdom_df = pd.DataFrame(kingdom)\n",
    "    \n",
    "    families = []\n",
    "    \n",
    "    for author in kingdom_df.itertuples():\n",
    "        for family in author.families_subjects:\n",
    "            families.append(family)\n",
    "            \n",
    "    return len(set(families))"
   ]
  },
  {
   "cell_type": "code",
   "execution_count": 23,
   "id": "a803a2a9",
   "metadata": {},
   "outputs": [
    {
     "ename": "AttributeError",
     "evalue": "'Pandas' object has no attribute 'kingdoms_subjects'",
     "output_type": "error",
     "traceback": [
      "\u001b[1;31m---------------------------------------------------------------------------\u001b[0m",
      "\u001b[1;31mAttributeError\u001b[0m                            Traceback (most recent call last)",
      "Cell \u001b[1;32mIn[23], line 1\u001b[0m\n\u001b[1;32m----> 1\u001b[0m \u001b[38;5;28mprint\u001b[39m(\u001b[38;5;124m\"\u001b[39m\u001b[38;5;124mNumber of plant families in data: \u001b[39m\u001b[38;5;124m\"\u001b[39m \u001b[38;5;241m+\u001b[39m \u001b[38;5;28mstr\u001b[39m(\u001b[43mget_number_families\u001b[49m\u001b[43m(\u001b[49m\u001b[38;5;124;43m\"\u001b[39;49m\u001b[38;5;124;43mPlantae\u001b[39;49m\u001b[38;5;124;43m\"\u001b[39;49m\u001b[43m)\u001b[49m))\n\u001b[0;32m      2\u001b[0m \u001b[38;5;28mprint\u001b[39m(\u001b[38;5;124m\"\u001b[39m\u001b[38;5;124mNumber of animal families in data: \u001b[39m\u001b[38;5;124m\"\u001b[39m \u001b[38;5;241m+\u001b[39m \u001b[38;5;28mstr\u001b[39m(get_number_families(\u001b[38;5;124m\"\u001b[39m\u001b[38;5;124mAnimalia\u001b[39m\u001b[38;5;124m\"\u001b[39m)))\n\u001b[0;32m      3\u001b[0m \u001b[38;5;28mprint\u001b[39m(\u001b[38;5;124m\"\u001b[39m\u001b[38;5;124mNumber of fungal families in data: \u001b[39m\u001b[38;5;124m\"\u001b[39m \u001b[38;5;241m+\u001b[39m \u001b[38;5;28mstr\u001b[39m(get_number_families(\u001b[38;5;124m\"\u001b[39m\u001b[38;5;124mFungi\u001b[39m\u001b[38;5;124m\"\u001b[39m)))\n",
      "Cell \u001b[1;32mIn[22], line 5\u001b[0m, in \u001b[0;36mget_number_families\u001b[1;34m(kingdom_name)\u001b[0m\n\u001b[0;32m      2\u001b[0m kingdom \u001b[38;5;241m=\u001b[39m []\n\u001b[0;32m      4\u001b[0m \u001b[38;5;28;01mfor\u001b[39;00m author \u001b[38;5;129;01min\u001b[39;00m authors_tree\u001b[38;5;241m.\u001b[39mitertuples():\n\u001b[1;32m----> 5\u001b[0m     \u001b[38;5;28;01mif\u001b[39;00m kingdom_name \u001b[38;5;129;01min\u001b[39;00m \u001b[43mauthor\u001b[49m\u001b[38;5;241;43m.\u001b[39;49m\u001b[43mkingdoms_subjects\u001b[49m:\n\u001b[0;32m      6\u001b[0m         kingdom\u001b[38;5;241m.\u001b[39mappend(author)\n\u001b[0;32m      8\u001b[0m kingdom_df \u001b[38;5;241m=\u001b[39m pd\u001b[38;5;241m.\u001b[39mDataFrame(kingdom)\n",
      "\u001b[1;31mAttributeError\u001b[0m: 'Pandas' object has no attribute 'kingdoms_subjects'"
     ]
    }
   ],
   "source": [
    "print(\"Number of plant families in data: \" + str(get_number_families(\"Plantae\")))\n",
    "print(\"Number of animal families in data: \" + str(get_number_families(\"Animalia\")))\n",
    "print(\"Number of fungal families in data: \" + str(get_number_families(\"Fungi\")))\n",
    "# no protists in data"
   ]
  },
  {
   "cell_type": "markdown",
   "id": "df131d7c",
   "metadata": {},
   "source": [
    "## 5. Most prolific authors"
   ]
  },
  {
   "cell_type": "code",
   "execution_count": 14,
   "id": "4cc133f9",
   "metadata": {},
   "outputs": [],
   "source": [
    "authors = pd.read_pickle(\"../data/interim/all_authors_of_european_taxonomic_articles.pkl\")"
   ]
  },
  {
   "cell_type": "code",
   "execution_count": null,
   "id": "124a31a6",
   "metadata": {},
   "outputs": [],
   "source": []
  },
  {
   "cell_type": "code",
   "execution_count": 15,
   "id": "81332f7a",
   "metadata": {},
   "outputs": [],
   "source": [
    "top_authors = authors[\"author_id\"].value_counts()[0:10]"
   ]
  },
  {
   "cell_type": "code",
   "execution_count": 31,
   "id": "b91b4510",
   "metadata": {},
   "outputs": [
    {
     "data": {
      "text/plain": [
       "Index(['article_id', 'author_position', 'author', 'institutions', 'countries',\n",
       "       'is_corresponding', 'raw_author_name', 'raw_affiliation_string',\n",
       "       'raw_affiliation_strings', 'author_id', 'author_display_name',\n",
       "       'author_orcid', 'inst_id', 'inst_display_name', 'inst_ror',\n",
       "       'inst_country_code', 'inst_type', 'inst_lineage', 'countries_list',\n",
       "       'id', 'doi', 'title', 'display_name', 'publication_year',\n",
       "       'publication_date', 'ids', 'language', 'primary_location', 'type',\n",
       "       'type_crossref', 'open_access', 'authorships',\n",
       "       'countries_distinct_count', 'institutions_distinct_count',\n",
       "       'corresponding_author_ids', 'corresponding_institution_ids', 'apc_list',\n",
       "       'apc_paid', 'cited_by_count', 'biblio', 'is_retracted', 'is_paratext',\n",
       "       'concepts', 'mesh', 'locations_count', 'locations', 'best_oa_location',\n",
       "       'sustainable_development_goals', 'grants', 'referenced_works_count',\n",
       "       'referenced_works', 'related_works', 'ngrams_url',\n",
       "       'abstract_inverted_index', 'cited_by_api_url', 'counts_by_year',\n",
       "       'updated_date', 'created_date', 'is_authors_truncated',\n",
       "       'location_is_oa', 'location_landing_page_url', 'location_pdf_url',\n",
       "       'location_source', 'location_license', 'location_version',\n",
       "       'location_is_accepted', 'location_is_published', 'source_id',\n",
       "       'source_display_name', 'source_issn_l', 'source_issn', 'source_is_oa',\n",
       "       'source_is_in_doaj', 'source_host_organization',\n",
       "       'source_host_organization_name', 'source_host_organization_lineage',\n",
       "       'source_host_organization_lineage_names', 'source_type', 'is_oa',\n",
       "       'oa_status', 'oa_url', 'any_repository_has_fulltext',\n",
       "       'abstract_full_text', 'species_subject'],\n",
       "      dtype='object')"
      ]
     },
     "execution_count": 31,
     "metadata": {},
     "output_type": "execute_result"
    }
   ],
   "source": [
    "authors.columns"
   ]
  },
  {
   "cell_type": "code",
   "execution_count": 29,
   "id": "35c244f3",
   "metadata": {},
   "outputs": [
    {
     "data": {
      "text/plain": [
       "1.967124212150062"
      ]
     },
     "execution_count": 29,
     "metadata": {},
     "output_type": "execute_result"
    }
   ],
   "source": [
    "sum(list(authors[\"author_id\"].value_counts()))/len(list(authors[\"author_id\"].value_counts()))"
   ]
  },
  {
   "cell_type": "code",
   "execution_count": 16,
   "id": "e350e17b",
   "metadata": {},
   "outputs": [
    {
     "name": "stdout",
     "output_type": "stream",
     "text": [
      "André Nel has written 156 articles\n",
      "Paweł Jałoszyński has written 140 articles\n",
      "Dariusz L. Szlachetko has written 125 articles\n",
      "Marta Kolanowska has written 122 articles\n",
      "Sergey G. Ermilov has written 122 articles\n",
      "Aidas Saldaitis has written 97 articles\n",
      "Miguel Vences has written 84 articles\n",
      "Robert Lücking has written 83 articles\n",
      "Harry Smit has written 76 articles\n",
      "Anton V. Volynkin has written 69 articles\n"
     ]
    }
   ],
   "source": [
    "for author_id in top_authors.index:\n",
    "    print(authors[authors[\"author_id\"]==author_id].iloc[0][\"author_display_name\"] + \\\n",
    "          \" has written \" + str(top_authors.loc[author_id]) + \" articles\")"
   ]
  },
  {
   "cell_type": "code",
   "execution_count": 25,
   "id": "d91fef3e",
   "metadata": {},
   "outputs": [
    {
     "data": {
      "text/plain": [
       "(array([7.0315e+04, 4.4400e+03, 2.3420e+03, 1.4350e+03, 9.3300e+02,\n",
       "        6.7500e+02, 4.9100e+02, 4.1000e+02, 2.8100e+02, 2.3600e+02,\n",
       "        2.0900e+02, 1.5400e+02, 1.4800e+02, 1.1800e+02, 9.7000e+01,\n",
       "        8.3000e+01, 6.8000e+01, 5.4000e+01, 6.4000e+01, 4.3000e+01,\n",
       "        4.0000e+01, 2.6000e+01, 3.6000e+01, 2.4000e+01, 2.3000e+01,\n",
       "        1.8000e+01, 1.8000e+01, 1.3000e+01, 1.2000e+01, 1.5000e+01,\n",
       "        2.1000e+01, 8.0000e+00, 1.4000e+01, 1.2000e+01, 4.0000e+00,\n",
       "        6.0000e+00, 8.0000e+00, 9.0000e+00, 7.0000e+00, 4.0000e+00,\n",
       "        4.0000e+00, 4.0000e+00, 3.0000e+00, 1.0000e+00, 5.0000e+00,\n",
       "        5.0000e+00, 2.0000e+00, 1.0000e+00, 4.0000e+00, 1.0000e+00,\n",
       "        2.0000e+00, 5.0000e+00, 1.0000e+00, 1.0000e+00, 3.0000e+00,\n",
       "        0.0000e+00, 2.0000e+00, 1.0000e+00, 4.0000e+00, 3.0000e+00,\n",
       "        1.0000e+00, 0.0000e+00, 0.0000e+00, 1.0000e+00, 1.0000e+00,\n",
       "        1.0000e+00, 0.0000e+00, 0.0000e+00, 0.0000e+00, 0.0000e+00,\n",
       "        0.0000e+00, 0.0000e+00, 1.0000e+00, 0.0000e+00, 0.0000e+00,\n",
       "        0.0000e+00, 0.0000e+00, 0.0000e+00, 0.0000e+00, 1.0000e+00,\n",
       "        1.0000e+00, 0.0000e+00, 0.0000e+00, 0.0000e+00, 0.0000e+00,\n",
       "        0.0000e+00, 0.0000e+00, 0.0000e+00, 0.0000e+00, 0.0000e+00,\n",
       "        0.0000e+00, 0.0000e+00, 1.0000e+00, 0.0000e+00, 0.0000e+00,\n",
       "        0.0000e+00, 0.0000e+00, 0.0000e+00, 0.0000e+00, 0.0000e+00,\n",
       "        0.0000e+00, 0.0000e+00, 0.0000e+00, 0.0000e+00, 0.0000e+00,\n",
       "        0.0000e+00, 0.0000e+00, 0.0000e+00, 0.0000e+00, 0.0000e+00,\n",
       "        0.0000e+00, 0.0000e+00, 0.0000e+00, 0.0000e+00, 0.0000e+00,\n",
       "        0.0000e+00, 0.0000e+00, 2.0000e+00, 0.0000e+00, 1.0000e+00,\n",
       "        0.0000e+00, 0.0000e+00, 0.0000e+00, 0.0000e+00, 0.0000e+00,\n",
       "        0.0000e+00, 0.0000e+00, 0.0000e+00, 0.0000e+00, 0.0000e+00,\n",
       "        0.0000e+00, 0.0000e+00, 0.0000e+00, 0.0000e+00, 1.0000e+00,\n",
       "        0.0000e+00, 0.0000e+00, 0.0000e+00, 0.0000e+00, 0.0000e+00,\n",
       "        0.0000e+00, 0.0000e+00, 0.0000e+00, 0.0000e+00, 0.0000e+00,\n",
       "        0.0000e+00, 0.0000e+00, 0.0000e+00, 0.0000e+00, 1.0000e+00]),\n",
       " array([  1.        ,   2.03333333,   3.06666667,   4.1       ,\n",
       "          5.13333333,   6.16666667,   7.2       ,   8.23333333,\n",
       "          9.26666667,  10.3       ,  11.33333333,  12.36666667,\n",
       "         13.4       ,  14.43333333,  15.46666667,  16.5       ,\n",
       "         17.53333333,  18.56666667,  19.6       ,  20.63333333,\n",
       "         21.66666667,  22.7       ,  23.73333333,  24.76666667,\n",
       "         25.8       ,  26.83333333,  27.86666667,  28.9       ,\n",
       "         29.93333333,  30.96666667,  32.        ,  33.03333333,\n",
       "         34.06666667,  35.1       ,  36.13333333,  37.16666667,\n",
       "         38.2       ,  39.23333333,  40.26666667,  41.3       ,\n",
       "         42.33333333,  43.36666667,  44.4       ,  45.43333333,\n",
       "         46.46666667,  47.5       ,  48.53333333,  49.56666667,\n",
       "         50.6       ,  51.63333333,  52.66666667,  53.7       ,\n",
       "         54.73333333,  55.76666667,  56.8       ,  57.83333333,\n",
       "         58.86666667,  59.9       ,  60.93333333,  61.96666667,\n",
       "         63.        ,  64.03333333,  65.06666667,  66.1       ,\n",
       "         67.13333333,  68.16666667,  69.2       ,  70.23333333,\n",
       "         71.26666667,  72.3       ,  73.33333333,  74.36666667,\n",
       "         75.4       ,  76.43333333,  77.46666667,  78.5       ,\n",
       "         79.53333333,  80.56666667,  81.6       ,  82.63333333,\n",
       "         83.66666667,  84.7       ,  85.73333333,  86.76666667,\n",
       "         87.8       ,  88.83333333,  89.86666667,  90.9       ,\n",
       "         91.93333333,  92.96666667,  94.        ,  95.03333333,\n",
       "         96.06666667,  97.1       ,  98.13333333,  99.16666667,\n",
       "        100.2       , 101.23333333, 102.26666667, 103.3       ,\n",
       "        104.33333333, 105.36666667, 106.4       , 107.43333333,\n",
       "        108.46666667, 109.5       , 110.53333333, 111.56666667,\n",
       "        112.6       , 113.63333333, 114.66666667, 115.7       ,\n",
       "        116.73333333, 117.76666667, 118.8       , 119.83333333,\n",
       "        120.86666667, 121.9       , 122.93333333, 123.96666667,\n",
       "        125.        , 126.03333333, 127.06666667, 128.1       ,\n",
       "        129.13333333, 130.16666667, 131.2       , 132.23333333,\n",
       "        133.26666667, 134.3       , 135.33333333, 136.36666667,\n",
       "        137.4       , 138.43333333, 139.46666667, 140.5       ,\n",
       "        141.53333333, 142.56666667, 143.6       , 144.63333333,\n",
       "        145.66666667, 146.7       , 147.73333333, 148.76666667,\n",
       "        149.8       , 150.83333333, 151.86666667, 152.9       ,\n",
       "        153.93333333, 154.96666667, 156.        ]),\n",
       " <BarContainer object of 150 artists>)"
      ]
     },
     "execution_count": 25,
     "metadata": {},
     "output_type": "execute_result"
    },
    {
     "data": {
      "image/png": "[encoded data removed]",
      "text/plain": [
       "<Figure size 640x480 with 1 Axes>"
      ]
     },
     "metadata": {},
     "output_type": "display_data"
    }
   ],
   "source": [
    "plt.xlim(1,30)\n",
    "plt.hist(authors[\"author_id\"].value_counts(), bins=150)"
   ]
  },
  {
   "cell_type": "code",
   "execution_count": null,
   "id": "984adbfa",
   "metadata": {},
   "outputs": [],
   "source": []
  },
  {
   "cell_type": "markdown",
   "id": "47b96cec",
   "metadata": {},
   "source": [
    "## 6. ORCID and Open Access percentages"
   ]
  },
  {
   "cell_type": "code",
   "execution_count": 25,
   "id": "03fb1805",
   "metadata": {},
   "outputs": [
    {
     "data": {
      "text/plain": [
       "0        https://orcid.org/0000-0002-1018-9316\n",
       "1                                         None\n",
       "2        https://orcid.org/0000-0001-7270-3168\n",
       "3        https://orcid.org/0000-0002-2937-735X\n",
       "4        https://orcid.org/0000-0001-5107-1472\n",
       "                         ...                  \n",
       "46909    https://orcid.org/0000-0002-1948-2367\n",
       "46910    https://orcid.org/0000-0003-0784-6765\n",
       "46911                                       {}\n",
       "46912    https://orcid.org/0000-0003-2736-8094\n",
       "46913    https://orcid.org/0000-0002-0134-5196\n",
       "Name: author_orcid, Length: 46914, dtype: object"
      ]
     },
     "execution_count": 25,
     "metadata": {},
     "output_type": "execute_result"
    }
   ],
   "source": [
    "# total percentage of authors with ORCID\n",
    "eu_disamb_authors[\"author_orcid\"]"
   ]
  },
  {
   "cell_type": "code",
   "execution_count": 32,
   "id": "e6138bb3",
   "metadata": {},
   "outputs": [
    {
     "name": "stdout",
     "output_type": "stream",
     "text": [
      "Percentage of authors with an ORCID: 63.00251524065311\n"
     ]
    }
   ],
   "source": [
    "orcid = 0\n",
    "no_orcid = 0\n",
    "\n",
    "for x in eu_disamb_authors[\"author_orcid\"]:\n",
    "    if isinstance(x, str):\n",
    "        if x.split(\".org/\")[0] == \"https://orcid\":\n",
    "            orcid += 1\n",
    "        \"\"\" # checking if there are ORCIDs in lists didn't change the results\n",
    "        elif isinstance(x, tuple) or isinstance(x, set) or isinstance(x, list):\n",
    "            if isinstance(x[0], str):\n",
    "                if x[0].split(\".org/\")[0] == \"https://orcid\":\n",
    "                    orcid += 1\n",
    "                else:\n",
    "                    no_oricd += 1\n",
    "            else:\n",
    "                no_orcid += 1\n",
    "        \"\"\"\n",
    "        else:\n",
    "            no_orcid += 1\n",
    "    else:\n",
    "        no_orcid += 1\n",
    "        \n",
    "print(\"Percentage of authors with an ORCID: \" + str(orcid/(no_orcid+orcid)*100))"
   ]
  },
  {
   "cell_type": "code",
   "execution_count": 45,
   "id": "11ebfcaa",
   "metadata": {},
   "outputs": [],
   "source": [
    "articles = pd.read_pickle(\"../data/processed/european_taxonomic_articles_with_subjects.pkl\")"
   ]
  },
  {
   "cell_type": "code",
   "execution_count": 46,
   "id": "36b5b55e",
   "metadata": {},
   "outputs": [
    {
     "name": "stdout",
     "output_type": "stream",
     "text": [
      "Percentage of European articles that are Open Access: 45.265431733443805\n"
     ]
    }
   ],
   "source": [
    "print(\"Percentage of European articles that are Open Access: \" + \\\n",
    "      str(articles[\"oa_is_oa\"].value_counts()[0]/(articles[\"oa_is_oa\"].value_counts()[0]+articles[\"oa_is_oa\"].value_counts()[1])*100))"
   ]
  },
  {
   "cell_type": "code",
   "execution_count": null,
   "id": "86880c08",
   "metadata": {},
   "outputs": [],
   "source": [
    "print(\"Percentage of European articles that are Open Access: \" + \\\n",
    "      str(articles[\"oa_is_oa\"].value_counts()[0]/(articles[\"oa_is_oa\"].value_counts()[0]+articles[\"oa_is_oa\"].value_counts()[1])*100))"
   ]
  },
  {
   "cell_type": "code",
   "execution_count": 47,
   "id": "d4cc93f8",
   "metadata": {},
   "outputs": [
    {
     "data": {
      "text/plain": [
       "Index(['id', 'doi', 'title', 'display_name', 'publication_year',\n",
       "       'publication_date', 'ids', 'language', 'primary_location', 'type',\n",
       "       'type_crossref', 'open_access', 'authorships',\n",
       "       'countries_distinct_count', 'institutions_distinct_count',\n",
       "       'corresponding_author_ids', 'corresponding_institution_ids', 'apc_list',\n",
       "       'apc_paid', 'cited_by_count', 'biblio', 'is_retracted', 'is_paratext',\n",
       "       'concepts', 'mesh', 'locations_count', 'locations', 'best_oa_location',\n",
       "       'sustainable_development_goals', 'grants', 'referenced_works_count',\n",
       "       'referenced_works', 'related_works', 'ngrams_url',\n",
       "       'abstract_inverted_index', 'cited_by_api_url', 'counts_by_year',\n",
       "       'updated_date', 'created_date', 'is_authors_truncated',\n",
       "       'location_is_oa', 'location_landing_page_url', 'location_pdf_url',\n",
       "       'location_source', 'location_license', 'location_version',\n",
       "       'location_is_accepted', 'location_is_published', 'source_id',\n",
       "       'source_display_name', 'source_issn_l', 'source_issn', 'source_is_oa',\n",
       "       'source_is_in_doaj', 'source_host_organization',\n",
       "       'source_host_organization_name', 'source_host_organization_lineage',\n",
       "       'source_host_organization_lineage_names', 'source_type', 'oa_is_oa',\n",
       "       'oa_oa_status', 'oa_oa_url', 'oa_any_repository_has_fulltext',\n",
       "       'abstract_full_text', 'species_subject'],\n",
       "      dtype='object')"
      ]
     },
     "execution_count": 47,
     "metadata": {},
     "output_type": "execute_result"
    }
   ],
   "source": [
    "articles.columns"
   ]
  },
  {
   "cell_type": "code",
   "execution_count": 48,
   "id": "e8564471",
   "metadata": {},
   "outputs": [],
   "source": [
    "def species_to_tree(df, backbone):\n",
    "    # make dictionary of genus, family, order, class, phylum, kingdom for every species\n",
    "    seen_species = {}\n",
    "\n",
    "    for species in backbone.itertuples():\n",
    "        if species.canonicalName not in seen_species:\n",
    "            seen_species[species.canonicalName] = list(species)[2:]\n",
    "    \n",
    "    # associate the full tree with a certain author or article\n",
    "    genera, families, orders, classes, phyla, kingdoms, lineages = [], [], [], [], [], [], []\n",
    "\n",
    "    for row in df.itertuples():\n",
    "        genus, family, order, tclass, phylum, kingdom, lineage = [], [], [], [], [], [], []\n",
    "                            # python won't allow class as a variable name\n",
    "\n",
    "        for species in row.species_subject:\n",
    "            if species in seen_species:\n",
    "                genus.append(seen_species[species][-1])\n",
    "                family.append(seen_species[species][-2])\n",
    "                order.append(seen_species[species][-3])\n",
    "                tclass.append(seen_species[species][-4])\n",
    "                phylum.append(seen_species[species][-5])\n",
    "                kingdom.append(seen_species[species][-6])\n",
    "                \n",
    "                lineage.append(seen_species[species][-6:])\n",
    "\n",
    "        genera.append(set(genus))\n",
    "        families.append(set(family))\n",
    "        orders.append(set(order))\n",
    "        classes.append(set(tclass))\n",
    "        phyla.append(set(phylum))\n",
    "        kingdoms.append(set(kingdom))\n",
    "        lineages.append(lineage)\n",
    "\n",
    "    df[\"genera_subjects\"] = genera\n",
    "    df[\"families_subjects\"] = families\n",
    "    df[\"orders_subjects\"] = orders\n",
    "    df[\"classes_subjects\"] = classes\n",
    "    df[\"phyla_subjects\"] = phyla\n",
    "    df[\"kingdoms_subjects\"] = kingdoms\n",
    "    df[\"lineages_subjects\"] = lineages\n",
    "    \n",
    "    return df"
   ]
  },
  {
   "cell_type": "code",
   "execution_count": 51,
   "id": "fa9867f3",
   "metadata": {},
   "outputs": [],
   "source": [
    "def preprocess_backbone(path=\"../data/external/backbone/Taxon.tsv\", no_blanks=False):\n",
    "    # GBIF taxonomic bakcbone\n",
    "    backbone = pd.read_csv(path, sep=\"\\t\", on_bad_lines='skip')\n",
    "\n",
    "    # only Eukarya\n",
    "    backbone = backbone[(backbone[\"kingdom\"]==\"Animalia\") | \n",
    "                        (backbone[\"kingdom\"]==\"Plantae\") |\n",
    "                        (backbone[\"kingdom\"]==\"Fungi\")]\n",
    "    # include non-accepted species (synonyms etc), but not blank canonical names \n",
    "    backbone = backbone[np.logical_not(backbone[\"canonicalName\"].isnull())].reset_index(drop=True)\n",
    "    \n",
    "    if no_blanks:\n",
    "        backbone = backbone[np.logical_not(backbone[\"genus\"].isnull())].reset_index(drop=True)\n",
    "        backbone = backbone[np.logical_not(backbone[\"family\"].isnull())].reset_index(drop=True)\n",
    "        backbone = backbone[np.logical_not(backbone[\"order\"].isnull())].reset_index(drop=True)\n",
    "        backbone = backbone[np.logical_not(backbone[\"class\"].isnull())].reset_index(drop=True)\n",
    "        backbone = backbone[np.logical_not(backbone[\"phylum\"].isnull())].reset_index(drop=True)\n",
    "        backbone = backbone[np.logical_not(backbone[\"kingdom\"].isnull())].reset_index(drop=True)\n",
    "\n",
    "    backbone = backbone.drop_duplicates(ignore_index=True)\n",
    "    return backbone"
   ]
  },
  {
   "cell_type": "code",
   "execution_count": 53,
   "id": "e6f9e856",
   "metadata": {},
   "outputs": [],
   "source": [
    "import numpy as np"
   ]
  },
  {
   "cell_type": "code",
   "execution_count": 54,
   "id": "32d41862",
   "metadata": {},
   "outputs": [
    {
     "name": "stderr",
     "output_type": "stream",
     "text": [
      "C:\\Users\\melanie\\AppData\\Local\\Temp\\ipykernel_26352\\2167225142.py:3: DtypeWarning: Columns (9,10,16,21,22) have mixed types. Specify dtype option on import or set low_memory=False.\n",
      "  backbone = pd.read_csv(path, sep=\"\\t\", on_bad_lines='skip')\n"
     ]
    }
   ],
   "source": [
    "backbone = preprocess_backbone()"
   ]
  },
  {
   "cell_type": "code",
   "execution_count": 55,
   "id": "c32924a4",
   "metadata": {},
   "outputs": [],
   "source": [
    "articles2 = species_to_tree(articles, backbone)"
   ]
  },
  {
   "cell_type": "code",
   "execution_count": 58,
   "id": "c183bff9",
   "metadata": {},
   "outputs": [],
   "source": [
    "plants_open = 0\n",
    "plants_closed = 0\n",
    "\n",
    "animals_open = 0\n",
    "animals_closed = 0\n",
    "\n",
    "fungi_open = 0\n",
    "fungi_closed = 0\n",
    "\n",
    "for row in articles2.itertuples():\n",
    "    if \"Plantae\" in row.kingdoms_subjects:\n",
    "        if row.oa_is_oa:\n",
    "            plants_open += 1\n",
    "        else:\n",
    "            plants_closed += 1\n",
    "            \n",
    "    if \"Animalia\" in row.kingdoms_subjects:\n",
    "        if row.oa_is_oa:\n",
    "            animals_open += 1\n",
    "        else:\n",
    "            animals_closed += 1\n",
    "            \n",
    "    if \"Fungi\" in row.kingdoms_subjects:\n",
    "        if row.oa_is_oa:\n",
    "            fungi_open += 1\n",
    "        else:\n",
    "            fungi_closed += 1"
   ]
  },
  {
   "cell_type": "code",
   "execution_count": 74,
   "id": "97aab46b",
   "metadata": {},
   "outputs": [
    {
     "name": "stdout",
     "output_type": "stream",
     "text": [
      "Percentage of articles about plants that are open access: 51.49136577708007\n",
      "Percentage of articles about animals that are open access: 47.92372257399499\n",
      "Percentage of articles about fungi that are open access: 56.95006747638327\n"
     ]
    }
   ],
   "source": [
    "print(\"Percentage of articles about plants that are open access: \" + \\\n",
    "      str(plants_open/(plants_open+plants_closed)*100))\n",
    "print(\"Percentage of articles about animals that are open access: \" + \\\n",
    "      str(animals_open/(animals_open+animals_closed)*100))\n",
    "print(\"Percentage of articles about fungi that are open access: \" + \\\n",
    "      str(fungi_open/(fungi_open+fungi_closed)*100))"
   ]
  }
 ],
 "metadata": {
  "kernelspec": {
   "display_name": "Python 3 (ipykernel)",
   "language": "python",
   "name": "python3"
  },
  "language_info": {
   "codemirror_mode": {
    "name": "ipython",
    "version": 3
   },
   "file_extension": ".py",
   "mimetype": "text/x-python",
   "name": "python",
   "nbconvert_exporter": "python",
   "pygments_lexer": "ipython3",
   "version": "3.9.18"
  }
 },
 "nbformat": 4,
 "nbformat_minor": 5
}
