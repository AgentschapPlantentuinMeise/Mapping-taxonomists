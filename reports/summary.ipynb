{
 "cells": [
  {
   "cell_type": "markdown",
   "id": "26e36e21",
   "metadata": {},
   "source": [
    "# Counting results"
   ]
  },
  {
   "cell_type": "code",
   "execution_count": null,
   "id": "7eb4aa07",
   "metadata": {},
   "outputs": [],
   "source": [
    "import pandas as pd\n",
    "from matplotlib_venn import venn3\n",
    "from matplotlib import pyplot as plt"
   ]
  },
  {
   "cell_type": "markdown",
   "id": "97e17f6c",
   "metadata": {},
   "source": [
    "## 1. Journals"
   ]
  },
  {
   "cell_type": "markdown",
   "id": "9058680a",
   "metadata": {},
   "source": [
    "Taxonomic journals:\n",
    "- with title\n",
    "- found on wikidata (each method)\n",
    "- found on OpenAlex\n",
    "- total\n",
    "- still publishing in the last 10 years\n",
    "- dissolved (confirmed)\n",
    "- with ISSN-L\n",
    "- with IPNI publication ID\n",
    "- with ZooBank publication ID\n",
    "- with OpenAlex ID"
   ]
  },
  {
   "cell_type": "code",
   "execution_count": null,
   "id": "b800bac2",
   "metadata": {},
   "outputs": [],
   "source": [
    "journals = pd.read_csv(\"../data/processed/journals_deduplicated.csv\")\n",
    "journals.head()"
   ]
  },
  {
   "cell_type": "code",
   "execution_count": null,
   "id": "a8eeaafd",
   "metadata": {},
   "outputs": [],
   "source": [
    "print(\"Number of journals: \" + str(len(journals)))\n",
    "print(\"Number of journals with known title: \"+\\\n",
    "      str(len([x for x in journals[\"title\"] if x == x])))"
   ]
  },
  {
   "cell_type": "code",
   "execution_count": null,
   "id": "7c0d20b2-faf4-4930-81d1-452cbd75ff49",
   "metadata": {},
   "outputs": [],
   "source": [
    "table = pd.DataFrame({\"name\":[\"Taxonomic journals with title\",\n",
    "                             \"Journals with Wikidata ID\",\n",
    "                             \"Journals with ISSN-L\",\n",
    "                             \"Journals with IPNI Publication ID in Wikidata\",\n",
    "                             \"Journals with ZooBank Publication ID in Wikidata\",\n",
    "                             \"Journals with OpenAlex ID\",\n",
    "                            # union of OpenAlex ID and IPNI etc\n",
    "                             \"Journals with useful taxonomic journals\"],\n",
    "                      \"value\":[0,0,0,0,0,0,0,0,0]})\n",
    "\n",
    "#table = table.set_index(\"name\")\n",
    "table"
   ]
  },
  {
   "cell_type": "code",
   "execution_count": null,
   "id": "d9fd9ebd-a6ee-45f7-9012-8cd1b234f13c",
   "metadata": {},
   "outputs": [],
   "source": [
    "table.loc[0,\"value\"] = str(len([x for x in journals[\"title\"] if x == x]))"
   ]
  },
  {
   "cell_type": "code",
   "execution_count": null,
   "id": "748706ce-e53b-4fc5-bba7-26b10adf0f03",
   "metadata": {},
   "outputs": [],
   "source": [
    "table"
   ]
  },
  {
   "cell_type": "code",
   "execution_count": null,
   "id": "3ff79991",
   "metadata": {},
   "outputs": [],
   "source": [
    "for i, column in enumerate(journals.columns[1:6]):\n",
    "    print(\"Number of journals with \" + column + \": \"+\\\n",
    "          str(len([x for x in journals[column] if x == x])))\n",
    "    table.loc[i+1, \"value\"] = str(len([x for x in journals[column] if x == x]))"
   ]
  },
  {
   "cell_type": "code",
   "execution_count": null,
   "id": "f7138511-cfda-4606-ad77-13bfe04cf56e",
   "metadata": {},
   "outputs": [],
   "source": [
    "table"
   ]
  },
  {
   "cell_type": "code",
   "execution_count": null,
   "id": "ced81066",
   "metadata": {},
   "outputs": [],
   "source": [
    "print(\"Journals that were dissolved (confirmed): \")\n",
    "journals[\"dissolved\"].value_counts()"
   ]
  },
  {
   "cell_type": "code",
   "execution_count": null,
   "id": "aa63c728-f97f-4f6b-b86e-49aeeea8a9a1",
   "metadata": {},
   "outputs": [],
   "source": [
    "table.loc[6,\"value\"] = str(len([x for x in journals[\"dissolved\"] if x == True]))\n",
    "table.loc[7,\"value\"] = str(len([x for x in journals[\"dissolved\"] if x == False]))"
   ]
  },
  {
   "cell_type": "code",
   "execution_count": null,
   "id": "d057a148-bfc2-4c59-9964-df37ba7d613c",
   "metadata": {},
   "outputs": [],
   "source": [
    "table # ctrl + click to select cells to copy"
   ]
  },
  {
   "cell_type": "code",
   "execution_count": null,
   "id": "cdea3ecc",
   "metadata": {},
   "outputs": [],
   "source": [
    "articles = pd.read_pickle(\"../data/interim/filtered_articles.pkl\")\n",
    "articles.head()"
   ]
  },
  {
   "cell_type": "code",
   "execution_count": null,
   "id": "ee7e0afe",
   "metadata": {},
   "outputs": [],
   "source": [
    "print(\"Number of journals that contained relevant (i.e. taxonomic) articles: \" + \\\n",
    "      str(len(set(articles[\"source_id\"]))))"
   ]
  },
  {
   "cell_type": "code",
   "execution_count": null,
   "id": "a78bd302",
   "metadata": {},
   "outputs": [],
   "source": [
    "# Venn diagram\n",
    "ipnizoo = set(journals[journals[\"source\"]==\"IPNI or ZooBank ID\"][\"title\"])\n",
    "openalex = set(journals[journals[\"source\"]==\"OpenAlex taxonomy concept\"][\"title\"])\n",
    "wikisubjects = set(journals[journals[\"source\"]==\"Wikidata taxonomic subject\"][\"title\"])\n",
    "\n",
    "venn3([ipnizoo, openalex, wikisubjects], (\"IPNI/ZooBank ID\", \"OpenAlex\", \"Wikidata subjects\"))\n",
    "plt.title(\"Unique journals per source\", fontsize=15)"
   ]
  },
  {
   "cell_type": "markdown",
   "id": "94ae5789",
   "metadata": {},
   "source": [
    "## 2. Articles\n",
    "\n",
    "- total number\n",
    "- number with at least one European author"
   ]
  },
  {
   "cell_type": "code",
   "execution_count": null,
   "id": "1cd4553a",
   "metadata": {},
   "outputs": [],
   "source": [
    "print(\"Number of articles related to taxonomy: \" + str(len(set(articles[\"id\"]))))"
   ]
  },
  {
   "cell_type": "code",
   "execution_count": null,
   "id": "25aa43c4",
   "metadata": {},
   "outputs": [],
   "source": [
    "eu_articles = pd.read_pickle(\"../data/interim/filtered_articles.pkl\")"
   ]
  },
  {
   "cell_type": "code",
   "execution_count": null,
   "id": "3a18af0b",
   "metadata": {},
   "outputs": [],
   "source": [
    "print(\"Number of articles related to taxonomy with at least one European author: \" +\\\n",
    "      str(len(set(eu_articles[\"id\"]))))"
   ]
  },
  {
   "cell_type": "markdown",
   "id": "310cfe32",
   "metadata": {},
   "source": [
    "## 3. Authors"
   ]
  },
  {
   "cell_type": "code",
   "execution_count": null,
   "id": "709caff1",
   "metadata": {},
   "outputs": [],
   "source": [
    "eu_authors = pd.read_csv(\"../data/processed/country_taxonomic_authors_no_duplicates.tsv\", sep=\"\\t\")"
   ]
  },
  {
   "cell_type": "code",
   "execution_count": null,
   "id": "cc488f4d",
   "metadata": {},
   "outputs": [],
   "source": [
    "print(\"Number of European authors before disambiguation: \"+\\\n",
    "      str(len(eu_authors)))"
   ]
  },
  {
   "cell_type": "code",
   "execution_count": null,
   "id": "d2ce556d",
   "metadata": {},
   "outputs": [],
   "source": [
    "eu_disamb_authors = pd.read_pickle(\"../data/processed/authors_disambiguated_truncated.pkl\")"
   ]
  },
  {
   "cell_type": "code",
   "execution_count": null,
   "id": "58e8e5b0",
   "metadata": {},
   "outputs": [],
   "source": [
    "print(\"Number of European authors after disambiguation: \"+\\\n",
    "      str(len(eu_disamb_authors)))"
   ]
  },
  {
   "cell_type": "code",
   "execution_count": null,
   "id": "ce4ec948",
   "metadata": {},
   "outputs": [],
   "source": [
    "print(\"Number of European institutions publishing taxonomic articles: \"+\\\n",
    "      str(len(set(eu_disamb_authors[\"inst_id\"]))))"
   ]
  },
  {
   "cell_type": "code",
   "execution_count": null,
   "id": "871b1a66",
   "metadata": {},
   "outputs": [],
   "source": [
    "len(set(eu_authors[eu_authors[\"inst_country_code\"]==\"BE\"][\"inst_display_name\"]))"
   ]
  },
  {
   "cell_type": "code",
   "execution_count": null,
   "id": "05143e8d",
   "metadata": {},
   "outputs": [],
   "source": [
    "eu_authors.columns"
   ]
  },
  {
   "cell_type": "markdown",
   "id": "936b71bb",
   "metadata": {},
   "source": [
    "## 4. Taxonomy"
   ]
  },
  {
   "cell_type": "markdown",
   "id": "d46c57ee",
   "metadata": {},
   "source": [
    "Total number of families within Plantae:\n",
    "Total number of families within Animalia:\n",
    "Total number of families within Fungi:\n",
    "Total number of families within Protists:\n",
    "…. See similar figure here: https://data-blog.gbif.org/post/gbif-backbone-taxonomy/"
   ]
  },
  {
   "cell_type": "code",
   "execution_count": null,
   "id": "1703bdfc",
   "metadata": {},
   "outputs": [],
   "source": [
    "# supply and demand order save?\n",
    "authors_tree = pd.read_pickle(\"../data/processed/authors_disambiguated_truncated.pkl\")"
   ]
  },
  {
   "cell_type": "code",
   "execution_count": null,
   "id": "bd8da455-572d-4942-9c97-a434dd5566d4",
   "metadata": {},
   "outputs": [],
   "source": [
    "authors2 = pd.read_pickle(\"../data/interim/country_taxonomic_authors_no_duplicates.pkl\")"
   ]
  },
  {
   "cell_type": "code",
   "execution_count": null,
   "id": "f208fff3-2bee-4dc2-99c6-8e72446af975",
   "metadata": {},
   "outputs": [],
   "source": [
    "authors2.head()"
   ]
  },
  {
   "cell_type": "code",
   "execution_count": null,
   "id": "0ffba49e-62bc-48da-aeb7-a4f2aedd4be0",
   "metadata": {},
   "outputs": [],
   "source": [
    "authors_tree.head()"
   ]
  },
  {
   "cell_type": "code",
   "execution_count": null,
   "id": "13fdf53c",
   "metadata": {},
   "outputs": [],
   "source": [
    "def get_number_families(kingdom_name):\n",
    "    kingdom = []\n",
    "\n",
    "    for author in authors_tree.itertuples():\n",
    "        if kingdom_name in author.kingdoms_subjects:\n",
    "            kingdom.append(author)\n",
    "            \n",
    "    kingdom_df = pd.DataFrame(kingdom)\n",
    "    \n",
    "    families = []\n",
    "    \n",
    "    for author in kingdom_df.itertuples():\n",
    "        for family in author.families_subjects:\n",
    "            families.append(family)\n",
    "            \n",
    "    return len(set(families))"
   ]
  },
  {
   "cell_type": "code",
   "execution_count": null,
   "id": "a803a2a9",
   "metadata": {},
   "outputs": [],
   "source": [
    "print(\"Number of plant families in data: \" + str(get_number_families(\"Plantae\")))\n",
    "print(\"Number of animal families in data: \" + str(get_number_families(\"Animalia\")))\n",
    "print(\"Number of fungal families in data: \" + str(get_number_families(\"Fungi\")))\n",
    "# no protists in data"
   ]
  },
  {
   "cell_type": "markdown",
   "id": "df131d7c",
   "metadata": {},
   "source": [
    "## 5. Most prolific authors"
   ]
  },
  {
   "cell_type": "code",
   "execution_count": null,
   "id": "4cc133f9",
   "metadata": {},
   "outputs": [],
   "source": [
    "authors = pd.read_pickle(\"../data/interim/all_authors_of_european_taxonomic_articles.pkl\")"
   ]
  },
  {
   "cell_type": "code",
   "execution_count": null,
   "id": "124a31a6",
   "metadata": {},
   "outputs": [],
   "source": []
  },
  {
   "cell_type": "code",
   "execution_count": null,
   "id": "81332f7a",
   "metadata": {},
   "outputs": [],
   "source": [
    "top_authors = authors[\"author_id\"].value_counts()[0:10]"
   ]
  },
  {
   "cell_type": "code",
   "execution_count": null,
   "id": "b91b4510",
   "metadata": {},
   "outputs": [],
   "source": [
    "authors.columns"
   ]
  },
  {
   "cell_type": "code",
   "execution_count": null,
   "id": "35c244f3",
   "metadata": {},
   "outputs": [],
   "source": [
    "sum(list(authors[\"author_id\"].value_counts()))/len(list(authors[\"author_id\"].value_counts()))"
   ]
  },
  {
   "cell_type": "code",
   "execution_count": null,
   "id": "e350e17b",
   "metadata": {},
   "outputs": [],
   "source": [
    "for author_id in top_authors.index:\n",
    "    print(authors[authors[\"author_id\"]==author_id].iloc[0][\"author_display_name\"] + \\\n",
    "          \" has written \" + str(top_authors.loc[author_id]) + \" articles\")"
   ]
  },
  {
   "cell_type": "code",
   "execution_count": null,
   "id": "d91fef3e",
   "metadata": {},
   "outputs": [],
   "source": [
    "plt.xlim(1,30)\n",
    "plt.hist(authors[\"author_id\"].value_counts(), bins=150)"
   ]
  },
  {
   "cell_type": "code",
   "execution_count": null,
   "id": "984adbfa",
   "metadata": {},
   "outputs": [],
   "source": []
  },
  {
   "cell_type": "markdown",
   "id": "47b96cec",
   "metadata": {},
   "source": [
    "## 6. ORCID and Open Access percentages"
   ]
  },
  {
   "cell_type": "code",
   "execution_count": null,
   "id": "03fb1805",
   "metadata": {},
   "outputs": [],
   "source": [
    "# total percentage of authors with ORCID\n",
    "eu_disamb_authors[\"author_orcid\"]"
   ]
  },
  {
   "cell_type": "code",
   "execution_count": null,
   "id": "e6138bb3",
   "metadata": {},
   "outputs": [],
   "source": [
    "orcid = 0\n",
    "no_orcid = 0\n",
    "\n",
    "for x in eu_disamb_authors[\"author_orcid\"]:\n",
    "    if isinstance(x, str):\n",
    "        if x.split(\".org/\")[0] == \"https://orcid\":\n",
    "            orcid += 1\n",
    "        \"\"\" # checking if there are ORCIDs in lists didn't change the results\n",
    "        elif isinstance(x, tuple) or isinstance(x, set) or isinstance(x, list):\n",
    "            if isinstance(x[0], str):\n",
    "                if x[0].split(\".org/\")[0] == \"https://orcid\":\n",
    "                    orcid += 1\n",
    "                else:\n",
    "                    no_oricd += 1\n",
    "            else:\n",
    "                no_orcid += 1\n",
    "        \"\"\"\n",
    "        else:\n",
    "            no_orcid += 1\n",
    "    else:\n",
    "        no_orcid += 1\n",
    "        \n",
    "print(\"Percentage of authors with an ORCID: \" + str(orcid/(no_orcid+orcid)*100))"
   ]
  },
  {
   "cell_type": "code",
   "execution_count": null,
   "id": "11ebfcaa",
   "metadata": {},
   "outputs": [],
   "source": [
    "articles = pd.read_pickle(\"../data/processed/european_taxonomic_articles_with_subjects.pkl\")"
   ]
  },
  {
   "cell_type": "code",
   "execution_count": null,
   "id": "36b5b55e",
   "metadata": {},
   "outputs": [],
   "source": [
    "print(\"Percentage of European articles that are Open Access: \" + \\\n",
    "      str(articles[\"oa_is_oa\"].value_counts()[0]/(articles[\"oa_is_oa\"].value_counts()[0]+articles[\"oa_is_oa\"].value_counts()[1])*100))"
   ]
  },
  {
   "cell_type": "code",
   "execution_count": null,
   "id": "86880c08",
   "metadata": {},
   "outputs": [],
   "source": [
    "print(\"Percentage of European articles that are Open Access: \" + \\\n",
    "      str(articles[\"oa_is_oa\"].value_counts()[0]/(articles[\"oa_is_oa\"].value_counts()[0]+articles[\"oa_is_oa\"].value_counts()[1])*100))"
   ]
  },
  {
   "cell_type": "code",
   "execution_count": null,
   "id": "d4cc93f8",
   "metadata": {},
   "outputs": [],
   "source": [
    "articles.columns"
   ]
  },
  {
   "cell_type": "code",
   "execution_count": null,
   "id": "e8564471",
   "metadata": {},
   "outputs": [],
   "source": [
    "def species_to_tree(df, backbone):\n",
    "    # make dictionary of genus, family, order, class, phylum, kingdom for every species\n",
    "    seen_species = {}\n",
    "\n",
    "    for species in backbone.itertuples():\n",
    "        if species.canonicalName not in seen_species:\n",
    "            seen_species[species.canonicalName] = list(species)[2:]\n",
    "    \n",
    "    # associate the full tree with a certain author or article\n",
    "    genera, families, orders, classes, phyla, kingdoms, lineages = [], [], [], [], [], [], []\n",
    "\n",
    "    for row in df.itertuples():\n",
    "        genus, family, order, tclass, phylum, kingdom, lineage = [], [], [], [], [], [], []\n",
    "                            # python won't allow class as a variable name\n",
    "\n",
    "        for species in row.species_subject:\n",
    "            if species in seen_species:\n",
    "                genus.append(seen_species[species][-1])\n",
    "                family.append(seen_species[species][-2])\n",
    "                order.append(seen_species[species][-3])\n",
    "                tclass.append(seen_species[species][-4])\n",
    "                phylum.append(seen_species[species][-5])\n",
    "                kingdom.append(seen_species[species][-6])\n",
    "                \n",
    "                lineage.append(seen_species[species][-6:])\n",
    "\n",
    "        genera.append(set(genus))\n",
    "        families.append(set(family))\n",
    "        orders.append(set(order))\n",
    "        classes.append(set(tclass))\n",
    "        phyla.append(set(phylum))\n",
    "        kingdoms.append(set(kingdom))\n",
    "        lineages.append(lineage)\n",
    "\n",
    "    df[\"genera_subjects\"] = genera\n",
    "    df[\"families_subjects\"] = families\n",
    "    df[\"orders_subjects\"] = orders\n",
    "    df[\"classes_subjects\"] = classes\n",
    "    df[\"phyla_subjects\"] = phyla\n",
    "    df[\"kingdoms_subjects\"] = kingdoms\n",
    "    df[\"lineages_subjects\"] = lineages\n",
    "    \n",
    "    return df"
   ]
  },
  {
   "cell_type": "code",
   "execution_count": null,
   "id": "fa9867f3",
   "metadata": {},
   "outputs": [],
   "source": [
    "def preprocess_backbone(path=\"../data/external/backbone/Taxon.tsv\", no_blanks=False):\n",
    "    # GBIF taxonomic bakcbone\n",
    "    backbone = pd.read_csv(path, sep=\"\\t\", on_bad_lines='skip')\n",
    "\n",
    "    # only Eukarya\n",
    "    backbone = backbone[(backbone[\"kingdom\"]==\"Animalia\") | \n",
    "                        (backbone[\"kingdom\"]==\"Plantae\") |\n",
    "                        (backbone[\"kingdom\"]==\"Fungi\")]\n",
    "    # include non-accepted species (synonyms etc), but not blank canonical names \n",
    "    backbone = backbone[np.logical_not(backbone[\"canonicalName\"].isnull())].reset_index(drop=True)\n",
    "    \n",
    "    if no_blanks:\n",
    "        backbone = backbone[np.logical_not(backbone[\"genus\"].isnull())].reset_index(drop=True)\n",
    "        backbone = backbone[np.logical_not(backbone[\"family\"].isnull())].reset_index(drop=True)\n",
    "        backbone = backbone[np.logical_not(backbone[\"order\"].isnull())].reset_index(drop=True)\n",
    "        backbone = backbone[np.logical_not(backbone[\"class\"].isnull())].reset_index(drop=True)\n",
    "        backbone = backbone[np.logical_not(backbone[\"phylum\"].isnull())].reset_index(drop=True)\n",
    "        backbone = backbone[np.logical_not(backbone[\"kingdom\"].isnull())].reset_index(drop=True)\n",
    "\n",
    "    backbone = backbone.drop_duplicates(ignore_index=True)\n",
    "    return backbone"
   ]
  },
  {
   "cell_type": "code",
   "execution_count": null,
   "id": "e6f9e856",
   "metadata": {},
   "outputs": [],
   "source": [
    "import numpy as np"
   ]
  },
  {
   "cell_type": "code",
   "execution_count": null,
   "id": "32d41862",
   "metadata": {},
   "outputs": [],
   "source": [
    "backbone = preprocess_backbone()"
   ]
  },
  {
   "cell_type": "code",
   "execution_count": null,
   "id": "c32924a4",
   "metadata": {},
   "outputs": [],
   "source": [
    "articles2 = species_to_tree(articles, backbone)"
   ]
  },
  {
   "cell_type": "code",
   "execution_count": null,
   "id": "c183bff9",
   "metadata": {},
   "outputs": [],
   "source": [
    "plants_open = 0\n",
    "plants_closed = 0\n",
    "\n",
    "animals_open = 0\n",
    "animals_closed = 0\n",
    "\n",
    "fungi_open = 0\n",
    "fungi_closed = 0\n",
    "\n",
    "for row in articles2.itertuples():\n",
    "    if \"Plantae\" in row.kingdoms_subjects:\n",
    "        if row.oa_is_oa:\n",
    "            plants_open += 1\n",
    "        else:\n",
    "            plants_closed += 1\n",
    "            \n",
    "    if \"Animalia\" in row.kingdoms_subjects:\n",
    "        if row.oa_is_oa:\n",
    "            animals_open += 1\n",
    "        else:\n",
    "            animals_closed += 1\n",
    "            \n",
    "    if \"Fungi\" in row.kingdoms_subjects:\n",
    "        if row.oa_is_oa:\n",
    "            fungi_open += 1\n",
    "        else:\n",
    "            fungi_closed += 1"
   ]
  },
  {
   "cell_type": "code",
   "execution_count": null,
   "id": "97aab46b",
   "metadata": {},
   "outputs": [],
   "source": [
    "print(\"Percentage of articles about plants that are open access: \" + \\\n",
    "      str(plants_open/(plants_open+plants_closed)*100))\n",
    "print(\"Percentage of articles about animals that are open access: \" + \\\n",
    "      str(animals_open/(animals_open+animals_closed)*100))\n",
    "print(\"Percentage of articles about fungi that are open access: \" + \\\n",
    "      str(fungi_open/(fungi_open+fungi_closed)*100))"
   ]
  }
 ],
 "metadata": {
  "kernelspec": {
   "display_name": "Python 3 (ipykernel)",
   "language": "python",
   "name": "python3"
  },
  "language_info": {
   "codemirror_mode": {
    "name": "ipython",
    "version": 3
   },
   "file_extension": ".py",
   "mimetype": "text/x-python",
   "name": "python",
   "nbconvert_exporter": "python",
   "pygments_lexer": "ipython3",
   "version": "3.9.18"
  }
 },
 "nbformat": 4,
 "nbformat_minor": 5
}
