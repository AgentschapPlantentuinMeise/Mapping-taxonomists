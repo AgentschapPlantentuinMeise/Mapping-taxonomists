{
 "cells": [
  {
   "cell_type": "markdown",
   "id": "26e36e21",
   "metadata": {},
   "source": [
    "# Counting results"
   ]
  },
  {
   "cell_type": "code",
   "execution_count": 2,
   "id": "7eb4aa07",
   "metadata": {},
   "outputs": [],
   "source": [
    "import pandas as pd\n",
    "from matplotlib_venn import venn3\n",
    "from matplotlib import pyplot as plt"
   ]
  },
  {
   "cell_type": "markdown",
   "id": "1969da51-73e7-4a1d-83a2-91659169acb6",
   "metadata": {},
   "source": [
    "## Table in appendix"
   ]
  },
  {
   "cell_type": "code",
   "execution_count": 4,
   "id": "66bb7b4a-a7d6-403f-b231-fa235c0a7d5b",
   "metadata": {},
   "outputs": [
    {
     "data": {
      "text/html": [
       "<div>\n",
       "<style scoped>\n",
       "    .dataframe tbody tr th:only-of-type {\n",
       "        vertical-align: middle;\n",
       "    }\n",
       "\n",
       "    .dataframe tbody tr th {\n",
       "        vertical-align: top;\n",
       "    }\n",
       "\n",
       "    .dataframe thead th {\n",
       "        text-align: right;\n",
       "    }\n",
       "</style>\n",
       "<table border=\"1\" class=\"dataframe\">\n",
       "  <thead>\n",
       "    <tr style=\"text-align: right;\">\n",
       "      <th></th>\n",
       "      <th>title</th>\n",
       "      <th>wikidataURL</th>\n",
       "      <th>ISSN-L</th>\n",
       "      <th>openAlexID</th>\n",
       "      <th>dissolvedYear</th>\n",
       "      <th>dissolved</th>\n",
       "      <th>source</th>\n",
       "    </tr>\n",
       "  </thead>\n",
       "  <tbody>\n",
       "    <tr>\n",
       "      <th>0</th>\n",
       "      <td>Korean Journal of Plant Taxonomy</td>\n",
       "      <td>http://www.wikidata.org/entity/Q27714217</td>\n",
       "      <td>1225-8318</td>\n",
       "      <td>S4210202049</td>\n",
       "      <td>NaN</td>\n",
       "      <td>NaN</td>\n",
       "      <td>Wikidata taxonomic subject</td>\n",
       "    </tr>\n",
       "    <tr>\n",
       "      <th>1</th>\n",
       "      <td>Korean Journal of Plant Taxonomy</td>\n",
       "      <td>http://www.wikidata.org/entity/Q27714217</td>\n",
       "      <td>1225-8318</td>\n",
       "      <td>S4306495623</td>\n",
       "      <td>NaN</td>\n",
       "      <td>NaN</td>\n",
       "      <td>Wikidata taxonomic subject</td>\n",
       "    </tr>\n",
       "    <tr>\n",
       "      <th>2</th>\n",
       "      <td>Bulletin of Zoological Nomenclature</td>\n",
       "      <td>http://www.wikidata.org/entity/Q15759939</td>\n",
       "      <td>0007-5167</td>\n",
       "      <td>S2764437286</td>\n",
       "      <td>NaN</td>\n",
       "      <td>NaN</td>\n",
       "      <td>Wikidata taxonomic subject</td>\n",
       "    </tr>\n",
       "    <tr>\n",
       "      <th>3</th>\n",
       "      <td>Sherbornia</td>\n",
       "      <td>http://www.wikidata.org/entity/Q21386365</td>\n",
       "      <td>2373-7697</td>\n",
       "      <td>NaN</td>\n",
       "      <td>NaN</td>\n",
       "      <td>NaN</td>\n",
       "      <td>Wikidata taxonomic subject</td>\n",
       "    </tr>\n",
       "    <tr>\n",
       "      <th>4</th>\n",
       "      <td>European Journal of Taxonomy</td>\n",
       "      <td>http://www.wikidata.org/entity/Q21386186</td>\n",
       "      <td>2118-9773</td>\n",
       "      <td>S2764351231</td>\n",
       "      <td>NaN</td>\n",
       "      <td>NaN</td>\n",
       "      <td>Wikidata taxonomic subject</td>\n",
       "    </tr>\n",
       "  </tbody>\n",
       "</table>\n",
       "</div>"
      ],
      "text/plain": [
       "                                 title  \\\n",
       "0     Korean Journal of Plant Taxonomy   \n",
       "1     Korean Journal of Plant Taxonomy   \n",
       "2  Bulletin of Zoological Nomenclature   \n",
       "3                           Sherbornia   \n",
       "4         European Journal of Taxonomy   \n",
       "\n",
       "                                wikidataURL     ISSN-L   openAlexID  \\\n",
       "0  http://www.wikidata.org/entity/Q27714217  1225-8318  S4210202049   \n",
       "1  http://www.wikidata.org/entity/Q27714217  1225-8318  S4306495623   \n",
       "2  http://www.wikidata.org/entity/Q15759939  0007-5167  S2764437286   \n",
       "3  http://www.wikidata.org/entity/Q21386365  2373-7697          NaN   \n",
       "4  http://www.wikidata.org/entity/Q21386186  2118-9773  S2764351231   \n",
       "\n",
       "  dissolvedYear dissolved                      source  \n",
       "0           NaN       NaN  Wikidata taxonomic subject  \n",
       "1           NaN       NaN  Wikidata taxonomic subject  \n",
       "2           NaN       NaN  Wikidata taxonomic subject  \n",
       "3           NaN       NaN  Wikidata taxonomic subject  \n",
       "4           NaN       NaN  Wikidata taxonomic subject  "
      ]
     },
     "execution_count": 4,
     "metadata": {},
     "output_type": "execute_result"
    }
   ],
   "source": [
    "journals = pd.read_csv(\"../data/processed/journals_deduplicated.csv\")\n",
    "journals.head()"
   ]
  },
  {
   "cell_type": "code",
   "execution_count": 5,
   "id": "5ac7f26a-9f38-4ae8-8ab4-80579f8e0c41",
   "metadata": {},
   "outputs": [],
   "source": [
    "#table = pd.DataFrame({\"name\":[\"Taxonomic journals with title\",\n",
    "#                             \"Journals with Wikidata ID\",\n",
    "#                             \"Journals with ISSN-L\",\n",
    "#                             \"Journals with IPNI Publication ID in Wikidata\",\n",
    "#                             \"Journals with ZooBank Publication ID in Wikidata\",\n",
    "#                             \"Journals with OpenAlex ID\"\n",
    "#                            # union of OpenAlex ID and IPNI etc\n",
    "#                             ],\n",
    "#                      \"value\":[0,0,0,0,0,0]})\n",
    "#\n",
    "#table[\"value\"] = table[\"value\"].astype(str)  # Convert the column to string type\n",
    "#\n",
    "#table.loc[0,\"value\"] = str(len([x for x in journals[\"title\"] if x == x]))\n",
    "\n",
    "#for i, column in enumerate(journals.columns[1:6]):\n",
    "#    table.loc[i+1, \"value\"] = str(len([x for x in journals[column] if x == x]))\n",
    "\n",
    "#table = table.set_index(\"name\")\n",
    "#table # ctrl + click to select cells to copy"
   ]
  },
  {
   "cell_type": "markdown",
   "id": "97e17f6c",
   "metadata": {},
   "source": [
    "## 1. Journals"
   ]
  },
  {
   "cell_type": "markdown",
   "id": "9058680a",
   "metadata": {},
   "source": [
    "Taxonomic journals:\n",
    "- with title\n",
    "- found on wikidata (each method)\n",
    "- found on OpenAlex\n",
    "- total\n",
    "- still publishing in the last 10 years\n",
    "- dissolved (confirmed)\n",
    "- with ISSN-L\n",
    "- with IPNI publication ID\n",
    "- with ZooBank publication ID\n",
    "- with OpenAlex ID"
   ]
  },
  {
   "cell_type": "code",
   "execution_count": 8,
   "id": "a8eeaafd",
   "metadata": {},
   "outputs": [
    {
     "name": "stdout",
     "output_type": "stream",
     "text": [
      "Number of journals: 2568\n",
      "Number of journals with known title: 2568\n"
     ]
    }
   ],
   "source": [
    "print(\"Number of journals: \" + str(len(journals)))\n",
    "print(\"Number of journals with known title: \"+\\\n",
    "      str(len([x for x in journals[\"title\"] if x == x])))"
   ]
  },
  {
   "cell_type": "code",
   "execution_count": 9,
   "id": "3ff79991",
   "metadata": {},
   "outputs": [
    {
     "name": "stdout",
     "output_type": "stream",
     "text": [
      "Number of journals with wikidataURL: 2514\n",
      "Number of journals with ISSN-L: 1645\n",
      "Number of journals with openAlexID: 1077\n",
      "Number of journals with dissolvedYear: 748\n",
      "Number of journals with dissolved: 745\n"
     ]
    }
   ],
   "source": [
    "for column in journals.columns[1:6]:\n",
    "    print(f\"Number of journals with {column}: {journals[column].notna().sum()}\")"
   ]
  },
  {
   "cell_type": "code",
   "execution_count": 10,
   "id": "ced81066",
   "metadata": {},
   "outputs": [
    {
     "name": "stdout",
     "output_type": "stream",
     "text": [
      "Journals that were dissolved (confirmed): \n"
     ]
    },
    {
     "data": {
      "text/plain": [
       "dissolved\n",
       "True     593\n",
       "False    152\n",
       "Name: count, dtype: int64"
      ]
     },
     "execution_count": 10,
     "metadata": {},
     "output_type": "execute_result"
    }
   ],
   "source": [
    "print(\"Journals that were dissolved (confirmed): \")\n",
    "journals[\"dissolved\"].value_counts()"
   ]
  },
  {
   "cell_type": "code",
   "execution_count": 11,
   "id": "2dd20b0c-87a1-4c23-896d-ed837d26d448",
   "metadata": {},
   "outputs": [
    {
     "name": "stdout",
     "output_type": "stream",
     "text": [
      "                                                  title  \\\n",
      "998   The Transactions and Journal of Proceedings of...   \n",
      "789                                  Carnets botaniques   \n",
      "780   Vorlesungen der Churpfälzischen physicalisch-ö...   \n",
      "480                                           Q17628528   \n",
      "730   Anales de la Academia Chilena de Ciencias Natu...   \n",
      "...                                                 ...   \n",
      "898                                  Medical Repository   \n",
      "2280  Cactus; Revue Bimensuelle pour Amateurs de Cac...   \n",
      "1604                                  Annals of Zoology   \n",
      "715   Botanicheskie Materialy Gerbariya Glavnogo Bot...   \n",
      "1414               Tasmanian Journal of Natural Science   \n",
      "\n",
      "                                    wikidataURL     ISSN-L openAlexID  \\\n",
      "998    http://www.wikidata.org/entity/Q51391127  0141-1292        NaN   \n",
      "789   http://www.wikidata.org/entity/Q114642885        NaN        NaN   \n",
      "780   http://www.wikidata.org/entity/Q108632025        NaN        NaN   \n",
      "480    http://www.wikidata.org/entity/Q17628528        NaN        NaN   \n",
      "730   http://www.wikidata.org/entity/Q113662722        NaN        NaN   \n",
      "...                                         ...        ...        ...   \n",
      "898     http://www.wikidata.org/entity/Q6008665        NaN        NaN   \n",
      "2280    http://www.wikidata.org/entity/Q5738813        NaN        NaN   \n",
      "1604  http://www.wikidata.org/entity/Q108875379        NaN        NaN   \n",
      "715     http://www.wikidata.org/entity/Q5732629        NaN        NaN   \n",
      "1414   http://www.wikidata.org/entity/Q62038561        NaN        NaN   \n",
      "\n",
      "     dissolvedYear dissolved              source  \n",
      "998            NaN       NaN  IPNI or ZooBank ID  \n",
      "789            NaN       NaN  IPNI or ZooBank ID  \n",
      "780            NaN       NaN  IPNI or ZooBank ID  \n",
      "480            NaN       NaN  IPNI or ZooBank ID  \n",
      "730            NaN       NaN  IPNI or ZooBank ID  \n",
      "...            ...       ...                 ...  \n",
      "898            NaN       NaN  IPNI or ZooBank ID  \n",
      "2280           NaN       NaN  IPNI or ZooBank ID  \n",
      "1604           NaN       NaN  IPNI or ZooBank ID  \n",
      "715            NaN       NaN  IPNI or ZooBank ID  \n",
      "1414           NaN       NaN  IPNI or ZooBank ID  \n",
      "\n",
      "[100 rows x 7 columns]\n",
      "Total journals with no OpenAlexID and not dissolved: 1075\n"
     ]
    }
   ],
   "source": [
    "# Filter journals with no OpenAlexID and not dissolved\n",
    "filtered_data = journals[journals[\"openAlexID\"].isna() & journals[\"dissolvedYear\"].isna()]\n",
    "\n",
    "# Take a random sample of 100 rows (all columns)\n",
    "sample = filtered_data.sample(n=100, random_state=42)  # Adjust 'n' for sample size\n",
    "\n",
    "# Output the sample\n",
    "print(sample)\n",
    "\n",
    "# Optionally, save the sample to a file\n",
    "sample.to_csv(\"sample_journals.csv\", index=False)\n",
    "\n",
    "# Count the total\n",
    "total_count = filtered_data.shape[0]  # Number of rows in the filtered data\n",
    "\n",
    "# Print the total count\n",
    "print(f\"Total journals with no OpenAlexID and not dissolved: {total_count}\")\n"
   ]
  },
  {
   "cell_type": "code",
   "execution_count": 12,
   "id": "cdea3ecc",
   "metadata": {},
   "outputs": [
    {
     "data": {
      "text/html": [
       "<div>\n",
       "<style scoped>\n",
       "    .dataframe tbody tr th:only-of-type {\n",
       "        vertical-align: middle;\n",
       "    }\n",
       "\n",
       "    .dataframe tbody tr th {\n",
       "        vertical-align: top;\n",
       "    }\n",
       "\n",
       "    .dataframe thead th {\n",
       "        text-align: right;\n",
       "    }\n",
       "</style>\n",
       "<table border=\"1\" class=\"dataframe\">\n",
       "  <thead>\n",
       "    <tr style=\"text-align: right;\">\n",
       "      <th></th>\n",
       "      <th>id</th>\n",
       "      <th>doi</th>\n",
       "      <th>title</th>\n",
       "      <th>display_name</th>\n",
       "      <th>publication_year</th>\n",
       "      <th>publication_date</th>\n",
       "      <th>ids</th>\n",
       "      <th>language</th>\n",
       "      <th>primary_location</th>\n",
       "      <th>type</th>\n",
       "      <th>...</th>\n",
       "      <th>source_is_core</th>\n",
       "      <th>source_host_organization</th>\n",
       "      <th>source_host_organization_name</th>\n",
       "      <th>source_host_organization_lineage</th>\n",
       "      <th>source_host_organization_lineage_names</th>\n",
       "      <th>source_type</th>\n",
       "      <th>oa_is_oa</th>\n",
       "      <th>oa_oa_status</th>\n",
       "      <th>oa_oa_url</th>\n",
       "      <th>oa_any_repository_has_fulltext</th>\n",
       "    </tr>\n",
       "  </thead>\n",
       "  <tbody>\n",
       "    <tr>\n",
       "      <th>0</th>\n",
       "      <td>https://openalex.org/W2766208183</td>\n",
       "      <td>https://doi.org/10.1371/journal.pone.0185809</td>\n",
       "      <td>More than 75 percent decline over 27 years in ...</td>\n",
       "      <td>More than 75 percent decline over 27 years in ...</td>\n",
       "      <td>2017</td>\n",
       "      <td>2017-10-18</td>\n",
       "      <td>{'openalex': 'https://openalex.org/W2766208183...</td>\n",
       "      <td>en</td>\n",
       "      <td>{'is_oa': True, 'landing_page_url': 'https://d...</td>\n",
       "      <td>article</td>\n",
       "      <td>...</td>\n",
       "      <td>True</td>\n",
       "      <td>https://openalex.org/P4310315706</td>\n",
       "      <td>Public Library of Science</td>\n",
       "      <td>[https://openalex.org/P4310315706]</td>\n",
       "      <td>[Public Library of Science]</td>\n",
       "      <td>journal</td>\n",
       "      <td>True</td>\n",
       "      <td>gold</td>\n",
       "      <td>https://journals.plos.org/plosone/article/file...</td>\n",
       "      <td>True</td>\n",
       "    </tr>\n",
       "    <tr>\n",
       "      <th>1</th>\n",
       "      <td>https://openalex.org/W1577451703</td>\n",
       "      <td>https://doi.org/10.1371/journal.pone.0131080</td>\n",
       "      <td>Biodiversity on the Rocks: Macrofauna Inhabiti...</td>\n",
       "      <td>Biodiversity on the Rocks: Macrofauna Inhabiti...</td>\n",
       "      <td>2015</td>\n",
       "      <td>2015-07-09</td>\n",
       "      <td>{'openalex': 'https://openalex.org/W1577451703...</td>\n",
       "      <td>en</td>\n",
       "      <td>{'is_oa': True, 'landing_page_url': 'https://d...</td>\n",
       "      <td>article</td>\n",
       "      <td>...</td>\n",
       "      <td>True</td>\n",
       "      <td>https://openalex.org/P4310315706</td>\n",
       "      <td>Public Library of Science</td>\n",
       "      <td>[https://openalex.org/P4310315706]</td>\n",
       "      <td>[Public Library of Science]</td>\n",
       "      <td>journal</td>\n",
       "      <td>True</td>\n",
       "      <td>gold</td>\n",
       "      <td>https://journals.plos.org/plosone/article/file...</td>\n",
       "      <td>True</td>\n",
       "    </tr>\n",
       "    <tr>\n",
       "      <th>2</th>\n",
       "      <td>https://openalex.org/W2130560194</td>\n",
       "      <td>https://doi.org/10.1371/journal.pone.0105992</td>\n",
       "      <td>SoilGrids1km — Global Soil Information Based o...</td>\n",
       "      <td>SoilGrids1km — Global Soil Information Based o...</td>\n",
       "      <td>2014</td>\n",
       "      <td>2014-08-29</td>\n",
       "      <td>{'openalex': 'https://openalex.org/W2130560194...</td>\n",
       "      <td>en</td>\n",
       "      <td>{'is_oa': True, 'landing_page_url': 'https://d...</td>\n",
       "      <td>article</td>\n",
       "      <td>...</td>\n",
       "      <td>True</td>\n",
       "      <td>https://openalex.org/P4310315706</td>\n",
       "      <td>Public Library of Science</td>\n",
       "      <td>[https://openalex.org/P4310315706]</td>\n",
       "      <td>[Public Library of Science]</td>\n",
       "      <td>journal</td>\n",
       "      <td>True</td>\n",
       "      <td>gold</td>\n",
       "      <td>https://journals.plos.org/plosone/article/file...</td>\n",
       "      <td>True</td>\n",
       "    </tr>\n",
       "    <tr>\n",
       "      <th>3</th>\n",
       "      <td>https://openalex.org/W2155544089</td>\n",
       "      <td>https://doi.org/10.1371/journal.pone.0125814</td>\n",
       "      <td>Mapping Soil Properties of Africa at 250 m Res...</td>\n",
       "      <td>Mapping Soil Properties of Africa at 250 m Res...</td>\n",
       "      <td>2015</td>\n",
       "      <td>2015-06-25</td>\n",
       "      <td>{'openalex': 'https://openalex.org/W2155544089...</td>\n",
       "      <td>en</td>\n",
       "      <td>{'is_oa': True, 'landing_page_url': 'https://d...</td>\n",
       "      <td>article</td>\n",
       "      <td>...</td>\n",
       "      <td>True</td>\n",
       "      <td>https://openalex.org/P4310315706</td>\n",
       "      <td>Public Library of Science</td>\n",
       "      <td>[https://openalex.org/P4310315706]</td>\n",
       "      <td>[Public Library of Science]</td>\n",
       "      <td>journal</td>\n",
       "      <td>True</td>\n",
       "      <td>gold</td>\n",
       "      <td>https://journals.plos.org/plosone/article/file...</td>\n",
       "      <td>True</td>\n",
       "    </tr>\n",
       "    <tr>\n",
       "      <th>4</th>\n",
       "      <td>https://openalex.org/W2122522916</td>\n",
       "      <td>https://doi.org/10.1371/journal.pone.0144296</td>\n",
       "      <td>Sentiment of Emojis</td>\n",
       "      <td>Sentiment of Emojis</td>\n",
       "      <td>2015</td>\n",
       "      <td>2015-12-07</td>\n",
       "      <td>{'openalex': 'https://openalex.org/W2122522916...</td>\n",
       "      <td>en</td>\n",
       "      <td>{'is_oa': True, 'landing_page_url': 'https://d...</td>\n",
       "      <td>article</td>\n",
       "      <td>...</td>\n",
       "      <td>True</td>\n",
       "      <td>https://openalex.org/P4310315706</td>\n",
       "      <td>Public Library of Science</td>\n",
       "      <td>[https://openalex.org/P4310315706]</td>\n",
       "      <td>[Public Library of Science]</td>\n",
       "      <td>journal</td>\n",
       "      <td>True</td>\n",
       "      <td>gold</td>\n",
       "      <td>https://journals.plos.org/plosone/article/file...</td>\n",
       "      <td>True</td>\n",
       "    </tr>\n",
       "  </tbody>\n",
       "</table>\n",
       "<p>5 rows × 76 columns</p>\n",
       "</div>"
      ],
      "text/plain": [
       "                                 id  \\\n",
       "0  https://openalex.org/W2766208183   \n",
       "1  https://openalex.org/W1577451703   \n",
       "2  https://openalex.org/W2130560194   \n",
       "3  https://openalex.org/W2155544089   \n",
       "4  https://openalex.org/W2122522916   \n",
       "\n",
       "                                            doi  \\\n",
       "0  https://doi.org/10.1371/journal.pone.0185809   \n",
       "1  https://doi.org/10.1371/journal.pone.0131080   \n",
       "2  https://doi.org/10.1371/journal.pone.0105992   \n",
       "3  https://doi.org/10.1371/journal.pone.0125814   \n",
       "4  https://doi.org/10.1371/journal.pone.0144296   \n",
       "\n",
       "                                               title  \\\n",
       "0  More than 75 percent decline over 27 years in ...   \n",
       "1  Biodiversity on the Rocks: Macrofauna Inhabiti...   \n",
       "2  SoilGrids1km — Global Soil Information Based o...   \n",
       "3  Mapping Soil Properties of Africa at 250 m Res...   \n",
       "4                                Sentiment of Emojis   \n",
       "\n",
       "                                        display_name  publication_year  \\\n",
       "0  More than 75 percent decline over 27 years in ...              2017   \n",
       "1  Biodiversity on the Rocks: Macrofauna Inhabiti...              2015   \n",
       "2  SoilGrids1km — Global Soil Information Based o...              2014   \n",
       "3  Mapping Soil Properties of Africa at 250 m Res...              2015   \n",
       "4                                Sentiment of Emojis              2015   \n",
       "\n",
       "  publication_date                                                ids  \\\n",
       "0       2017-10-18  {'openalex': 'https://openalex.org/W2766208183...   \n",
       "1       2015-07-09  {'openalex': 'https://openalex.org/W1577451703...   \n",
       "2       2014-08-29  {'openalex': 'https://openalex.org/W2130560194...   \n",
       "3       2015-06-25  {'openalex': 'https://openalex.org/W2155544089...   \n",
       "4       2015-12-07  {'openalex': 'https://openalex.org/W2122522916...   \n",
       "\n",
       "  language                                   primary_location     type  ...  \\\n",
       "0       en  {'is_oa': True, 'landing_page_url': 'https://d...  article  ...   \n",
       "1       en  {'is_oa': True, 'landing_page_url': 'https://d...  article  ...   \n",
       "2       en  {'is_oa': True, 'landing_page_url': 'https://d...  article  ...   \n",
       "3       en  {'is_oa': True, 'landing_page_url': 'https://d...  article  ...   \n",
       "4       en  {'is_oa': True, 'landing_page_url': 'https://d...  article  ...   \n",
       "\n",
       "  source_is_core          source_host_organization  \\\n",
       "0           True  https://openalex.org/P4310315706   \n",
       "1           True  https://openalex.org/P4310315706   \n",
       "2           True  https://openalex.org/P4310315706   \n",
       "3           True  https://openalex.org/P4310315706   \n",
       "4           True  https://openalex.org/P4310315706   \n",
       "\n",
       "  source_host_organization_name    source_host_organization_lineage  \\\n",
       "0     Public Library of Science  [https://openalex.org/P4310315706]   \n",
       "1     Public Library of Science  [https://openalex.org/P4310315706]   \n",
       "2     Public Library of Science  [https://openalex.org/P4310315706]   \n",
       "3     Public Library of Science  [https://openalex.org/P4310315706]   \n",
       "4     Public Library of Science  [https://openalex.org/P4310315706]   \n",
       "\n",
       "  source_host_organization_lineage_names  source_type  oa_is_oa oa_oa_status  \\\n",
       "0            [Public Library of Science]      journal      True         gold   \n",
       "1            [Public Library of Science]      journal      True         gold   \n",
       "2            [Public Library of Science]      journal      True         gold   \n",
       "3            [Public Library of Science]      journal      True         gold   \n",
       "4            [Public Library of Science]      journal      True         gold   \n",
       "\n",
       "                                           oa_oa_url  \\\n",
       "0  https://journals.plos.org/plosone/article/file...   \n",
       "1  https://journals.plos.org/plosone/article/file...   \n",
       "2  https://journals.plos.org/plosone/article/file...   \n",
       "3  https://journals.plos.org/plosone/article/file...   \n",
       "4  https://journals.plos.org/plosone/article/file...   \n",
       "\n",
       "  oa_any_repository_has_fulltext  \n",
       "0                           True  \n",
       "1                           True  \n",
       "2                           True  \n",
       "3                           True  \n",
       "4                           True  \n",
       "\n",
       "[5 rows x 76 columns]"
      ]
     },
     "execution_count": 12,
     "metadata": {},
     "output_type": "execute_result"
    }
   ],
   "source": [
    "articles = pd.read_pickle(\"../data/interim/filtered_articles.pkl\")\n",
    "articles.head()"
   ]
  },
  {
   "cell_type": "code",
   "execution_count": 13,
   "id": "ee7e0afe",
   "metadata": {},
   "outputs": [
    {
     "name": "stdout",
     "output_type": "stream",
     "text": [
      "Number of journals that contained relevant (i.e. taxonomic) articles: 457\n"
     ]
    }
   ],
   "source": [
    "print(\"Number of journals that contained relevant (i.e. taxonomic) articles: \" + \\\n",
    "      str(len(set(articles[\"source_id\"]))))"
   ]
  },
  {
   "cell_type": "code",
   "execution_count": 14,
   "id": "9bd26e1f-4667-4545-b184-d0aabf7611d8",
   "metadata": {},
   "outputs": [
    {
     "data": {
      "image/png": "[encoded data removed]",
      "text/plain": [
       "<Figure size 640x480 with 1 Axes>"
      ]
     },
     "metadata": {},
     "output_type": "display_data"
    }
   ],
   "source": [
    "# Define sets\n",
    "ipnizoo = set(journals[journals[\"source\"] == \"IPNI or ZooBank ID\"][\"title\"])\n",
    "openalex = set(journals[journals[\"source\"] == \"OpenAlex taxonomy concept\"][\"title\"])\n",
    "wikisubjects = set(journals[journals[\"source\"] == \"Wikidata taxonomic subject\"][\"title\"])\n",
    "\n",
    "# Total unique journals for percentage calculation\n",
    "total_journals = len(ipnizoo | openalex | wikisubjects)\n",
    "\n",
    "# Venn diagram\n",
    "venn = venn3([ipnizoo, openalex, wikisubjects], (\"IPNI/ZooBank ID\", \"OpenAlex\", \"Wikidata subjects\"))\n",
    "\n",
    "# Adjust subset label font sizes (numbers inside the diagram)\n",
    "for label in venn.subset_labels:\n",
    "    if label:  # Only adjust non-empty labels\n",
    "        label.set_fontsize(8)  # Set font size (adjust value as needed)\n",
    "\n",
    "# Adjust set label font sizes (labels for the circles)\n",
    "for label in venn.set_labels:\n",
    "    if label:  # Only adjust non-empty labels\n",
    "        label.set_fontsize(8)  # Set font size (adjust value as needed)\n",
    "# Annotate each section with count and percentage\n",
    "\n",
    "for idx, label in enumerate(venn.subset_labels):\n",
    "    if label:  # Only annotate non-empty regions\n",
    "        count = int(label.get_text())  # Convert count to integer\n",
    "        percentage = (count / total_journals) * 100\n",
    "        label.set_text(f\"{count} ({percentage:.1f}%)\")\n",
    "\n",
    "# Add title\n",
    "plt.title(\"Unique journals per source\", fontsize=18)\n",
    "\n",
    "# Display plot\n",
    "plt.show()"
   ]
  },
  {
   "cell_type": "markdown",
   "id": "94ae5789",
   "metadata": {},
   "source": [
    "## 2. Articles\n",
    "\n",
    "- total number\n",
    "- number with at least one European author"
   ]
  },
  {
   "cell_type": "code",
   "execution_count": 97,
   "id": "3a18af0b",
   "metadata": {},
   "outputs": [
    {
     "name": "stdout",
     "output_type": "stream",
     "text": [
      "Number of articles related to taxonomy with at least one European author: 32699\n"
     ]
    }
   ],
   "source": [
    "print(\"Number of articles related to taxonomy with at least one European author: \" +\\\n",
    "      str(len(set(articles[\"id\"]))))"
   ]
  },
  {
   "cell_type": "markdown",
   "id": "310cfe32",
   "metadata": {},
   "source": [
    "## 3. Authors"
   ]
  },
  {
   "cell_type": "code",
   "execution_count": 100,
   "id": "709caff1",
   "metadata": {},
   "outputs": [],
   "source": [
    "authors = pd.read_csv(\"../data/processed/country_taxonomic_authors_no_duplicates.tsv\", sep=\"\\t\",low_memory=False)"
   ]
  },
  {
   "cell_type": "code",
   "execution_count": 102,
   "id": "cc488f4d",
   "metadata": {},
   "outputs": [
    {
     "name": "stdout",
     "output_type": "stream",
     "text": [
      "Number of European authors before disambiguation: 32799\n"
     ]
    }
   ],
   "source": [
    "print(\"Number of European authors before disambiguation: \"+\\\n",
    "      str(len(authors)))"
   ]
  },
  {
   "cell_type": "code",
   "execution_count": 104,
   "id": "d2ce556d",
   "metadata": {},
   "outputs": [],
   "source": [
    "disamb_authors = pd.read_pickle(\"../data/processed/authors_disambiguated_truncated.pkl\")"
   ]
  },
  {
   "cell_type": "code",
   "execution_count": 106,
   "id": "58e8e5b0",
   "metadata": {},
   "outputs": [
    {
     "name": "stdout",
     "output_type": "stream",
     "text": [
      "Number of European authors after disambiguation: 32502\n"
     ]
    }
   ],
   "source": [
    "print(\"Number of European authors after disambiguation: \"+\\\n",
    "      str(len(disamb_authors)))"
   ]
  },
  {
   "cell_type": "code",
   "execution_count": 23,
   "id": "ce4ec948",
   "metadata": {},
   "outputs": [
    {
     "name": "stdout",
     "output_type": "stream",
     "text": [
      "Number of European institutions publishing taxonomic articles: 3092\n"
     ]
    }
   ],
   "source": [
    "print(\"Number of European institutions publishing taxonomic articles: \"+\\\n",
    "      str(len(set(disamb_authors[\"inst_id\"]))))"
   ]
  },
  {
   "cell_type": "code",
   "execution_count": 24,
   "id": "871b1a66",
   "metadata": {},
   "outputs": [
    {
     "data": {
      "text/plain": [
       "59"
      ]
     },
     "execution_count": 24,
     "metadata": {},
     "output_type": "execute_result"
    }
   ],
   "source": [
    "len(set(authors[authors[\"inst_country_code\"]==\"BE\"][\"inst_display_name\"]))"
   ]
  },
  {
   "cell_type": "code",
   "execution_count": 25,
   "id": "05143e8d",
   "metadata": {},
   "outputs": [
    {
     "data": {
      "text/plain": [
       "Index(['Index', 'article_id', 'author_position', 'author', 'institutions',\n",
       "       'countries', 'is_corresponding', 'raw_author_name',\n",
       "       'raw_affiliation_strings', 'affiliations', 'author_id',\n",
       "       'author_display_name', 'author_orcid', 'inst_id', 'inst_display_name',\n",
       "       'inst_ror', 'inst_country_code', 'inst_type', 'inst_lineage',\n",
       "       'countries_list', 'id', 'doi', 'title', 'display_name',\n",
       "       'publication_year', 'publication_date', 'ids', 'language',\n",
       "       'primary_location', 'type', 'type_crossref', 'indexed_in',\n",
       "       'open_access', 'authorships', 'institution_assertions',\n",
       "       'countries_distinct_count', 'institutions_distinct_count',\n",
       "       'corresponding_author_ids', 'corresponding_institution_ids', 'apc_list',\n",
       "       'apc_paid', 'fwci', 'has_fulltext', 'fulltext_origin', 'cited_by_count',\n",
       "       'citation_normalized_percentile', 'cited_by_percentile_year', 'biblio',\n",
       "       'is_retracted', 'is_paratext', 'primary_topic', 'topics', 'keywords',\n",
       "       'concepts', 'mesh', 'locations_count', 'locations', 'best_oa_location',\n",
       "       'sustainable_development_goals', 'grants', 'datasets', 'versions',\n",
       "       'referenced_works_count', 'referenced_works', 'related_works',\n",
       "       'abstract_inverted_index', 'cited_by_api_url', 'counts_by_year',\n",
       "       'updated_date', 'created_date', 'is_authors_truncated',\n",
       "       'location_is_oa', 'location_landing_page_url', 'location_pdf_url',\n",
       "       'location_source', 'location_license', 'location_license_id',\n",
       "       'location_version', 'location_is_accepted', 'location_is_published',\n",
       "       'source_id', 'source_display_name', 'source_issn_l', 'source_issn',\n",
       "       'source_is_oa', 'source_is_in_doaj', 'source_is_core',\n",
       "       'source_host_organization', 'source_host_organization_name',\n",
       "       'source_host_organization_lineage',\n",
       "       'source_host_organization_lineage_names', 'source_type', 'oa_is_oa',\n",
       "       'oa_oa_status', 'oa_oa_url', 'oa_any_repository_has_fulltext',\n",
       "       'abstract_full_text', 'species_subject'],\n",
       "      dtype='object')"
      ]
     },
     "execution_count": 25,
     "metadata": {},
     "output_type": "execute_result"
    }
   ],
   "source": [
    "authors.columns"
   ]
  },
  {
   "cell_type": "markdown",
   "id": "936b71bb",
   "metadata": {},
   "source": [
    "## 4. Taxonomy (not working)"
   ]
  },
  {
   "cell_type": "markdown",
   "id": "d46c57ee",
   "metadata": {},
   "source": [
    "Total number of families within Plantae:\n",
    "Total number of families within Animalia:\n",
    "Total number of families within Fungi:\n",
    "Total number of families within Protists:\n",
    "…. See similar figure here: https://data-blog.gbif.org/post/gbif-backbone-taxonomy/"
   ]
  },
  {
   "cell_type": "code",
   "execution_count": 156,
   "id": "1703bdfc",
   "metadata": {},
   "outputs": [],
   "source": [
    "# supply and demand order save?\n",
    "authors_tree = pd.read_pickle(\"../data/processed/authors_disambiguated_truncated.pkl\")"
   ]
  },
  {
   "cell_type": "code",
   "execution_count": 158,
   "id": "bd8da455-572d-4942-9c97-a434dd5566d4",
   "metadata": {},
   "outputs": [],
   "source": [
    "authors2 = pd.read_pickle(\"../data/interim/country_taxonomic_authors_no_duplicates.pkl\")"
   ]
  },
  {
   "cell_type": "code",
   "execution_count": 159,
   "id": "f208fff3-2bee-4dc2-99c6-8e72446af975",
   "metadata": {},
   "outputs": [
    {
     "data": {
      "text/html": [
       "<div>\n",
       "<style scoped>\n",
       "    .dataframe tbody tr th:only-of-type {\n",
       "        vertical-align: middle;\n",
       "    }\n",
       "\n",
       "    .dataframe tbody tr th {\n",
       "        vertical-align: top;\n",
       "    }\n",
       "\n",
       "    .dataframe thead th {\n",
       "        text-align: right;\n",
       "    }\n",
       "</style>\n",
       "<table border=\"1\" class=\"dataframe\">\n",
       "  <thead>\n",
       "    <tr style=\"text-align: right;\">\n",
       "      <th></th>\n",
       "      <th>Index</th>\n",
       "      <th>article_id</th>\n",
       "      <th>author_position</th>\n",
       "      <th>author</th>\n",
       "      <th>institutions</th>\n",
       "      <th>countries</th>\n",
       "      <th>is_corresponding</th>\n",
       "      <th>raw_author_name</th>\n",
       "      <th>raw_affiliation_strings</th>\n",
       "      <th>affiliations</th>\n",
       "      <th>...</th>\n",
       "      <th>source_host_organization_name</th>\n",
       "      <th>source_host_organization_lineage</th>\n",
       "      <th>source_host_organization_lineage_names</th>\n",
       "      <th>source_type</th>\n",
       "      <th>oa_is_oa</th>\n",
       "      <th>oa_oa_status</th>\n",
       "      <th>oa_oa_url</th>\n",
       "      <th>oa_any_repository_has_fulltext</th>\n",
       "      <th>abstract_full_text</th>\n",
       "      <th>species_subject</th>\n",
       "    </tr>\n",
       "  </thead>\n",
       "  <tbody>\n",
       "    <tr>\n",
       "      <th>0</th>\n",
       "      <td>34819</td>\n",
       "      <td>https://openalex.org/W3204621746</td>\n",
       "      <td>middle</td>\n",
       "      <td>{'id': 'https://openalex.org/A5011137012', 'di...</td>\n",
       "      <td>[{'id': 'https://openalex.org/I2800424308', 'd...</td>\n",
       "      <td>[FI]</td>\n",
       "      <td>False</td>\n",
       "      <td>Heikki Kotiranta</td>\n",
       "      <td>[Finnish Environment Institute, Latokartanonka...</td>\n",
       "      <td>[{'raw_affiliation_string': 'Finnish Environme...</td>\n",
       "      <td>...</td>\n",
       "      <td>Springer Science+Business Media</td>\n",
       "      <td>[https://openalex.org/P4310319965, https://ope...</td>\n",
       "      <td>[Springer Nature, Springer Science+Business Me...</td>\n",
       "      <td>journal</td>\n",
       "      <td>True</td>\n",
       "      <td>hybrid</td>\n",
       "      <td>https://link.springer.com/content/pdf/10.1007/...</td>\n",
       "      <td>True</td>\n",
       "      <td>Abstract Taxonomy of Basidiodendron caesiocine...</td>\n",
       "      <td>[Corticium niveocremeum, Porpomyces abiens, Ba...</td>\n",
       "    </tr>\n",
       "    <tr>\n",
       "      <th>1</th>\n",
       "      <td>10101</td>\n",
       "      <td>https://openalex.org/W3110768712</td>\n",
       "      <td>first</td>\n",
       "      <td>{'id': 'https://openalex.org/A5045822273', 'di...</td>\n",
       "      <td>[{'id': 'https://openalex.org/I205984670', 'di...</td>\n",
       "      <td>[CZ]</td>\n",
       "      <td>True</td>\n",
       "      <td>Rostislav Linda</td>\n",
       "      <td>[Department of Silviculture, Faculty of Forest...</td>\n",
       "      <td>[{'raw_affiliation_string': 'Department of Sil...</td>\n",
       "      <td>...</td>\n",
       "      <td>Public Library of Science</td>\n",
       "      <td>[https://openalex.org/P4310315706]</td>\n",
       "      <td>[Public Library of Science]</td>\n",
       "      <td>journal</td>\n",
       "      <td>True</td>\n",
       "      <td>gold</td>\n",
       "      <td>https://journals.plos.org/plosone/article/file...</td>\n",
       "      <td>True</td>\n",
       "      <td>Birches are generally known for their high gen...</td>\n",
       "      <td>[]</td>\n",
       "    </tr>\n",
       "    <tr>\n",
       "      <th>2</th>\n",
       "      <td>53888</td>\n",
       "      <td>https://openalex.org/W2996643846</td>\n",
       "      <td>middle</td>\n",
       "      <td>{'id': 'https://openalex.org/A5113890450', 'di...</td>\n",
       "      <td>[{'id': 'https://openalex.org/I189268942', 'di...</td>\n",
       "      <td>[ES]</td>\n",
       "      <td>False</td>\n",
       "      <td>Manjón Jl</td>\n",
       "      <td>[Departamento de Ciencias de la Vida (Área de ...</td>\n",
       "      <td>[{'raw_affiliation_string': 'Departamento de C...</td>\n",
       "      <td>...</td>\n",
       "      <td>National Herbarium of the Netherlands</td>\n",
       "      <td>[https://openalex.org/P4310318525]</td>\n",
       "      <td>[National Herbarium of the Netherlands]</td>\n",
       "      <td>journal</td>\n",
       "      <td>True</td>\n",
       "      <td>green</td>\n",
       "      <td>https://hal.univ-lille.fr/hal-03890102/document</td>\n",
       "      <td>True</td>\n",
       "      <td>Novel species of fungi described in this study...</td>\n",
       "      <td>[Apenidiella antarctica, Cladosporium fildesen...</td>\n",
       "    </tr>\n",
       "    <tr>\n",
       "      <th>3</th>\n",
       "      <td>131672</td>\n",
       "      <td>https://openalex.org/W3016398297</td>\n",
       "      <td>last</td>\n",
       "      <td>{'id': 'https://openalex.org/A5048775979', 'di...</td>\n",
       "      <td>[{'id': 'https://openalex.org/I4210136625', 'd...</td>\n",
       "      <td>[CH]</td>\n",
       "      <td>False</td>\n",
       "      <td>Volker Fingerle</td>\n",
       "      <td>[Bavarian Health and Food Safety Authority, Na...</td>\n",
       "      <td>[{'raw_affiliation_string': 'Members of the ES...</td>\n",
       "      <td>...</td>\n",
       "      <td>Microbiology Society</td>\n",
       "      <td>[https://openalex.org/P4310320497]</td>\n",
       "      <td>[Microbiology Society]</td>\n",
       "      <td>journal</td>\n",
       "      <td>True</td>\n",
       "      <td>bronze</td>\n",
       "      <td>https://doi.org/10.1099/ijsem.0.004149</td>\n",
       "      <td>True</td>\n",
       "      <td>Rejection (nomen rejiciendum) of the name Borr...</td>\n",
       "      <td>[]</td>\n",
       "    </tr>\n",
       "    <tr>\n",
       "      <th>4</th>\n",
       "      <td>134844</td>\n",
       "      <td>https://openalex.org/W2762662100</td>\n",
       "      <td>middle</td>\n",
       "      <td>{'id': 'https://openalex.org/A5027741017', 'di...</td>\n",
       "      <td>[{'id': 'https://openalex.org/I4210091512', 'd...</td>\n",
       "      <td>[IT]</td>\n",
       "      <td>False</td>\n",
       "      <td>Pierangelo Orlando</td>\n",
       "      <td>[Consiglio Nazionale delle Ricerche (C.N.R.), ...</td>\n",
       "      <td>[{'raw_affiliation_string': 'Consiglio Naziona...</td>\n",
       "      <td>...</td>\n",
       "      <td>Microbiology Society</td>\n",
       "      <td>[https://openalex.org/P4310320497]</td>\n",
       "      <td>[Microbiology Society]</td>\n",
       "      <td>journal</td>\n",
       "      <td>True</td>\n",
       "      <td>bronze</td>\n",
       "      <td>https://doi.org/10.1099/ijsem.0.002391</td>\n",
       "      <td>False</td>\n",
       "      <td>A Gram-stain-positive, aerobic, endospore-form...</td>\n",
       "      <td>[]</td>\n",
       "    </tr>\n",
       "  </tbody>\n",
       "</table>\n",
       "<p>5 rows × 98 columns</p>\n",
       "</div>"
      ],
      "text/plain": [
       "    Index                        article_id author_position  \\\n",
       "0   34819  https://openalex.org/W3204621746          middle   \n",
       "1   10101  https://openalex.org/W3110768712           first   \n",
       "2   53888  https://openalex.org/W2996643846          middle   \n",
       "3  131672  https://openalex.org/W3016398297            last   \n",
       "4  134844  https://openalex.org/W2762662100          middle   \n",
       "\n",
       "                                              author  \\\n",
       "0  {'id': 'https://openalex.org/A5011137012', 'di...   \n",
       "1  {'id': 'https://openalex.org/A5045822273', 'di...   \n",
       "2  {'id': 'https://openalex.org/A5113890450', 'di...   \n",
       "3  {'id': 'https://openalex.org/A5048775979', 'di...   \n",
       "4  {'id': 'https://openalex.org/A5027741017', 'di...   \n",
       "\n",
       "                                        institutions countries  \\\n",
       "0  [{'id': 'https://openalex.org/I2800424308', 'd...      [FI]   \n",
       "1  [{'id': 'https://openalex.org/I205984670', 'di...      [CZ]   \n",
       "2  [{'id': 'https://openalex.org/I189268942', 'di...      [ES]   \n",
       "3  [{'id': 'https://openalex.org/I4210136625', 'd...      [CH]   \n",
       "4  [{'id': 'https://openalex.org/I4210091512', 'd...      [IT]   \n",
       "\n",
       "   is_corresponding     raw_author_name  \\\n",
       "0             False    Heikki Kotiranta   \n",
       "1              True     Rostislav Linda   \n",
       "2             False           Manjón Jl   \n",
       "3             False     Volker Fingerle   \n",
       "4             False  Pierangelo Orlando   \n",
       "\n",
       "                             raw_affiliation_strings  \\\n",
       "0  [Finnish Environment Institute, Latokartanonka...   \n",
       "1  [Department of Silviculture, Faculty of Forest...   \n",
       "2  [Departamento de Ciencias de la Vida (Área de ...   \n",
       "3  [Bavarian Health and Food Safety Authority, Na...   \n",
       "4  [Consiglio Nazionale delle Ricerche (C.N.R.), ...   \n",
       "\n",
       "                                        affiliations  ...  \\\n",
       "0  [{'raw_affiliation_string': 'Finnish Environme...  ...   \n",
       "1  [{'raw_affiliation_string': 'Department of Sil...  ...   \n",
       "2  [{'raw_affiliation_string': 'Departamento de C...  ...   \n",
       "3  [{'raw_affiliation_string': 'Members of the ES...  ...   \n",
       "4  [{'raw_affiliation_string': 'Consiglio Naziona...  ...   \n",
       "\n",
       "           source_host_organization_name  \\\n",
       "0        Springer Science+Business Media   \n",
       "1              Public Library of Science   \n",
       "2  National Herbarium of the Netherlands   \n",
       "3                   Microbiology Society   \n",
       "4                   Microbiology Society   \n",
       "\n",
       "                    source_host_organization_lineage  \\\n",
       "0  [https://openalex.org/P4310319965, https://ope...   \n",
       "1                 [https://openalex.org/P4310315706]   \n",
       "2                 [https://openalex.org/P4310318525]   \n",
       "3                 [https://openalex.org/P4310320497]   \n",
       "4                 [https://openalex.org/P4310320497]   \n",
       "\n",
       "              source_host_organization_lineage_names source_type oa_is_oa  \\\n",
       "0  [Springer Nature, Springer Science+Business Me...     journal     True   \n",
       "1                        [Public Library of Science]     journal     True   \n",
       "2            [National Herbarium of the Netherlands]     journal     True   \n",
       "3                             [Microbiology Society]     journal     True   \n",
       "4                             [Microbiology Society]     journal     True   \n",
       "\n",
       "  oa_oa_status                                          oa_oa_url  \\\n",
       "0       hybrid  https://link.springer.com/content/pdf/10.1007/...   \n",
       "1         gold  https://journals.plos.org/plosone/article/file...   \n",
       "2        green    https://hal.univ-lille.fr/hal-03890102/document   \n",
       "3       bronze             https://doi.org/10.1099/ijsem.0.004149   \n",
       "4       bronze             https://doi.org/10.1099/ijsem.0.002391   \n",
       "\n",
       "  oa_any_repository_has_fulltext  \\\n",
       "0                           True   \n",
       "1                           True   \n",
       "2                           True   \n",
       "3                           True   \n",
       "4                          False   \n",
       "\n",
       "                                  abstract_full_text  \\\n",
       "0  Abstract Taxonomy of Basidiodendron caesiocine...   \n",
       "1  Birches are generally known for their high gen...   \n",
       "2  Novel species of fungi described in this study...   \n",
       "3  Rejection (nomen rejiciendum) of the name Borr...   \n",
       "4  A Gram-stain-positive, aerobic, endospore-form...   \n",
       "\n",
       "                                     species_subject  \n",
       "0  [Corticium niveocremeum, Porpomyces abiens, Ba...  \n",
       "1                                                 []  \n",
       "2  [Apenidiella antarctica, Cladosporium fildesen...  \n",
       "3                                                 []  \n",
       "4                                                 []  \n",
       "\n",
       "[5 rows x 98 columns]"
      ]
     },
     "execution_count": 159,
     "metadata": {},
     "output_type": "execute_result"
    }
   ],
   "source": [
    "authors2.head()"
   ]
  },
  {
   "cell_type": "code",
   "execution_count": 164,
   "id": "0ffba49e-62bc-48da-aeb7-a4f2aedd4be0",
   "metadata": {},
   "outputs": [
    {
     "data": {
      "text/html": [
       "<div>\n",
       "<style scoped>\n",
       "    .dataframe tbody tr th:only-of-type {\n",
       "        vertical-align: middle;\n",
       "    }\n",
       "\n",
       "    .dataframe tbody tr th {\n",
       "        vertical-align: top;\n",
       "    }\n",
       "\n",
       "    .dataframe thead th {\n",
       "        text-align: right;\n",
       "    }\n",
       "</style>\n",
       "<table border=\"1\" class=\"dataframe\">\n",
       "  <thead>\n",
       "    <tr style=\"text-align: right;\">\n",
       "      <th></th>\n",
       "      <th>author_id</th>\n",
       "      <th>author_display_name</th>\n",
       "      <th>author_orcid</th>\n",
       "      <th>inst_id</th>\n",
       "      <th>inst_display_name</th>\n",
       "      <th>species_subject</th>\n",
       "      <th>truncatedName</th>\n",
       "      <th>strippedName</th>\n",
       "      <th>order</th>\n",
       "      <th>kingdom</th>\n",
       "    </tr>\n",
       "  </thead>\n",
       "  <tbody>\n",
       "    <tr>\n",
       "      <th>0</th>\n",
       "      <td>https://openalex.org/A5011137012</td>\n",
       "      <td>Heikki Kotiranta</td>\n",
       "      <td>None</td>\n",
       "      <td>https://openalex.org/I2800424308</td>\n",
       "      <td>Finnish Environment Institute</td>\n",
       "      <td>[Corticium niveocremeum, Porpomyces abiens, Ba...</td>\n",
       "      <td>H Kotiranta</td>\n",
       "      <td>HeikkiKotiranta</td>\n",
       "      <td>[Trechisporales, Polyporales, Auriculariales, ...</td>\n",
       "      <td>[Fungi]</td>\n",
       "    </tr>\n",
       "    <tr>\n",
       "      <th>1</th>\n",
       "      <td>https://openalex.org/A5045822273</td>\n",
       "      <td>Rostislav Linda</td>\n",
       "      <td>https://orcid.org/0000-0002-9602-7915</td>\n",
       "      <td>https://openalex.org/I205984670</td>\n",
       "      <td>Czech University of Life Sciences Prague</td>\n",
       "      <td>[]</td>\n",
       "      <td>R Linda</td>\n",
       "      <td>RostislavLinda</td>\n",
       "      <td>[]</td>\n",
       "      <td>[]</td>\n",
       "    </tr>\n",
       "    <tr>\n",
       "      <th>2</th>\n",
       "      <td>https://openalex.org/A5113890450</td>\n",
       "      <td>Manjón Jl</td>\n",
       "      <td>None</td>\n",
       "      <td>https://openalex.org/I189268942</td>\n",
       "      <td>Universidad de Alcalá</td>\n",
       "      <td>[Apenidiella antarctica, Cladosporium fildesen...</td>\n",
       "      <td>M Jl</td>\n",
       "      <td>ManjónJl</td>\n",
       "      <td>[Mycosphaerellales, Capnodiales, Geastrales, H...</td>\n",
       "      <td>[Fungi, Plantae]</td>\n",
       "    </tr>\n",
       "    <tr>\n",
       "      <th>3</th>\n",
       "      <td>https://openalex.org/A5048775979</td>\n",
       "      <td>Volker Fingerle</td>\n",
       "      <td>https://orcid.org/0000-0002-3835-5646</td>\n",
       "      <td>https://openalex.org/I4210136625</td>\n",
       "      <td>European Society of Clinical Microbiology and ...</td>\n",
       "      <td>[]</td>\n",
       "      <td>V Fingerle</td>\n",
       "      <td>VolkerFingerle</td>\n",
       "      <td>[]</td>\n",
       "      <td>[]</td>\n",
       "    </tr>\n",
       "    <tr>\n",
       "      <th>4</th>\n",
       "      <td>https://openalex.org/A5027741017</td>\n",
       "      <td>Pierangelo Orlando</td>\n",
       "      <td>https://orcid.org/0000-0002-7821-8507</td>\n",
       "      <td>https://openalex.org/I4210091512</td>\n",
       "      <td>Institute of Applied Science and Intelligent S...</td>\n",
       "      <td>[]</td>\n",
       "      <td>P Orlando</td>\n",
       "      <td>PierangeloOrlando</td>\n",
       "      <td>[]</td>\n",
       "      <td>[]</td>\n",
       "    </tr>\n",
       "  </tbody>\n",
       "</table>\n",
       "</div>"
      ],
      "text/plain": [
       "                          author_id author_display_name  \\\n",
       "0  https://openalex.org/A5011137012    Heikki Kotiranta   \n",
       "1  https://openalex.org/A5045822273     Rostislav Linda   \n",
       "2  https://openalex.org/A5113890450           Manjón Jl   \n",
       "3  https://openalex.org/A5048775979     Volker Fingerle   \n",
       "4  https://openalex.org/A5027741017  Pierangelo Orlando   \n",
       "\n",
       "                            author_orcid                           inst_id  \\\n",
       "0                                   None  https://openalex.org/I2800424308   \n",
       "1  https://orcid.org/0000-0002-9602-7915   https://openalex.org/I205984670   \n",
       "2                                   None   https://openalex.org/I189268942   \n",
       "3  https://orcid.org/0000-0002-3835-5646  https://openalex.org/I4210136625   \n",
       "4  https://orcid.org/0000-0002-7821-8507  https://openalex.org/I4210091512   \n",
       "\n",
       "                                   inst_display_name  \\\n",
       "0                      Finnish Environment Institute   \n",
       "1           Czech University of Life Sciences Prague   \n",
       "2                              Universidad de Alcalá   \n",
       "3  European Society of Clinical Microbiology and ...   \n",
       "4  Institute of Applied Science and Intelligent S...   \n",
       "\n",
       "                                     species_subject truncatedName  \\\n",
       "0  [Corticium niveocremeum, Porpomyces abiens, Ba...   H Kotiranta   \n",
       "1                                                 []       R Linda   \n",
       "2  [Apenidiella antarctica, Cladosporium fildesen...          M Jl   \n",
       "3                                                 []    V Fingerle   \n",
       "4                                                 []     P Orlando   \n",
       "\n",
       "        strippedName                                              order  \\\n",
       "0    HeikkiKotiranta  [Trechisporales, Polyporales, Auriculariales, ...   \n",
       "1     RostislavLinda                                                 []   \n",
       "2           ManjónJl  [Mycosphaerellales, Capnodiales, Geastrales, H...   \n",
       "3     VolkerFingerle                                                 []   \n",
       "4  PierangeloOrlando                                                 []   \n",
       "\n",
       "            kingdom  \n",
       "0           [Fungi]  \n",
       "1                []  \n",
       "2  [Fungi, Plantae]  \n",
       "3                []  \n",
       "4                []  "
      ]
     },
     "execution_count": 164,
     "metadata": {},
     "output_type": "execute_result"
    }
   ],
   "source": [
    "authors_tree.head()"
   ]
  },
  {
   "cell_type": "code",
   "execution_count": 166,
   "id": "f19f302e-00de-41df-a004-06e9816854df",
   "metadata": {},
   "outputs": [
    {
     "name": "stdout",
     "output_type": "stream",
     "text": [
      "Number of authors studying Plantae:  5566\n",
      "Number of authors studying Animalia: 11526\n",
      "Number of authors studying Fungi:    1752\n"
     ]
    }
   ],
   "source": [
    "# 3. Count how many authors study each kingdom:\n",
    "num_plantae = sum(\"Plantae\" in k for k in authors_tree[\"kingdom\"])\n",
    "num_animalia = sum(\"Animalia\" in k for k in authors_tree[\"kingdom\"])\n",
    "num_fungi    = sum(\"Fungi\" in k for k in authors_tree[\"kingdom\"])\n",
    "\n",
    "print(f\"Number of authors studying Plantae:  {num_plantae}\")\n",
    "print(f\"Number of authors studying Animalia: {num_animalia}\")\n",
    "print(f\"Number of authors studying Fungi:    {num_fungi}\")\n"
   ]
  },
  {
   "cell_type": "code",
   "execution_count": 152,
   "id": "13fdf53c",
   "metadata": {},
   "outputs": [],
   "source": [
    "\"\"\"\n",
    "def get_number_families(kingdom_name):\n",
    "    kingdom = []\n",
    "\n",
    "    for author in authors_tree.itertuples():\n",
    "        if kingdom_name in author.kingdoms_subjects:\n",
    "            kingdom.append(author)\n",
    "            \n",
    "    kingdom_df = pd.DataFrame(kingdom)\n",
    "    \n",
    "    families = []\n",
    "    \n",
    "    for author in kingdom_df.itertuples():\n",
    "        for family in author.families_subjects:\n",
    "            families.append(family)\n",
    "            \n",
    "    return len(set(families))\n",
    "\"\"\""
   ]
  },
  {
   "cell_type": "code",
   "execution_count": 154,
   "id": "a803a2a9",
   "metadata": {},
   "outputs": [
    {
     "ename": "AttributeError",
     "evalue": "'Pandas' object has no attribute 'kingdoms_subjects'",
     "output_type": "error",
     "traceback": [
      "\u001b[1;31m---------------------------------------------------------------------------\u001b[0m",
      "\u001b[1;31mAttributeError\u001b[0m                            Traceback (most recent call last)",
      "Cell \u001b[1;32mIn[154], line 1\u001b[0m\n\u001b[1;32m----> 1\u001b[0m \u001b[38;5;28mprint\u001b[39m(\u001b[38;5;124m\"\u001b[39m\u001b[38;5;124mNumber of plant families in data: \u001b[39m\u001b[38;5;124m\"\u001b[39m \u001b[38;5;241m+\u001b[39m \u001b[38;5;28mstr\u001b[39m(get_number_families(\u001b[38;5;124m\"\u001b[39m\u001b[38;5;124mPlantae\u001b[39m\u001b[38;5;124m\"\u001b[39m)))\n\u001b[0;32m      2\u001b[0m \u001b[38;5;28mprint\u001b[39m(\u001b[38;5;124m\"\u001b[39m\u001b[38;5;124mNumber of animal families in data: \u001b[39m\u001b[38;5;124m\"\u001b[39m \u001b[38;5;241m+\u001b[39m \u001b[38;5;28mstr\u001b[39m(get_number_families(\u001b[38;5;124m\"\u001b[39m\u001b[38;5;124mAnimalia\u001b[39m\u001b[38;5;124m\"\u001b[39m)))\n\u001b[0;32m      3\u001b[0m \u001b[38;5;28mprint\u001b[39m(\u001b[38;5;124m\"\u001b[39m\u001b[38;5;124mNumber of fungal families in data: \u001b[39m\u001b[38;5;124m\"\u001b[39m \u001b[38;5;241m+\u001b[39m \u001b[38;5;28mstr\u001b[39m(get_number_families(\u001b[38;5;124m\"\u001b[39m\u001b[38;5;124mFungi\u001b[39m\u001b[38;5;124m\"\u001b[39m)))\n",
      "Cell \u001b[1;32mIn[152], line 5\u001b[0m, in \u001b[0;36mget_number_families\u001b[1;34m(kingdom_name)\u001b[0m\n\u001b[0;32m      2\u001b[0m kingdom \u001b[38;5;241m=\u001b[39m []\n\u001b[0;32m      4\u001b[0m \u001b[38;5;28;01mfor\u001b[39;00m author \u001b[38;5;129;01min\u001b[39;00m authors_tree\u001b[38;5;241m.\u001b[39mitertuples():\n\u001b[1;32m----> 5\u001b[0m     \u001b[38;5;28;01mif\u001b[39;00m kingdom_name \u001b[38;5;129;01min\u001b[39;00m author\u001b[38;5;241m.\u001b[39mkingdoms_subjects:\n\u001b[0;32m      6\u001b[0m         kingdom\u001b[38;5;241m.\u001b[39mappend(author)\n\u001b[0;32m      8\u001b[0m kingdom_df \u001b[38;5;241m=\u001b[39m pd\u001b[38;5;241m.\u001b[39mDataFrame(kingdom)\n",
      "\u001b[1;31mAttributeError\u001b[0m: 'Pandas' object has no attribute 'kingdoms_subjects'"
     ]
    }
   ],
   "source": [
    "\"\"\"\n",
    "print(\"Number of plant families in data: \" + str(get_number_families(\"Plantae\")))\n",
    "print(\"Number of animal families in data: \" + str(get_number_families(\"Animalia\")))\n",
    "print(\"Number of fungal families in data: \" + str(get_number_families(\"Fungi\")))\n",
    "# no protists in data\n",
    "\"\"\""
   ]
  },
  {
   "cell_type": "markdown",
   "id": "df131d7c",
   "metadata": {},
   "source": [
    "## 5. Most prolific authors"
   ]
  },
  {
   "cell_type": "code",
   "execution_count": 113,
   "id": "81332f7a",
   "metadata": {},
   "outputs": [],
   "source": [
    "top_authors = authors[\"author_id\"].value_counts()[0:10]"
   ]
  },
  {
   "cell_type": "code",
   "execution_count": 115,
   "id": "35c244f3",
   "metadata": {},
   "outputs": [
    {
     "data": {
      "text/plain": [
       "1.0"
      ]
     },
     "execution_count": 115,
     "metadata": {},
     "output_type": "execute_result"
    }
   ],
   "source": [
    "sum(list(authors[\"author_id\"].value_counts()))/len(list(authors[\"author_id\"].value_counts()))"
   ]
  },
  {
   "cell_type": "code",
   "execution_count": 117,
   "id": "e350e17b",
   "metadata": {},
   "outputs": [
    {
     "name": "stdout",
     "output_type": "stream",
     "text": [
      "Heikki Kotiranta has written 1 articles\n",
      "İlker Büyük has written 1 articles\n",
      "Sven Winter has written 1 articles\n",
      "Eladio Liñán has written 1 articles\n",
      "Cristina Coccia has written 1 articles\n",
      "Britta Munkes has written 1 articles\n",
      "Vitus Stachniss has written 1 articles\n",
      "Luís Guasch has written 1 articles\n",
      "Meryem Bozkurt has written 1 articles\n",
      "Ainhoa Ulibarri-Ochoa has written 1 articles\n"
     ]
    }
   ],
   "source": [
    "for author_id in top_authors.index:\n",
    "    print(authors[authors[\"author_id\"]==author_id].iloc[0][\"author_display_name\"] + \\\n",
    "          \" has written \" + str(top_authors.loc[author_id]) + \" articles\")"
   ]
  },
  {
   "cell_type": "code",
   "execution_count": 119,
   "id": "d91fef3e",
   "metadata": {},
   "outputs": [
    {
     "data": {
      "text/plain": [
       "(array([    0.,     0.,     0.,     0.,     0.,     0.,     0.,     0.,\n",
       "            0.,     0.,     0.,     0.,     0.,     0.,     0.,     0.,\n",
       "            0.,     0.,     0.,     0.,     0.,     0.,     0.,     0.,\n",
       "            0.,     0.,     0.,     0.,     0.,     0.,     0.,     0.,\n",
       "            0.,     0.,     0.,     0.,     0.,     0.,     0.,     0.,\n",
       "            0.,     0.,     0.,     0.,     0.,     0.,     0.,     0.,\n",
       "            0.,     0.,     0.,     0.,     0.,     0.,     0.,     0.,\n",
       "            0.,     0.,     0.,     0.,     0.,     0.,     0.,     0.,\n",
       "            0.,     0.,     0.,     0.,     0.,     0.,     0.,     0.,\n",
       "            0.,     0.,     0., 32799.,     0.,     0.,     0.,     0.,\n",
       "            0.,     0.,     0.,     0.,     0.,     0.,     0.,     0.,\n",
       "            0.,     0.,     0.,     0.,     0.,     0.,     0.,     0.,\n",
       "            0.,     0.,     0.,     0.,     0.,     0.,     0.,     0.,\n",
       "            0.,     0.,     0.,     0.,     0.,     0.,     0.,     0.,\n",
       "            0.,     0.,     0.,     0.,     0.,     0.,     0.,     0.,\n",
       "            0.,     0.,     0.,     0.,     0.,     0.,     0.,     0.,\n",
       "            0.,     0.,     0.,     0.,     0.,     0.,     0.,     0.,\n",
       "            0.,     0.,     0.,     0.,     0.,     0.,     0.,     0.,\n",
       "            0.,     0.,     0.,     0.,     0.,     0.]),\n",
       " array([0.5       , 0.50666667, 0.51333333, 0.52      , 0.52666667,\n",
       "        0.53333333, 0.54      , 0.54666667, 0.55333333, 0.56      ,\n",
       "        0.56666667, 0.57333333, 0.58      , 0.58666667, 0.59333333,\n",
       "        0.6       , 0.60666667, 0.61333333, 0.62      , 0.62666667,\n",
       "        0.63333333, 0.64      , 0.64666667, 0.65333333, 0.66      ,\n",
       "        0.66666667, 0.67333333, 0.68      , 0.68666667, 0.69333333,\n",
       "        0.7       , 0.70666667, 0.71333333, 0.72      , 0.72666667,\n",
       "        0.73333333, 0.74      , 0.74666667, 0.75333333, 0.76      ,\n",
       "        0.76666667, 0.77333333, 0.78      , 0.78666667, 0.79333333,\n",
       "        0.8       , 0.80666667, 0.81333333, 0.82      , 0.82666667,\n",
       "        0.83333333, 0.84      , 0.84666667, 0.85333333, 0.86      ,\n",
       "        0.86666667, 0.87333333, 0.88      , 0.88666667, 0.89333333,\n",
       "        0.9       , 0.90666667, 0.91333333, 0.92      , 0.92666667,\n",
       "        0.93333333, 0.94      , 0.94666667, 0.95333333, 0.96      ,\n",
       "        0.96666667, 0.97333333, 0.98      , 0.98666667, 0.99333333,\n",
       "        1.        , 1.00666667, 1.01333333, 1.02      , 1.02666667,\n",
       "        1.03333333, 1.04      , 1.04666667, 1.05333333, 1.06      ,\n",
       "        1.06666667, 1.07333333, 1.08      , 1.08666667, 1.09333333,\n",
       "        1.1       , 1.10666667, 1.11333333, 1.12      , 1.12666667,\n",
       "        1.13333333, 1.14      , 1.14666667, 1.15333333, 1.16      ,\n",
       "        1.16666667, 1.17333333, 1.18      , 1.18666667, 1.19333333,\n",
       "        1.2       , 1.20666667, 1.21333333, 1.22      , 1.22666667,\n",
       "        1.23333333, 1.24      , 1.24666667, 1.25333333, 1.26      ,\n",
       "        1.26666667, 1.27333333, 1.28      , 1.28666667, 1.29333333,\n",
       "        1.3       , 1.30666667, 1.31333333, 1.32      , 1.32666667,\n",
       "        1.33333333, 1.34      , 1.34666667, 1.35333333, 1.36      ,\n",
       "        1.36666667, 1.37333333, 1.38      , 1.38666667, 1.39333333,\n",
       "        1.4       , 1.40666667, 1.41333333, 1.42      , 1.42666667,\n",
       "        1.43333333, 1.44      , 1.44666667, 1.45333333, 1.46      ,\n",
       "        1.46666667, 1.47333333, 1.48      , 1.48666667, 1.49333333,\n",
       "        1.5       ]),\n",
       " <BarContainer object of 150 artists>)"
      ]
     },
     "execution_count": 119,
     "metadata": {},
     "output_type": "execute_result"
    },
    {
     "data": {
      "image/png": "[encoded data removed]",
      "text/plain": [
       "<Figure size 640x480 with 1 Axes>"
      ]
     },
     "metadata": {},
     "output_type": "display_data"
    }
   ],
   "source": [
    "plt.xlim(1,30)\n",
    "plt.hist(authors[\"author_id\"].value_counts(), bins=150)"
   ]
  },
  {
   "cell_type": "markdown",
   "id": "47b96cec",
   "metadata": {},
   "source": [
    "## 6. ORCID and Open Access percentages (not working)"
   ]
  },
  {
   "cell_type": "code",
   "execution_count": 121,
   "id": "03fb1805",
   "metadata": {},
   "outputs": [
    {
     "data": {
      "text/plain": [
       "0                                         None\n",
       "1        https://orcid.org/0000-0002-9602-7915\n",
       "2                                         None\n",
       "3        https://orcid.org/0000-0002-3835-5646\n",
       "4        https://orcid.org/0000-0002-7821-8507\n",
       "                         ...                  \n",
       "32497    https://orcid.org/0000-0002-5328-3898\n",
       "32498                                       {}\n",
       "32499                                       {}\n",
       "32500                                       {}\n",
       "32501    https://orcid.org/0000-0002-8691-772X\n",
       "Name: author_orcid, Length: 32502, dtype: object"
      ]
     },
     "execution_count": 121,
     "metadata": {},
     "output_type": "execute_result"
    }
   ],
   "source": [
    "# total percentage of authors with ORCID\n",
    "disamb_authors[\"author_orcid\"]"
   ]
  },
  {
   "cell_type": "code",
   "execution_count": 122,
   "id": "e6138bb3",
   "metadata": {},
   "outputs": [
    {
     "name": "stdout",
     "output_type": "stream",
     "text": [
      "Percentage of authors with an ORCID: 74.87231554981231\n"
     ]
    }
   ],
   "source": [
    "orcid = 0\n",
    "no_orcid = 0\n",
    "\n",
    "for x in disamb_authors[\"author_orcid\"]:\n",
    "    if isinstance(x, str):\n",
    "        if x.split(\".org/\")[0] == \"https://orcid\":\n",
    "            orcid += 1\n",
    "        #\"\"\" # checking if there are ORCIDs in lists didn't change the results\n",
    "        #elif isinstance(x, tuple) or isinstance(x, set) or isinstance(x, list):\n",
    "        #    if isinstance(x[0], str):\n",
    "        #        if x[0].split(\".org/\")[0] == \"https://orcid\":\n",
    "        #            orcid += 1\n",
    "        #        else:\n",
    "        #            no_oricd += 1\n",
    "        #    else:\n",
    "        #        no_orcid += 1\n",
    "        #\"\"\"\n",
    "        else:\n",
    "            no_orcid += 1\n",
    "    else:\n",
    "        no_orcid += 1\n",
    "        \n",
    "print(\"Percentage of authors with an ORCID: \" + str(orcid/(no_orcid+orcid)*100))"
   ]
  },
  {
   "cell_type": "code",
   "execution_count": 123,
   "id": "11ebfcaa",
   "metadata": {
    "scrolled": true
   },
   "outputs": [],
   "source": [
    "articles = pd.read_pickle(\"../data/processed/taxonomic_articles_with_subjects.pkl\")"
   ]
  },
  {
   "cell_type": "code",
   "execution_count": 124,
   "id": "36b5b55e",
   "metadata": {},
   "outputs": [
    {
     "name": "stdout",
     "output_type": "stream",
     "text": [
      "Percentage of European articles that are Open Access: 55.5092659100704\n"
     ]
    }
   ],
   "source": [
    "vc = articles[\"oa_is_oa\"].value_counts()\n",
    "\n",
    "# Safely accessing by position using iloc\n",
    "open_access_count = vc.iloc[0]\n",
    "non_open_access_count = vc.iloc[1]\n",
    "\n",
    "# Calculate the percentage\n",
    "percentage_oa = (open_access_count / (open_access_count + non_open_access_count)) * 100\n",
    "\n",
    "# Print the result\n",
    "print(f\"Percentage of European articles that are Open Access: {percentage_oa}\")\n"
   ]
  },
  {
   "cell_type": "code",
   "execution_count": 125,
   "id": "86880c08",
   "metadata": {},
   "outputs": [
    {
     "name": "stdout",
     "output_type": "stream",
     "text": [
      "Percentage of European articles that are Open Access: 55.5092659100704\n"
     ]
    }
   ],
   "source": [
    "vc = articles[\"oa_is_oa\"].value_counts()\n",
    "\n",
    "# Safely access by position using .iloc\n",
    "if len(vc) > 1:  # Ensure there are at least two unique values\n",
    "    open_access_count = vc.iloc[0]\n",
    "    non_open_access_count = vc.iloc[1]\n",
    "\n",
    "    # Calculate the percentage\n",
    "    percentage_oa = (open_access_count / (open_access_count + non_open_access_count)) * 100\n",
    "\n",
    "    # Print the result\n",
    "    print(f\"Percentage of European articles that are Open Access: {percentage_oa}\")\n",
    "else:\n",
    "    print(\"Not enough data to calculate Open Access percentage.\")\n"
   ]
  },
  {
   "cell_type": "code",
   "execution_count": 126,
   "id": "d4cc93f8",
   "metadata": {},
   "outputs": [
    {
     "data": {
      "text/plain": [
       "Index(['id', 'doi', 'title', 'display_name', 'publication_year',\n",
       "       'publication_date', 'ids', 'language', 'primary_location', 'type',\n",
       "       'type_crossref', 'indexed_in', 'open_access', 'authorships',\n",
       "       'institution_assertions', 'countries_distinct_count',\n",
       "       'institutions_distinct_count', 'corresponding_author_ids',\n",
       "       'corresponding_institution_ids', 'apc_list', 'apc_paid', 'fwci',\n",
       "       'has_fulltext', 'fulltext_origin', 'cited_by_count',\n",
       "       'citation_normalized_percentile', 'cited_by_percentile_year', 'biblio',\n",
       "       'is_retracted', 'is_paratext', 'primary_topic', 'topics', 'keywords',\n",
       "       'concepts', 'mesh', 'locations_count', 'locations', 'best_oa_location',\n",
       "       'sustainable_development_goals', 'grants', 'datasets', 'versions',\n",
       "       'referenced_works_count', 'referenced_works', 'related_works',\n",
       "       'abstract_inverted_index', 'cited_by_api_url', 'counts_by_year',\n",
       "       'updated_date', 'created_date', 'is_authors_truncated',\n",
       "       'location_is_oa', 'location_landing_page_url', 'location_pdf_url',\n",
       "       'location_source', 'location_license', 'location_license_id',\n",
       "       'location_version', 'location_is_accepted', 'location_is_published',\n",
       "       'source_id', 'source_display_name', 'source_issn_l', 'source_issn',\n",
       "       'source_is_oa', 'source_is_in_doaj', 'source_is_core',\n",
       "       'source_host_organization', 'source_host_organization_name',\n",
       "       'source_host_organization_lineage',\n",
       "       'source_host_organization_lineage_names', 'source_type', 'oa_is_oa',\n",
       "       'oa_oa_status', 'oa_oa_url', 'oa_any_repository_has_fulltext',\n",
       "       'abstract_full_text', 'species_subject'],\n",
       "      dtype='object')"
      ]
     },
     "execution_count": 126,
     "metadata": {},
     "output_type": "execute_result"
    }
   ],
   "source": [
    "articles.columns"
   ]
  },
  {
   "cell_type": "code",
   "execution_count": 127,
   "id": "e8564471",
   "metadata": {},
   "outputs": [],
   "source": [
    "def species_to_tree(df, backbone):\n",
    "    # make dictionary of genus, family, order, class, phylum, kingdom for every species\n",
    "    seen_species = {}\n",
    "\n",
    "    for species in backbone.itertuples():\n",
    "        if species.canonicalName not in seen_species:\n",
    "            seen_species[species.canonicalName] = list(species)[2:]\n",
    "    \n",
    "    # associate the full tree with a certain author or article\n",
    "    genera, families, orders, classes, phyla, kingdoms, lineages = [], [], [], [], [], [], []\n",
    "\n",
    "    for row in df.itertuples():\n",
    "        genus, family, order, tclass, phylum, kingdom, lineage = [], [], [], [], [], [], []\n",
    "                            # python won't allow class as a variable name\n",
    "\n",
    "        for species in row.species_subject:\n",
    "            if species in seen_species:\n",
    "                genus.append(seen_species[species][-1])\n",
    "                family.append(seen_species[species][-2])\n",
    "                order.append(seen_species[species][-3])\n",
    "                tclass.append(seen_species[species][-4])\n",
    "                phylum.append(seen_species[species][-5])\n",
    "                kingdom.append(seen_species[species][-6])\n",
    "                \n",
    "                lineage.append(seen_species[species][-6:])\n",
    "\n",
    "        genera.append(set(genus))\n",
    "        families.append(set(family))\n",
    "        orders.append(set(order))\n",
    "        classes.append(set(tclass))\n",
    "        phyla.append(set(phylum))\n",
    "        kingdoms.append(set(kingdom))\n",
    "        lineages.append(lineage)\n",
    "\n",
    "    df[\"genera_subjects\"] = genera\n",
    "    df[\"families_subjects\"] = families\n",
    "    df[\"orders_subjects\"] = orders\n",
    "    df[\"classes_subjects\"] = classes\n",
    "    df[\"phyla_subjects\"] = phyla\n",
    "    df[\"kingdoms_subjects\"] = kingdoms\n",
    "    df[\"lineages_subjects\"] = lineages\n",
    "    \n",
    "    return df"
   ]
  },
  {
   "cell_type": "code",
   "execution_count": 128,
   "id": "fa9867f3",
   "metadata": {},
   "outputs": [],
   "source": [
    "def preprocess_backbone(path=\"../data/external/backbone/Taxon.tsv\", no_blanks=False):\n",
    "    # GBIF taxonomic bakcbone\n",
    "    try:\n",
    "        backbone = pd.read_csv(\n",
    "                path,\n",
    "                sep=\"\\t\",\n",
    "                on_bad_lines='skip',\n",
    "                low_memory=False,  # Ensures the entire file is processed in memory\n",
    "                dtype=str  # Treats all columns as strings to avoid mixed-type issues\n",
    "        )\n",
    "    except Exception as e:\n",
    "        raise RuntimeError(f\"Failed to load file: {e}\")\n",
    "        \n",
    "    # Ensure the key columns have appropriate data types\n",
    "    for col in [\"canonicalName\", \"kingdom\", \"genus\", \"family\", \"order\", \"class\", \"phylum\"]:\n",
    "        if col in backbone.columns:\n",
    "            backbone[col] = backbone[col].astype(str).str.strip()  # Ensure consistent types and no extra whitespace\n",
    "          \n",
    "    # only Eukarya\n",
    "    backbone = backbone[(backbone[\"kingdom\"]==\"Animalia\") | \n",
    "                        (backbone[\"kingdom\"]==\"Plantae\") |\n",
    "                        (backbone[\"kingdom\"]==\"Fungi\")]\n",
    "    # include non-accepted species (synonyms etc), but not blank canonical names \n",
    "    backbone = backbone[np.logical_not(backbone[\"canonicalName\"].isnull())].reset_index(drop=True)\n",
    "    \n",
    "    if no_blanks:\n",
    "        backbone = backbone[np.logical_not(backbone[\"genus\"].isnull())].reset_index(drop=True)\n",
    "        backbone = backbone[np.logical_not(backbone[\"family\"].isnull())].reset_index(drop=True)\n",
    "        backbone = backbone[np.logical_not(backbone[\"order\"].isnull())].reset_index(drop=True)\n",
    "        backbone = backbone[np.logical_not(backbone[\"class\"].isnull())].reset_index(drop=True)\n",
    "        backbone = backbone[np.logical_not(backbone[\"phylum\"].isnull())].reset_index(drop=True)\n",
    "        backbone = backbone[np.logical_not(backbone[\"kingdom\"].isnull())].reset_index(drop=True)\n",
    "\n",
    "    backbone = backbone.drop_duplicates(ignore_index=True)\n",
    "    return backbone"
   ]
  },
  {
   "cell_type": "code",
   "execution_count": 129,
   "id": "e6f9e856",
   "metadata": {},
   "outputs": [],
   "source": [
    "import numpy as np"
   ]
  },
  {
   "cell_type": "code",
   "execution_count": 130,
   "id": "32d41862",
   "metadata": {},
   "outputs": [],
   "source": [
    "backbone = preprocess_backbone()"
   ]
  },
  {
   "cell_type": "code",
   "execution_count": 131,
   "id": "c32924a4",
   "metadata": {},
   "outputs": [],
   "source": [
    "articles2 = species_to_tree(articles, backbone)"
   ]
  },
  {
   "cell_type": "code",
   "execution_count": 132,
   "id": "c183bff9",
   "metadata": {},
   "outputs": [],
   "source": [
    "plants_open = 0\n",
    "plants_closed = 0\n",
    "\n",
    "animals_open = 0\n",
    "animals_closed = 0\n",
    "\n",
    "fungi_open = 0\n",
    "fungi_closed = 0\n",
    "\n",
    "for row in articles2.itertuples():\n",
    "    if \"Plantae\" in row.kingdoms_subjects:\n",
    "        if row.oa_is_oa:\n",
    "            plants_open += 1\n",
    "        else:\n",
    "            plants_closed += 1\n",
    "            \n",
    "    if \"Animalia\" in row.kingdoms_subjects:\n",
    "        if row.oa_is_oa:\n",
    "            animals_open += 1\n",
    "        else:\n",
    "            animals_closed += 1\n",
    "            \n",
    "    if \"Fungi\" in row.kingdoms_subjects:\n",
    "        if row.oa_is_oa:\n",
    "            fungi_open += 1\n",
    "        else:\n",
    "            fungi_closed += 1"
   ]
  },
  {
   "cell_type": "code",
   "execution_count": 133,
   "id": "97aab46b",
   "metadata": {},
   "outputs": [
    {
     "name": "stdout",
     "output_type": "stream",
     "text": [
      "Percentage of articles about plants that are open access: 53.39477148768103\n",
      "Percentage of articles about animals that are open access: 49.60268280236203\n",
      "Percentage of articles about fungi that are open access: 52.90909090909091\n"
     ]
    }
   ],
   "source": [
    "print(\"Percentage of articles about plants that are open access: \" + \\\n",
    "      str(plants_open/(plants_open+plants_closed)*100))\n",
    "print(\"Percentage of articles about animals that are open access: \" + \\\n",
    "      str(animals_open/(animals_open+animals_closed)*100))\n",
    "print(\"Percentage of articles about fungi that are open access: \" + \\\n",
    "      str(fungi_open/(fungi_open+fungi_closed)*100))"
   ]
  },
  {
   "cell_type": "code",
   "execution_count": null,
   "id": "aa721c74-4ef0-4c47-9794-0e9de89ef391",
   "metadata": {},
   "outputs": [],
   "source": []
  },
  {
   "cell_type": "code",
   "execution_count": null,
   "id": "59ac4e0c-c2c8-4d35-9b15-109e6c721afd",
   "metadata": {},
   "outputs": [],
   "source": []
  }
 ],
 "metadata": {
  "kernelspec": {
   "display_name": "Python 3 (ipykernel)",
   "language": "python",
   "name": "python3"
  },
  "language_info": {
   "codemirror_mode": {
    "name": "ipython",
    "version": 3
   },
   "file_extension": ".py",
   "mimetype": "text/x-python",
   "name": "python",
   "nbconvert_exporter": "python",
   "pygments_lexer": "ipython3",
   "version": "3.11.7"
  }
 },
 "nbformat": 4,
 "nbformat_minor": 5
}
