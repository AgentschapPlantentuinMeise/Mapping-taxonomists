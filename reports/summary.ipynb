{
 "cells": [
  {
   "cell_type": "markdown",
   "id": "26e36e21",
   "metadata": {},
   "source": [
    "# Counting results"
   ]
  },
  {
   "cell_type": "code",
   "execution_count": 17,
   "id": "7eb4aa07",
   "metadata": {},
   "outputs": [],
   "source": [
    "import pandas as pd\n",
    "from matplotlib_venn import venn3\n",
    "from matplotlib import pyplot as plt"
   ]
  },
  {
   "cell_type": "markdown",
   "id": "1969da51-73e7-4a1d-83a2-91659169acb6",
   "metadata": {},
   "source": [
    "## Table in appendix"
   ]
  },
  {
   "cell_type": "code",
   "execution_count": 18,
   "id": "66bb7b4a-a7d6-403f-b231-fa235c0a7d5b",
   "metadata": {},
   "outputs": [
    {
     "data": {
      "text/html": [
       "<div>\n",
       "<style scoped>\n",
       "    .dataframe tbody tr th:only-of-type {\n",
       "        vertical-align: middle;\n",
       "    }\n",
       "\n",
       "    .dataframe tbody tr th {\n",
       "        vertical-align: top;\n",
       "    }\n",
       "\n",
       "    .dataframe thead th {\n",
       "        text-align: right;\n",
       "    }\n",
       "</style>\n",
       "<table border=\"1\" class=\"dataframe\">\n",
       "  <thead>\n",
       "    <tr style=\"text-align: right;\">\n",
       "      <th></th>\n",
       "      <th>title</th>\n",
       "      <th>wikidataURL</th>\n",
       "      <th>ISSN-L</th>\n",
       "      <th>openAlexID</th>\n",
       "      <th>IPNIpubID</th>\n",
       "      <th>ZooBankPubID</th>\n",
       "      <th>dissolvedYear</th>\n",
       "      <th>dissolved</th>\n",
       "      <th>source</th>\n",
       "    </tr>\n",
       "  </thead>\n",
       "  <tbody>\n",
       "    <tr>\n",
       "      <th>0</th>\n",
       "      <td>Muelleria</td>\n",
       "      <td>http://www.wikidata.org/entity/Q11693922</td>\n",
       "      <td>0077-1813</td>\n",
       "      <td>S4306520314</td>\n",
       "      <td>1554-2</td>\n",
       "      <td>NaN</td>\n",
       "      <td>NaN</td>\n",
       "      <td>NaN</td>\n",
       "      <td>Wikidata taxonomic subject</td>\n",
       "    </tr>\n",
       "    <tr>\n",
       "      <th>1</th>\n",
       "      <td>The Auk</td>\n",
       "      <td>http://www.wikidata.org/entity/Q2300649</td>\n",
       "      <td>0004-8038</td>\n",
       "      <td>S152904045</td>\n",
       "      <td>NaN</td>\n",
       "      <td>3F3F951F-B494-44B0-B286-AF9BCB097966</td>\n",
       "      <td>NaN</td>\n",
       "      <td>NaN</td>\n",
       "      <td>Wikidata taxonomic subject</td>\n",
       "    </tr>\n",
       "    <tr>\n",
       "      <th>2</th>\n",
       "      <td>Nuytsia</td>\n",
       "      <td>http://www.wikidata.org/entity/Q2005798</td>\n",
       "      <td>0085-4417</td>\n",
       "      <td>S103214341</td>\n",
       "      <td>1029-2</td>\n",
       "      <td>NaN</td>\n",
       "      <td>NaN</td>\n",
       "      <td>NaN</td>\n",
       "      <td>Wikidata taxonomic subject</td>\n",
       "    </tr>\n",
       "    <tr>\n",
       "      <th>3</th>\n",
       "      <td>Kew Bulletin</td>\n",
       "      <td>http://www.wikidata.org/entity/Q2675794</td>\n",
       "      <td>0075-5974</td>\n",
       "      <td>S157974409</td>\n",
       "      <td>987-2</td>\n",
       "      <td>NaN</td>\n",
       "      <td>NaN</td>\n",
       "      <td>NaN</td>\n",
       "      <td>Wikidata taxonomic subject</td>\n",
       "    </tr>\n",
       "    <tr>\n",
       "      <th>4</th>\n",
       "      <td>Willdenowia</td>\n",
       "      <td>http://www.wikidata.org/entity/Q2675951</td>\n",
       "      <td>0511-9618</td>\n",
       "      <td>S107729305</td>\n",
       "      <td>3087-2</td>\n",
       "      <td>NaN</td>\n",
       "      <td>NaN</td>\n",
       "      <td>NaN</td>\n",
       "      <td>Wikidata taxonomic subject</td>\n",
       "    </tr>\n",
       "  </tbody>\n",
       "</table>\n",
       "</div>"
      ],
      "text/plain": [
       "          title                               wikidataURL     ISSN-L  \\\n",
       "0     Muelleria  http://www.wikidata.org/entity/Q11693922  0077-1813   \n",
       "1       The Auk   http://www.wikidata.org/entity/Q2300649  0004-8038   \n",
       "2       Nuytsia   http://www.wikidata.org/entity/Q2005798  0085-4417   \n",
       "3  Kew Bulletin   http://www.wikidata.org/entity/Q2675794  0075-5974   \n",
       "4   Willdenowia   http://www.wikidata.org/entity/Q2675951  0511-9618   \n",
       "\n",
       "    openAlexID IPNIpubID                          ZooBankPubID dissolvedYear  \\\n",
       "0  S4306520314    1554-2                                   NaN           NaN   \n",
       "1   S152904045       NaN  3F3F951F-B494-44B0-B286-AF9BCB097966           NaN   \n",
       "2   S103214341    1029-2                                   NaN           NaN   \n",
       "3   S157974409     987-2                                   NaN           NaN   \n",
       "4   S107729305    3087-2                                   NaN           NaN   \n",
       "\n",
       "  dissolved                      source  \n",
       "0       NaN  Wikidata taxonomic subject  \n",
       "1       NaN  Wikidata taxonomic subject  \n",
       "2       NaN  Wikidata taxonomic subject  \n",
       "3       NaN  Wikidata taxonomic subject  \n",
       "4       NaN  Wikidata taxonomic subject  "
      ]
     },
     "execution_count": 18,
     "metadata": {},
     "output_type": "execute_result"
    }
   ],
   "source": [
    "journals = pd.read_csv(\"../data/processed/journals_deduplicated.csv\")\n",
    "journals.head()"
   ]
  },
  {
   "cell_type": "code",
   "execution_count": 19,
   "id": "5ac7f26a-9f38-4ae8-8ab4-80579f8e0c41",
   "metadata": {},
   "outputs": [],
   "source": [
    "#table = pd.DataFrame({\"name\":[\"Taxonomic journals with title\",\n",
    "#                             \"Journals with Wikidata ID\",\n",
    "#                             \"Journals with ISSN-L\",\n",
    "#                             \"Journals with IPNI Publication ID in Wikidata\",\n",
    "#                             \"Journals with ZooBank Publication ID in Wikidata\",\n",
    "#                             \"Journals with OpenAlex ID\"\n",
    "#                            # union of OpenAlex ID and IPNI etc\n",
    "#                             ],\n",
    "#                      \"value\":[0,0,0,0,0,0]})\n",
    "#\n",
    "#table[\"value\"] = table[\"value\"].astype(str)  # Convert the column to string type\n",
    "#\n",
    "#table.loc[0,\"value\"] = str(len([x for x in journals[\"title\"] if x == x]))\n",
    "\n",
    "#for i, column in enumerate(journals.columns[1:6]):\n",
    "#    table.loc[i+1, \"value\"] = str(len([x for x in journals[column] if x == x]))\n",
    "\n",
    "#table = table.set_index(\"name\")\n",
    "#table # ctrl + click to select cells to copy"
   ]
  },
  {
   "cell_type": "markdown",
   "id": "97e17f6c",
   "metadata": {},
   "source": [
    "## 1. Journals"
   ]
  },
  {
   "cell_type": "markdown",
   "id": "9058680a",
   "metadata": {},
   "source": [
    "Taxonomic journals:\n",
    "- with title\n",
    "- found on wikidata (each method)\n",
    "- found on OpenAlex\n",
    "- total\n",
    "- still publishing in the last 10 years\n",
    "- dissolved (confirmed)\n",
    "- with ISSN-L\n",
    "- with IPNI publication ID\n",
    "- with ZooBank publication ID\n",
    "- with OpenAlex ID"
   ]
  },
  {
   "cell_type": "code",
   "execution_count": 20,
   "id": "a8eeaafd",
   "metadata": {},
   "outputs": [
    {
     "name": "stdout",
     "output_type": "stream",
     "text": [
      "Number of journals: 2686\n",
      "Number of journals with known title: 2686\n"
     ]
    }
   ],
   "source": [
    "print(\"Number of journals: \" + str(len(journals)))\n",
    "print(\"Number of journals with known title: \"+\\\n",
    "      str(len([x for x in journals[\"title\"] if x == x])))"
   ]
  },
  {
   "cell_type": "code",
   "execution_count": 21,
   "id": "3ff79991",
   "metadata": {},
   "outputs": [
    {
     "name": "stdout",
     "output_type": "stream",
     "text": [
      "Number of journals with wikidataURL: 2631\n",
      "Number of journals with ISSN-L: 2001\n",
      "Number of journals with openAlexID: 1103\n",
      "Number of journals with IPNIpubID: 1821\n",
      "Number of journals with ZooBankPubID: 867\n"
     ]
    }
   ],
   "source": [
    "for column in journals.columns[1:6]:\n",
    "    print(f\"Number of journals with {column}: {journals[column].notna().sum()}\")"
   ]
  },
  {
   "cell_type": "code",
   "execution_count": 22,
   "id": "ced81066",
   "metadata": {},
   "outputs": [
    {
     "name": "stdout",
     "output_type": "stream",
     "text": [
      "Journals that were dissolved (confirmed): \n"
     ]
    },
    {
     "data": {
      "text/plain": [
       "dissolved\n",
       "True     644\n",
       "False    157\n",
       "Name: count, dtype: int64"
      ]
     },
     "execution_count": 22,
     "metadata": {},
     "output_type": "execute_result"
    }
   ],
   "source": [
    "print(\"Journals that were dissolved (confirmed): \")\n",
    "journals[\"dissolved\"].value_counts()"
   ]
  },
  {
   "cell_type": "code",
   "execution_count": 23,
   "id": "2dd20b0c-87a1-4c23-896d-ed837d26d448",
   "metadata": {},
   "outputs": [
    {
     "name": "stdout",
     "output_type": "stream",
     "text": [
      "                                                  title  \\\n",
      "2293  Rozprawy i Sprawozdania z Posiedzen Wydzialu M...   \n",
      "2003        Abhandlungen der Geologischen Bundesanstalt   \n",
      "422   Archivio Botanico per la Sistematica, Fitogeog...   \n",
      "1778                Berlinisches Jahrbuch der Pharmacie   \n",
      "2438             Memorias del Museo de Historia Natural   \n",
      "...                                                 ...   \n",
      "2270                   Zeitschrift für Sukkulentenkunde   \n",
      "974      Anales del Instituto Botánico A. J. Cavanilles   \n",
      "1869                                         Strelitzia   \n",
      "861   Bollettino del Museo Regionale di Scienze Natu...   \n",
      "1090                               Tạp chí Sinh Vật Học   \n",
      "\n",
      "                                    wikidataURL     ISSN-L openAlexID  \\\n",
      "2293   http://www.wikidata.org/entity/Q96774686  2081-1896        NaN   \n",
      "2003   http://www.wikidata.org/entity/Q13548386        NaN        NaN   \n",
      "422    http://www.wikidata.org/entity/Q16488670  1721-1670        NaN   \n",
      "1778    http://www.wikidata.org/entity/Q5726395        NaN        NaN   \n",
      "2438   http://www.wikidata.org/entity/Q21385486  0373-577X        NaN   \n",
      "...                                         ...        ...        ...   \n",
      "2270    http://www.wikidata.org/entity/Q6171069  2944-4640        NaN   \n",
      "974     http://www.wikidata.org/entity/Q5694355  0365-0790        NaN   \n",
      "1869   http://www.wikidata.org/entity/Q13548608  1025-322X        NaN   \n",
      "861    http://www.wikidata.org/entity/Q21385965  0392-758X        NaN   \n",
      "1090  http://www.wikidata.org/entity/Q108744086  0251-0995        NaN   \n",
      "\n",
      "     IPNIpubID                          ZooBankPubID dissolvedYear dissolved  \\\n",
      "2293    5041-2                                   NaN           NaN       NaN   \n",
      "2003    6710-2                                   NaN           NaN       NaN   \n",
      "422     4151-2                                   NaN           NaN       NaN   \n",
      "1778    8987-2                                   NaN           NaN       NaN   \n",
      "2438    7616-2                                   NaN           NaN       NaN   \n",
      "...        ...                                   ...           ...       ...   \n",
      "2270    8633-2                                   NaN           NaN       NaN   \n",
      "974     3783-2                                   NaN           NaN       NaN   \n",
      "1869   17433-2                                   NaN           NaN       NaN   \n",
      "861     1882-2  39EEA660-B466-48A3-9F94-714F5BF5F296           NaN       NaN   \n",
      "1090       NaN  21CB5394-F09C-4316-8672-C5A1F2C4F4FE           NaN       NaN   \n",
      "\n",
      "                  source  \n",
      "2293  IPNI or ZooBank ID  \n",
      "2003  IPNI or ZooBank ID  \n",
      "422   IPNI or ZooBank ID  \n",
      "1778  IPNI or ZooBank ID  \n",
      "2438  IPNI or ZooBank ID  \n",
      "...                  ...  \n",
      "2270  IPNI or ZooBank ID  \n",
      "974   IPNI or ZooBank ID  \n",
      "1869  IPNI or ZooBank ID  \n",
      "861   IPNI or ZooBank ID  \n",
      "1090  IPNI or ZooBank ID  \n",
      "\n",
      "[100 rows x 9 columns]\n",
      "Total journals with no OpenAlexID and not dissolved: 1122\n"
     ]
    }
   ],
   "source": [
    "# Filter journals with no OpenAlexID and not dissolved\n",
    "filtered_data = journals[journals[\"openAlexID\"].isna() & journals[\"dissolvedYear\"].isna()]\n",
    "\n",
    "# Take a random sample of 100 rows (all columns)\n",
    "sample = filtered_data.sample(n=100, random_state=42)  # Adjust 'n' for sample size\n",
    "\n",
    "# Output the sample\n",
    "print(sample)\n",
    "\n",
    "# Optionally, save the sample to a file\n",
    "sample.to_csv(\"sample_journals.csv\", index=False)\n",
    "\n",
    "# Count the total\n",
    "total_count = filtered_data.shape[0]  # Number of rows in the filtered data\n",
    "\n",
    "# Print the total count\n",
    "print(f\"Total journals with no OpenAlexID and not dissolved: {total_count}\")\n"
   ]
  },
  {
   "cell_type": "code",
   "execution_count": 25,
   "id": "cdea3ecc",
   "metadata": {},
   "outputs": [
    {
     "data": {
      "text/html": [
       "<div>\n",
       "<style scoped>\n",
       "    .dataframe tbody tr th:only-of-type {\n",
       "        vertical-align: middle;\n",
       "    }\n",
       "\n",
       "    .dataframe tbody tr th {\n",
       "        vertical-align: top;\n",
       "    }\n",
       "\n",
       "    .dataframe thead th {\n",
       "        text-align: right;\n",
       "    }\n",
       "</style>\n",
       "<table border=\"1\" class=\"dataframe\">\n",
       "  <thead>\n",
       "    <tr style=\"text-align: right;\">\n",
       "      <th></th>\n",
       "      <th>Index</th>\n",
       "      <th>id</th>\n",
       "      <th>doi</th>\n",
       "      <th>title</th>\n",
       "      <th>display_name</th>\n",
       "      <th>publication_year</th>\n",
       "      <th>publication_date</th>\n",
       "      <th>ids</th>\n",
       "      <th>language</th>\n",
       "      <th>primary_location</th>\n",
       "      <th>...</th>\n",
       "      <th>source_is_core</th>\n",
       "      <th>source_host_organization</th>\n",
       "      <th>source_host_organization_name</th>\n",
       "      <th>source_host_organization_lineage</th>\n",
       "      <th>source_host_organization_lineage_names</th>\n",
       "      <th>source_type</th>\n",
       "      <th>oa_is_oa</th>\n",
       "      <th>oa_oa_status</th>\n",
       "      <th>oa_oa_url</th>\n",
       "      <th>oa_any_repository_has_fulltext</th>\n",
       "    </tr>\n",
       "  </thead>\n",
       "  <tbody>\n",
       "    <tr>\n",
       "      <th>0</th>\n",
       "      <td>0</td>\n",
       "      <td>https://openalex.org/W2766208183</td>\n",
       "      <td>https://doi.org/10.1371/journal.pone.0185809</td>\n",
       "      <td>More than 75 percent decline over 27 years in ...</td>\n",
       "      <td>More than 75 percent decline over 27 years in ...</td>\n",
       "      <td>2017</td>\n",
       "      <td>2017-10-18</td>\n",
       "      <td>{'openalex': 'https://openalex.org/W2766208183...</td>\n",
       "      <td>en</td>\n",
       "      <td>{'is_oa': True, 'landing_page_url': 'https://d...</td>\n",
       "      <td>...</td>\n",
       "      <td>True</td>\n",
       "      <td>https://openalex.org/P4310315706</td>\n",
       "      <td>Public Library of Science</td>\n",
       "      <td>[https://openalex.org/P4310315706]</td>\n",
       "      <td>[Public Library of Science]</td>\n",
       "      <td>journal</td>\n",
       "      <td>True</td>\n",
       "      <td>gold</td>\n",
       "      <td>https://journals.plos.org/plosone/article/file...</td>\n",
       "      <td>True</td>\n",
       "    </tr>\n",
       "    <tr>\n",
       "      <th>1</th>\n",
       "      <td>2</td>\n",
       "      <td>https://openalex.org/W2130560194</td>\n",
       "      <td>https://doi.org/10.1371/journal.pone.0105992</td>\n",
       "      <td>SoilGrids1km — Global Soil Information Based o...</td>\n",
       "      <td>SoilGrids1km — Global Soil Information Based o...</td>\n",
       "      <td>2014</td>\n",
       "      <td>2014-08-29</td>\n",
       "      <td>{'openalex': 'https://openalex.org/W2130560194...</td>\n",
       "      <td>en</td>\n",
       "      <td>{'is_oa': True, 'landing_page_url': 'https://d...</td>\n",
       "      <td>...</td>\n",
       "      <td>True</td>\n",
       "      <td>https://openalex.org/P4310315706</td>\n",
       "      <td>Public Library of Science</td>\n",
       "      <td>[https://openalex.org/P4310315706]</td>\n",
       "      <td>[Public Library of Science]</td>\n",
       "      <td>journal</td>\n",
       "      <td>True</td>\n",
       "      <td>gold</td>\n",
       "      <td>https://journals.plos.org/plosone/article/file...</td>\n",
       "      <td>True</td>\n",
       "    </tr>\n",
       "    <tr>\n",
       "      <th>2</th>\n",
       "      <td>3</td>\n",
       "      <td>https://openalex.org/W2155544089</td>\n",
       "      <td>https://doi.org/10.1371/journal.pone.0125814</td>\n",
       "      <td>Mapping Soil Properties of Africa at 250 m Res...</td>\n",
       "      <td>Mapping Soil Properties of Africa at 250 m Res...</td>\n",
       "      <td>2015</td>\n",
       "      <td>2015-06-25</td>\n",
       "      <td>{'openalex': 'https://openalex.org/W2155544089...</td>\n",
       "      <td>en</td>\n",
       "      <td>{'is_oa': True, 'landing_page_url': 'https://d...</td>\n",
       "      <td>...</td>\n",
       "      <td>True</td>\n",
       "      <td>https://openalex.org/P4310315706</td>\n",
       "      <td>Public Library of Science</td>\n",
       "      <td>[https://openalex.org/P4310315706]</td>\n",
       "      <td>[Public Library of Science]</td>\n",
       "      <td>journal</td>\n",
       "      <td>True</td>\n",
       "      <td>gold</td>\n",
       "      <td>https://journals.plos.org/plosone/article/file...</td>\n",
       "      <td>True</td>\n",
       "    </tr>\n",
       "    <tr>\n",
       "      <th>3</th>\n",
       "      <td>4</td>\n",
       "      <td>https://openalex.org/W1551951435</td>\n",
       "      <td>https://doi.org/10.1371/journal.pone.0130324</td>\n",
       "      <td>Can DNA-Based Ecosystem Assessments Quantify S...</td>\n",
       "      <td>Can DNA-Based Ecosystem Assessments Quantify S...</td>\n",
       "      <td>2015</td>\n",
       "      <td>2015-07-08</td>\n",
       "      <td>{'openalex': 'https://openalex.org/W1551951435...</td>\n",
       "      <td>en</td>\n",
       "      <td>{'is_oa': True, 'landing_page_url': 'https://d...</td>\n",
       "      <td>...</td>\n",
       "      <td>True</td>\n",
       "      <td>https://openalex.org/P4310315706</td>\n",
       "      <td>Public Library of Science</td>\n",
       "      <td>[https://openalex.org/P4310315706]</td>\n",
       "      <td>[Public Library of Science]</td>\n",
       "      <td>journal</td>\n",
       "      <td>True</td>\n",
       "      <td>gold</td>\n",
       "      <td>https://journals.plos.org/plosone/article/file...</td>\n",
       "      <td>True</td>\n",
       "    </tr>\n",
       "    <tr>\n",
       "      <th>4</th>\n",
       "      <td>5</td>\n",
       "      <td>https://openalex.org/W2005951061</td>\n",
       "      <td>https://doi.org/10.1371/journal.pone.0119248</td>\n",
       "      <td>A Higher Level Classification of All Living Or...</td>\n",
       "      <td>A Higher Level Classification of All Living Or...</td>\n",
       "      <td>2015</td>\n",
       "      <td>2015-04-29</td>\n",
       "      <td>{'openalex': 'https://openalex.org/W2005951061...</td>\n",
       "      <td>en</td>\n",
       "      <td>{'is_oa': True, 'landing_page_url': 'https://d...</td>\n",
       "      <td>...</td>\n",
       "      <td>True</td>\n",
       "      <td>https://openalex.org/P4310315706</td>\n",
       "      <td>Public Library of Science</td>\n",
       "      <td>[https://openalex.org/P4310315706]</td>\n",
       "      <td>[Public Library of Science]</td>\n",
       "      <td>journal</td>\n",
       "      <td>True</td>\n",
       "      <td>gold</td>\n",
       "      <td>https://journals.plos.org/plosone/article/file...</td>\n",
       "      <td>True</td>\n",
       "    </tr>\n",
       "  </tbody>\n",
       "</table>\n",
       "<p>5 rows × 81 columns</p>\n",
       "</div>"
      ],
      "text/plain": [
       "   Index                                id  \\\n",
       "0      0  https://openalex.org/W2766208183   \n",
       "1      2  https://openalex.org/W2130560194   \n",
       "2      3  https://openalex.org/W2155544089   \n",
       "3      4  https://openalex.org/W1551951435   \n",
       "4      5  https://openalex.org/W2005951061   \n",
       "\n",
       "                                            doi  \\\n",
       "0  https://doi.org/10.1371/journal.pone.0185809   \n",
       "1  https://doi.org/10.1371/journal.pone.0105992   \n",
       "2  https://doi.org/10.1371/journal.pone.0125814   \n",
       "3  https://doi.org/10.1371/journal.pone.0130324   \n",
       "4  https://doi.org/10.1371/journal.pone.0119248   \n",
       "\n",
       "                                               title  \\\n",
       "0  More than 75 percent decline over 27 years in ...   \n",
       "1  SoilGrids1km — Global Soil Information Based o...   \n",
       "2  Mapping Soil Properties of Africa at 250 m Res...   \n",
       "3  Can DNA-Based Ecosystem Assessments Quantify S...   \n",
       "4  A Higher Level Classification of All Living Or...   \n",
       "\n",
       "                                        display_name  publication_year  \\\n",
       "0  More than 75 percent decline over 27 years in ...              2017   \n",
       "1  SoilGrids1km — Global Soil Information Based o...              2014   \n",
       "2  Mapping Soil Properties of Africa at 250 m Res...              2015   \n",
       "3  Can DNA-Based Ecosystem Assessments Quantify S...              2015   \n",
       "4  A Higher Level Classification of All Living Or...              2015   \n",
       "\n",
       "  publication_date                                                ids  \\\n",
       "0       2017-10-18  {'openalex': 'https://openalex.org/W2766208183...   \n",
       "1       2014-08-29  {'openalex': 'https://openalex.org/W2130560194...   \n",
       "2       2015-06-25  {'openalex': 'https://openalex.org/W2155544089...   \n",
       "3       2015-07-08  {'openalex': 'https://openalex.org/W1551951435...   \n",
       "4       2015-04-29  {'openalex': 'https://openalex.org/W2005951061...   \n",
       "\n",
       "  language                                   primary_location  ...  \\\n",
       "0       en  {'is_oa': True, 'landing_page_url': 'https://d...  ...   \n",
       "1       en  {'is_oa': True, 'landing_page_url': 'https://d...  ...   \n",
       "2       en  {'is_oa': True, 'landing_page_url': 'https://d...  ...   \n",
       "3       en  {'is_oa': True, 'landing_page_url': 'https://d...  ...   \n",
       "4       en  {'is_oa': True, 'landing_page_url': 'https://d...  ...   \n",
       "\n",
       "  source_is_core          source_host_organization  \\\n",
       "0           True  https://openalex.org/P4310315706   \n",
       "1           True  https://openalex.org/P4310315706   \n",
       "2           True  https://openalex.org/P4310315706   \n",
       "3           True  https://openalex.org/P4310315706   \n",
       "4           True  https://openalex.org/P4310315706   \n",
       "\n",
       "  source_host_organization_name    source_host_organization_lineage  \\\n",
       "0     Public Library of Science  [https://openalex.org/P4310315706]   \n",
       "1     Public Library of Science  [https://openalex.org/P4310315706]   \n",
       "2     Public Library of Science  [https://openalex.org/P4310315706]   \n",
       "3     Public Library of Science  [https://openalex.org/P4310315706]   \n",
       "4     Public Library of Science  [https://openalex.org/P4310315706]   \n",
       "\n",
       "  source_host_organization_lineage_names source_type  oa_is_oa  oa_oa_status  \\\n",
       "0            [Public Library of Science]     journal      True          gold   \n",
       "1            [Public Library of Science]     journal      True          gold   \n",
       "2            [Public Library of Science]     journal      True          gold   \n",
       "3            [Public Library of Science]     journal      True          gold   \n",
       "4            [Public Library of Science]     journal      True          gold   \n",
       "\n",
       "                                           oa_oa_url  \\\n",
       "0  https://journals.plos.org/plosone/article/file...   \n",
       "1  https://journals.plos.org/plosone/article/file...   \n",
       "2  https://journals.plos.org/plosone/article/file...   \n",
       "3  https://journals.plos.org/plosone/article/file...   \n",
       "4  https://journals.plos.org/plosone/article/file...   \n",
       "\n",
       "  oa_any_repository_has_fulltext  \n",
       "0                           True  \n",
       "1                           True  \n",
       "2                           True  \n",
       "3                           True  \n",
       "4                           True  \n",
       "\n",
       "[5 rows x 81 columns]"
      ]
     },
     "execution_count": 25,
     "metadata": {},
     "output_type": "execute_result"
    }
   ],
   "source": [
    "articles = pd.read_pickle(\"../data/interim/keyword-filtered_articles/filtered_articles.pkl\")\n",
    "articles.head()"
   ]
  },
  {
   "cell_type": "code",
   "execution_count": 26,
   "id": "ee7e0afe",
   "metadata": {},
   "outputs": [
    {
     "name": "stdout",
     "output_type": "stream",
     "text": [
      "Number of journals that contained relevant (i.e. taxonomic) articles: 474\n"
     ]
    }
   ],
   "source": [
    "print(\"Number of journals that contained relevant (i.e. taxonomic) articles: \" + \\\n",
    "      str(len(set(articles[\"source_id\"]))))"
   ]
  },
  {
   "cell_type": "code",
   "execution_count": 27,
   "id": "9bd26e1f-4667-4545-b184-d0aabf7611d8",
   "metadata": {},
   "outputs": [
    {
     "data": {
      "image/png": "[encoded data removed]",
      "text/plain": [
       "<Figure size 640x480 with 1 Axes>"
      ]
     },
     "metadata": {},
     "output_type": "display_data"
    }
   ],
   "source": [
    "# Define sets\n",
    "ipnizoo = set(journals[journals[\"source\"] == \"IPNI or ZooBank ID\"][\"title\"])\n",
    "openalex = set(journals[journals[\"source\"] == \"OpenAlex taxonomy concept\"][\"title\"])\n",
    "wikisubjects = set(journals[journals[\"source\"] == \"Wikidata taxonomic subject\"][\"title\"])\n",
    "\n",
    "# Total unique journals for percentage calculation\n",
    "total_journals = len(ipnizoo | openalex | wikisubjects)\n",
    "\n",
    "# Venn diagram\n",
    "venn = venn3([ipnizoo, openalex, wikisubjects], (\"IPNI/ZooBank ID\", \"OpenAlex\", \"Wikidata subjects\"))\n",
    "\n",
    "# Adjust subset label font sizes (numbers inside the diagram)\n",
    "for label in venn.subset_labels:\n",
    "    if label:  # Only adjust non-empty labels\n",
    "        label.set_fontsize(8)  # Set font size (adjust value as needed)\n",
    "\n",
    "# Adjust set label font sizes (labels for the circles)\n",
    "for label in venn.set_labels:\n",
    "    if label:  # Only adjust non-empty labels\n",
    "        label.set_fontsize(8)  # Set font size (adjust value as needed)\n",
    "# Annotate each section with count and percentage\n",
    "\n",
    "for idx, label in enumerate(venn.subset_labels):\n",
    "    if label:  # Only annotate non-empty regions\n",
    "        count = int(label.get_text())  # Convert count to integer\n",
    "        percentage = (count / total_journals) * 100\n",
    "        label.set_text(f\"{count} ({percentage:.1f}%)\")\n",
    "\n",
    "# Add title\n",
    "plt.title(\"Unique journals per source\", fontsize=18)\n",
    "\n",
    "# Display plot\n",
    "plt.show()"
   ]
  },
  {
   "cell_type": "markdown",
   "id": "94ae5789",
   "metadata": {},
   "source": [
    "## 2. Articles\n",
    "\n",
    "- total number\n",
    "- number with at least one European author"
   ]
  },
  {
   "cell_type": "code",
   "execution_count": 28,
   "id": "3a18af0b",
   "metadata": {},
   "outputs": [
    {
     "name": "stdout",
     "output_type": "stream",
     "text": [
      "Number of articles related to taxonomy with at least one European author: 33499\n"
     ]
    }
   ],
   "source": [
    "print(\"Number of articles related to taxonomy with at least one European author: \" +\\\n",
    "      str(len(set(articles[\"id\"]))))"
   ]
  },
  {
   "cell_type": "markdown",
   "id": "310cfe32",
   "metadata": {},
   "source": [
    "## 3. Authors"
   ]
  },
  {
   "cell_type": "code",
   "execution_count": 29,
   "id": "709caff1",
   "metadata": {},
   "outputs": [],
   "source": [
    "authors = pd.read_csv(\"../data/processed/country_taxonomic_authors_no_duplicates.tsv\", sep=\"\\t\",low_memory=False)"
   ]
  },
  {
   "cell_type": "code",
   "execution_count": 30,
   "id": "cc488f4d",
   "metadata": {},
   "outputs": [
    {
     "name": "stdout",
     "output_type": "stream",
     "text": [
      "Number of European authors before disambiguation: 31839\n"
     ]
    }
   ],
   "source": [
    "print(\"Number of European authors before disambiguation: \"+\\\n",
    "      str(len(authors)))"
   ]
  },
  {
   "cell_type": "code",
   "execution_count": 31,
   "id": "d2ce556d",
   "metadata": {},
   "outputs": [],
   "source": [
    "disamb_authors = pd.read_pickle(\"../data/processed/authors_disambiguated_truncated.pkl\")"
   ]
  },
  {
   "cell_type": "code",
   "execution_count": 32,
   "id": "58e8e5b0",
   "metadata": {},
   "outputs": [
    {
     "name": "stdout",
     "output_type": "stream",
     "text": [
      "Number of European authors after disambiguation: 31521\n"
     ]
    }
   ],
   "source": [
    "print(\"Number of European authors after disambiguation: \"+\\\n",
    "      str(len(disamb_authors)))"
   ]
  },
  {
   "cell_type": "code",
   "execution_count": 33,
   "id": "ce4ec948",
   "metadata": {},
   "outputs": [
    {
     "name": "stdout",
     "output_type": "stream",
     "text": [
      "Number of European institutions publishing taxonomic articles: 2925\n"
     ]
    }
   ],
   "source": [
    "print(\"Number of European institutions publishing taxonomic articles: \"+\\\n",
    "      str(len(set(disamb_authors[\"inst_id\"]))))"
   ]
  },
  {
   "cell_type": "code",
   "execution_count": 34,
   "id": "871b1a66",
   "metadata": {},
   "outputs": [
    {
     "data": {
      "text/plain": [
       "60"
      ]
     },
     "execution_count": 34,
     "metadata": {},
     "output_type": "execute_result"
    }
   ],
   "source": [
    "len(set(authors[authors[\"inst_country_code\"]==\"BE\"][\"inst_display_name\"]))"
   ]
  },
  {
   "cell_type": "code",
   "execution_count": 35,
   "id": "05143e8d",
   "metadata": {},
   "outputs": [
    {
     "data": {
      "text/plain": [
       "Index(['Index', 'article_id', 'author_position', 'author', 'institutions',\n",
       "       'countries', 'is_corresponding', 'raw_author_name',\n",
       "       'raw_affiliation_strings', 'affiliations',\n",
       "       ...\n",
       "       'source_host_organization_name', 'source_host_organization_lineage',\n",
       "       'source_host_organization_lineage_names', 'source_type', 'oa_is_oa',\n",
       "       'oa_oa_status', 'oa_oa_url', 'oa_any_repository_has_fulltext',\n",
       "       'abstract_full_text', 'species_subject'],\n",
       "      dtype='object', length=103)"
      ]
     },
     "execution_count": 35,
     "metadata": {},
     "output_type": "execute_result"
    }
   ],
   "source": [
    "authors.columns"
   ]
  },
  {
   "cell_type": "markdown",
   "id": "936b71bb",
   "metadata": {},
   "source": [
    "## 4. Taxonomy"
   ]
  },
  {
   "cell_type": "markdown",
   "id": "d46c57ee",
   "metadata": {},
   "source": [
    "Total number of families within Plantae:\n",
    "Total number of families within Animalia:\n",
    "Total number of families within Fungi:\n",
    "Total number of families within Protists:\n",
    "…. See similar figure here: https://data-blog.gbif.org/post/gbif-backbone-taxonomy/"
   ]
  },
  {
   "cell_type": "code",
   "execution_count": 36,
   "id": "1703bdfc",
   "metadata": {},
   "outputs": [],
   "source": [
    "# supply and demand order save?\n",
    "authors_tree = pd.read_pickle(\"../data/processed/authors_disambiguated_truncated.pkl\")"
   ]
  },
  {
   "cell_type": "code",
   "execution_count": 37,
   "id": "bd8da455-572d-4942-9c97-a434dd5566d4",
   "metadata": {},
   "outputs": [],
   "source": [
    "authors2 = pd.read_pickle(\"../data/interim/country_taxonomic_authors_no_duplicates.pkl\")"
   ]
  },
  {
   "cell_type": "code",
   "execution_count": 38,
   "id": "f208fff3-2bee-4dc2-99c6-8e72446af975",
   "metadata": {},
   "outputs": [
    {
     "data": {
      "text/html": [
       "<div>\n",
       "<style scoped>\n",
       "    .dataframe tbody tr th:only-of-type {\n",
       "        vertical-align: middle;\n",
       "    }\n",
       "\n",
       "    .dataframe tbody tr th {\n",
       "        vertical-align: top;\n",
       "    }\n",
       "\n",
       "    .dataframe thead th {\n",
       "        text-align: right;\n",
       "    }\n",
       "</style>\n",
       "<table border=\"1\" class=\"dataframe\">\n",
       "  <thead>\n",
       "    <tr style=\"text-align: right;\">\n",
       "      <th></th>\n",
       "      <th>Index</th>\n",
       "      <th>article_id</th>\n",
       "      <th>author_position</th>\n",
       "      <th>author</th>\n",
       "      <th>institutions</th>\n",
       "      <th>countries</th>\n",
       "      <th>is_corresponding</th>\n",
       "      <th>raw_author_name</th>\n",
       "      <th>raw_affiliation_strings</th>\n",
       "      <th>affiliations</th>\n",
       "      <th>...</th>\n",
       "      <th>source_host_organization_name</th>\n",
       "      <th>source_host_organization_lineage</th>\n",
       "      <th>source_host_organization_lineage_names</th>\n",
       "      <th>source_type</th>\n",
       "      <th>oa_is_oa</th>\n",
       "      <th>oa_oa_status</th>\n",
       "      <th>oa_oa_url</th>\n",
       "      <th>oa_any_repository_has_fulltext</th>\n",
       "      <th>abstract_full_text</th>\n",
       "      <th>species_subject</th>\n",
       "    </tr>\n",
       "  </thead>\n",
       "  <tbody>\n",
       "    <tr>\n",
       "      <th>0</th>\n",
       "      <td>138564</td>\n",
       "      <td>https://openalex.org/W2949636722</td>\n",
       "      <td>last</td>\n",
       "      <td>{'id': 'https://openalex.org/A5061238929', 'di...</td>\n",
       "      <td>[{'id': 'https://openalex.org/I241749', 'displ...</td>\n",
       "      <td>[GB]</td>\n",
       "      <td>False</td>\n",
       "      <td>Chris D. Jiggins</td>\n",
       "      <td>[Department of Zoology, University of Cambridg...</td>\n",
       "      <td>[{'raw_affiliation_string': 'Department of Zoo...</td>\n",
       "      <td>...</td>\n",
       "      <td>Public Library of Science</td>\n",
       "      <td>[https://openalex.org/P4310315706]</td>\n",
       "      <td>[Public Library of Science]</td>\n",
       "      <td>journal</td>\n",
       "      <td>True</td>\n",
       "      <td>gold</td>\n",
       "      <td>https://journals.plos.org/plosbiology/article/...</td>\n",
       "      <td>True</td>\n",
       "      <td>The evolution of new species is made easier wh...</td>\n",
       "      <td>[Heliconius timareta, Heliconius cydno, Helico...</td>\n",
       "    </tr>\n",
       "    <tr>\n",
       "      <th>1</th>\n",
       "      <td>54150</td>\n",
       "      <td>https://openalex.org/W4388774616</td>\n",
       "      <td>middle</td>\n",
       "      <td>{'id': 'https://openalex.org/A5020637267', 'di...</td>\n",
       "      <td>[{'id': 'https://openalex.org/I4068193', 'disp...</td>\n",
       "      <td>[RS]</td>\n",
       "      <td>False</td>\n",
       "      <td>Mirko Šević</td>\n",
       "      <td>[University of Belgrade – Faculty of Biology, ...</td>\n",
       "      <td>[{'raw_affiliation_string': 'University of Bel...</td>\n",
       "      <td>...</td>\n",
       "      <td>Consortium of European Natural History Museums</td>\n",
       "      <td>[https://openalex.org/P4310311153]</td>\n",
       "      <td>[Consortium of European Natural History Museums]</td>\n",
       "      <td>journal</td>\n",
       "      <td>True</td>\n",
       "      <td>diamond</td>\n",
       "      <td>https://europeanjournaloftaxonomy.eu/index.php...</td>\n",
       "      <td>True</td>\n",
       "      <td>The present paper is devoted to the descriptio...</td>\n",
       "      <td>[Acanthophorella barjadzei, Trachysphaera corc...</td>\n",
       "    </tr>\n",
       "    <tr>\n",
       "      <th>2</th>\n",
       "      <td>62918</td>\n",
       "      <td>https://openalex.org/W4285210299</td>\n",
       "      <td>middle</td>\n",
       "      <td>{'id': 'https://openalex.org/A5060831119', 'di...</td>\n",
       "      <td>[{'id': 'https://openalex.org/I161929037', 'di...</td>\n",
       "      <td>[FR]</td>\n",
       "      <td>False</td>\n",
       "      <td>M. Coton</td>\n",
       "      <td>[Univ Brest, Laboratoire Universitaire de Biod...</td>\n",
       "      <td>[{'raw_affiliation_string': 'Univ Brest, Labor...</td>\n",
       "      <td>...</td>\n",
       "      <td>Ingenta</td>\n",
       "      <td>[https://openalex.org/P4310311675]</td>\n",
       "      <td>[Ingenta]</td>\n",
       "      <td>journal</td>\n",
       "      <td>True</td>\n",
       "      <td>green</td>\n",
       "      <td>https://digital.csic.es/bitstream/10261/303778...</td>\n",
       "      <td>True</td>\n",
       "      <td>Seven</td>\n",
       "      <td>[Penicillium roqueforti, Yamadazyma barbieri, ...</td>\n",
       "    </tr>\n",
       "    <tr>\n",
       "      <th>3</th>\n",
       "      <td>76576</td>\n",
       "      <td>https://openalex.org/W4382401868</td>\n",
       "      <td>first</td>\n",
       "      <td>{'id': 'https://openalex.org/A5032522211', 'di...</td>\n",
       "      <td>[{'id': 'https://openalex.org/I4210141221', 'd...</td>\n",
       "      <td>[ES]</td>\n",
       "      <td>False</td>\n",
       "      <td>Pedro Díaz Jiménez</td>\n",
       "      <td>[Jardín Botánico “Araceario Thomas B. Croat” T...</td>\n",
       "      <td>[{'raw_affiliation_string': 'Jardín Botánico “...</td>\n",
       "      <td>...</td>\n",
       "      <td>Wiley</td>\n",
       "      <td>[https://openalex.org/P4310320595]</td>\n",
       "      <td>[Wiley]</td>\n",
       "      <td>journal</td>\n",
       "      <td>False</td>\n",
       "      <td>closed</td>\n",
       "      <td>None</td>\n",
       "      <td>False</td>\n",
       "      <td>During fieldwork conducted in 2022 in Llano de...</td>\n",
       "      <td>[Spathiphyllum frailescanense, Anthurium knopf...</td>\n",
       "    </tr>\n",
       "    <tr>\n",
       "      <th>4</th>\n",
       "      <td>79768</td>\n",
       "      <td>https://openalex.org/W2951469827</td>\n",
       "      <td>middle</td>\n",
       "      <td>{'id': 'https://openalex.org/A5024626912', 'di...</td>\n",
       "      <td>[{'id': 'https://openalex.org/I106118109', 'di...</td>\n",
       "      <td>[HU]</td>\n",
       "      <td>False</td>\n",
       "      <td>Dániel Botka</td>\n",
       "      <td>[Department of Palaeontology, Eötvös Loránd Un...</td>\n",
       "      <td>[{'raw_affiliation_string': 'Department of Pal...</td>\n",
       "      <td>...</td>\n",
       "      <td>Springer Nature</td>\n",
       "      <td>[https://openalex.org/P4310319965]</td>\n",
       "      <td>[Springer Nature]</td>\n",
       "      <td>journal</td>\n",
       "      <td>True</td>\n",
       "      <td>hybrid</td>\n",
       "      <td>https://link.springer.com/content/pdf/10.1007/...</td>\n",
       "      <td>False</td>\n",
       "      <td>We establish a neotype in the collection of th...</td>\n",
       "      <td>[]</td>\n",
       "    </tr>\n",
       "  </tbody>\n",
       "</table>\n",
       "<p>5 rows × 103 columns</p>\n",
       "</div>"
      ],
      "text/plain": [
       "    Index                        article_id author_position  \\\n",
       "0  138564  https://openalex.org/W2949636722            last   \n",
       "1   54150  https://openalex.org/W4388774616          middle   \n",
       "2   62918  https://openalex.org/W4285210299          middle   \n",
       "3   76576  https://openalex.org/W4382401868           first   \n",
       "4   79768  https://openalex.org/W2951469827          middle   \n",
       "\n",
       "                                              author  \\\n",
       "0  {'id': 'https://openalex.org/A5061238929', 'di...   \n",
       "1  {'id': 'https://openalex.org/A5020637267', 'di...   \n",
       "2  {'id': 'https://openalex.org/A5060831119', 'di...   \n",
       "3  {'id': 'https://openalex.org/A5032522211', 'di...   \n",
       "4  {'id': 'https://openalex.org/A5024626912', 'di...   \n",
       "\n",
       "                                        institutions countries  \\\n",
       "0  [{'id': 'https://openalex.org/I241749', 'displ...      [GB]   \n",
       "1  [{'id': 'https://openalex.org/I4068193', 'disp...      [RS]   \n",
       "2  [{'id': 'https://openalex.org/I161929037', 'di...      [FR]   \n",
       "3  [{'id': 'https://openalex.org/I4210141221', 'd...      [ES]   \n",
       "4  [{'id': 'https://openalex.org/I106118109', 'di...      [HU]   \n",
       "\n",
       "   is_corresponding     raw_author_name  \\\n",
       "0             False    Chris D. Jiggins   \n",
       "1             False         Mirko Šević   \n",
       "2             False            M. Coton   \n",
       "3             False  Pedro Díaz Jiménez   \n",
       "4             False        Dániel Botka   \n",
       "\n",
       "                             raw_affiliation_strings  \\\n",
       "0  [Department of Zoology, University of Cambridg...   \n",
       "1  [University of Belgrade – Faculty of Biology, ...   \n",
       "2  [Univ Brest, Laboratoire Universitaire de Biod...   \n",
       "3  [Jardín Botánico “Araceario Thomas B. Croat” T...   \n",
       "4  [Department of Palaeontology, Eötvös Loránd Un...   \n",
       "\n",
       "                                        affiliations  ...  \\\n",
       "0  [{'raw_affiliation_string': 'Department of Zoo...  ...   \n",
       "1  [{'raw_affiliation_string': 'University of Bel...  ...   \n",
       "2  [{'raw_affiliation_string': 'Univ Brest, Labor...  ...   \n",
       "3  [{'raw_affiliation_string': 'Jardín Botánico “...  ...   \n",
       "4  [{'raw_affiliation_string': 'Department of Pal...  ...   \n",
       "\n",
       "                    source_host_organization_name  \\\n",
       "0                       Public Library of Science   \n",
       "1  Consortium of European Natural History Museums   \n",
       "2                                         Ingenta   \n",
       "3                                           Wiley   \n",
       "4                                 Springer Nature   \n",
       "\n",
       "     source_host_organization_lineage  \\\n",
       "0  [https://openalex.org/P4310315706]   \n",
       "1  [https://openalex.org/P4310311153]   \n",
       "2  [https://openalex.org/P4310311675]   \n",
       "3  [https://openalex.org/P4310320595]   \n",
       "4  [https://openalex.org/P4310319965]   \n",
       "\n",
       "             source_host_organization_lineage_names source_type oa_is_oa  \\\n",
       "0                       [Public Library of Science]     journal     True   \n",
       "1  [Consortium of European Natural History Museums]     journal     True   \n",
       "2                                         [Ingenta]     journal     True   \n",
       "3                                           [Wiley]     journal    False   \n",
       "4                                 [Springer Nature]     journal     True   \n",
       "\n",
       "  oa_oa_status                                          oa_oa_url  \\\n",
       "0         gold  https://journals.plos.org/plosbiology/article/...   \n",
       "1      diamond  https://europeanjournaloftaxonomy.eu/index.php...   \n",
       "2        green  https://digital.csic.es/bitstream/10261/303778...   \n",
       "3       closed                                               None   \n",
       "4       hybrid  https://link.springer.com/content/pdf/10.1007/...   \n",
       "\n",
       "  oa_any_repository_has_fulltext  \\\n",
       "0                           True   \n",
       "1                           True   \n",
       "2                           True   \n",
       "3                          False   \n",
       "4                          False   \n",
       "\n",
       "                                  abstract_full_text  \\\n",
       "0  The evolution of new species is made easier wh...   \n",
       "1  The present paper is devoted to the descriptio...   \n",
       "2                                              Seven   \n",
       "3  During fieldwork conducted in 2022 in Llano de...   \n",
       "4  We establish a neotype in the collection of th...   \n",
       "\n",
       "                                     species_subject  \n",
       "0  [Heliconius timareta, Heliconius cydno, Helico...  \n",
       "1  [Acanthophorella barjadzei, Trachysphaera corc...  \n",
       "2  [Penicillium roqueforti, Yamadazyma barbieri, ...  \n",
       "3  [Spathiphyllum frailescanense, Anthurium knopf...  \n",
       "4                                                 []  \n",
       "\n",
       "[5 rows x 103 columns]"
      ]
     },
     "execution_count": 38,
     "metadata": {},
     "output_type": "execute_result"
    }
   ],
   "source": [
    "authors2.head()"
   ]
  },
  {
   "cell_type": "code",
   "execution_count": 39,
   "id": "0ffba49e-62bc-48da-aeb7-a4f2aedd4be0",
   "metadata": {},
   "outputs": [
    {
     "data": {
      "text/html": [
       "<div>\n",
       "<style scoped>\n",
       "    .dataframe tbody tr th:only-of-type {\n",
       "        vertical-align: middle;\n",
       "    }\n",
       "\n",
       "    .dataframe tbody tr th {\n",
       "        vertical-align: top;\n",
       "    }\n",
       "\n",
       "    .dataframe thead th {\n",
       "        text-align: right;\n",
       "    }\n",
       "</style>\n",
       "<table border=\"1\" class=\"dataframe\">\n",
       "  <thead>\n",
       "    <tr style=\"text-align: right;\">\n",
       "      <th></th>\n",
       "      <th>author_id</th>\n",
       "      <th>author_display_name</th>\n",
       "      <th>author_orcid</th>\n",
       "      <th>inst_id</th>\n",
       "      <th>inst_display_name</th>\n",
       "      <th>species_subject</th>\n",
       "      <th>truncatedName</th>\n",
       "      <th>strippedName</th>\n",
       "      <th>order</th>\n",
       "      <th>kingdom</th>\n",
       "    </tr>\n",
       "  </thead>\n",
       "  <tbody>\n",
       "    <tr>\n",
       "      <th>0</th>\n",
       "      <td>https://openalex.org/A5061238929</td>\n",
       "      <td>Chris D. Jiggins</td>\n",
       "      <td>https://orcid.org/0000-0002-7809-062X</td>\n",
       "      <td>https://openalex.org/I241749</td>\n",
       "      <td>University of Cambridge</td>\n",
       "      <td>[Heliconius timareta, Heliconius cydno, Helico...</td>\n",
       "      <td>C Jiggins</td>\n",
       "      <td>ChrisDJiggins</td>\n",
       "      <td>[Lepidoptera]</td>\n",
       "      <td>[Animalia]</td>\n",
       "    </tr>\n",
       "    <tr>\n",
       "      <th>1</th>\n",
       "      <td>https://openalex.org/A5020637267</td>\n",
       "      <td>Mirko Šević</td>\n",
       "      <td>https://orcid.org/0000-0002-1979-9516</td>\n",
       "      <td>https://openalex.org/I4068193</td>\n",
       "      <td>University of Belgrade</td>\n",
       "      <td>[Acanthophorella barjadzei, Trachysphaera corc...</td>\n",
       "      <td>M Šević</td>\n",
       "      <td>MirkoŠević</td>\n",
       "      <td>[Chordeumatida, Glomerida]</td>\n",
       "      <td>[Animalia]</td>\n",
       "    </tr>\n",
       "    <tr>\n",
       "      <th>2</th>\n",
       "      <td>https://openalex.org/A5060831119</td>\n",
       "      <td>Monika Coton</td>\n",
       "      <td>https://orcid.org/0000-0002-0148-6802</td>\n",
       "      <td>https://openalex.org/I161929037</td>\n",
       "      <td>Université de Bretagne Occidentale</td>\n",
       "      <td>[Penicillium roqueforti, Yamadazyma barbieri, ...</td>\n",
       "      <td>M Coton</td>\n",
       "      <td>MonikaCoton</td>\n",
       "      <td>[Eurotiales, Saccharomycetales]</td>\n",
       "      <td>[Fungi]</td>\n",
       "    </tr>\n",
       "    <tr>\n",
       "      <th>3</th>\n",
       "      <td>https://openalex.org/A5032522211</td>\n",
       "      <td>Pedro Jiménez</td>\n",
       "      <td>https://orcid.org/0000-0003-2079-674X</td>\n",
       "      <td>https://openalex.org/I4210141221</td>\n",
       "      <td>Real Jardín Botánico</td>\n",
       "      <td>[Spathiphyllum frailescanense, Anthurium knopf...</td>\n",
       "      <td>P Jiménez</td>\n",
       "      <td>PedroJiménez</td>\n",
       "      <td>[Alismatales]</td>\n",
       "      <td>[Plantae]</td>\n",
       "    </tr>\n",
       "    <tr>\n",
       "      <th>4</th>\n",
       "      <td>https://openalex.org/A5024626912</td>\n",
       "      <td>Dániel Botka</td>\n",
       "      <td>https://orcid.org/0000-0002-6627-4640</td>\n",
       "      <td>https://openalex.org/I106118109</td>\n",
       "      <td>Eötvös Loránd University</td>\n",
       "      <td>[]</td>\n",
       "      <td>D Botka</td>\n",
       "      <td>DánielBotka</td>\n",
       "      <td>[]</td>\n",
       "      <td>[]</td>\n",
       "    </tr>\n",
       "  </tbody>\n",
       "</table>\n",
       "</div>"
      ],
      "text/plain": [
       "                          author_id author_display_name  \\\n",
       "0  https://openalex.org/A5061238929    Chris D. Jiggins   \n",
       "1  https://openalex.org/A5020637267         Mirko Šević   \n",
       "2  https://openalex.org/A5060831119        Monika Coton   \n",
       "3  https://openalex.org/A5032522211       Pedro Jiménez   \n",
       "4  https://openalex.org/A5024626912        Dániel Botka   \n",
       "\n",
       "                            author_orcid                           inst_id  \\\n",
       "0  https://orcid.org/0000-0002-7809-062X      https://openalex.org/I241749   \n",
       "1  https://orcid.org/0000-0002-1979-9516     https://openalex.org/I4068193   \n",
       "2  https://orcid.org/0000-0002-0148-6802   https://openalex.org/I161929037   \n",
       "3  https://orcid.org/0000-0003-2079-674X  https://openalex.org/I4210141221   \n",
       "4  https://orcid.org/0000-0002-6627-4640   https://openalex.org/I106118109   \n",
       "\n",
       "                    inst_display_name  \\\n",
       "0             University of Cambridge   \n",
       "1              University of Belgrade   \n",
       "2  Université de Bretagne Occidentale   \n",
       "3                Real Jardín Botánico   \n",
       "4            Eötvös Loránd University   \n",
       "\n",
       "                                     species_subject truncatedName  \\\n",
       "0  [Heliconius timareta, Heliconius cydno, Helico...     C Jiggins   \n",
       "1  [Acanthophorella barjadzei, Trachysphaera corc...       M Šević   \n",
       "2  [Penicillium roqueforti, Yamadazyma barbieri, ...       M Coton   \n",
       "3  [Spathiphyllum frailescanense, Anthurium knopf...     P Jiménez   \n",
       "4                                                 []       D Botka   \n",
       "\n",
       "    strippedName                            order     kingdom  \n",
       "0  ChrisDJiggins                    [Lepidoptera]  [Animalia]  \n",
       "1     MirkoŠević       [Chordeumatida, Glomerida]  [Animalia]  \n",
       "2    MonikaCoton  [Eurotiales, Saccharomycetales]     [Fungi]  \n",
       "3   PedroJiménez                    [Alismatales]   [Plantae]  \n",
       "4    DánielBotka                               []          []  "
      ]
     },
     "execution_count": 39,
     "metadata": {},
     "output_type": "execute_result"
    }
   ],
   "source": [
    "authors_tree.head()"
   ]
  },
  {
   "cell_type": "code",
   "execution_count": 40,
   "id": "f19f302e-00de-41df-a004-06e9816854df",
   "metadata": {},
   "outputs": [],
   "source": [
    "# 3. Count how many authors study each kingdom:\n",
    "num_plantae = sum(\"Plantae\" in k for k in authors_tree[\"kingdom\"])\n",
    "num_animalia = sum(\"Animalia\" in k for k in authors_tree[\"kingdom\"])\n",
    "num_fungi    = sum(\"Fungi\" in k for k in authors_tree[\"kingdom\"])\n"
   ]
  },
  {
   "cell_type": "code",
   "execution_count": 41,
   "id": "6b477972-b78e-45f0-b466-5f0bf6e07cbf",
   "metadata": {},
   "outputs": [
    {
     "name": "stdout",
     "output_type": "stream",
     "text": [
      "Number of authors studying Plantae:  6844 (21.7%)\n",
      "Number of authors studying Animalia: 10707 (34.0%)\n",
      "Number of authors studying Fungi:    2253 (7.1%)\n"
     ]
    }
   ],
   "source": [
    "# Calculate total authors\n",
    "total_authors = len(authors_tree)\n",
    "\n",
    "# Get percentages\n",
    "pct_plantae = 100.0 * num_plantae / total_authors\n",
    "pct_animalia = 100.0 * num_animalia / total_authors\n",
    "pct_fungi = 100.0 * num_fungi / total_authors\n",
    "\n",
    "print(f\"Number of authors studying Plantae:  {num_plantae} ({pct_plantae:.1f}%)\")\n",
    "print(f\"Number of authors studying Animalia: {num_animalia} ({pct_animalia:.1f}%)\")\n",
    "print(f\"Number of authors studying Fungi:    {num_fungi} ({pct_fungi:.1f}%)\")"
   ]
  },
  {
   "cell_type": "code",
   "execution_count": 42,
   "id": "f96c3866-82a8-4422-a3ea-d6bedf11a2cd",
   "metadata": {},
   "outputs": [
    {
     "name": "stdout",
     "output_type": "stream",
     "text": [
      "Number of authors with at least one kingdom: 18060\n",
      "Plantae:  6844 (37.90%)\n",
      "Animalia: 10707 (59.29%)\n",
      "Fungi:    2253 (12.48%)\n"
     ]
    }
   ],
   "source": [
    "# 2. Filter authors who have at least one kingdom (non-empty list)\n",
    "authors_with_kingdom = authors_tree[authors_tree[\"kingdom\"].apply(lambda x: len(x) > 0)]\n",
    "\n",
    "# 3. Count how many of those authors study each kingdom\n",
    "num_plantae = sum(\"Plantae\" in k for k in authors_with_kingdom[\"kingdom\"])\n",
    "num_animalia = sum(\"Animalia\" in k for k in authors_with_kingdom[\"kingdom\"])\n",
    "num_fungi = sum(\"Fungi\" in k for k in authors_with_kingdom[\"kingdom\"])\n",
    "\n",
    "# 4. Calculate percentages among authors *with* a kingdom\n",
    "total_with_kingdom = len(authors_with_kingdom)\n",
    "\n",
    "pct_plantae = 100.0 * num_plantae / total_with_kingdom\n",
    "pct_animalia = 100.0 * num_animalia / total_with_kingdom\n",
    "pct_fungi = 100.0 * num_fungi / total_with_kingdom\n",
    "\n",
    "# 5. Print or store the results\n",
    "print(f\"Number of authors with at least one kingdom: {total_with_kingdom}\")\n",
    "print(f\"Plantae:  {num_plantae} ({pct_plantae:.2f}%)\")\n",
    "print(f\"Animalia: {num_animalia} ({pct_animalia:.2f}%)\")\n",
    "print(f\"Fungi:    {num_fungi} ({pct_fungi:.2f}%)\")\n"
   ]
  },
  {
   "cell_type": "code",
   "execution_count": 43,
   "id": "0e8bfdfb-ec8c-4aba-aea6-51246e9f77e7",
   "metadata": {},
   "outputs": [
    {
     "name": "stdout",
     "output_type": "stream",
     "text": [
      "Authors who study multiple kingdoms: 3098 (17.15%)\n"
     ]
    }
   ],
   "source": [
    "# Count authors who study multiple kingdoms\n",
    "# (i.e., their 'kingdom' list has length > 1)\n",
    "num_multiple_kingdoms = sum(len(set(k)) > 1 for k in authors_with_kingdom[\"kingdom\"])\n",
    "\n",
    "# Calculate the percentage among authors who have at least one kingdom\n",
    "pct_multiple_kingdoms = 100.0 * num_multiple_kingdoms / total_with_kingdom\n",
    "\n",
    "print(f\"Authors who study multiple kingdoms: {num_multiple_kingdoms} ({pct_multiple_kingdoms:.2f}%)\")"
   ]
  },
  {
   "cell_type": "markdown",
   "id": "df131d7c",
   "metadata": {},
   "source": [
    "## 5. Most prolific authors"
   ]
  },
  {
   "cell_type": "code",
   "execution_count": 44,
   "id": "81332f7a",
   "metadata": {},
   "outputs": [],
   "source": [
    "# Create a new column counting how many species each author covers\n",
    "authors_tree[\"num_species\"] = authors_tree[\"species_subject\"].apply(len)"
   ]
  },
  {
   "cell_type": "code",
   "execution_count": 45,
   "id": "35c244f3",
   "metadata": {},
   "outputs": [],
   "source": [
    "authors_tree.sort_values(\"num_species\", ascending=False, inplace=True)"
   ]
  },
  {
   "cell_type": "code",
   "execution_count": 46,
   "id": "e350e17b",
   "metadata": {},
   "outputs": [
    {
     "name": "stdout",
     "output_type": "stream",
     "text": [
      "                                               author_id  \\\n",
      "29314  {https://openalex.org/A5014452233, https://ope...   \n",
      "14604                   https://openalex.org/A5006923407   \n",
      "2034                    https://openalex.org/A5060229254   \n",
      "4093                    https://openalex.org/A5091228194   \n",
      "30006  {https://openalex.org/A5103545969, https://ope...   \n",
      "2725                    https://openalex.org/A5032384763   \n",
      "555                     https://openalex.org/A5058983769   \n",
      "14944                   https://openalex.org/A5050104617   \n",
      "22796                   https://openalex.org/A5103122843   \n",
      "31109  {https://openalex.org/A5106037430, https://ope...   \n",
      "\n",
      "                 author_display_name  num_species  \n",
      "29314                     P.W. Crous         1378  \n",
      "14604                    Josepa Gené         1092  \n",
      "2034                       Vít Hubka          891  \n",
      "4093                    Josep Guarro          869  \n",
      "30006  [Lorenzo Lombard, L. Lombard]          864  \n",
      "2725                         J. Cano          853  \n",
      "555                   Pablo Alvarado          685  \n",
      "14944                 Gabriel Moreno          680  \n",
      "22796            Alberto M. Stchigel          645  \n",
      "31109  [J. Houbraken, Jos Houbraken]          585  \n"
     ]
    }
   ],
   "source": [
    "top_10 = authors_tree.head(10)\n",
    "print(top_10[[\"author_id\", \"author_display_name\", \"num_species\"]])"
   ]
  },
  {
   "cell_type": "markdown",
   "id": "47b96cec",
   "metadata": {},
   "source": [
    "## 6. ORCID and Open Access percentages (not working)"
   ]
  },
  {
   "cell_type": "code",
   "execution_count": 47,
   "id": "03fb1805",
   "metadata": {},
   "outputs": [
    {
     "data": {
      "text/plain": [
       "0        https://orcid.org/0000-0002-7809-062X\n",
       "1        https://orcid.org/0000-0002-1979-9516\n",
       "2        https://orcid.org/0000-0002-0148-6802\n",
       "3        https://orcid.org/0000-0003-2079-674X\n",
       "4        https://orcid.org/0000-0002-6627-4640\n",
       "                         ...                  \n",
       "31516    https://orcid.org/0000-0003-2822-1334\n",
       "31517    https://orcid.org/0000-0002-2810-0455\n",
       "31518    https://orcid.org/0000-0002-6622-9241\n",
       "31519    https://orcid.org/0000-0002-2479-4373\n",
       "31520    https://orcid.org/0000-0001-5992-2753\n",
       "Name: author_orcid, Length: 31521, dtype: object"
      ]
     },
     "execution_count": 47,
     "metadata": {},
     "output_type": "execute_result"
    }
   ],
   "source": [
    "# total percentage of authors with ORCID\n",
    "disamb_authors[\"author_orcid\"]"
   ]
  },
  {
   "cell_type": "code",
   "execution_count": 48,
   "id": "e6138bb3",
   "metadata": {},
   "outputs": [
    {
     "name": "stdout",
     "output_type": "stream",
     "text": [
      "Percentage of authors with an ORCID: 73.99511436819898\n"
     ]
    }
   ],
   "source": [
    "orcid = 0\n",
    "no_orcid = 0\n",
    "\n",
    "for x in disamb_authors[\"author_orcid\"]:\n",
    "    if isinstance(x, str):\n",
    "        if x.split(\".org/\")[0] == \"https://orcid\":\n",
    "            orcid += 1\n",
    "        #\"\"\" # checking if there are ORCIDs in lists didn't change the results\n",
    "        #elif isinstance(x, tuple) or isinstance(x, set) or isinstance(x, list):\n",
    "        #    if isinstance(x[0], str):\n",
    "        #        if x[0].split(\".org/\")[0] == \"https://orcid\":\n",
    "        #            orcid += 1\n",
    "        #        else:\n",
    "        #            no_oricd += 1\n",
    "        #    else:\n",
    "        #        no_orcid += 1\n",
    "        #\"\"\"\n",
    "        else:\n",
    "            no_orcid += 1\n",
    "    else:\n",
    "        no_orcid += 1\n",
    "        \n",
    "print(\"Percentage of authors with an ORCID: \" + str(orcid/(no_orcid+orcid)*100))"
   ]
  },
  {
   "cell_type": "code",
   "execution_count": 49,
   "id": "11ebfcaa",
   "metadata": {
    "scrolled": true
   },
   "outputs": [],
   "source": [
    "articles = pd.read_pickle(\"../data/processed/taxonomic_articles_with_subjects.pkl\")"
   ]
  },
  {
   "cell_type": "code",
   "execution_count": 50,
   "id": "36b5b55e",
   "metadata": {},
   "outputs": [
    {
     "name": "stdout",
     "output_type": "stream",
     "text": [
      "Percentage of European articles that are Open Access: 54.3329651631392\n"
     ]
    }
   ],
   "source": [
    "vc = articles[\"oa_is_oa\"].value_counts()\n",
    "\n",
    "# Safely accessing by position using iloc\n",
    "open_access_count = vc.iloc[0]\n",
    "non_open_access_count = vc.iloc[1]\n",
    "\n",
    "# Calculate the percentage\n",
    "percentage_oa = (open_access_count / (open_access_count + non_open_access_count)) * 100\n",
    "\n",
    "# Print the result\n",
    "print(f\"Percentage of European articles that are Open Access: {percentage_oa}\")\n"
   ]
  },
  {
   "cell_type": "code",
   "execution_count": 51,
   "id": "86880c08",
   "metadata": {},
   "outputs": [
    {
     "name": "stdout",
     "output_type": "stream",
     "text": [
      "Percentage of European articles that are Open Access: 54.3329651631392\n"
     ]
    }
   ],
   "source": [
    "vc = articles[\"oa_is_oa\"].value_counts()\n",
    "\n",
    "# Safely access by position using .iloc\n",
    "if len(vc) > 1:  # Ensure there are at least two unique values\n",
    "    open_access_count = vc.iloc[0]\n",
    "    non_open_access_count = vc.iloc[1]\n",
    "\n",
    "    # Calculate the percentage\n",
    "    percentage_oa = (open_access_count / (open_access_count + non_open_access_count)) * 100\n",
    "\n",
    "    # Print the result\n",
    "    print(f\"Percentage of European articles that are Open Access: {percentage_oa}\")\n",
    "else:\n",
    "    print(\"Not enough data to calculate Open Access percentage.\")\n"
   ]
  },
  {
   "cell_type": "code",
   "execution_count": 52,
   "id": "d4cc93f8",
   "metadata": {},
   "outputs": [
    {
     "data": {
      "text/plain": [
       "Index(['Index', 'id', 'doi', 'title', 'display_name', 'publication_year',\n",
       "       'publication_date', 'ids', 'language', 'primary_location', 'type',\n",
       "       'type_crossref', 'indexed_in', 'open_access', 'authorships',\n",
       "       'institution_assertions', 'countries_distinct_count',\n",
       "       'institutions_distinct_count', 'corresponding_author_ids',\n",
       "       'corresponding_institution_ids', 'apc_list', 'apc_paid', 'fwci',\n",
       "       'has_fulltext', 'fulltext_origin', 'cited_by_count',\n",
       "       'citation_normalized_percentile', 'cited_by_percentile_year', 'biblio',\n",
       "       'is_retracted', 'is_paratext', 'primary_topic', 'topics', 'keywords',\n",
       "       'concepts', 'mesh', 'locations_count', 'locations', 'best_oa_location',\n",
       "       'sustainable_development_goals', 'grants', 'datasets', 'versions',\n",
       "       'referenced_works_count', 'referenced_works', 'related_works',\n",
       "       'abstract_inverted_index', 'abstract_inverted_index_v3',\n",
       "       'cited_by_api_url', 'counts_by_year', 'updated_date', 'created_date',\n",
       "       'is_authors_truncated', 'display_name_norm', 'abstract_text',\n",
       "       'location_is_oa', 'location_landing_page_url', 'location_pdf_url',\n",
       "       'location_source', 'location_license', 'location_license_id',\n",
       "       'location_version', 'location_is_accepted', 'location_is_published',\n",
       "       'source_id', 'source_display_name', 'source_issn_l', 'source_issn',\n",
       "       'source_is_oa', 'source_is_in_doaj', 'source_is_indexed_in_scopus',\n",
       "       'source_is_core', 'source_host_organization',\n",
       "       'source_host_organization_name', 'source_host_organization_lineage',\n",
       "       'source_host_organization_lineage_names', 'source_type', 'oa_is_oa',\n",
       "       'oa_oa_status', 'oa_oa_url', 'oa_any_repository_has_fulltext',\n",
       "       'abstract_full_text', 'species_subject'],\n",
       "      dtype='object')"
      ]
     },
     "execution_count": 52,
     "metadata": {},
     "output_type": "execute_result"
    }
   ],
   "source": [
    "articles.columns"
   ]
  },
  {
   "cell_type": "code",
   "execution_count": 53,
   "id": "e8564471",
   "metadata": {},
   "outputs": [],
   "source": [
    "def species_to_tree(df, backbone):\n",
    "    # make dictionary of genus, family, order, class, phylum, kingdom for every species\n",
    "    seen_species = {}\n",
    "\n",
    "    for species in backbone.itertuples():\n",
    "        if species.canonicalName not in seen_species:\n",
    "            seen_species[species.canonicalName] = list(species)[2:]\n",
    "    \n",
    "    # associate the full tree with a certain author or article\n",
    "    genera, families, orders, classes, phyla, kingdoms, lineages = [], [], [], [], [], [], []\n",
    "\n",
    "    for row in df.itertuples():\n",
    "        genus, family, order, tclass, phylum, kingdom, lineage = [], [], [], [], [], [], []\n",
    "                            # python won't allow class as a variable name\n",
    "\n",
    "        for species in row.species_subject:\n",
    "            if species in seen_species:\n",
    "                genus.append(seen_species[species][-1])\n",
    "                family.append(seen_species[species][-2])\n",
    "                order.append(seen_species[species][-3])\n",
    "                tclass.append(seen_species[species][-4])\n",
    "                phylum.append(seen_species[species][-5])\n",
    "                kingdom.append(seen_species[species][-6])\n",
    "                \n",
    "                lineage.append(seen_species[species][-6:])\n",
    "\n",
    "        genera.append(set(genus))\n",
    "        families.append(set(family))\n",
    "        orders.append(set(order))\n",
    "        classes.append(set(tclass))\n",
    "        phyla.append(set(phylum))\n",
    "        kingdoms.append(set(kingdom))\n",
    "        lineages.append(lineage)\n",
    "\n",
    "    df[\"genera_subjects\"] = genera\n",
    "    df[\"families_subjects\"] = families\n",
    "    df[\"orders_subjects\"] = orders\n",
    "    df[\"classes_subjects\"] = classes\n",
    "    df[\"phyla_subjects\"] = phyla\n",
    "    df[\"kingdoms_subjects\"] = kingdoms\n",
    "    df[\"lineages_subjects\"] = lineages\n",
    "    \n",
    "    return df"
   ]
  },
  {
   "cell_type": "code",
   "execution_count": 54,
   "id": "fa9867f3",
   "metadata": {},
   "outputs": [],
   "source": [
    "def preprocess_backbone(path=\"../data/external/backbone/Taxon.tsv\", no_blanks=False):\n",
    "    # GBIF taxonomic bakcbone\n",
    "    try:\n",
    "        backbone = pd.read_csv(\n",
    "                path,\n",
    "                sep=\"\\t\",\n",
    "                on_bad_lines='skip',\n",
    "                low_memory=False,  # Ensures the entire file is processed in memory\n",
    "                dtype=str  # Treats all columns as strings to avoid mixed-type issues\n",
    "        )\n",
    "    except Exception as e:\n",
    "        raise RuntimeError(f\"Failed to load file: {e}\")\n",
    "        \n",
    "    # Ensure the key columns have appropriate data types\n",
    "    for col in [\"canonicalName\", \"kingdom\", \"genus\", \"family\", \"order\", \"class\", \"phylum\"]:\n",
    "        if col in backbone.columns:\n",
    "            backbone[col] = backbone[col].astype(str).str.strip()  # Ensure consistent types and no extra whitespace\n",
    "          \n",
    "    # only Eukarya\n",
    "    backbone = backbone[(backbone[\"kingdom\"]==\"Animalia\") | \n",
    "                        (backbone[\"kingdom\"]==\"Plantae\") |\n",
    "                        (backbone[\"kingdom\"]==\"Fungi\")]\n",
    "    # include non-accepted species (synonyms etc), but not blank canonical names \n",
    "    backbone = backbone[np.logical_not(backbone[\"canonicalName\"].isnull())].reset_index(drop=True)\n",
    "    \n",
    "    if no_blanks:\n",
    "        backbone = backbone[np.logical_not(backbone[\"genus\"].isnull())].reset_index(drop=True)\n",
    "        backbone = backbone[np.logical_not(backbone[\"family\"].isnull())].reset_index(drop=True)\n",
    "        backbone = backbone[np.logical_not(backbone[\"order\"].isnull())].reset_index(drop=True)\n",
    "        backbone = backbone[np.logical_not(backbone[\"class\"].isnull())].reset_index(drop=True)\n",
    "        backbone = backbone[np.logical_not(backbone[\"phylum\"].isnull())].reset_index(drop=True)\n",
    "        backbone = backbone[np.logical_not(backbone[\"kingdom\"].isnull())].reset_index(drop=True)\n",
    "\n",
    "    backbone = backbone.drop_duplicates(ignore_index=True)\n",
    "    return backbone"
   ]
  },
  {
   "cell_type": "code",
   "execution_count": 55,
   "id": "e6f9e856",
   "metadata": {},
   "outputs": [],
   "source": [
    "import numpy as np"
   ]
  },
  {
   "cell_type": "code",
   "execution_count": 56,
   "id": "32d41862",
   "metadata": {},
   "outputs": [],
   "source": [
    "backbone = preprocess_backbone()"
   ]
  },
  {
   "cell_type": "code",
   "execution_count": 57,
   "id": "c32924a4",
   "metadata": {},
   "outputs": [],
   "source": [
    "articles2 = species_to_tree(articles, backbone)"
   ]
  },
  {
   "cell_type": "code",
   "execution_count": 58,
   "id": "c183bff9",
   "metadata": {},
   "outputs": [],
   "source": [
    "plants_open = 0\n",
    "plants_closed = 0\n",
    "\n",
    "animals_open = 0\n",
    "animals_closed = 0\n",
    "\n",
    "fungi_open = 0\n",
    "fungi_closed = 0\n",
    "\n",
    "for row in articles2.itertuples():\n",
    "    if \"Plantae\" in row.kingdoms_subjects:\n",
    "        if row.oa_is_oa:\n",
    "            plants_open += 1\n",
    "        else:\n",
    "            plants_closed += 1\n",
    "            \n",
    "    if \"Animalia\" in row.kingdoms_subjects:\n",
    "        if row.oa_is_oa:\n",
    "            animals_open += 1\n",
    "        else:\n",
    "            animals_closed += 1\n",
    "            \n",
    "    if \"Fungi\" in row.kingdoms_subjects:\n",
    "        if row.oa_is_oa:\n",
    "            fungi_open += 1\n",
    "        else:\n",
    "            fungi_closed += 1"
   ]
  },
  {
   "cell_type": "code",
   "execution_count": 59,
   "id": "97aab46b",
   "metadata": {},
   "outputs": [
    {
     "name": "stdout",
     "output_type": "stream",
     "text": [
      "Percentage of articles about plants that are open access: 52.81459535318883\n",
      "Percentage of articles about animals that are open access: 47.59285895591844\n",
      "Percentage of articles about fungi that are open access: 56.16901408450704\n"
     ]
    }
   ],
   "source": [
    "print(\"Percentage of articles about plants that are open access: \" + \\\n",
    "      str(plants_open/(plants_open+plants_closed)*100))\n",
    "print(\"Percentage of articles about animals that are open access: \" + \\\n",
    "      str(animals_open/(animals_open+animals_closed)*100))\n",
    "print(\"Percentage of articles about fungi that are open access: \" + \\\n",
    "      str(fungi_open/(fungi_open+fungi_closed)*100))"
   ]
  },
  {
   "cell_type": "code",
   "execution_count": null,
   "id": "aa721c74-4ef0-4c47-9794-0e9de89ef391",
   "metadata": {},
   "outputs": [],
   "source": []
  },
  {
   "cell_type": "code",
   "execution_count": null,
   "id": "59ac4e0c-c2c8-4d35-9b15-109e6c721afd",
   "metadata": {},
   "outputs": [],
   "source": []
  }
 ],
 "metadata": {
  "kernelspec": {
   "display_name": "Python [conda env:base] *",
   "language": "python",
   "name": "conda-base-py"
  },
  "language_info": {
   "codemirror_mode": {
    "name": "ipython",
    "version": 3
   },
   "file_extension": ".py",
   "mimetype": "text/x-python",
   "name": "python",
   "nbconvert_exporter": "python",
   "pygments_lexer": "ipython3",
   "version": "3.13.5"
  }
 },
 "nbformat": 4,
 "nbformat_minor": 5
}
