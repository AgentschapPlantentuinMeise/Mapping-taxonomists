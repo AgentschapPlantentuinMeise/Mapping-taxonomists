{
 "cells": [
  {
   "cell_type": "code",
   "execution_count": null,
   "id": "cee310b2",
   "metadata": {},
   "outputs": [],
   "source": [
    "import numpy as np\n",
    "import pandas as pd\n",
    "import pickle"
   ]
  },
  {
   "cell_type": "code",
   "execution_count": null,
   "id": "356d9b99-d343-4a7e-abe8-981947dd2006",
   "metadata": {},
   "outputs": [],
   "source": [
    "articles = pd.read_pickle(\"../data/processed/taxonomic_articles_with_subjects.pkl\")\n",
    "\n",
    "print(\"OPEN ACCESS\")\n",
    "print(articles[\"oa_is_oa\"].value_counts())"
   ]
  },
  {
   "cell_type": "code",
   "execution_count": null,
   "id": "9e062dcd-f970-4603-8796-700d38ce86e2",
   "metadata": {},
   "outputs": [],
   "source": [
    "authors = pd.read_pickle(\"../data/processed/authors_disambiguated_truncated.pkl\")\n",
    "\n",
    "print(\"AUTHORS WITH ORCID\")\n",
    "print(sum(x is not None for x in authors[\"author_orcid\"]))\n",
    "\n",
    "print(\"AUTHORS WITHOUT ORCID\")\n",
    "print(sum(x is None for x in authors[\"author_orcid\"]))"
   ]
  }
 ],
 "metadata": {
  "kernelspec": {
   "display_name": "Python 3 (ipykernel)",
   "language": "python",
   "name": "python3"
  },
  "language_info": {
   "codemirror_mode": {
    "name": "ipython",
    "version": 3
   },
   "file_extension": ".py",
   "mimetype": "text/x-python",
   "name": "python",
   "nbconvert_exporter": "python",
   "pygments_lexer": "ipython3",
   "version": "3.11.9"
  }
 },
 "nbformat": 4,
 "nbformat_minor": 5
}
