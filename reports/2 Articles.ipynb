{
 "cells": [
  {
   "cell_type": "code",
   "execution_count": 1,
   "id": "cee310b2",
   "metadata": {},
   "outputs": [],
   "source": [
    "import numpy as np\n",
    "import pandas as pd\n",
    "import pickle"
   ]
  },
  {
   "cell_type": "code",
   "execution_count": 2,
   "id": "356d9b99-d343-4a7e-abe8-981947dd2006",
   "metadata": {},
   "outputs": [
    {
     "name": "stdout",
     "output_type": "stream",
     "text": [
      "OPEN ACCESS\n",
      "oa_is_oa\n",
      "True                                                                                                                                                                                                                                                                   17027\n",
      "False                                                                                                                                                                                                                                                                  14307\n",
      "https://academic.oup.com/zoolinnean/article-pdf/193/2/381/49555079/zlab072.pdf                                                                                                                                                                                             1\n",
      "https://research.edgehill.ac.uk/en/publications/65c68ba9-2ee0-4488-a9e0-bf03bc4f4c2b                                                                                                                                                                                       1\n",
      "https://bioone.org/journals/willdenowia/volume-51/issue-3/wi.51.51304/EuroMed-Checklist-Notulae-14/10.3372/wi.51.51304.pdf                                                                                                                                                 1\n",
      "                                                                                                                                                                                                                                                                       ...  \n",
      "https://radar.ibiss.bg.ac.rs/bitstream/123456789/3383/1/Amphibia-Reptilia_2019.pdf                                                                                                                                                                                         1\n",
      "https://figshare.com/articles/journal_contribution/More_evidence_of_cryptic_diversity_in_Anatololacerta_species_complex_Arnold_Arribas_and_Carranza_2007_Squamata_Lacertidae_and_re-evaluation_of_its_current_taxonomy/13525862/1/files/25962947.pdf                       1\n",
      "https://figshare.com/articles/journal_contribution/Recent_shifts_in_taxonomic_compositions_of_water_frog_populations_Anura_Pelophylax_inhabiting_fish_ponds_in_southern_Poland/12927368/1/files/24813872.pdf                                                               1\n",
      "https://wlv.openrepository.com/bitstream/2436/621917/6/O%27Shea%20et%20al.%202018%20The%20taxonomic%20history%20of%20the%20enigmatic%20Papuan%20snake%20genus%20Toxicocalamus%20%28Elapidae-%20Hydrophiinae%29%20with%20the%20description%20of%20a%20new%20spec.pdf        1\n",
      "https://www.ntnu.no/ojs/index.php/fauna_norvegica/article/download/3582/3518                                                                                                                                                                                               1\n",
      "Name: count, Length: 881, dtype: int64\n"
     ]
    }
   ],
   "source": [
    "articles = pd.read_pickle(\"../data/processed/taxonomic_articles_with_subjects.pkl\")\n",
    "\n",
    "print(\"OPEN ACCESS\")\n",
    "print(articles[\"oa_is_oa\"].value_counts())"
   ]
  },
  {
   "cell_type": "code",
   "execution_count": 3,
   "id": "9e062dcd-f970-4603-8796-700d38ce86e2",
   "metadata": {},
   "outputs": [
    {
     "name": "stdout",
     "output_type": "stream",
     "text": [
      "AUTHORS WITH ORCID\n",
      "23386\n",
      "AUTHORS WITHOUT ORCID\n",
      "6764\n"
     ]
    }
   ],
   "source": [
    "authors = pd.read_pickle(\"../data/processed/authors_disambiguated_truncated.pkl\")\n",
    "\n",
    "print(\"AUTHORS WITH ORCID\")\n",
    "print(sum(x is not None for x in authors[\"author_orcid\"]))\n",
    "\n",
    "print(\"AUTHORS WITHOUT ORCID\")\n",
    "print(sum(x is None for x in authors[\"author_orcid\"]))"
   ]
  },
  {
   "cell_type": "code",
   "execution_count": 4,
   "id": "e50c3bd0-f917-4c57-aa7f-f66c8158a01a",
   "metadata": {},
   "outputs": [
    {
     "name": "stdout",
     "output_type": "stream",
     "text": [
      "0        False\n",
      "1        False\n",
      "2        False\n",
      "3        False\n",
      "4        False\n",
      "         ...  \n",
      "30145    False\n",
      "30146    False\n",
      "30147    False\n",
      "30148    False\n",
      "30149    False\n",
      "Name: author_display_name, Length: 30150, dtype: bool\n"
     ]
    }
   ],
   "source": [
    "print(authors[\"author_display_name\"].isna())"
   ]
  },
  {
   "cell_type": "code",
   "execution_count": 5,
   "id": "8499de9b-e6e5-4f3c-bd25-edaef1a69c02",
   "metadata": {},
   "outputs": [
    {
     "name": "stdout",
     "output_type": "stream",
     "text": [
      "INFERRED GENDER OF AUTHORS\n",
      "gender\n",
      "male            13562\n",
      "female           8323\n",
      "inconclusive     8265\n",
      "Name: count, dtype: int64\n"
     ]
    }
   ],
   "source": [
    "authors_gender = pd.read_csv(\"../data/processed/gender_per_author_now.tsv\", sep=\"\\t\")\n",
    "\n",
    "print(\"INFERRED GENDER OF AUTHORS\")\n",
    "print(authors_gender[\"gender\"].value_counts())"
   ]
  },
  {
   "cell_type": "code",
   "execution_count": null,
   "id": "1a26d0b7-94d1-4280-ad1f-8a8b0f7f868b",
   "metadata": {},
   "outputs": [],
   "source": []
  }
 ],
 "metadata": {
  "kernelspec": {
   "display_name": "Python 3 (ipykernel)",
   "language": "python",
   "name": "python3"
  },
  "language_info": {
   "codemirror_mode": {
    "name": "ipython",
    "version": 3
   },
   "file_extension": ".py",
   "mimetype": "text/x-python",
   "name": "python",
   "nbconvert_exporter": "python",
   "pygments_lexer": "ipython3",
   "version": "3.9.18"
  }
 },
 "nbformat": 4,
 "nbformat_minor": 5
}
