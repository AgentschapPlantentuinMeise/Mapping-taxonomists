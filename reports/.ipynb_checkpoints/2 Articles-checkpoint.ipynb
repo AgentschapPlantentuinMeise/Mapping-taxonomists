{
 "cells": [
  {
   "cell_type": "code",
   "execution_count": 4,
   "id": "cee310b2",
   "metadata": {},
   "outputs": [],
   "source": [
    "import numpy as np\n",
    "import pandas as pd\n",
    "import pickle"
   ]
  },
  {
   "cell_type": "code",
   "execution_count": 5,
   "id": "356d9b99-d343-4a7e-abe8-981947dd2006",
   "metadata": {},
   "outputs": [
    {
     "name": "stdout",
     "output_type": "stream",
     "text": [
      "OPEN ACCESS\n",
      "oa_is_oa\n",
      "False    14353\n",
      "True     13061\n",
      "Name: count, dtype: int64\n"
     ]
    }
   ],
   "source": [
    "articles = pd.read_pickle(\"../data/processed/taxonomic_articles_with_subjects.pkl\")\n",
    "\n",
    "print(\"OPEN ACCESS\")\n",
    "print(articles[\"oa_is_oa\"].value_counts())"
   ]
  },
  {
   "cell_type": "code",
   "execution_count": 9,
   "id": "9e062dcd-f970-4603-8796-700d38ce86e2",
   "metadata": {},
   "outputs": [
    {
     "name": "stdout",
     "output_type": "stream",
     "text": [
      "AUTHORS WITH ORCID\n",
      "18311\n",
      "AUTHORS WITHOUT ORCID\n",
      "9947\n"
     ]
    }
   ],
   "source": [
    "authors = pd.read_pickle(\"../data/processed/authors_disambiguated_truncated.pkl\")\n",
    "\n",
    "print(\"AUTHORS WITH ORCID\")\n",
    "print(sum(x is not None for x in authors[\"author_orcid\"]))\n",
    "\n",
    "print(\"AUTHORS WITHOUT ORCID\")\n",
    "print(sum(x is None for x in authors[\"author_orcid\"]))"
   ]
  },
  {
   "cell_type": "code",
   "execution_count": 10,
   "id": "8499de9b-e6e5-4f3c-bd25-edaef1a69c02",
   "metadata": {},
   "outputs": [
    {
     "name": "stdout",
     "output_type": "stream",
     "text": [
      "INFERRED GENDER OF AUTHORS\n",
      "gender\n",
      "male            12941\n",
      "female           7959\n",
      "inconclusive     7601\n",
      "Name: count, dtype: int64\n"
     ]
    }
   ],
   "source": [
    "authors_gender = pd.read_csv(\"../data/processed/gender_per_author_now.tsv\", sep=\"\\t\")\n",
    "\n",
    "print(\"INFERRED GENDER OF AUTHORS\")\n",
    "print(authors_gender[\"gender\"].value_counts())"
   ]
  }
 ],
 "metadata": {
  "kernelspec": {
   "display_name": "Python 3 (ipykernel)",
   "language": "python",
   "name": "python3"
  },
  "language_info": {
   "codemirror_mode": {
    "name": "ipython",
    "version": 3
   },
   "file_extension": ".py",
   "mimetype": "text/x-python",
   "name": "python",
   "nbconvert_exporter": "python",
   "pygments_lexer": "ipython3",
   "version": "3.9.18"
  }
 },
 "nbformat": 4,
 "nbformat_minor": 5
}
