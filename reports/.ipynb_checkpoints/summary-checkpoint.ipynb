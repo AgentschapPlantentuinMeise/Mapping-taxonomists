{
 "cells": [
  {
   "cell_type": "markdown",
   "id": "26e36e21",
   "metadata": {},
   "source": [
    "# Counting results"
   ]
  },
  {
   "cell_type": "code",
   "execution_count": 1,
   "id": "7eb4aa07",
   "metadata": {},
   "outputs": [],
   "source": [
    "import pandas as pd\n",
    "from matplotlib_venn import venn3\n",
    "from matplotlib import pyplot as plt"
   ]
  },
  {
   "cell_type": "markdown",
   "id": "97e17f6c",
   "metadata": {},
   "source": [
    "## 1. Journals"
   ]
  },
  {
   "cell_type": "markdown",
   "id": "9058680a",
   "metadata": {},
   "source": [
    "Taxonomic journals:\n",
    "- with title\n",
    "- found on wikidata (each method)\n",
    "- found on OpenAlex\n",
    "- total\n",
    "- still publishing in the last 10 years\n",
    "- dissolved (confirmed)\n",
    "- with ISSN-L\n",
    "- with IPNI publication ID\n",
    "- with ZooBank publication ID\n",
    "- with OpenAlex ID"
   ]
  },
  {
   "cell_type": "code",
   "execution_count": 2,
   "id": "b800bac2",
   "metadata": {},
   "outputs": [
    {
     "data": {
      "text/html": [
       "<div>\n",
       "<style scoped>\n",
       "    .dataframe tbody tr th:only-of-type {\n",
       "        vertical-align: middle;\n",
       "    }\n",
       "\n",
       "    .dataframe tbody tr th {\n",
       "        vertical-align: top;\n",
       "    }\n",
       "\n",
       "    .dataframe thead th {\n",
       "        text-align: right;\n",
       "    }\n",
       "</style>\n",
       "<table border=\"1\" class=\"dataframe\">\n",
       "  <thead>\n",
       "    <tr style=\"text-align: right;\">\n",
       "      <th></th>\n",
       "      <th>title</th>\n",
       "      <th>wikidataURL</th>\n",
       "      <th>ISSN-L</th>\n",
       "      <th>IPNIpubID</th>\n",
       "      <th>ZooBankPubID</th>\n",
       "      <th>openAlexID</th>\n",
       "      <th>dissolvedYear</th>\n",
       "      <th>dissolved</th>\n",
       "      <th>source</th>\n",
       "    </tr>\n",
       "  </thead>\n",
       "  <tbody>\n",
       "    <tr>\n",
       "      <th>0</th>\n",
       "      <td>Ornithology</td>\n",
       "      <td>http://www.wikidata.org/entity/Q2300649</td>\n",
       "      <td>0004-8038</td>\n",
       "      <td>NaN</td>\n",
       "      <td>3F3F951F-B494-44B0-B286-AF9BCB097966</td>\n",
       "      <td>S152904045</td>\n",
       "      <td>NaN</td>\n",
       "      <td>NaN</td>\n",
       "      <td>Wikidata taxonomic subject</td>\n",
       "    </tr>\n",
       "    <tr>\n",
       "      <th>1</th>\n",
       "      <td>ZooKeys</td>\n",
       "      <td>http://www.wikidata.org/entity/Q219980</td>\n",
       "      <td>1313-2970</td>\n",
       "      <td>NaN</td>\n",
       "      <td>91BD42D4-90F1-4B45-9350-EEF175B1727A</td>\n",
       "      <td>S199213172</td>\n",
       "      <td>NaN</td>\n",
       "      <td>NaN</td>\n",
       "      <td>Wikidata taxonomic subject</td>\n",
       "    </tr>\n",
       "    <tr>\n",
       "      <th>2</th>\n",
       "      <td>Zootaxa</td>\n",
       "      <td>http://www.wikidata.org/entity/Q220370</td>\n",
       "      <td>1175-5326</td>\n",
       "      <td>NaN</td>\n",
       "      <td>78F99150-21C2-4639-B359-F3E2302DF0B7</td>\n",
       "      <td>S171471881</td>\n",
       "      <td>NaN</td>\n",
       "      <td>NaN</td>\n",
       "      <td>Wikidata taxonomic subject</td>\n",
       "    </tr>\n",
       "    <tr>\n",
       "      <th>3</th>\n",
       "      <td>Nuytsia</td>\n",
       "      <td>http://www.wikidata.org/entity/Q2005798</td>\n",
       "      <td>0085-4417</td>\n",
       "      <td>1029-2</td>\n",
       "      <td>NaN</td>\n",
       "      <td>S103214341</td>\n",
       "      <td>NaN</td>\n",
       "      <td>NaN</td>\n",
       "      <td>Wikidata taxonomic subject</td>\n",
       "    </tr>\n",
       "    <tr>\n",
       "      <th>4</th>\n",
       "      <td>Kew Bulletin</td>\n",
       "      <td>http://www.wikidata.org/entity/Q2675794</td>\n",
       "      <td>0075-5974</td>\n",
       "      <td>987-2</td>\n",
       "      <td>NaN</td>\n",
       "      <td>S157974409</td>\n",
       "      <td>NaN</td>\n",
       "      <td>NaN</td>\n",
       "      <td>Wikidata taxonomic subject</td>\n",
       "    </tr>\n",
       "  </tbody>\n",
       "</table>\n",
       "</div>"
      ],
      "text/plain": [
       "          title                              wikidataURL     ISSN-L IPNIpubID  \\\n",
       "0   Ornithology  http://www.wikidata.org/entity/Q2300649  0004-8038       NaN   \n",
       "1       ZooKeys   http://www.wikidata.org/entity/Q219980  1313-2970       NaN   \n",
       "2       Zootaxa   http://www.wikidata.org/entity/Q220370  1175-5326       NaN   \n",
       "3       Nuytsia  http://www.wikidata.org/entity/Q2005798  0085-4417    1029-2   \n",
       "4  Kew Bulletin  http://www.wikidata.org/entity/Q2675794  0075-5974     987-2   \n",
       "\n",
       "                           ZooBankPubID  openAlexID dissolvedYear dissolved  \\\n",
       "0  3F3F951F-B494-44B0-B286-AF9BCB097966  S152904045           NaN       NaN   \n",
       "1  91BD42D4-90F1-4B45-9350-EEF175B1727A  S199213172           NaN       NaN   \n",
       "2  78F99150-21C2-4639-B359-F3E2302DF0B7  S171471881           NaN       NaN   \n",
       "3                                   NaN  S103214341           NaN       NaN   \n",
       "4                                   NaN  S157974409           NaN       NaN   \n",
       "\n",
       "                       source  \n",
       "0  Wikidata taxonomic subject  \n",
       "1  Wikidata taxonomic subject  \n",
       "2  Wikidata taxonomic subject  \n",
       "3  Wikidata taxonomic subject  \n",
       "4  Wikidata taxonomic subject  "
      ]
     },
     "execution_count": 2,
     "metadata": {},
     "output_type": "execute_result"
    }
   ],
   "source": [
    "journals = pd.read_csv(\"../data/processed/journals_deduplicated.csv\")\n",
    "journals.head()"
   ]
  },
  {
   "cell_type": "code",
   "execution_count": 3,
   "id": "a8eeaafd",
   "metadata": {},
   "outputs": [
    {
     "name": "stdout",
     "output_type": "stream",
     "text": [
      "Number of journals: 2238\n",
      "Number of journals with known title: 2238\n"
     ]
    }
   ],
   "source": [
    "print(\"Number of journals: \" + str(len(journals)))\n",
    "print(\"Number of journals with known title: \"+\\\n",
    "      str(len([x for x in journals[\"title\"] if x == x])))"
   ]
  },
  {
   "cell_type": "code",
   "execution_count": 4,
   "id": "3ff79991",
   "metadata": {},
   "outputs": [
    {
     "name": "stdout",
     "output_type": "stream",
     "text": [
      "Number of journals with wikidataURL: 2195\n",
      "Number of journals with ISSN-L: 1389\n",
      "Number of journals with IPNIpubID: 1579\n",
      "Number of journals with ZooBankPubID: 624\n",
      "Number of journals with openAlexID: 776\n"
     ]
    }
   ],
   "source": [
    "for column in journals.columns[1:6]:\n",
    "    print(\"Number of journals with \" + column + \": \"+\\\n",
    "          str(len([x for x in journals[column] if x == x])))"
   ]
  },
  {
   "cell_type": "code",
   "execution_count": 5,
   "id": "ced81066",
   "metadata": {},
   "outputs": [
    {
     "name": "stdout",
     "output_type": "stream",
     "text": [
      "Journals that were dissolved (confirmed): \n"
     ]
    },
    {
     "data": {
      "text/plain": [
       "True     475\n",
       "False    128\n",
       "Name: dissolved, dtype: int64"
      ]
     },
     "execution_count": 5,
     "metadata": {},
     "output_type": "execute_result"
    }
   ],
   "source": [
    "print(\"Journals that were dissolved (confirmed): \")\n",
    "journals[\"dissolved\"].value_counts()"
   ]
  },
  {
   "cell_type": "code",
   "execution_count": 6,
   "id": "cdea3ecc",
   "metadata": {},
   "outputs": [
    {
     "data": {
      "text/html": [
       "<div>\n",
       "<style scoped>\n",
       "    .dataframe tbody tr th:only-of-type {\n",
       "        vertical-align: middle;\n",
       "    }\n",
       "\n",
       "    .dataframe tbody tr th {\n",
       "        vertical-align: top;\n",
       "    }\n",
       "\n",
       "    .dataframe thead th {\n",
       "        text-align: right;\n",
       "    }\n",
       "</style>\n",
       "<table border=\"1\" class=\"dataframe\">\n",
       "  <thead>\n",
       "    <tr style=\"text-align: right;\">\n",
       "      <th></th>\n",
       "      <th>id</th>\n",
       "      <th>doi</th>\n",
       "      <th>title</th>\n",
       "      <th>display_name</th>\n",
       "      <th>publication_year</th>\n",
       "      <th>publication_date</th>\n",
       "      <th>ids</th>\n",
       "      <th>language</th>\n",
       "      <th>primary_location</th>\n",
       "      <th>type</th>\n",
       "      <th>...</th>\n",
       "      <th>source_is_in_doaj</th>\n",
       "      <th>source_host_organization</th>\n",
       "      <th>source_host_organization_name</th>\n",
       "      <th>source_host_organization_lineage</th>\n",
       "      <th>source_host_organization_lineage_names</th>\n",
       "      <th>source_type</th>\n",
       "      <th>oa_is_oa</th>\n",
       "      <th>oa_oa_status</th>\n",
       "      <th>oa_oa_url</th>\n",
       "      <th>oa_any_repository_has_fulltext</th>\n",
       "    </tr>\n",
       "  </thead>\n",
       "  <tbody>\n",
       "    <tr>\n",
       "      <th>0</th>\n",
       "      <td>https://openalex.org/W2766208183</td>\n",
       "      <td>https://doi.org/10.1371/journal.pone.0185809</td>\n",
       "      <td>More than 75 percent decline over 27 years in ...</td>\n",
       "      <td>More than 75 percent decline over 27 years in ...</td>\n",
       "      <td>2017</td>\n",
       "      <td>2017-10-18</td>\n",
       "      <td>{'openalex': 'https://openalex.org/W2766208183...</td>\n",
       "      <td>en</td>\n",
       "      <td>{'is_oa': True, 'landing_page_url': 'https://d...</td>\n",
       "      <td>article</td>\n",
       "      <td>...</td>\n",
       "      <td>True</td>\n",
       "      <td>https://openalex.org/P4310315706</td>\n",
       "      <td>Public Library of Science</td>\n",
       "      <td>[https://openalex.org/P4310315706]</td>\n",
       "      <td>[Public Library of Science]</td>\n",
       "      <td>journal</td>\n",
       "      <td>True</td>\n",
       "      <td>gold</td>\n",
       "      <td>https://doi.org/10.1371/journal.pone.0185809</td>\n",
       "      <td>True</td>\n",
       "    </tr>\n",
       "    <tr>\n",
       "      <th>1</th>\n",
       "      <td>https://openalex.org/W1577451703</td>\n",
       "      <td>https://doi.org/10.1371/journal.pone.0131080</td>\n",
       "      <td>Biodiversity on the Rocks: Macrofauna Inhabiti...</td>\n",
       "      <td>Biodiversity on the Rocks: Macrofauna Inhabiti...</td>\n",
       "      <td>2015</td>\n",
       "      <td>2015-07-09</td>\n",
       "      <td>{'openalex': 'https://openalex.org/W1577451703...</td>\n",
       "      <td>en</td>\n",
       "      <td>{'is_oa': True, 'landing_page_url': 'https://d...</td>\n",
       "      <td>article</td>\n",
       "      <td>...</td>\n",
       "      <td>True</td>\n",
       "      <td>https://openalex.org/P4310315706</td>\n",
       "      <td>Public Library of Science</td>\n",
       "      <td>[https://openalex.org/P4310315706]</td>\n",
       "      <td>[Public Library of Science]</td>\n",
       "      <td>journal</td>\n",
       "      <td>True</td>\n",
       "      <td>gold</td>\n",
       "      <td>https://journals.plos.org/plosone/article/file...</td>\n",
       "      <td>True</td>\n",
       "    </tr>\n",
       "    <tr>\n",
       "      <th>2</th>\n",
       "      <td>https://openalex.org/W2072022921</td>\n",
       "      <td>https://doi.org/10.1371/journal.pone.0066213</td>\n",
       "      <td>A DNA-Based Registry for All Animal Species: T...</td>\n",
       "      <td>A DNA-Based Registry for All Animal Species: T...</td>\n",
       "      <td>2013</td>\n",
       "      <td>2013-07-08</td>\n",
       "      <td>{'openalex': 'https://openalex.org/W2072022921...</td>\n",
       "      <td>en</td>\n",
       "      <td>{'is_oa': True, 'landing_page_url': 'https://d...</td>\n",
       "      <td>article</td>\n",
       "      <td>...</td>\n",
       "      <td>True</td>\n",
       "      <td>https://openalex.org/P4310315706</td>\n",
       "      <td>Public Library of Science</td>\n",
       "      <td>[https://openalex.org/P4310315706]</td>\n",
       "      <td>[Public Library of Science]</td>\n",
       "      <td>journal</td>\n",
       "      <td>True</td>\n",
       "      <td>gold</td>\n",
       "      <td>https://journals.plos.org/plosone/article/file...</td>\n",
       "      <td>True</td>\n",
       "    </tr>\n",
       "    <tr>\n",
       "      <th>3</th>\n",
       "      <td>https://openalex.org/W2037158686</td>\n",
       "      <td>https://doi.org/10.1371/journal.pone.0108277</td>\n",
       "      <td>SDT: A Virus Classification Tool Based on Pair...</td>\n",
       "      <td>SDT: A Virus Classification Tool Based on Pair...</td>\n",
       "      <td>2014</td>\n",
       "      <td>2014-09-26</td>\n",
       "      <td>{'openalex': 'https://openalex.org/W2037158686...</td>\n",
       "      <td>en</td>\n",
       "      <td>{'is_oa': True, 'landing_page_url': 'https://d...</td>\n",
       "      <td>article</td>\n",
       "      <td>...</td>\n",
       "      <td>True</td>\n",
       "      <td>https://openalex.org/P4310315706</td>\n",
       "      <td>Public Library of Science</td>\n",
       "      <td>[https://openalex.org/P4310315706]</td>\n",
       "      <td>[Public Library of Science]</td>\n",
       "      <td>journal</td>\n",
       "      <td>True</td>\n",
       "      <td>gold</td>\n",
       "      <td>https://journals.plos.org/plosone/article/file...</td>\n",
       "      <td>True</td>\n",
       "    </tr>\n",
       "    <tr>\n",
       "      <th>4</th>\n",
       "      <td>https://openalex.org/W1998292935</td>\n",
       "      <td>https://doi.org/10.1371/journal.pone.0105592</td>\n",
       "      <td>Development of a Prokaryotic Universal Primer ...</td>\n",
       "      <td>Development of a Prokaryotic Universal Primer ...</td>\n",
       "      <td>2014</td>\n",
       "      <td>2014-08-21</td>\n",
       "      <td>{'openalex': 'https://openalex.org/W1998292935...</td>\n",
       "      <td>en</td>\n",
       "      <td>{'is_oa': True, 'landing_page_url': 'https://d...</td>\n",
       "      <td>article</td>\n",
       "      <td>...</td>\n",
       "      <td>True</td>\n",
       "      <td>https://openalex.org/P4310315706</td>\n",
       "      <td>Public Library of Science</td>\n",
       "      <td>[https://openalex.org/P4310315706]</td>\n",
       "      <td>[Public Library of Science]</td>\n",
       "      <td>journal</td>\n",
       "      <td>True</td>\n",
       "      <td>gold</td>\n",
       "      <td>https://journals.plos.org/plosone/article/file...</td>\n",
       "      <td>True</td>\n",
       "    </tr>\n",
       "  </tbody>\n",
       "</table>\n",
       "<p>5 rows × 63 columns</p>\n",
       "</div>"
      ],
      "text/plain": [
       "                                 id  \\\n",
       "0  https://openalex.org/W2766208183   \n",
       "1  https://openalex.org/W1577451703   \n",
       "2  https://openalex.org/W2072022921   \n",
       "3  https://openalex.org/W2037158686   \n",
       "4  https://openalex.org/W1998292935   \n",
       "\n",
       "                                            doi  \\\n",
       "0  https://doi.org/10.1371/journal.pone.0185809   \n",
       "1  https://doi.org/10.1371/journal.pone.0131080   \n",
       "2  https://doi.org/10.1371/journal.pone.0066213   \n",
       "3  https://doi.org/10.1371/journal.pone.0108277   \n",
       "4  https://doi.org/10.1371/journal.pone.0105592   \n",
       "\n",
       "                                               title  \\\n",
       "0  More than 75 percent decline over 27 years in ...   \n",
       "1  Biodiversity on the Rocks: Macrofauna Inhabiti...   \n",
       "2  A DNA-Based Registry for All Animal Species: T...   \n",
       "3  SDT: A Virus Classification Tool Based on Pair...   \n",
       "4  Development of a Prokaryotic Universal Primer ...   \n",
       "\n",
       "                                        display_name  publication_year  \\\n",
       "0  More than 75 percent decline over 27 years in ...              2017   \n",
       "1  Biodiversity on the Rocks: Macrofauna Inhabiti...              2015   \n",
       "2  A DNA-Based Registry for All Animal Species: T...              2013   \n",
       "3  SDT: A Virus Classification Tool Based on Pair...              2014   \n",
       "4  Development of a Prokaryotic Universal Primer ...              2014   \n",
       "\n",
       "  publication_date                                                ids  \\\n",
       "0       2017-10-18  {'openalex': 'https://openalex.org/W2766208183...   \n",
       "1       2015-07-09  {'openalex': 'https://openalex.org/W1577451703...   \n",
       "2       2013-07-08  {'openalex': 'https://openalex.org/W2072022921...   \n",
       "3       2014-09-26  {'openalex': 'https://openalex.org/W2037158686...   \n",
       "4       2014-08-21  {'openalex': 'https://openalex.org/W1998292935...   \n",
       "\n",
       "  language                                   primary_location     type  ...  \\\n",
       "0       en  {'is_oa': True, 'landing_page_url': 'https://d...  article  ...   \n",
       "1       en  {'is_oa': True, 'landing_page_url': 'https://d...  article  ...   \n",
       "2       en  {'is_oa': True, 'landing_page_url': 'https://d...  article  ...   \n",
       "3       en  {'is_oa': True, 'landing_page_url': 'https://d...  article  ...   \n",
       "4       en  {'is_oa': True, 'landing_page_url': 'https://d...  article  ...   \n",
       "\n",
       "  source_is_in_doaj          source_host_organization  \\\n",
       "0              True  https://openalex.org/P4310315706   \n",
       "1              True  https://openalex.org/P4310315706   \n",
       "2              True  https://openalex.org/P4310315706   \n",
       "3              True  https://openalex.org/P4310315706   \n",
       "4              True  https://openalex.org/P4310315706   \n",
       "\n",
       "  source_host_organization_name    source_host_organization_lineage  \\\n",
       "0     Public Library of Science  [https://openalex.org/P4310315706]   \n",
       "1     Public Library of Science  [https://openalex.org/P4310315706]   \n",
       "2     Public Library of Science  [https://openalex.org/P4310315706]   \n",
       "3     Public Library of Science  [https://openalex.org/P4310315706]   \n",
       "4     Public Library of Science  [https://openalex.org/P4310315706]   \n",
       "\n",
       "   source_host_organization_lineage_names source_type oa_is_oa oa_oa_status  \\\n",
       "0             [Public Library of Science]     journal     True         gold   \n",
       "1             [Public Library of Science]     journal     True         gold   \n",
       "2             [Public Library of Science]     journal     True         gold   \n",
       "3             [Public Library of Science]     journal     True         gold   \n",
       "4             [Public Library of Science]     journal     True         gold   \n",
       "\n",
       "                                           oa_oa_url  \\\n",
       "0       https://doi.org/10.1371/journal.pone.0185809   \n",
       "1  https://journals.plos.org/plosone/article/file...   \n",
       "2  https://journals.plos.org/plosone/article/file...   \n",
       "3  https://journals.plos.org/plosone/article/file...   \n",
       "4  https://journals.plos.org/plosone/article/file...   \n",
       "\n",
       "   oa_any_repository_has_fulltext  \n",
       "0                            True  \n",
       "1                            True  \n",
       "2                            True  \n",
       "3                            True  \n",
       "4                            True  \n",
       "\n",
       "[5 rows x 63 columns]"
      ]
     },
     "execution_count": 6,
     "metadata": {},
     "output_type": "execute_result"
    }
   ],
   "source": [
    "articles = pd.read_pickle(\"../data/interim/filtered_articles.pkl\")\n",
    "articles.head()"
   ]
  },
  {
   "cell_type": "code",
   "execution_count": 7,
   "id": "ee7e0afe",
   "metadata": {},
   "outputs": [
    {
     "name": "stdout",
     "output_type": "stream",
     "text": [
      "Number of journals that contained relevant (i.e. taxonomic) articles: 511\n"
     ]
    }
   ],
   "source": [
    "print(\"Number of journals that contained relevant (i.e. taxonomic) articles: \" + \\\n",
    "      str(len(set(articles[\"source_id\"]))))"
   ]
  },
  {
   "cell_type": "code",
   "execution_count": 8,
   "id": "a78bd302",
   "metadata": {},
   "outputs": [
    {
     "data": {
      "text/plain": [
       "Text(0.5, 1.0, 'Unique journals per source')"
      ]
     },
     "execution_count": 8,
     "metadata": {},
     "output_type": "execute_result"
    },
    {
     "data": {
      "image/png": "[encoded data removed]",
      "text/plain": [
       "<Figure size 640x480 with 1 Axes>"
      ]
     },
     "metadata": {},
     "output_type": "display_data"
    }
   ],
   "source": [
    "# Venn diagram\n",
    "ipnizoo = set(journals[journals[\"source\"]==\"IPNI or ZooBank ID\"][\"title\"])\n",
    "openalex = set(journals[journals[\"source\"]==\"OpenAlex taxonomy concept\"][\"title\"])\n",
    "wikisubjects = set(journals[journals[\"source\"]==\"Wikidata taxonomic subject\"][\"title\"])\n",
    "\n",
    "venn3([ipnizoo, openalex, wikisubjects], (\"IPNI/ZooBank ID\", \"OpenAlex\", \"Wikidata subjects\"))\n",
    "plt.title(\"Unique journals per source\", fontsize=15)"
   ]
  },
  {
   "cell_type": "markdown",
   "id": "94ae5789",
   "metadata": {},
   "source": [
    "## 2. Articles\n",
    "\n",
    "- total number\n",
    "- number with at least one European author"
   ]
  },
  {
   "cell_type": "code",
   "execution_count": 9,
   "id": "1cd4553a",
   "metadata": {},
   "outputs": [
    {
     "name": "stdout",
     "output_type": "stream",
     "text": [
      "Number of articles related to taxonomy: 111379\n"
     ]
    }
   ],
   "source": [
    "print(\"Number of articles related to taxonomy: \" + str(len(set(articles[\"id\"]))))"
   ]
  },
  {
   "cell_type": "code",
   "execution_count": 10,
   "id": "25aa43c4",
   "metadata": {},
   "outputs": [],
   "source": [
    "eu_articles = pd.read_pickle(\"../data/interim/eu_filtered_articles.pkl\")"
   ]
  },
  {
   "cell_type": "code",
   "execution_count": 11,
   "id": "3a18af0b",
   "metadata": {},
   "outputs": [
    {
     "name": "stdout",
     "output_type": "stream",
     "text": [
      "Number of articles related to taxonomy with at least one European author: 33794\n"
     ]
    }
   ],
   "source": [
    "print(\"Number of articles related to taxonomy with at least one European author: \" +\\\n",
    "      str(len(set(eu_articles[\"id\"]))))"
   ]
  },
  {
   "cell_type": "markdown",
   "id": "310cfe32",
   "metadata": {},
   "source": [
    "## 3. Authors"
   ]
  },
  {
   "cell_type": "code",
   "execution_count": 12,
   "id": "709caff1",
   "metadata": {},
   "outputs": [],
   "source": [
    "eu_authors = pd.read_csv(\"../data/processed/european_taxonomic_authors_no_duplicates.tsv\", sep=\"\\t\")"
   ]
  },
  {
   "cell_type": "code",
   "execution_count": 13,
   "id": "cc488f4d",
   "metadata": {},
   "outputs": [
    {
     "name": "stdout",
     "output_type": "stream",
     "text": [
      "Number of European authors before disambiguation: 47292\n"
     ]
    }
   ],
   "source": [
    "print(\"Number of European authors before disambiguation: \"+\\\n",
    "      str(len(eu_authors)))"
   ]
  },
  {
   "cell_type": "code",
   "execution_count": 14,
   "id": "d2ce556d",
   "metadata": {},
   "outputs": [],
   "source": [
    "eu_disamb_authors = pd.read_pickle(\"../data/processed/european_authors_disambiguated_truncated.pkl\")"
   ]
  },
  {
   "cell_type": "code",
   "execution_count": 15,
   "id": "58e8e5b0",
   "metadata": {},
   "outputs": [
    {
     "name": "stdout",
     "output_type": "stream",
     "text": [
      "Number of European authors after disambiguation: 46914\n"
     ]
    }
   ],
   "source": [
    "print(\"Number of European authors after disambiguation: \"+\\\n",
    "      str(len(eu_disamb_authors)))"
   ]
  },
  {
   "cell_type": "markdown",
   "id": "936b71bb",
   "metadata": {},
   "source": [
    "## 4. Taxonomy"
   ]
  },
  {
   "cell_type": "markdown",
   "id": "d46c57ee",
   "metadata": {},
   "source": [
    "Total number of families within Plantae:\n",
    "Total number of families within Animalia:\n",
    "Total number of families within Fungi:\n",
    "Total number of families within Protists:\n",
    "…. See similar figure here: https://data-blog.gbif.org/post/gbif-backbone-taxonomy/"
   ]
  },
  {
   "cell_type": "code",
   "execution_count": 20,
   "id": "1703bdfc",
   "metadata": {},
   "outputs": [],
   "source": [
    "authors_tree = pd.read_pickle(\"../data/processed/european_authors_disambiguated_with_taxonomy.pkl\")"
   ]
  },
  {
   "cell_type": "code",
   "execution_count": 61,
   "id": "13fdf53c",
   "metadata": {},
   "outputs": [],
   "source": [
    "def get_number_families(kingdom_name):\n",
    "    kingdom = []\n",
    "\n",
    "    for author in authors_tree.itertuples():\n",
    "        if kingdom_name in author.kingdoms_subjects:\n",
    "            kingdom.append(author)\n",
    "            \n",
    "    kingdom_df = pd.DataFrame(kingdom)\n",
    "    \n",
    "    families = []\n",
    "    \n",
    "    for author in kingdom_df.itertuples():\n",
    "        for family in author.families_subjects:\n",
    "            families.append(family)\n",
    "            \n",
    "    return len(set(families))"
   ]
  },
  {
   "cell_type": "code",
   "execution_count": 62,
   "id": "a803a2a9",
   "metadata": {},
   "outputs": [
    {
     "name": "stdout",
     "output_type": "stream",
     "text": [
      "Number of plant families in data: 819\n",
      "Number of animal families in data: 3152\n",
      "Number of fungal families in data: 725\n"
     ]
    }
   ],
   "source": [
    "print(\"Number of plant families in data: \" + str(get_number_families(\"Plantae\")))\n",
    "print(\"Number of animal families in data: \" + str(get_number_families(\"Animalia\")))\n",
    "print(\"Number of fungal families in data: \" + str(get_number_families(\"Fungi\")))\n",
    "# no protists in data"
   ]
  },
  {
   "cell_type": "markdown",
   "id": "df131d7c",
   "metadata": {},
   "source": [
    "## 4. Most prolific authors"
   ]
  },
  {
   "cell_type": "code",
   "execution_count": 4,
   "id": "4cc133f9",
   "metadata": {},
   "outputs": [],
   "source": [
    "authors = pd.read_pickle(\"../data/interim/all_authors_of_european_taxonomic_articles.pkl\")"
   ]
  },
  {
   "cell_type": "code",
   "execution_count": 10,
   "id": "81332f7a",
   "metadata": {},
   "outputs": [],
   "source": [
    "top_authors = authors[\"author_id\"].value_counts()[0:10]"
   ]
  },
  {
   "cell_type": "code",
   "execution_count": 28,
   "id": "e350e17b",
   "metadata": {},
   "outputs": [
    {
     "name": "stdout",
     "output_type": "stream",
     "text": [
      "André Nel has written 156 articles\n",
      "Paweł Jałoszyński has written 140 articles\n",
      "Dariusz L. Szlachetko has written 125 articles\n",
      "Marta Kolanowska has written 122 articles\n",
      "Sergey G. Ermilov has written 122 articles\n",
      "Aidas Saldaitis has written 97 articles\n",
      "Miguel Vences has written 84 articles\n",
      "Robert Lücking has written 83 articles\n",
      "Harry Smit has written 76 articles\n",
      "Anton V. Volynkin has written 69 articles\n"
     ]
    }
   ],
   "source": [
    "for author_id in top_authors.index:\n",
    "    print(authors[authors[\"author_id\"]==author_id].iloc[0][\"author_display_name\"] + \\\n",
    "          \" has written \" + str(top_authors.loc[author_id]) + \" articles\")"
   ]
  }
 ],
 "metadata": {
  "kernelspec": {
   "display_name": "Python 3 (ipykernel)",
   "language": "python",
   "name": "python3"
  },
  "language_info": {
   "codemirror_mode": {
    "name": "ipython",
    "version": 3
   },
   "file_extension": ".py",
   "mimetype": "text/x-python",
   "name": "python",
   "nbconvert_exporter": "python",
   "pygments_lexer": "ipython3",
   "version": "3.9.13"
  }
 },
 "nbformat": 4,
 "nbformat_minor": 5
}
