{
 "cells": [
  {
   "cell_type": "code",
   "execution_count": null,
   "id": "c275e41f-8014-4fda-9012-051c69e46cb3",
   "metadata": {},
   "outputs": [],
   "source": [
    "import pandas as pd\n",
    "import requests\n",
    "import numpy as np"
   ]
  },
  {
   "cell_type": "code",
   "execution_count": null,
   "id": "44173fb9-d0cd-4289-8bd6-865d14041099",
   "metadata": {},
   "outputs": [],
   "source": [
    "# GET ALL SOURCES (JOURNALS) FROM OPENALEX API WITH SPECIFIED REQUIREMENTS\n",
    "def request_institutions(filter_string, email):\n",
    "    # build query (e-mail included for \"polite pool\")\n",
    "    query = \"https://api.openalex.org/institutions?per-page=200&filter=\"+filter_string+\"&mailto=\"+email\n",
    "            \n",
    "    # open persistent session to shorten processing time between requests\n",
    "    s = requests.Session()\n",
    "    # FIRST PAGE\n",
    "    sources = s.get(query+\"&cursor=*\")\n",
    "    next_sources = sources.json()\n",
    "    next_cursor = next_sources[\"meta\"][\"next_cursor\"]\n",
    "    sources_results = next_sources[\"results\"]\n",
    "    \n",
    "    # RETRIEVE ALL PAGES\n",
    "    while next_sources[\"meta\"][\"next_cursor\"] != None:\n",
    "        # get next page with cursor\n",
    "        next_sources = s.get(query+\"&cursor=\"+next_cursor)\n",
    "        next_sources = next_sources.json()\n",
    "        next_cursor = next_sources[\"meta\"][\"next_cursor\"] # remember next cursor\n",
    "        sources_results.extend(next_sources[\"results\"])\n",
    "    \n",
    "    sources_df = pd.DataFrame.from_dict(sources_results)\n",
    "    return sources_df"
   ]
  },
  {
   "cell_type": "code",
   "execution_count": null,
   "id": "61252d0d-1e32-448a-bc09-e6b1d84767fb",
   "metadata": {},
   "outputs": [],
   "source": [
    "data = pd.read_pickle(\"../data/processed/authors_disambiguated_truncated.pkl\")\n",
    "data.head()"
   ]
  },
  {
   "cell_type": "code",
   "execution_count": null,
   "id": "b0228861-9e20-4470-9a6e-309aa2ab3cfb",
   "metadata": {},
   "outputs": [],
   "source": [
    "email = input(\"Enter e-mail address for OpenAlex API: \").strip()\n",
    "iso_countrycode = input(\"Enter ISO 3166-1 alpha-2 country code: \").strip()\n",
    "be_inst = request_institutions(\"country_code:\"+iso_countrycode, email)"
   ]
  },
  {
   "cell_type": "code",
   "execution_count": null,
   "id": "67eb01d1-5931-48da-9e61-22f789a85588",
   "metadata": {},
   "outputs": [],
   "source": [
    "be_inst.head()"
   ]
  },
  {
   "cell_type": "code",
   "execution_count": null,
   "id": "77779807-ecf4-488d-ac5f-1bcc5abba7d7",
   "metadata": {},
   "outputs": [],
   "source": [
    "inst_exp = {}\n",
    "for inst in be_inst[\"id\"]:\n",
    "    inst_exp[inst] = []\n",
    "\n",
    "for row in data.itertuples():\n",
    "    if row.inst_id in list(be_inst[\"id\"]):\n",
    "        if type(row.order) is list or type(row.order) is set:\n",
    "            inst_exp[row.inst_id].extend(row.order)\n",
    "        else:\n",
    "            inst_exp[row.inst_id].append(row.order)"
   ]
  },
  {
   "cell_type": "code",
   "execution_count": null,
   "id": "3336b0af-6588-410f-b393-97d25024f90c",
   "metadata": {},
   "outputs": [],
   "source": [
    "inst_exp"
   ]
  },
  {
   "cell_type": "code",
   "execution_count": null,
   "id": "a576ba92-e5ac-40fc-b96c-0f0995c7a275",
   "metadata": {},
   "outputs": [],
   "source": [
    "expertise = pd.DataFrame({\"inst_id\":inst_exp.keys(), \"inst_name\":be_inst[\"display_name\"], \"orders\":inst_exp.values()})\n",
    "expertise[\"orders_unique\"] = [list(np.unique(x)) for x in expertise[\"orders\"]]\n",
    "expertise[expertise[\"orders\"].map(lambda d: len(d)) > 0]"
   ]
  },
  {
   "cell_type": "code",
   "execution_count": null,
   "id": "fa3091bd-0d72-4ca2-a6e2-f54e51d76664",
   "metadata": {},
   "outputs": [],
   "source": [
    "orders = list(np.unique(list(pd.core.common.flatten(expertise[\"orders\"]))))\n",
    "orders"
   ]
  },
  {
   "cell_type": "code",
   "execution_count": null,
   "id": "a7663647-029f-4397-a1b1-017964928a10",
   "metadata": {},
   "outputs": [],
   "source": [
    "expertise2 = pd.DataFrame({\"order\":orders, \"inst_ids\":None, \"inst_names\":None})\n",
    "expertise2 = expertise2.set_index(\"order\")\n",
    "expertise2[\"inst_ids\"] = [[] for _ in orders]\n",
    "expertise2[\"inst_names\"] = [[] for _ in orders]"
   ]
  },
  {
   "cell_type": "code",
   "execution_count": null,
   "id": "4e4e88c6-f7d1-44ef-9360-b1f5c55ee855",
   "metadata": {},
   "outputs": [],
   "source": [
    "for row in expertise.itertuples():\n",
    "    for order in row.orders_unique:\n",
    "        expertise2.loc[order, \"inst_ids\"].append(row.inst_id)\n",
    "        expertise2.loc[order, \"inst_names\"].append(row.inst_name)"
   ]
  },
  {
   "cell_type": "code",
   "execution_count": null,
   "id": "e78b3814-4288-4fd2-ae9c-afeb01b45cb6",
   "metadata": {},
   "outputs": [],
   "source": [
    "expertise2"
   ]
  },
  {
   "cell_type": "code",
   "execution_count": null,
   "id": "7b64acaf-eb8c-4586-926b-243130ddb1d9",
   "metadata": {},
   "outputs": [],
   "source": [
    "expertise.to_excel(\"../data/processed/national_taxonomische_expertise_per_instituut.xlsx\")"
   ]
  },
  {
   "cell_type": "code",
   "execution_count": null,
   "id": "0601041d-3174-49ca-a60b-d6eee2dbc792",
   "metadata": {},
   "outputs": [],
   "source": [
    "expertise2.to_excel(\"../data/processed/national_taxonomische_expertise_per_orde.xlsx\")"
   ]
  }
 ],
 "metadata": {
  "kernelspec": {
   "display_name": "Python 3 (ipykernel)",
   "language": "python",
   "name": "python3"
  },
  "language_info": {
   "codemirror_mode": {
    "name": "ipython",
    "version": 3
   },
   "file_extension": ".py",
   "mimetype": "text/x-python",
   "name": "python",
   "nbconvert_exporter": "python",
   "pygments_lexer": "ipython3",
   "version": "3.11.9"
  }
 },
 "nbformat": 4,
 "nbformat_minor": 5
}
