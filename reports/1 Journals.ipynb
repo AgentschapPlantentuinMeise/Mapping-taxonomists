{
 "cells": [
  {
   "cell_type": "markdown",
   "id": "a3c11093",
   "metadata": {},
   "source": [
    "# 1. Gathering taxonomic journals\n",
    "\n",
    "We gathered taxonomic journals through three sources:\n",
    " - We used Wikidata to find all academic or scientific journals with a main subject or field of work related to taxonomy, phylogeny, nomenclature,...\n",
    " - We used Wikidata to find all journals that had an IPNI or ZooBank publication ID.\n",
    " - We used the OpenAlex API to retrieve all journals that were related to \"taxonomy\", i.e. with the concept \"taxonomy\" linked to it.\n",
    "\n",
    "Here, we take a quick look at the results."
   ]
  },
  {
   "cell_type": "code",
   "execution_count": 1,
   "id": "971201f0",
   "metadata": {},
   "outputs": [],
   "source": [
    "import pandas as pd\n",
    "from matplotlib_venn import venn3\n",
    "from matplotlib import pyplot as plt"
   ]
  },
  {
   "cell_type": "code",
   "execution_count": 2,
   "id": "8bd78ff7",
   "metadata": {},
   "outputs": [
    {
     "data": {
      "text/html": [
       "<div>\n",
       "<style scoped>\n",
       "    .dataframe tbody tr th:only-of-type {\n",
       "        vertical-align: middle;\n",
       "    }\n",
       "\n",
       "    .dataframe tbody tr th {\n",
       "        vertical-align: top;\n",
       "    }\n",
       "\n",
       "    .dataframe thead th {\n",
       "        text-align: right;\n",
       "    }\n",
       "</style>\n",
       "<table border=\"1\" class=\"dataframe\">\n",
       "  <thead>\n",
       "    <tr style=\"text-align: right;\">\n",
       "      <th></th>\n",
       "      <th>title</th>\n",
       "      <th>wikidataURL</th>\n",
       "      <th>ISSN-L</th>\n",
       "      <th>IPNIpubID</th>\n",
       "      <th>ZooBankPubID</th>\n",
       "      <th>openAlexID</th>\n",
       "      <th>dissolvedYear</th>\n",
       "      <th>dissolved</th>\n",
       "      <th>source</th>\n",
       "    </tr>\n",
       "  </thead>\n",
       "  <tbody>\n",
       "    <tr>\n",
       "      <th>0</th>\n",
       "      <td>ZooKeys</td>\n",
       "      <td>http://www.wikidata.org/entity/Q219980</td>\n",
       "      <td>1313-2970</td>\n",
       "      <td>NaN</td>\n",
       "      <td>91BD42D4-90F1-4B45-9350-EEF175B1727A</td>\n",
       "      <td>S199213172</td>\n",
       "      <td>NaN</td>\n",
       "      <td>NaN</td>\n",
       "      <td>Wikidata taxonomic subject</td>\n",
       "    </tr>\n",
       "    <tr>\n",
       "      <th>1</th>\n",
       "      <td>ZooKeys</td>\n",
       "      <td>http://www.wikidata.org/entity/Q219980</td>\n",
       "      <td>1313-2970</td>\n",
       "      <td>NaN</td>\n",
       "      <td>91BD42D4-90F1-4B45-9350-EEF175B1727A</td>\n",
       "      <td>S199213172</td>\n",
       "      <td>NaN</td>\n",
       "      <td>NaN</td>\n",
       "      <td>Wikidata taxonomic subject</td>\n",
       "    </tr>\n",
       "    <tr>\n",
       "      <th>2</th>\n",
       "      <td>Acta Phytotaxonomica et Geobotanica</td>\n",
       "      <td>http://www.wikidata.org/entity/Q5656888</td>\n",
       "      <td>1346-7565</td>\n",
       "      <td>1097-2</td>\n",
       "      <td>NaN</td>\n",
       "      <td>NaN</td>\n",
       "      <td>NaN</td>\n",
       "      <td>NaN</td>\n",
       "      <td>Wikidata taxonomic subject</td>\n",
       "    </tr>\n",
       "    <tr>\n",
       "      <th>3</th>\n",
       "      <td>Acta Phytotaxonomica et Geobotanica</td>\n",
       "      <td>http://www.wikidata.org/entity/Q5656888</td>\n",
       "      <td>1346-7565</td>\n",
       "      <td>1097-2</td>\n",
       "      <td>NaN</td>\n",
       "      <td>NaN</td>\n",
       "      <td>NaN</td>\n",
       "      <td>NaN</td>\n",
       "      <td>Wikidata taxonomic subject</td>\n",
       "    </tr>\n",
       "    <tr>\n",
       "      <th>4</th>\n",
       "      <td>Willdenowia</td>\n",
       "      <td>http://www.wikidata.org/entity/Q2675951</td>\n",
       "      <td>0511-9618</td>\n",
       "      <td>3087-2</td>\n",
       "      <td>NaN</td>\n",
       "      <td>S107729305</td>\n",
       "      <td>NaN</td>\n",
       "      <td>NaN</td>\n",
       "      <td>Wikidata taxonomic subject</td>\n",
       "    </tr>\n",
       "    <tr>\n",
       "      <th>...</th>\n",
       "      <td>...</td>\n",
       "      <td>...</td>\n",
       "      <td>...</td>\n",
       "      <td>...</td>\n",
       "      <td>...</td>\n",
       "      <td>...</td>\n",
       "      <td>...</td>\n",
       "      <td>...</td>\n",
       "      <td>...</td>\n",
       "    </tr>\n",
       "    <tr>\n",
       "      <th>3321</th>\n",
       "      <td>Advances in Evolutionary Biology</td>\n",
       "      <td>http://www.wikidata.org/entity/Q27726196</td>\n",
       "      <td>2314-7660</td>\n",
       "      <td>NaN</td>\n",
       "      <td>NaN</td>\n",
       "      <td>S4210228732</td>\n",
       "      <td>2015</td>\n",
       "      <td>False</td>\n",
       "      <td>OpenAlex taxonomy concept</td>\n",
       "    </tr>\n",
       "    <tr>\n",
       "      <th>3322</th>\n",
       "      <td>Sternbergiana</td>\n",
       "      <td>NaN</td>\n",
       "      <td>2695-1118</td>\n",
       "      <td>NaN</td>\n",
       "      <td>NaN</td>\n",
       "      <td>S4210236945</td>\n",
       "      <td>2021</td>\n",
       "      <td>False</td>\n",
       "      <td>OpenAlex taxonomy concept</td>\n",
       "    </tr>\n",
       "    <tr>\n",
       "      <th>3323</th>\n",
       "      <td>World Transactions on Engineering and Technolo...</td>\n",
       "      <td>http://www.wikidata.org/entity/Q15756897</td>\n",
       "      <td>1446-2257</td>\n",
       "      <td>NaN</td>\n",
       "      <td>NaN</td>\n",
       "      <td>S4306534958</td>\n",
       "      <td>2017</td>\n",
       "      <td>False</td>\n",
       "      <td>OpenAlex taxonomy concept</td>\n",
       "    </tr>\n",
       "    <tr>\n",
       "      <th>3324</th>\n",
       "      <td>Clinical allergy and immunology</td>\n",
       "      <td>NaN</td>\n",
       "      <td>1075-7910</td>\n",
       "      <td>NaN</td>\n",
       "      <td>NaN</td>\n",
       "      <td>S2764391547</td>\n",
       "      <td>NaN</td>\n",
       "      <td>NaN</td>\n",
       "      <td>OpenAlex taxonomy concept</td>\n",
       "    </tr>\n",
       "    <tr>\n",
       "      <th>3325</th>\n",
       "      <td>Transactions of the Academy of Science of St L...</td>\n",
       "      <td>https://www.wikidata.org/entity/Q10987448</td>\n",
       "      <td>0096-3852</td>\n",
       "      <td>NaN</td>\n",
       "      <td>NaN</td>\n",
       "      <td>S4210209646</td>\n",
       "      <td>before 2014</td>\n",
       "      <td>NaN</td>\n",
       "      <td>OpenAlex taxonomy concept</td>\n",
       "    </tr>\n",
       "  </tbody>\n",
       "</table>\n",
       "<p>3326 rows × 9 columns</p>\n",
       "</div>"
      ],
      "text/plain": [
       "                                                  title  \\\n",
       "0                                               ZooKeys   \n",
       "1                                               ZooKeys   \n",
       "2                   Acta Phytotaxonomica et Geobotanica   \n",
       "3                   Acta Phytotaxonomica et Geobotanica   \n",
       "4                                           Willdenowia   \n",
       "...                                                 ...   \n",
       "3321                   Advances in Evolutionary Biology   \n",
       "3322                                      Sternbergiana   \n",
       "3323  World Transactions on Engineering and Technolo...   \n",
       "3324                    Clinical allergy and immunology   \n",
       "3325  Transactions of the Academy of Science of St L...   \n",
       "\n",
       "                                    wikidataURL     ISSN-L IPNIpubID  \\\n",
       "0        http://www.wikidata.org/entity/Q219980  1313-2970       NaN   \n",
       "1        http://www.wikidata.org/entity/Q219980  1313-2970       NaN   \n",
       "2       http://www.wikidata.org/entity/Q5656888  1346-7565    1097-2   \n",
       "3       http://www.wikidata.org/entity/Q5656888  1346-7565    1097-2   \n",
       "4       http://www.wikidata.org/entity/Q2675951  0511-9618    3087-2   \n",
       "...                                         ...        ...       ...   \n",
       "3321   http://www.wikidata.org/entity/Q27726196  2314-7660       NaN   \n",
       "3322                                        NaN  2695-1118       NaN   \n",
       "3323   http://www.wikidata.org/entity/Q15756897  1446-2257       NaN   \n",
       "3324                                        NaN  1075-7910       NaN   \n",
       "3325  https://www.wikidata.org/entity/Q10987448  0096-3852       NaN   \n",
       "\n",
       "                              ZooBankPubID   openAlexID dissolvedYear  \\\n",
       "0     91BD42D4-90F1-4B45-9350-EEF175B1727A   S199213172           NaN   \n",
       "1     91BD42D4-90F1-4B45-9350-EEF175B1727A   S199213172           NaN   \n",
       "2                                      NaN          NaN           NaN   \n",
       "3                                      NaN          NaN           NaN   \n",
       "4                                      NaN   S107729305           NaN   \n",
       "...                                    ...          ...           ...   \n",
       "3321                                   NaN  S4210228732          2015   \n",
       "3322                                   NaN  S4210236945          2021   \n",
       "3323                                   NaN  S4306534958          2017   \n",
       "3324                                   NaN  S2764391547           NaN   \n",
       "3325                                   NaN  S4210209646   before 2014   \n",
       "\n",
       "     dissolved                      source  \n",
       "0          NaN  Wikidata taxonomic subject  \n",
       "1          NaN  Wikidata taxonomic subject  \n",
       "2          NaN  Wikidata taxonomic subject  \n",
       "3          NaN  Wikidata taxonomic subject  \n",
       "4          NaN  Wikidata taxonomic subject  \n",
       "...        ...                         ...  \n",
       "3321     False   OpenAlex taxonomy concept  \n",
       "3322     False   OpenAlex taxonomy concept  \n",
       "3323     False   OpenAlex taxonomy concept  \n",
       "3324       NaN   OpenAlex taxonomy concept  \n",
       "3325       NaN   OpenAlex taxonomy concept  \n",
       "\n",
       "[3326 rows x 9 columns]"
      ]
     },
     "execution_count": 2,
     "metadata": {},
     "output_type": "execute_result"
    }
   ],
   "source": [
    "journals = pd.read_csv(\"../data/processed/journals.csv\")\n",
    "journals"
   ]
  },
  {
   "cell_type": "code",
   "execution_count": 3,
   "id": "a8f5f2ae",
   "metadata": {},
   "outputs": [
    {
     "data": {
      "text/plain": [
       "source\n",
       "IPNI or ZooBank ID            3075\n",
       "OpenAlex taxonomy concept      171\n",
       "Wikidata taxonomic subject      80\n",
       "Name: count, dtype: int64"
      ]
     },
     "execution_count": 3,
     "metadata": {},
     "output_type": "execute_result"
    }
   ],
   "source": [
    "# number of journals per source\n",
    "journals[\"source\"].value_counts()"
   ]
  },
  {
   "cell_type": "code",
   "execution_count": 4,
   "id": "e3b402c5",
   "metadata": {},
   "outputs": [
    {
     "name": "stdout",
     "output_type": "stream",
     "text": [
      "Number of unique journals (by title): 2317\n"
     ]
    }
   ],
   "source": [
    "print(\"Number of unique journals (by title): \" +\n",
    "      str(len(journals.drop_duplicates(subset=\"title\", ignore_index=True))))"
   ]
  },
  {
   "cell_type": "code",
   "execution_count": 5,
   "id": "921644df",
   "metadata": {},
   "outputs": [],
   "source": [
    "ipnizoo = set(journals[journals[\"source\"]==\"IPNI or ZooBank ID\"][\"title\"])\n",
    "openalex = set(journals[journals[\"source\"]==\"OpenAlex taxonomy concept\"][\"title\"])\n",
    "wikisubjects = set(journals[journals[\"source\"]==\"Wikidata taxonomic subject\"][\"title\"])"
   ]
  },
  {
   "cell_type": "code",
   "execution_count": 6,
   "id": "ce19a569",
   "metadata": {},
   "outputs": [
    {
     "name": "stdout",
     "output_type": "stream",
     "text": [
      "Number of journals found via IPNI or ZooBank ID, not found via OpenAlex: 2142\n",
      "Number of journals found via IPNI or ZooBank ID, not found via Wikidata subjects: 2177\n"
     ]
    }
   ],
   "source": [
    "print(\"Number of journals found via IPNI or ZooBank ID, not found via OpenAlex: \" +\n",
    "      str(len(ipnizoo - openalex)))\n",
    "print(\"Number of journals found via IPNI or ZooBank ID, not found via Wikidata subjects: \" +\n",
    "      str(len(ipnizoo - wikisubjects)))"
   ]
  },
  {
   "cell_type": "code",
   "execution_count": 7,
   "id": "3e5812e9",
   "metadata": {},
   "outputs": [
    {
     "name": "stdout",
     "output_type": "stream",
     "text": [
      "Number of journals found via Wikidata subjects, not found via OpenAlex: 22\n",
      "Number of journals found via Wikidata subjects, not found via IPNI or ZooBank ID: 8\n"
     ]
    }
   ],
   "source": [
    "print(\"Number of journals found via Wikidata subjects, not found via OpenAlex: \" +\n",
    "      str(len(wikisubjects - openalex)))\n",
    "print(\"Number of journals found via Wikidata subjects, not found via IPNI or ZooBank ID: \" +\n",
    "      str(len(wikisubjects - ipnizoo)))"
   ]
  },
  {
   "cell_type": "code",
   "execution_count": 8,
   "id": "ee182605",
   "metadata": {},
   "outputs": [
    {
     "name": "stdout",
     "output_type": "stream",
     "text": [
      "Number of journals found via OpenAlex, not found via Wikidata subjects: 156\n",
      "Number of journals found via OpenAlex subjects, not found via IPNI or ZooBank ID: 107\n"
     ]
    }
   ],
   "source": [
    "print(\"Number of journals found via OpenAlex, not found via Wikidata subjects: \" +\n",
    "      str(len(openalex - wikisubjects)))\n",
    "print(\"Number of journals found via OpenAlex subjects, not found via IPNI or ZooBank ID: \" +\n",
    "      str(len(openalex - ipnizoo)))"
   ]
  },
  {
   "cell_type": "code",
   "execution_count": 9,
   "id": "35d5f91c",
   "metadata": {},
   "outputs": [
    {
     "name": "stdout",
     "output_type": "stream",
     "text": [
      "Number of journals in common\n",
      "\n",
      "OpenAlex and IPNI/ZooBank IDs: 62\n",
      "OpenAlex and Wikidata subjects: 13\n",
      "Wikidata subjects and IPNI/ZooBank IDs: 27\n",
      "OpenAlex, Wikidata subjects and IPNI/ZooBank IDs: 11\n"
     ]
    }
   ],
   "source": [
    "print(\"Number of journals in common\\n\")\n",
    "print(\"OpenAlex and IPNI/ZooBank IDs: \" +\n",
    "      str(len(openalex.intersection(ipnizoo))))\n",
    "print(\"OpenAlex and Wikidata subjects: \" +\n",
    "      str(len(openalex.intersection(wikisubjects))))\n",
    "print(\"Wikidata subjects and IPNI/ZooBank IDs: \" +\n",
    "      str(len(wikisubjects.intersection(ipnizoo))))\n",
    "print(\"OpenAlex, Wikidata subjects and IPNI/ZooBank IDs: \" +\n",
    "      str(len(openalex.intersection(wikisubjects).intersection(ipnizoo))))"
   ]
  },
  {
   "cell_type": "code",
   "execution_count": 10,
   "id": "5e5894f5",
   "metadata": {},
   "outputs": [
    {
     "data": {
      "text/plain": [
       "source\n",
       "IPNI or ZooBank ID            1287\n",
       "OpenAlex taxonomy concept      171\n",
       "Wikidata taxonomic subject      64\n",
       "Name: count, dtype: int64"
      ]
     },
     "execution_count": 10,
     "metadata": {},
     "output_type": "execute_result"
    }
   ],
   "source": [
    "# number of journals with an OpenAlex ID per source\n",
    "journals[journals[\"openAlexID\"]==journals[\"openAlexID\"]][\"source\"].value_counts()"
   ]
  },
  {
   "cell_type": "code",
   "execution_count": 11,
   "id": "c4e3f04c",
   "metadata": {},
   "outputs": [
    {
     "data": {
      "text/plain": [
       "source\n",
       "IPNI or ZooBank ID            2435\n",
       "OpenAlex taxonomy concept      143\n",
       "Wikidata taxonomic subject      77\n",
       "Name: count, dtype: int64"
      ]
     },
     "execution_count": 11,
     "metadata": {},
     "output_type": "execute_result"
    }
   ],
   "source": [
    "# number of journals that were not recently dissolved (or not confirmed dissolved) per source\n",
    "journals[(journals[\"dissolved\"]==False) | (journals[\"dissolved\"]!=journals[\"dissolved\"])][\"source\"].value_counts()"
   ]
  },
  {
   "cell_type": "code",
   "execution_count": 12,
   "id": "e78dc263",
   "metadata": {},
   "outputs": [
    {
     "data": {
      "text/plain": [
       "Text(0.5, 1.0, 'Unique journals per source')"
      ]
     },
     "execution_count": 12,
     "metadata": {},
     "output_type": "execute_result"
    },
    {
     "data": {
      "image/png": "[encoded data removed]",
      "text/plain": [
       "<Figure size 640x480 with 1 Axes>"
      ]
     },
     "metadata": {},
     "output_type": "display_data"
    }
   ],
   "source": [
    "# venn diagram\n",
    "venn3([ipnizoo, openalex, wikisubjects], (\"IPNI/ZooBank ID\", \"OpenAlex\", \"Wikidata subjects\"))\n",
    "plt.title(\"Unique journals per source\", fontsize=15)"
   ]
  }
 ],
 "metadata": {
  "kernelspec": {
   "display_name": "Python 3 (ipykernel)",
   "language": "python",
   "name": "python3"
  },
  "language_info": {
   "codemirror_mode": {
    "name": "ipython",
    "version": 3
   },
   "file_extension": ".py",
   "mimetype": "text/x-python",
   "name": "python",
   "nbconvert_exporter": "python",
   "pygments_lexer": "ipython3",
   "version": "3.9.18"
  }
 },
 "nbformat": 4,
 "nbformat_minor": 5
}
