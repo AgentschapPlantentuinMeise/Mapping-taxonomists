{
 "cells": [
  {
   "cell_type": "markdown",
   "id": "a3c11093",
   "metadata": {},
   "source": [
    "# 1. Gathering taxonomic journals\n",
    "\n",
    "We gathered taxonomic journals through three sources:\n",
    " - We used Wikidata to find all academic or scientific journals with a main subject or field of work related to taxonomy, phylogeny, nomenclature,...\n",
    " - We used Wikidata to find all journals that had an IPNI or ZooBank publication ID.\n",
    " - We used the OpenAlex API to retrieve all journals that were related to \"taxonomy\", i.e. with the concept \"taxonomy\" linked to it.\n",
    "\n",
    "Here, we take a quick look at the results."
   ]
  },
  {
   "cell_type": "code",
   "execution_count": 1,
   "id": "971201f0",
   "metadata": {},
   "outputs": [],
   "source": [
    "import pandas as pd\n",
    "from matplotlib_venn import venn3\n",
    "from matplotlib import pyplot as plt"
   ]
  },
  {
   "cell_type": "code",
   "execution_count": 2,
   "id": "8bd78ff7",
   "metadata": {},
   "outputs": [
    {
     "data": {
      "text/html": [
       "<div>\n",
       "<style scoped>\n",
       "    .dataframe tbody tr th:only-of-type {\n",
       "        vertical-align: middle;\n",
       "    }\n",
       "\n",
       "    .dataframe tbody tr th {\n",
       "        vertical-align: top;\n",
       "    }\n",
       "\n",
       "    .dataframe thead th {\n",
       "        text-align: right;\n",
       "    }\n",
       "</style>\n",
       "<table border=\"1\" class=\"dataframe\">\n",
       "  <thead>\n",
       "    <tr style=\"text-align: right;\">\n",
       "      <th></th>\n",
       "      <th>title</th>\n",
       "      <th>wikidataURL</th>\n",
       "      <th>ISSN-L</th>\n",
       "      <th>IPNIpubID</th>\n",
       "      <th>ZooBankPubID</th>\n",
       "      <th>openAlexID</th>\n",
       "      <th>dissolvedYear</th>\n",
       "      <th>dissolved</th>\n",
       "      <th>source</th>\n",
       "    </tr>\n",
       "  </thead>\n",
       "  <tbody>\n",
       "    <tr>\n",
       "      <th>0</th>\n",
       "      <td>Ornithology</td>\n",
       "      <td>http://www.wikidata.org/entity/Q2300649</td>\n",
       "      <td>0004-8038</td>\n",
       "      <td>NaN</td>\n",
       "      <td>3F3F951F-B494-44B0-B286-AF9BCB097966</td>\n",
       "      <td>S152904045</td>\n",
       "      <td>NaN</td>\n",
       "      <td>NaN</td>\n",
       "      <td>Wikidata taxonomic subject</td>\n",
       "    </tr>\n",
       "    <tr>\n",
       "      <th>1</th>\n",
       "      <td>Ornithology</td>\n",
       "      <td>http://www.wikidata.org/entity/Q2300649</td>\n",
       "      <td>0004-8038</td>\n",
       "      <td>NaN</td>\n",
       "      <td>3F3F951F-B494-44B0-B286-AF9BCB097966</td>\n",
       "      <td>S152904045</td>\n",
       "      <td>NaN</td>\n",
       "      <td>NaN</td>\n",
       "      <td>Wikidata taxonomic subject</td>\n",
       "    </tr>\n",
       "    <tr>\n",
       "      <th>2</th>\n",
       "      <td>ZooKeys</td>\n",
       "      <td>http://www.wikidata.org/entity/Q219980</td>\n",
       "      <td>1313-2970</td>\n",
       "      <td>NaN</td>\n",
       "      <td>91BD42D4-90F1-4B45-9350-EEF175B1727A</td>\n",
       "      <td>S199213172</td>\n",
       "      <td>NaN</td>\n",
       "      <td>NaN</td>\n",
       "      <td>Wikidata taxonomic subject</td>\n",
       "    </tr>\n",
       "    <tr>\n",
       "      <th>3</th>\n",
       "      <td>ZooKeys</td>\n",
       "      <td>http://www.wikidata.org/entity/Q219980</td>\n",
       "      <td>1313-2970</td>\n",
       "      <td>NaN</td>\n",
       "      <td>91BD42D4-90F1-4B45-9350-EEF175B1727A</td>\n",
       "      <td>S199213172</td>\n",
       "      <td>NaN</td>\n",
       "      <td>NaN</td>\n",
       "      <td>Wikidata taxonomic subject</td>\n",
       "    </tr>\n",
       "    <tr>\n",
       "      <th>4</th>\n",
       "      <td>Zootaxa</td>\n",
       "      <td>http://www.wikidata.org/entity/Q220370</td>\n",
       "      <td>1175-5326</td>\n",
       "      <td>NaN</td>\n",
       "      <td>78F99150-21C2-4639-B359-F3E2302DF0B7</td>\n",
       "      <td>S171471881</td>\n",
       "      <td>NaN</td>\n",
       "      <td>NaN</td>\n",
       "      <td>Wikidata taxonomic subject</td>\n",
       "    </tr>\n",
       "    <tr>\n",
       "      <th>...</th>\n",
       "      <td>...</td>\n",
       "      <td>...</td>\n",
       "      <td>...</td>\n",
       "      <td>...</td>\n",
       "      <td>...</td>\n",
       "      <td>...</td>\n",
       "      <td>...</td>\n",
       "      <td>...</td>\n",
       "      <td>...</td>\n",
       "    </tr>\n",
       "    <tr>\n",
       "      <th>3061</th>\n",
       "      <td>Progress in molecular and subcellular biology</td>\n",
       "      <td>https://www.wikidata.org/entity/Q27710179</td>\n",
       "      <td>2363-7684</td>\n",
       "      <td>NaN</td>\n",
       "      <td>NaN</td>\n",
       "      <td>S4210207345</td>\n",
       "      <td>before 2012</td>\n",
       "      <td>True</td>\n",
       "      <td>OpenAlex taxonomy concept</td>\n",
       "    </tr>\n",
       "    <tr>\n",
       "      <th>3062</th>\n",
       "      <td>Advances in Evolutionary Biology</td>\n",
       "      <td>http://www.wikidata.org/entity/Q27726196</td>\n",
       "      <td>2314-7660</td>\n",
       "      <td>NaN</td>\n",
       "      <td>NaN</td>\n",
       "      <td>S4210228732</td>\n",
       "      <td>2015</td>\n",
       "      <td>False</td>\n",
       "      <td>OpenAlex taxonomy concept</td>\n",
       "    </tr>\n",
       "    <tr>\n",
       "      <th>3063</th>\n",
       "      <td>Sternbergiana</td>\n",
       "      <td>NaN</td>\n",
       "      <td>2695-1118</td>\n",
       "      <td>NaN</td>\n",
       "      <td>NaN</td>\n",
       "      <td>S4210236945</td>\n",
       "      <td>2021</td>\n",
       "      <td>False</td>\n",
       "      <td>OpenAlex taxonomy concept</td>\n",
       "    </tr>\n",
       "    <tr>\n",
       "      <th>3064</th>\n",
       "      <td>Agricultural Gazette of New South Wales</td>\n",
       "      <td>https://www.wikidata.org/entity/Q31845337</td>\n",
       "      <td>0002-1474</td>\n",
       "      <td>NaN</td>\n",
       "      <td>NaN</td>\n",
       "      <td>S4210172420</td>\n",
       "      <td>NaN</td>\n",
       "      <td>NaN</td>\n",
       "      <td>OpenAlex taxonomy concept</td>\n",
       "    </tr>\n",
       "    <tr>\n",
       "      <th>3065</th>\n",
       "      <td>Transactions of the Academy of Science of Sain...</td>\n",
       "      <td>https://www.wikidata.org/entity/Q10987448</td>\n",
       "      <td>0096-3852</td>\n",
       "      <td>NaN</td>\n",
       "      <td>NaN</td>\n",
       "      <td>S4210209646</td>\n",
       "      <td>before 2014</td>\n",
       "      <td>NaN</td>\n",
       "      <td>OpenAlex taxonomy concept</td>\n",
       "    </tr>\n",
       "  </tbody>\n",
       "</table>\n",
       "<p>3066 rows × 9 columns</p>\n",
       "</div>"
      ],
      "text/plain": [
       "                                                  title  \\\n",
       "0                                           Ornithology   \n",
       "1                                           Ornithology   \n",
       "2                                               ZooKeys   \n",
       "3                                               ZooKeys   \n",
       "4                                               Zootaxa   \n",
       "...                                                 ...   \n",
       "3061      Progress in molecular and subcellular biology   \n",
       "3062                   Advances in Evolutionary Biology   \n",
       "3063                                      Sternbergiana   \n",
       "3064            Agricultural Gazette of New South Wales   \n",
       "3065  Transactions of the Academy of Science of Sain...   \n",
       "\n",
       "                                    wikidataURL     ISSN-L IPNIpubID  \\\n",
       "0       http://www.wikidata.org/entity/Q2300649  0004-8038       NaN   \n",
       "1       http://www.wikidata.org/entity/Q2300649  0004-8038       NaN   \n",
       "2        http://www.wikidata.org/entity/Q219980  1313-2970       NaN   \n",
       "3        http://www.wikidata.org/entity/Q219980  1313-2970       NaN   \n",
       "4        http://www.wikidata.org/entity/Q220370  1175-5326       NaN   \n",
       "...                                         ...        ...       ...   \n",
       "3061  https://www.wikidata.org/entity/Q27710179  2363-7684       NaN   \n",
       "3062   http://www.wikidata.org/entity/Q27726196  2314-7660       NaN   \n",
       "3063                                        NaN  2695-1118       NaN   \n",
       "3064  https://www.wikidata.org/entity/Q31845337  0002-1474       NaN   \n",
       "3065  https://www.wikidata.org/entity/Q10987448  0096-3852       NaN   \n",
       "\n",
       "                              ZooBankPubID   openAlexID dissolvedYear  \\\n",
       "0     3F3F951F-B494-44B0-B286-AF9BCB097966   S152904045           NaN   \n",
       "1     3F3F951F-B494-44B0-B286-AF9BCB097966   S152904045           NaN   \n",
       "2     91BD42D4-90F1-4B45-9350-EEF175B1727A   S199213172           NaN   \n",
       "3     91BD42D4-90F1-4B45-9350-EEF175B1727A   S199213172           NaN   \n",
       "4     78F99150-21C2-4639-B359-F3E2302DF0B7   S171471881           NaN   \n",
       "...                                    ...          ...           ...   \n",
       "3061                                   NaN  S4210207345   before 2012   \n",
       "3062                                   NaN  S4210228732          2015   \n",
       "3063                                   NaN  S4210236945          2021   \n",
       "3064                                   NaN  S4210172420           NaN   \n",
       "3065                                   NaN  S4210209646   before 2014   \n",
       "\n",
       "     dissolved                      source  \n",
       "0          NaN  Wikidata taxonomic subject  \n",
       "1          NaN  Wikidata taxonomic subject  \n",
       "2          NaN  Wikidata taxonomic subject  \n",
       "3          NaN  Wikidata taxonomic subject  \n",
       "4          NaN  Wikidata taxonomic subject  \n",
       "...        ...                         ...  \n",
       "3061      True   OpenAlex taxonomy concept  \n",
       "3062     False   OpenAlex taxonomy concept  \n",
       "3063     False   OpenAlex taxonomy concept  \n",
       "3064       NaN   OpenAlex taxonomy concept  \n",
       "3065       NaN   OpenAlex taxonomy concept  \n",
       "\n",
       "[3066 rows x 9 columns]"
      ]
     },
     "execution_count": 2,
     "metadata": {},
     "output_type": "execute_result"
    }
   ],
   "source": [
    "journals = pd.read_csv(\"../data/processed/journals.csv\")\n",
    "journals"
   ]
  },
  {
   "cell_type": "code",
   "execution_count": 3,
   "id": "a8f5f2ae",
   "metadata": {},
   "outputs": [
    {
     "data": {
      "text/plain": [
       "IPNI or ZooBank ID            2830\n",
       "OpenAlex taxonomy concept      155\n",
       "Wikidata taxonomic subject      81\n",
       "Name: source, dtype: int64"
      ]
     },
     "execution_count": 3,
     "metadata": {},
     "output_type": "execute_result"
    }
   ],
   "source": [
    "# number of journals per source\n",
    "journals[\"source\"].value_counts()"
   ]
  },
  {
   "cell_type": "code",
   "execution_count": 4,
   "id": "e3b402c5",
   "metadata": {},
   "outputs": [
    {
     "name": "stdout",
     "output_type": "stream",
     "text": [
      "Number of unique journals (by title): 2152\n"
     ]
    }
   ],
   "source": [
    "print(\"Number of unique journals (by title): \" +\n",
    "      str(len(journals.drop_duplicates(subset=\"title\", ignore_index=True))))"
   ]
  },
  {
   "cell_type": "code",
   "execution_count": 5,
   "id": "921644df",
   "metadata": {},
   "outputs": [],
   "source": [
    "ipnizoo = set(journals[journals[\"source\"]==\"IPNI or ZooBank ID\"][\"title\"])\n",
    "openalex = set(journals[journals[\"source\"]==\"OpenAlex taxonomy concept\"][\"title\"])\n",
    "wikisubjects = set(journals[journals[\"source\"]==\"Wikidata taxonomic subject\"][\"title\"])"
   ]
  },
  {
   "cell_type": "code",
   "execution_count": 6,
   "id": "ce19a569",
   "metadata": {},
   "outputs": [
    {
     "name": "stdout",
     "output_type": "stream",
     "text": [
      "Number of journals found via IPNI or ZooBank ID, not found via OpenAlex: 1992\n",
      "Number of journals found via IPNI or ZooBank ID, not found via Wikidata subjects: 2024\n"
     ]
    }
   ],
   "source": [
    "print(\"Number of journals found via IPNI or ZooBank ID, not found via OpenAlex: \" +\n",
    "      str(len(ipnizoo - openalex)))\n",
    "print(\"Number of journals found via IPNI or ZooBank ID, not found via Wikidata subjects: \" +\n",
    "      str(len(ipnizoo - wikisubjects)))"
   ]
  },
  {
   "cell_type": "code",
   "execution_count": 7,
   "id": "3e5812e9",
   "metadata": {},
   "outputs": [
    {
     "name": "stdout",
     "output_type": "stream",
     "text": [
      "Number of journals found via Wikidata subjects, not found via OpenAlex: 24\n",
      "Number of journals found via Wikidata subjects, not found via IPNI or ZooBank ID: 8\n"
     ]
    }
   ],
   "source": [
    "print(\"Number of journals found via Wikidata subjects, not found via OpenAlex: \" +\n",
    "      str(len(wikisubjects - openalex)))\n",
    "print(\"Number of journals found via Wikidata subjects, not found via IPNI or ZooBank ID: \" +\n",
    "      str(len(wikisubjects - ipnizoo)))"
   ]
  },
  {
   "cell_type": "code",
   "execution_count": 8,
   "id": "ee182605",
   "metadata": {},
   "outputs": [
    {
     "name": "stdout",
     "output_type": "stream",
     "text": [
      "Number of journals found via OpenAlex, not found via Wikidata subjects: 141\n",
      "Number of journals found via OpenAlex subjects, not found via IPNI or ZooBank ID: 93\n"
     ]
    }
   ],
   "source": [
    "print(\"Number of journals found via OpenAlex, not found via Wikidata subjects: \" +\n",
    "      str(len(openalex - wikisubjects)))\n",
    "print(\"Number of journals found via OpenAlex subjects, not found via IPNI or ZooBank ID: \" +\n",
    "      str(len(openalex - ipnizoo)))"
   ]
  },
  {
   "cell_type": "code",
   "execution_count": 9,
   "id": "35d5f91c",
   "metadata": {},
   "outputs": [
    {
     "name": "stdout",
     "output_type": "stream",
     "text": [
      "Number of journals in common\n",
      "\n",
      "OpenAlex and IPNI/ZooBank IDs: 59\n",
      "OpenAlex and Wikidata subjects: 11\n",
      "Wikidata subjects and IPNI/ZooBank IDs: 27\n",
      "OpenAlex, Wikidata subjects and IPNI/ZooBank IDs: 11\n"
     ]
    }
   ],
   "source": [
    "print(\"Number of journals in common\\n\")\n",
    "print(\"OpenAlex and IPNI/ZooBank IDs: \" +\n",
    "      str(len(openalex.intersection(ipnizoo))))\n",
    "print(\"OpenAlex and Wikidata subjects: \" +\n",
    "      str(len(openalex.intersection(wikisubjects))))\n",
    "print(\"Wikidata subjects and IPNI/ZooBank IDs: \" +\n",
    "      str(len(wikisubjects.intersection(ipnizoo))))\n",
    "print(\"OpenAlex, Wikidata subjects and IPNI/ZooBank IDs: \" +\n",
    "      str(len(openalex.intersection(wikisubjects).intersection(ipnizoo))))"
   ]
  },
  {
   "cell_type": "code",
   "execution_count": 10,
   "id": "5e5894f5",
   "metadata": {},
   "outputs": [
    {
     "data": {
      "text/plain": [
       "IPNI or ZooBank ID            1207\n",
       "OpenAlex taxonomy concept      155\n",
       "Wikidata taxonomic subject      68\n",
       "Name: source, dtype: int64"
      ]
     },
     "execution_count": 10,
     "metadata": {},
     "output_type": "execute_result"
    }
   ],
   "source": [
    "# number of journals with an OpenAlex ID per source\n",
    "journals[journals[\"openAlexID\"]==journals[\"openAlexID\"]][\"source\"].value_counts()"
   ]
  },
  {
   "cell_type": "code",
   "execution_count": 11,
   "id": "c4e3f04c",
   "metadata": {},
   "outputs": [
    {
     "data": {
      "text/plain": [
       "IPNI or ZooBank ID            2299\n",
       "OpenAlex taxonomy concept      122\n",
       "Wikidata taxonomic subject      78\n",
       "Name: source, dtype: int64"
      ]
     },
     "execution_count": 11,
     "metadata": {},
     "output_type": "execute_result"
    }
   ],
   "source": [
    "# number of journals that were not recently dissolved (or not confirmed dissolved) per source\n",
    "journals[(journals[\"dissolved\"]==False) | (journals[\"dissolved\"]!=journals[\"dissolved\"])][\"source\"].value_counts()"
   ]
  },
  {
   "cell_type": "code",
   "execution_count": 13,
   "id": "e78dc263",
   "metadata": {},
   "outputs": [
    {
     "data": {
      "text/plain": [
       "Text(0.5, 1.0, 'Unique journals per source')"
      ]
     },
     "execution_count": 13,
     "metadata": {},
     "output_type": "execute_result"
    },
    {
     "data": {
      "image/png": "[encoded data removed]",
      "text/plain": [
       "<Figure size 640x480 with 1 Axes>"
      ]
     },
     "metadata": {},
     "output_type": "display_data"
    }
   ],
   "source": [
    "# venn diagram\n",
    "venn3([ipnizoo, openalex, wikisubjects], (\"IPNI/ZooBank ID\", \"OpenAlex\", \"Wikidata subjects\"))\n",
    "plt.title(\"Unique journals per source\", fontsize=15)"
   ]
  }
 ],
 "metadata": {
  "kernelspec": {
   "display_name": "Python 3 (ipykernel)",
   "language": "python",
   "name": "python3"
  },
  "language_info": {
   "codemirror_mode": {
    "name": "ipython",
    "version": 3
   },
   "file_extension": ".py",
   "mimetype": "text/x-python",
   "name": "python",
   "nbconvert_exporter": "python",
   "pygments_lexer": "ipython3",
   "version": "3.9.13"
  }
 },
 "nbformat": 4,
 "nbformat_minor": 5
}
