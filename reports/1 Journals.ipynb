{
 "cells": [
  {
   "cell_type": "markdown",
   "id": "a3c11093",
   "metadata": {},
   "source": [
    "# 1. Gathering taxonomic journals\n",
    "\n",
    "We gathered taxonomic journals through three sources:\n",
    " - We used Wikidata to find all academic or scientific journals with a main subject or field of work related to taxonomy, phylogeny, nomenclature,...\n",
    " - We used Wikidata to find all journals that had an IPNI or ZooBank publication ID.\n",
    " - We used the OpenAlex API to retrieve all journals that were related to \"taxonomy\", i.e. with the concept \"taxonomy\" linked to it.\n",
    "\n",
    "Here, we take a quick look at the results."
   ]
  },
  {
   "cell_type": "code",
   "execution_count": null,
   "id": "971201f0",
   "metadata": {},
   "outputs": [],
   "source": [
    "import pandas as pd\n",
    "from matplotlib_venn import venn3\n",
    "from matplotlib import pyplot as plt"
   ]
  },
  {
   "cell_type": "code",
   "execution_count": null,
   "id": "8bd78ff7",
   "metadata": {},
   "outputs": [],
   "source": [
    "journals = pd.read_csv(\"../data/processed/journals.csv\")\n",
    "journals"
   ]
  },
  {
   "cell_type": "code",
   "execution_count": null,
   "id": "a8f5f2ae",
   "metadata": {},
   "outputs": [],
   "source": [
    "# number of journals per source\n",
    "journals[\"source\"].value_counts()"
   ]
  },
  {
   "cell_type": "code",
   "execution_count": null,
   "id": "e3b402c5",
   "metadata": {},
   "outputs": [],
   "source": [
    "print(\"Number of unique journals (by title): \" +\n",
    "      str(len(journals.drop_duplicates(subset=\"title\", ignore_index=True))))"
   ]
  },
  {
   "cell_type": "code",
   "execution_count": null,
   "id": "921644df",
   "metadata": {},
   "outputs": [],
   "source": [
    "ipnizoo = set(journals[journals[\"source\"]==\"IPNI or ZooBank ID\"][\"title\"])\n",
    "openalex = set(journals[journals[\"source\"]==\"OpenAlex taxonomy concept\"][\"title\"])\n",
    "wikisubjects = set(journals[journals[\"source\"]==\"Wikidata taxonomic subject\"][\"title\"])"
   ]
  },
  {
   "cell_type": "code",
   "execution_count": null,
   "id": "ce19a569",
   "metadata": {},
   "outputs": [],
   "source": [
    "print(\"Number of journals found via IPNI or ZooBank ID, not found via OpenAlex: \" +\n",
    "      str(len(ipnizoo - openalex)))\n",
    "print(\"Number of journals found via IPNI or ZooBank ID, not found via Wikidata subjects: \" +\n",
    "      str(len(ipnizoo - wikisubjects)))"
   ]
  },
  {
   "cell_type": "code",
   "execution_count": null,
   "id": "3e5812e9",
   "metadata": {},
   "outputs": [],
   "source": [
    "print(\"Number of journals found via Wikidata subjects, not found via OpenAlex: \" +\n",
    "      str(len(wikisubjects - openalex)))\n",
    "print(\"Number of journals found via Wikidata subjects, not found via IPNI or ZooBank ID: \" +\n",
    "      str(len(wikisubjects - ipnizoo)))"
   ]
  },
  {
   "cell_type": "code",
   "execution_count": null,
   "id": "ee182605",
   "metadata": {},
   "outputs": [],
   "source": [
    "print(\"Number of journals found via OpenAlex, not found via Wikidata subjects: \" +\n",
    "      str(len(openalex - wikisubjects)))\n",
    "print(\"Number of journals found via OpenAlex subjects, not found via IPNI or ZooBank ID: \" +\n",
    "      str(len(openalex - ipnizoo)))"
   ]
  },
  {
   "cell_type": "code",
   "execution_count": null,
   "id": "35d5f91c",
   "metadata": {},
   "outputs": [],
   "source": [
    "print(\"Number of journals in common\\n\")\n",
    "print(\"OpenAlex and IPNI/ZooBank IDs: \" +\n",
    "      str(len(openalex.intersection(ipnizoo))))\n",
    "print(\"OpenAlex and Wikidata subjects: \" +\n",
    "      str(len(openalex.intersection(wikisubjects))))\n",
    "print(\"Wikidata subjects and IPNI/ZooBank IDs: \" +\n",
    "      str(len(wikisubjects.intersection(ipnizoo))))\n",
    "print(\"OpenAlex, Wikidata subjects and IPNI/ZooBank IDs: \" +\n",
    "      str(len(openalex.intersection(wikisubjects).intersection(ipnizoo))))"
   ]
  },
  {
   "cell_type": "code",
   "execution_count": null,
   "id": "5e5894f5",
   "metadata": {},
   "outputs": [],
   "source": [
    "# number of journals with an OpenAlex ID per source\n",
    "journals[journals[\"openAlexID\"]==journals[\"openAlexID\"]][\"source\"].value_counts()"
   ]
  },
  {
   "cell_type": "code",
   "execution_count": null,
   "id": "c4e3f04c",
   "metadata": {},
   "outputs": [],
   "source": [
    "# number of journals that were not recently dissolved (or not confirmed dissolved) per source\n",
    "journals[(journals[\"dissolved\"]==False) | (journals[\"dissolved\"]!=journals[\"dissolved\"])][\"source\"].value_counts()"
   ]
  },
  {
   "cell_type": "code",
   "execution_count": null,
   "id": "e78dc263",
   "metadata": {},
   "outputs": [],
   "source": [
    "# venn diagram\n",
    "venn3([ipnizoo, openalex, wikisubjects], (\"IPNI/ZooBank ID\", \"OpenAlex\", \"Wikidata subjects\"))\n",
    "plt.title(\"Unique journals per source\", fontsize=15)"
   ]
  }
 ],
 "metadata": {
  "kernelspec": {
   "display_name": "Python 3 (ipykernel)",
   "language": "python",
   "name": "python3"
  },
  "language_info": {
   "codemirror_mode": {
    "name": "ipython",
    "version": 3
   },
   "file_extension": ".py",
   "mimetype": "text/x-python",
   "name": "python",
   "nbconvert_exporter": "python",
   "pygments_lexer": "ipython3",
   "version": "3.11.9"
  }
 },
 "nbformat": 4,
 "nbformat_minor": 5
}
