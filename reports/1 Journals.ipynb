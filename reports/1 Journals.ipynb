{
 "cells": [
  {
   "cell_type": "markdown",
   "id": "a3c11093",
   "metadata": {},
   "source": [
    "# 1. Gathering taxonomic journals\n",
    "\n",
    "We gathered taxonomic journals through three sources:\n",
    " - We used Wikidata to find all academic or scientific journals with a main subject or field of work related to taxonomy, phylogeny, nomenclature,...\n",
    " - We used Wikidata to find all journals that had an IPNI or ZooBank publication ID.\n",
    " - We used the OpenAlex API to retrieve all journals that were related to \"taxonomy\", i.e. with the concept \"taxonomy\" linked to it.\n",
    "\n",
    "Here, we take a quick look at the results."
   ]
  },
  {
   "cell_type": "code",
   "execution_count": 36,
   "id": "971201f0",
   "metadata": {},
   "outputs": [],
   "source": [
    "import pandas as pd\n",
    "from matplotlib_venn import venn3\n",
    "from matplotlib import pyplot as plt"
   ]
  },
  {
   "cell_type": "code",
   "execution_count": 37,
   "id": "8bd78ff7",
   "metadata": {},
   "outputs": [
    {
     "data": {
      "text/html": [
       "<div>\n",
       "<style scoped>\n",
       "    .dataframe tbody tr th:only-of-type {\n",
       "        vertical-align: middle;\n",
       "    }\n",
       "\n",
       "    .dataframe tbody tr th {\n",
       "        vertical-align: top;\n",
       "    }\n",
       "\n",
       "    .dataframe thead th {\n",
       "        text-align: right;\n",
       "    }\n",
       "</style>\n",
       "<table border=\"1\" class=\"dataframe\">\n",
       "  <thead>\n",
       "    <tr style=\"text-align: right;\">\n",
       "      <th></th>\n",
       "      <th>title</th>\n",
       "      <th>wikidataURL</th>\n",
       "      <th>ISSN-L</th>\n",
       "      <th>openAlexID</th>\n",
       "      <th>dissolvedYear</th>\n",
       "      <th>dissolved</th>\n",
       "      <th>source</th>\n",
       "    </tr>\n",
       "  </thead>\n",
       "  <tbody>\n",
       "    <tr>\n",
       "      <th>0</th>\n",
       "      <td>Korean Journal of Plant Taxonomy</td>\n",
       "      <td>http://www.wikidata.org/entity/Q27714217</td>\n",
       "      <td>1225-8318</td>\n",
       "      <td>S4306495623</td>\n",
       "      <td>NaN</td>\n",
       "      <td>NaN</td>\n",
       "      <td>Wikidata taxonomic subject</td>\n",
       "    </tr>\n",
       "    <tr>\n",
       "      <th>1</th>\n",
       "      <td>Journal of the International Heteropterists' S...</td>\n",
       "      <td>http://www.wikidata.org/entity/Q133886703</td>\n",
       "      <td>NaN</td>\n",
       "      <td>NaN</td>\n",
       "      <td>NaN</td>\n",
       "      <td>NaN</td>\n",
       "      <td>Wikidata taxonomic subject</td>\n",
       "    </tr>\n",
       "    <tr>\n",
       "      <th>2</th>\n",
       "      <td>Korean Journal of Plant Taxonomy</td>\n",
       "      <td>http://www.wikidata.org/entity/Q27714217</td>\n",
       "      <td>1225-8318</td>\n",
       "      <td>S4210202049</td>\n",
       "      <td>NaN</td>\n",
       "      <td>NaN</td>\n",
       "      <td>Wikidata taxonomic subject</td>\n",
       "    </tr>\n",
       "    <tr>\n",
       "      <th>3</th>\n",
       "      <td>Russian Entomological Journal</td>\n",
       "      <td>http://www.wikidata.org/entity/Q21385717</td>\n",
       "      <td>0132-8069</td>\n",
       "      <td>S2765071491</td>\n",
       "      <td>NaN</td>\n",
       "      <td>NaN</td>\n",
       "      <td>Wikidata taxonomic subject</td>\n",
       "    </tr>\n",
       "    <tr>\n",
       "      <th>4</th>\n",
       "      <td>European Journal of Taxonomy</td>\n",
       "      <td>http://www.wikidata.org/entity/Q21386186</td>\n",
       "      <td>2118-9773</td>\n",
       "      <td>S2764351231</td>\n",
       "      <td>NaN</td>\n",
       "      <td>NaN</td>\n",
       "      <td>Wikidata taxonomic subject</td>\n",
       "    </tr>\n",
       "    <tr>\n",
       "      <th>...</th>\n",
       "      <td>...</td>\n",
       "      <td>...</td>\n",
       "      <td>...</td>\n",
       "      <td>...</td>\n",
       "      <td>...</td>\n",
       "      <td>...</td>\n",
       "      <td>...</td>\n",
       "    </tr>\n",
       "    <tr>\n",
       "      <th>2681</th>\n",
       "      <td>Advances in Evolutionary Biology</td>\n",
       "      <td>http://www.wikidata.org/entity/Q27726196</td>\n",
       "      <td>2314-7660</td>\n",
       "      <td>S4210228732</td>\n",
       "      <td>2015</td>\n",
       "      <td>False</td>\n",
       "      <td>OpenAlex taxonomy concept</td>\n",
       "    </tr>\n",
       "    <tr>\n",
       "      <th>2682</th>\n",
       "      <td>Sternbergiana</td>\n",
       "      <td>NaN</td>\n",
       "      <td>2695-1118</td>\n",
       "      <td>S4210236945</td>\n",
       "      <td>2021</td>\n",
       "      <td>False</td>\n",
       "      <td>OpenAlex taxonomy concept</td>\n",
       "    </tr>\n",
       "    <tr>\n",
       "      <th>2683</th>\n",
       "      <td>World Transactions on Engineering and Technolo...</td>\n",
       "      <td>http://www.wikidata.org/entity/Q15756897</td>\n",
       "      <td>1446-2257</td>\n",
       "      <td>S4306534958</td>\n",
       "      <td>2017</td>\n",
       "      <td>False</td>\n",
       "      <td>OpenAlex taxonomy concept</td>\n",
       "    </tr>\n",
       "    <tr>\n",
       "      <th>2684</th>\n",
       "      <td>Clinical allergy and immunology</td>\n",
       "      <td>NaN</td>\n",
       "      <td>1075-7910</td>\n",
       "      <td>S2764391547</td>\n",
       "      <td>NaN</td>\n",
       "      <td>NaN</td>\n",
       "      <td>OpenAlex taxonomy concept</td>\n",
       "    </tr>\n",
       "    <tr>\n",
       "      <th>2685</th>\n",
       "      <td>Transactions of the Academy of Science of St L...</td>\n",
       "      <td>https://www.wikidata.org/entity/Q10987448</td>\n",
       "      <td>0096-3852</td>\n",
       "      <td>S4210209646</td>\n",
       "      <td>before 2014</td>\n",
       "      <td>NaN</td>\n",
       "      <td>OpenAlex taxonomy concept</td>\n",
       "    </tr>\n",
       "  </tbody>\n",
       "</table>\n",
       "<p>2686 rows × 7 columns</p>\n",
       "</div>"
      ],
      "text/plain": [
       "                                                  title  \\\n",
       "0                      Korean Journal of Plant Taxonomy   \n",
       "1     Journal of the International Heteropterists' S...   \n",
       "2                      Korean Journal of Plant Taxonomy   \n",
       "3                         Russian Entomological Journal   \n",
       "4                          European Journal of Taxonomy   \n",
       "...                                                 ...   \n",
       "2681                   Advances in Evolutionary Biology   \n",
       "2682                                      Sternbergiana   \n",
       "2683  World Transactions on Engineering and Technolo...   \n",
       "2684                    Clinical allergy and immunology   \n",
       "2685  Transactions of the Academy of Science of St L...   \n",
       "\n",
       "                                    wikidataURL     ISSN-L   openAlexID  \\\n",
       "0      http://www.wikidata.org/entity/Q27714217  1225-8318  S4306495623   \n",
       "1     http://www.wikidata.org/entity/Q133886703        NaN          NaN   \n",
       "2      http://www.wikidata.org/entity/Q27714217  1225-8318  S4210202049   \n",
       "3      http://www.wikidata.org/entity/Q21385717  0132-8069  S2765071491   \n",
       "4      http://www.wikidata.org/entity/Q21386186  2118-9773  S2764351231   \n",
       "...                                         ...        ...          ...   \n",
       "2681   http://www.wikidata.org/entity/Q27726196  2314-7660  S4210228732   \n",
       "2682                                        NaN  2695-1118  S4210236945   \n",
       "2683   http://www.wikidata.org/entity/Q15756897  1446-2257  S4306534958   \n",
       "2684                                        NaN  1075-7910  S2764391547   \n",
       "2685  https://www.wikidata.org/entity/Q10987448  0096-3852  S4210209646   \n",
       "\n",
       "     dissolvedYear dissolved                      source  \n",
       "0              NaN       NaN  Wikidata taxonomic subject  \n",
       "1              NaN       NaN  Wikidata taxonomic subject  \n",
       "2              NaN       NaN  Wikidata taxonomic subject  \n",
       "3              NaN       NaN  Wikidata taxonomic subject  \n",
       "4              NaN       NaN  Wikidata taxonomic subject  \n",
       "...            ...       ...                         ...  \n",
       "2681          2015     False   OpenAlex taxonomy concept  \n",
       "2682          2021     False   OpenAlex taxonomy concept  \n",
       "2683          2017     False   OpenAlex taxonomy concept  \n",
       "2684           NaN       NaN   OpenAlex taxonomy concept  \n",
       "2685   before 2014       NaN   OpenAlex taxonomy concept  \n",
       "\n",
       "[2686 rows x 7 columns]"
      ]
     },
     "execution_count": 37,
     "metadata": {},
     "output_type": "execute_result"
    }
   ],
   "source": [
    "journals = pd.read_csv(\"../data/processed/journals_deduplicated.csv\")\n",
    "journals"
   ]
  },
  {
   "cell_type": "code",
   "execution_count": 38,
   "id": "a8f5f2ae",
   "metadata": {},
   "outputs": [
    {
     "data": {
      "text/plain": [
       "source\n",
       "IPNI or ZooBank ID            2482\n",
       "OpenAlex taxonomy concept      166\n",
       "Wikidata taxonomic subject      38\n",
       "Name: count, dtype: int64"
      ]
     },
     "execution_count": 38,
     "metadata": {},
     "output_type": "execute_result"
    }
   ],
   "source": [
    "# number of journals per source\n",
    "journals[\"source\"].value_counts()"
   ]
  },
  {
   "cell_type": "code",
   "execution_count": 39,
   "id": "e3b402c5",
   "metadata": {},
   "outputs": [
    {
     "name": "stdout",
     "output_type": "stream",
     "text": [
      "Number of unique journals (by title): 2480\n"
     ]
    }
   ],
   "source": [
    "print(\"Number of unique journals (by title): \" +\n",
    "      str(len(journals.drop_duplicates(subset=\"title\", ignore_index=True))))"
   ]
  },
  {
   "cell_type": "code",
   "execution_count": 40,
   "id": "921644df",
   "metadata": {},
   "outputs": [],
   "source": [
    "ipnizoo = set(journals[journals[\"source\"]==\"IPNI or ZooBank ID\"][\"title\"])\n",
    "openalex = set(journals[journals[\"source\"]==\"OpenAlex taxonomy concept\"][\"title\"])\n",
    "wikisubjects = set(journals[journals[\"source\"]==\"Wikidata taxonomic subject\"][\"title\"])"
   ]
  },
  {
   "cell_type": "code",
   "execution_count": 41,
   "id": "ce19a569",
   "metadata": {},
   "outputs": [
    {
     "name": "stdout",
     "output_type": "stream",
     "text": [
      "Number of journals found via IPNI or ZooBank ID, not found via OpenAlex: 2293\n",
      "Number of journals found via IPNI or ZooBank ID, not found via Wikidata subjects: 2345\n"
     ]
    }
   ],
   "source": [
    "print(\"Number of journals found via IPNI or ZooBank ID, not found via OpenAlex: \" +\n",
    "      str(len(ipnizoo - openalex)))\n",
    "print(\"Number of journals found via IPNI or ZooBank ID, not found via Wikidata subjects: \" +\n",
    "      str(len(ipnizoo - wikisubjects)))"
   ]
  },
  {
   "cell_type": "code",
   "execution_count": 42,
   "id": "3e5812e9",
   "metadata": {},
   "outputs": [
    {
     "name": "stdout",
     "output_type": "stream",
     "text": [
      "Number of journals found via Wikidata subjects, not found via OpenAlex: 24\n",
      "Number of journals found via Wikidata subjects, not found via IPNI or ZooBank ID: 35\n"
     ]
    }
   ],
   "source": [
    "print(\"Number of journals found via Wikidata subjects, not found via OpenAlex: \" +\n",
    "      str(len(wikisubjects - openalex)))\n",
    "print(\"Number of journals found via Wikidata subjects, not found via IPNI or ZooBank ID: \" +\n",
    "      str(len(wikisubjects - ipnizoo)))"
   ]
  },
  {
   "cell_type": "code",
   "execution_count": 43,
   "id": "ee182605",
   "metadata": {},
   "outputs": [
    {
     "name": "stdout",
     "output_type": "stream",
     "text": [
      "Number of journals found via OpenAlex, not found via Wikidata subjects: 152\n",
      "Number of journals found via OpenAlex subjects, not found via IPNI or ZooBank ID: 111\n"
     ]
    }
   ],
   "source": [
    "print(\"Number of journals found via OpenAlex, not found via Wikidata subjects: \" +\n",
    "      str(len(openalex - wikisubjects)))\n",
    "print(\"Number of journals found via OpenAlex subjects, not found via IPNI or ZooBank ID: \" +\n",
    "      str(len(openalex - ipnizoo)))"
   ]
  },
  {
   "cell_type": "code",
   "execution_count": 44,
   "id": "35d5f91c",
   "metadata": {},
   "outputs": [
    {
     "name": "stdout",
     "output_type": "stream",
     "text": [
      "Number of journals in common\n",
      "\n",
      "OpenAlex and IPNI/ZooBank IDs: 52\n",
      "OpenAlex and Wikidata subjects: 11\n",
      "Wikidata subjects and IPNI/ZooBank IDs: 0\n",
      "OpenAlex, Wikidata subjects and IPNI/ZooBank IDs: 0\n"
     ]
    }
   ],
   "source": [
    "print(\"Number of journals in common\\n\")\n",
    "print(\"OpenAlex and IPNI/ZooBank IDs: \" +\n",
    "      str(len(openalex.intersection(ipnizoo))))\n",
    "print(\"OpenAlex and Wikidata subjects: \" +\n",
    "      str(len(openalex.intersection(wikisubjects))))\n",
    "print(\"Wikidata subjects and IPNI/ZooBank IDs: \" +\n",
    "      str(len(wikisubjects.intersection(ipnizoo))))\n",
    "print(\"OpenAlex, Wikidata subjects and IPNI/ZooBank IDs: \" +\n",
    "      str(len(openalex.intersection(wikisubjects).intersection(ipnizoo))))"
   ]
  },
  {
   "cell_type": "code",
   "execution_count": 45,
   "id": "5e5894f5",
   "metadata": {},
   "outputs": [
    {
     "data": {
      "text/plain": [
       "source\n",
       "IPNI or ZooBank ID            906\n",
       "OpenAlex taxonomy concept     166\n",
       "Wikidata taxonomic subject     31\n",
       "Name: count, dtype: int64"
      ]
     },
     "execution_count": 45,
     "metadata": {},
     "output_type": "execute_result"
    }
   ],
   "source": [
    "# number of journals with an OpenAlex ID per source\n",
    "journals[journals[\"openAlexID\"]==journals[\"openAlexID\"]][\"source\"].value_counts()"
   ]
  },
  {
   "cell_type": "code",
   "execution_count": 46,
   "id": "c4e3f04c",
   "metadata": {},
   "outputs": [
    {
     "data": {
      "text/plain": [
       "source\n",
       "IPNI or ZooBank ID            1868\n",
       "OpenAlex taxonomy concept      138\n",
       "Wikidata taxonomic subject      36\n",
       "Name: count, dtype: int64"
      ]
     },
     "execution_count": 46,
     "metadata": {},
     "output_type": "execute_result"
    }
   ],
   "source": [
    "# number of journals that were not recently dissolved (or not confirmed dissolved) per source\n",
    "journals[(journals[\"dissolved\"]==False) | (journals[\"dissolved\"]!=journals[\"dissolved\"])][\"source\"].value_counts()"
   ]
  },
  {
   "cell_type": "code",
   "execution_count": 47,
   "id": "e78dc263",
   "metadata": {},
   "outputs": [
    {
     "data": {
      "text/plain": [
       "Text(0.5, 1.0, 'Unique journals per source')"
      ]
     },
     "execution_count": 47,
     "metadata": {},
     "output_type": "execute_result"
    },
    {
     "data": {
      "image/png": "[encoded data removed]",
      "text/plain": [
       "<Figure size 640x480 with 1 Axes>"
      ]
     },
     "metadata": {},
     "output_type": "display_data"
    }
   ],
   "source": [
    "# venn diagram\n",
    "venn3([ipnizoo, openalex, wikisubjects], (\"IPNI/ZooBank ID\", \"OpenAlex\", \"Wikidata subjects\"))\n",
    "plt.title(\"Unique journals per source\", fontsize=15)"
   ]
  },
  {
   "cell_type": "code",
   "execution_count": null,
   "id": "ffadaa23-f1ef-4155-9f50-2fbf3da0dc4d",
   "metadata": {},
   "outputs": [],
   "source": []
  }
 ],
 "metadata": {
  "kernelspec": {
   "display_name": "Python [conda env:base] *",
   "language": "python",
   "name": "conda-base-py"
  },
  "language_info": {
   "codemirror_mode": {
    "name": "ipython",
    "version": 3
   },
   "file_extension": ".py",
   "mimetype": "text/x-python",
   "name": "python",
   "nbconvert_exporter": "python",
   "pygments_lexer": "ipython3",
   "version": "3.13.5"
  }
 },
 "nbformat": 4,
 "nbformat_minor": 5
}
